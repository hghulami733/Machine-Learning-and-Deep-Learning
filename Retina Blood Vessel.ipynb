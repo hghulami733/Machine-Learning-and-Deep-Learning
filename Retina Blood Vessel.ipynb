{
 "cells": [
  {
   "cell_type": "code",
   "execution_count": 234,
   "id": "85ca489c-9218-4b81-aacf-d2b02371986b",
   "metadata": {},
   "outputs": [],
   "source": [
    "import cv2\n",
    "from PIL import Image\n",
    "import numpy as np\n",
    "import pandas as pd\n",
    "import os\n",
    "from glob import glob\n",
    "from tqdm import tqdm\n",
    "import imageio\n",
    "from sklearn.utils import shuffle\n",
    "from sklearn.model_selection import train_test_split\n",
    "import tensorflow as tf\n",
    "from tensorflow.keras.utils import CustomObjectScope\n",
    "from sklearn.metrics import f1_score, jaccard_score, precision_score, recall_score, accuracy_score\n",
    "from tensorflow.keras.optimizers import Adam\n",
    "from tensorflow.keras.callbacks import ModelCheckpoint, CSVLogger, ReduceLROnPlateau, EarlyStopping, TensorBoard\n",
    "from tensorflow.keras.layers import Conv2D, BatchNormalization, Activation, MaxPool2D, Conv2DTranspose, Concatenate, Input, Flatten\n",
    "from tensorflow.keras.models import Model, load_model\n",
    "from tensorflow.keras.metrics import Recall, Precision, IoU\n",
    "from albumentations import HorizontalFlip, VerticalFlip, ElasticTransform, GridDistortion, OpticalDistortion, CoarseDropout"
   ]
  },
  {
   "cell_type": "code",
   "execution_count": 112,
   "id": "ff73f18b-2d82-479e-9583-8a86fc7446ad",
   "metadata": {},
   "outputs": [],
   "source": [
    "H = 512\n",
    "W = 512"
   ]
  },
  {
   "cell_type": "code",
   "execution_count": 46,
   "id": "c54aaf96-0323-461c-8cb2-1bcdfa6f1533",
   "metadata": {},
   "outputs": [],
   "source": [
    "data_path = r\"E:\\python\\segmentation\\Computer Vision\\Data\\blood/\""
   ]
  },
  {
   "cell_type": "code",
   "execution_count": 48,
   "id": "09aa0eed-fde9-42b5-b1b2-ef4cac884033",
   "metadata": {},
   "outputs": [],
   "source": [
    "def create_dir(path):\n",
    "    if not os.path.exists(path):\n",
    "        os.makedirs(path)"
   ]
  },
  {
   "cell_type": "code",
   "execution_count": 50,
   "id": "e17c7f47-f04a-4725-b581-5c0c1f4fbe76",
   "metadata": {},
   "outputs": [],
   "source": [
    "def load_data(path):\n",
    "    \"\"\"X == images , Y == masks\"\"\"\n",
    "    train_x = sorted(glob(os.path.join(path, \"training\", \"images\", \"*.tif\")))\n",
    "    train_y = sorted(glob(os.path.join(path, \"training\", \"1st_manual\", \"*.gif\")))\n",
    "\n",
    "    test_x = sorted(glob(os.path.join(path, \"test\", \"images\", \"*.tif\")))\n",
    "    test_y = sorted(glob(os.path.join(path, \"test\", \"1st_manual\", \"*.gif\")))\n",
    "\n",
    "    return (train_x, train_y), (test_x, test_y)"
   ]
  },
  {
   "cell_type": "code",
   "execution_count": 52,
   "id": "9da0dc7a-689c-4f78-8c42-112fd6d34523",
   "metadata": {},
   "outputs": [],
   "source": [
    "def augmentation_data(images, masks, save_path, augment=True):\n",
    "    H = 512\n",
    "    W = 512\n",
    "\n",
    "    for idx, (x, y) in tqdm(enumerate(zip(images, masks)), total=len(images)):\n",
    "        #print(x, y)\n",
    "        name = x.split(\"\\\\\")[-1].split(\"\\\\\")[0]\n",
    "        print(name)\n",
    "\n",
    "        x = cv2.imread(x, cv2.IMREAD_COLOR)\n",
    "        y = imageio.mimread(y)[0]\n",
    "        print(x.shape, y.shape)\n",
    "\n",
    "        if augment == True:\n",
    "            aug = HorizontalFlip(p=1.0)\n",
    "            augmented = aug(image=x, mask=y)\n",
    "            X1 = augmented[\"image\"]\n",
    "            y1 = augmented[\"mask\"]\n",
    "\n",
    "            aug = VerticalFlip(p=1.0)\n",
    "            augmented = aug(image=x, mask=y)\n",
    "            X2 = augmented[\"image\"]\n",
    "            y2 = augmented[\"mask\"]\n",
    "\n",
    "            aug = ElasticTransform(p=1.0)\n",
    "            augmented = aug(image=x, mask=y)\n",
    "            X3 = augmented[\"image\"]\n",
    "            y3 = augmented[\"mask\"]\n",
    "\n",
    "            aug = GridDistortion(p=1.0)\n",
    "            augmented = aug(image=x, mask=y)\n",
    "            X4 = augmented[\"image\"]\n",
    "            y4 = augmented[\"mask\"]\n",
    "\n",
    "            aug = OpticalDistortion(p=1.0)\n",
    "            augmented = aug(image=x, mask=y)\n",
    "            X5 = augmented[\"image\"]\n",
    "            y5 = augmented[\"mask\"]\n",
    "\n",
    "            aug = CoarseDropout(p=1.0)\n",
    "            augmented = aug(image=x, mask=y)\n",
    "            X6 = augmented[\"image\"]\n",
    "            y6 = augmented[\"mask\"]\n",
    "\n",
    "            X = [x, X1, X2, X3, X4, X5, X6]\n",
    "            y = [y, y1, y2, y3, y4, y5, y6]\n",
    "\n",
    "        else:\n",
    "            X = [x]\n",
    "            y = [y]\n",
    "\n",
    "        index = 0\n",
    "        for i, m in zip(X, y):\n",
    "            i = cv2.resize(i, (W, H))\n",
    "            m = cv2.resize(m, (W, H))\n",
    "\n",
    "            if len(X) == 1:\n",
    "                tmp_image_name = f\"{name}.jpg\"\n",
    "                tmp_mask_name = F\"{name}.jpg\"\n",
    "\n",
    "            else:\n",
    "                tmp_image_name = f\"{name}_{index}.jpg\"\n",
    "                tmp_mask_name = F\"{name}_{index}.jpg\"\n",
    "\n",
    "            image_path = os.path.join(save_path, \"image\", tmp_image_name)\n",
    "            mask_path = os.path.join(save_path, \"mask\", tmp_mask_name)\n",
    "\n",
    "            cv2.imwrite(image_path, i)\n",
    "            cv2.imwrite(mask_path, m)\n",
    "\n",
    "            index += 1\n",
    "            \n",
    "        "
   ]
  },
  {
   "cell_type": "code",
   "execution_count": 179,
   "id": "63d5ba32-0728-4d01-9a07-c044bf09ebf6",
   "metadata": {},
   "outputs": [
    {
     "name": "stderr",
     "output_type": "stream",
     "text": [
      "  0%|                                                                                           | 0/20 [00:00<?, ?it/s]"
     ]
    },
    {
     "name": "stdout",
     "output_type": "stream",
     "text": [
      "21_training.tif\n",
      "(584, 565, 3) (584, 565)\n"
     ]
    },
    {
     "name": "stderr",
     "output_type": "stream",
     "text": [
      "  5%|████▏                                                                              | 1/20 [00:00<00:10,  1.84it/s]"
     ]
    },
    {
     "name": "stdout",
     "output_type": "stream",
     "text": [
      "22_training.tif\n",
      "(584, 565, 3) (584, 565)\n"
     ]
    },
    {
     "name": "stderr",
     "output_type": "stream",
     "text": [
      " 10%|████████▎                                                                          | 2/20 [00:01<00:09,  1.85it/s]"
     ]
    },
    {
     "name": "stdout",
     "output_type": "stream",
     "text": [
      "23_training.tif\n",
      "(584, 565, 3) (584, 565)\n"
     ]
    },
    {
     "name": "stderr",
     "output_type": "stream",
     "text": [
      " 15%|████████████▍                                                                      | 3/20 [00:01<00:09,  1.85it/s]"
     ]
    },
    {
     "name": "stdout",
     "output_type": "stream",
     "text": [
      "24_training.tif\n",
      "(584, 565, 3) (584, 565)\n"
     ]
    },
    {
     "name": "stderr",
     "output_type": "stream",
     "text": [
      " 20%|████████████████▌                                                                  | 4/20 [00:02<00:08,  1.85it/s]"
     ]
    },
    {
     "name": "stdout",
     "output_type": "stream",
     "text": [
      "25_training.tif\n",
      "(584, 565, 3) (584, 565)\n"
     ]
    },
    {
     "name": "stderr",
     "output_type": "stream",
     "text": [
      " 25%|████████████████████▊                                                              | 5/20 [00:02<00:08,  1.85it/s]"
     ]
    },
    {
     "name": "stdout",
     "output_type": "stream",
     "text": [
      "26_training.tif\n",
      "(584, 565, 3) (584, 565)\n"
     ]
    },
    {
     "name": "stderr",
     "output_type": "stream",
     "text": [
      " 30%|████████████████████████▉                                                          | 6/20 [00:03<00:07,  1.85it/s]"
     ]
    },
    {
     "name": "stdout",
     "output_type": "stream",
     "text": [
      "27_training.tif\n",
      "(584, 565, 3) (584, 565)\n"
     ]
    },
    {
     "name": "stderr",
     "output_type": "stream",
     "text": [
      " 35%|█████████████████████████████                                                      | 7/20 [00:03<00:07,  1.85it/s]"
     ]
    },
    {
     "name": "stdout",
     "output_type": "stream",
     "text": [
      "28_training.tif\n",
      "(584, 565, 3) (584, 565)\n"
     ]
    },
    {
     "name": "stderr",
     "output_type": "stream",
     "text": [
      " 40%|█████████████████████████████████▏                                                 | 8/20 [00:04<00:06,  1.85it/s]"
     ]
    },
    {
     "name": "stdout",
     "output_type": "stream",
     "text": [
      "29_training.tif\n",
      "(584, 565, 3) (584, 565)\n"
     ]
    },
    {
     "name": "stderr",
     "output_type": "stream",
     "text": [
      " 45%|█████████████████████████████████████▎                                             | 9/20 [00:04<00:05,  1.85it/s]"
     ]
    },
    {
     "name": "stdout",
     "output_type": "stream",
     "text": [
      "30_training.tif\n",
      "(584, 565, 3) (584, 565)\n"
     ]
    },
    {
     "name": "stderr",
     "output_type": "stream",
     "text": [
      " 50%|█████████████████████████████████████████                                         | 10/20 [00:05<00:05,  1.86it/s]"
     ]
    },
    {
     "name": "stdout",
     "output_type": "stream",
     "text": [
      "31_training.tif\n",
      "(584, 565, 3) (584, 565)\n"
     ]
    },
    {
     "name": "stderr",
     "output_type": "stream",
     "text": [
      " 55%|█████████████████████████████████████████████                                     | 11/20 [00:05<00:04,  1.86it/s]"
     ]
    },
    {
     "name": "stdout",
     "output_type": "stream",
     "text": [
      "32_training.tif\n",
      "(584, 565, 3) (584, 565)\n"
     ]
    },
    {
     "name": "stderr",
     "output_type": "stream",
     "text": [
      " 60%|█████████████████████████████████████████████████▏                                | 12/20 [00:06<00:04,  1.85it/s]"
     ]
    },
    {
     "name": "stdout",
     "output_type": "stream",
     "text": [
      "33_training.tif\n",
      "(584, 565, 3) (584, 565)\n"
     ]
    },
    {
     "name": "stderr",
     "output_type": "stream",
     "text": [
      " 65%|█████████████████████████████████████████████████████▎                            | 13/20 [00:07<00:03,  1.85it/s]"
     ]
    },
    {
     "name": "stdout",
     "output_type": "stream",
     "text": [
      "34_training.tif\n",
      "(584, 565, 3) (584, 565)\n"
     ]
    },
    {
     "name": "stderr",
     "output_type": "stream",
     "text": [
      " 70%|█████████████████████████████████████████████████████████▍                        | 14/20 [00:07<00:03,  1.85it/s]"
     ]
    },
    {
     "name": "stdout",
     "output_type": "stream",
     "text": [
      "35_training.tif\n",
      "(584, 565, 3) (584, 565)\n"
     ]
    },
    {
     "name": "stderr",
     "output_type": "stream",
     "text": [
      " 75%|█████████████████████████████████████████████████████████████▌                    | 15/20 [00:08<00:02,  1.85it/s]"
     ]
    },
    {
     "name": "stdout",
     "output_type": "stream",
     "text": [
      "36_training.tif\n",
      "(584, 565, 3) (584, 565)\n"
     ]
    },
    {
     "name": "stderr",
     "output_type": "stream",
     "text": [
      " 80%|█████████████████████████████████████████████████████████████████▌                | 16/20 [00:08<00:02,  1.85it/s]"
     ]
    },
    {
     "name": "stdout",
     "output_type": "stream",
     "text": [
      "37_training.tif\n",
      "(584, 565, 3) (584, 565)\n"
     ]
    },
    {
     "name": "stderr",
     "output_type": "stream",
     "text": [
      " 85%|█████████████████████████████████████████████████████████████████████▋            | 17/20 [00:09<00:01,  1.86it/s]"
     ]
    },
    {
     "name": "stdout",
     "output_type": "stream",
     "text": [
      "38_training.tif\n",
      "(584, 565, 3) (584, 565)\n"
     ]
    },
    {
     "name": "stderr",
     "output_type": "stream",
     "text": [
      " 90%|█████████████████████████████████████████████████████████████████████████▊        | 18/20 [00:09<00:01,  1.85it/s]"
     ]
    },
    {
     "name": "stdout",
     "output_type": "stream",
     "text": [
      "39_training.tif\n",
      "(584, 565, 3) (584, 565)\n"
     ]
    },
    {
     "name": "stderr",
     "output_type": "stream",
     "text": [
      " 95%|█████████████████████████████████████████████████████████████████████████████▉    | 19/20 [00:10<00:00,  1.85it/s]"
     ]
    },
    {
     "name": "stdout",
     "output_type": "stream",
     "text": [
      "40_training.tif\n",
      "(584, 565, 3) (584, 565)\n"
     ]
    },
    {
     "name": "stderr",
     "output_type": "stream",
     "text": [
      "100%|██████████████████████████████████████████████████████████████████████████████████| 20/20 [00:10<00:00,  1.85it/s]\n",
      " 35%|█████████████████████████████                                                      | 7/20 [00:00<00:00, 60.23it/s]"
     ]
    },
    {
     "name": "stdout",
     "output_type": "stream",
     "text": [
      "01_test.tif\n",
      "(584, 565, 3) (584, 565)\n",
      "02_test.tif\n",
      "(584, 565, 3) (584, 565)\n",
      "03_test.tif\n",
      "(584, 565, 3) (584, 565)\n",
      "04_test.tif\n",
      "(584, 565, 3) (584, 565)\n",
      "05_test.tif\n",
      "(584, 565, 3) (584, 565)\n",
      "06_test.tif\n",
      "(584, 565, 3) (584, 565)\n",
      "07_test.tif\n",
      "(584, 565, 3) (584, 565)\n",
      "08_test.tif\n",
      "(584, 565, 3) (584, 565)\n",
      "09_test.tif\n",
      "(584, 565, 3) (584, 565)\n",
      "10_test.tif\n",
      "(584, 565, 3) (584, 565)\n",
      "11_test.tif\n",
      "(584, 565, 3) (584, 565)\n",
      "12_test.tif\n",
      "(584, 565, 3) (584, 565)\n"
     ]
    },
    {
     "name": "stderr",
     "output_type": "stream",
     "text": [
      "100%|██████████████████████████████████████████████████████████████████████████████████| 20/20 [00:00<00:00, 60.90it/s]"
     ]
    },
    {
     "name": "stdout",
     "output_type": "stream",
     "text": [
      "13_test.tif\n",
      "(584, 565, 3) (584, 565)\n",
      "14_test.tif\n",
      "(584, 565, 3) (584, 565)\n",
      "15_test.tif\n",
      "(584, 565, 3) (584, 565)\n",
      "16_test.tif\n",
      "(584, 565, 3) (584, 565)\n",
      "17_test.tif\n",
      "(584, 565, 3) (584, 565)\n",
      "18_test.tif\n",
      "(584, 565, 3) (584, 565)\n",
      "19_test.tif\n",
      "(584, 565, 3) (584, 565)\n",
      "20_test.tif\n",
      "(584, 565, 3) (584, 565)\n"
     ]
    },
    {
     "name": "stderr",
     "output_type": "stream",
     "text": [
      "\n"
     ]
    }
   ],
   "source": [
    "if __name__ == \"__main__\":\n",
    "    \"\"\"Seeding\"\"\"\n",
    "    np.random.seed(42)\n",
    "\n",
    "    \"\"\"Load the data\"\"\"\n",
    "    data_path = r\"E:\\python\\segmentation\\Computer Vision\\Data\\blood/\"\n",
    "    (X_train, y_train), (X_test, y_test) = load_data(data_path)\n",
    "\n",
    "\n",
    "    \"\"\"Creating directories\"\"\"\n",
    "    create_dir(data_path + \"new_data/train/image\")\n",
    "    create_dir(data_path + \"new_data/train/mask\")    \n",
    "    create_dir(data_path + \"new_data/test/image\")\n",
    "    create_dir(data_path + \"new_data/test/mask\")\n",
    "    \n",
    "    save_path_train = r\"E:\\python\\segmentation\\Computer Vision\\Data\\blood\\new_data\\train\"\n",
    "    save_path_test = r\"E:\\python\\segmentation\\Computer Vision\\Data\\blood\\new_data\\test\"\n",
    "    augmentation_data(X_train, y_train, save_path_train , augment=True)\n",
    "    augmentation_data(X_test, y_test, save_path_test , augment=False)"
   ]
  },
  {
   "cell_type": "code",
   "execution_count": 54,
   "id": "263e27ab-4b6d-419e-b24b-4dad2976e8ca",
   "metadata": {},
   "outputs": [],
   "source": [
    "def conv_block(input, num_filters):\n",
    "    x = Conv2D(num_filters, 3, padding=\"same\")(input)\n",
    "    x = BatchNormalization()(x)\n",
    "    x = Activation(\"relu\")(x)\n",
    "\n",
    "    x = Conv2D(num_filters, 3, padding=\"same\")(x)\n",
    "    x = BatchNormalization()(x)\n",
    "    x = Activation(\"relu\")(x)\n",
    "    return x"
   ]
  },
  {
   "cell_type": "code",
   "execution_count": 56,
   "id": "549a36e9-332a-4372-8906-ee47e1383462",
   "metadata": {},
   "outputs": [],
   "source": [
    "def encoder_block(input, num_filters):\n",
    "    x= conv_block(input, num_filters)\n",
    "    p = MaxPool2D((2, 2))(x)\n",
    "    return x, p"
   ]
  },
  {
   "cell_type": "code",
   "execution_count": 58,
   "id": "3a45b616-3e22-4039-aef8-583a6af47efb",
   "metadata": {},
   "outputs": [],
   "source": [
    "def decoder_block(input, skip_fetures, num_filters):\n",
    "    x = Conv2DTranspose(num_filters, (2, 2), strides=2, padding=\"same\")(input)\n",
    "    x = Concatenate()([x, skip_fetures])\n",
    "    x = conv_block(x, num_filters)\n",
    "    return x"
   ]
  },
  {
   "cell_type": "code",
   "execution_count": 60,
   "id": "02269b01-04c8-4593-8e63-2dd39d7f183d",
   "metadata": {},
   "outputs": [],
   "source": [
    "def build_unet(inpput_shape):\n",
    "    inputs = Input(inpput_shape)\n",
    "\n",
    "    s1, p1 = encoder_block(inputs, 64)\n",
    "    s2, p2 = encoder_block(p1, 128)\n",
    "    s3, p3 = encoder_block(p2, 256)\n",
    "    s4, p4 = encoder_block(p3, 512)\n",
    "\n",
    "    b1 = conv_block(p4, 1024)\n",
    "\n",
    "    d1 = decoder_block(b1, s4, 512)\n",
    "    d2 = decoder_block(d1, s3, 256)\n",
    "    d3 = decoder_block(d2, s2, 128)\n",
    "    d4 = decoder_block(d3, s1, 64)\n",
    "\n",
    "    outputs = Conv2D(1, 1, padding=\"same\", activation=\"sigmoid\")(d4)\n",
    "\n",
    "    model = Model(inputs, outputs, name=\"Unet\")\n",
    "    \n",
    "    return model"
   ]
  },
  {
   "cell_type": "code",
   "execution_count": 62,
   "id": "889cefd2-294f-4c0d-9bd2-c32d2f078fd5",
   "metadata": {},
   "outputs": [
    {
     "name": "stdout",
     "output_type": "stream",
     "text": [
      "Model: \"Unet\"\n",
      "__________________________________________________________________________________________________\n",
      " Layer (type)                Output Shape                 Param #   Connected to                  \n",
      "==================================================================================================\n",
      " input_2 (InputLayer)        [(None, 512, 512, 3)]        0         []                            \n",
      "                                                                                                  \n",
      " conv2d_19 (Conv2D)          (None, 512, 512, 64)         1792      ['input_2[0][0]']             \n",
      "                                                                                                  \n",
      " batch_normalization_18 (Ba  (None, 512, 512, 64)         256       ['conv2d_19[0][0]']           \n",
      " tchNormalization)                                                                                \n",
      "                                                                                                  \n",
      " activation_18 (Activation)  (None, 512, 512, 64)         0         ['batch_normalization_18[0][0]\n",
      "                                                                    ']                            \n",
      "                                                                                                  \n",
      " conv2d_20 (Conv2D)          (None, 512, 512, 64)         36928     ['activation_18[0][0]']       \n",
      "                                                                                                  \n",
      " batch_normalization_19 (Ba  (None, 512, 512, 64)         256       ['conv2d_20[0][0]']           \n",
      " tchNormalization)                                                                                \n",
      "                                                                                                  \n",
      " activation_19 (Activation)  (None, 512, 512, 64)         0         ['batch_normalization_19[0][0]\n",
      "                                                                    ']                            \n",
      "                                                                                                  \n",
      " max_pooling2d_4 (MaxPoolin  (None, 256, 256, 64)         0         ['activation_19[0][0]']       \n",
      " g2D)                                                                                             \n",
      "                                                                                                  \n",
      " conv2d_21 (Conv2D)          (None, 256, 256, 128)        73856     ['max_pooling2d_4[0][0]']     \n",
      "                                                                                                  \n",
      " batch_normalization_20 (Ba  (None, 256, 256, 128)        512       ['conv2d_21[0][0]']           \n",
      " tchNormalization)                                                                                \n",
      "                                                                                                  \n",
      " activation_20 (Activation)  (None, 256, 256, 128)        0         ['batch_normalization_20[0][0]\n",
      "                                                                    ']                            \n",
      "                                                                                                  \n",
      " conv2d_22 (Conv2D)          (None, 256, 256, 128)        147584    ['activation_20[0][0]']       \n",
      "                                                                                                  \n",
      " batch_normalization_21 (Ba  (None, 256, 256, 128)        512       ['conv2d_22[0][0]']           \n",
      " tchNormalization)                                                                                \n",
      "                                                                                                  \n",
      " activation_21 (Activation)  (None, 256, 256, 128)        0         ['batch_normalization_21[0][0]\n",
      "                                                                    ']                            \n",
      "                                                                                                  \n",
      " max_pooling2d_5 (MaxPoolin  (None, 128, 128, 128)        0         ['activation_21[0][0]']       \n",
      " g2D)                                                                                             \n",
      "                                                                                                  \n",
      " conv2d_23 (Conv2D)          (None, 128, 128, 256)        295168    ['max_pooling2d_5[0][0]']     \n",
      "                                                                                                  \n",
      " batch_normalization_22 (Ba  (None, 128, 128, 256)        1024      ['conv2d_23[0][0]']           \n",
      " tchNormalization)                                                                                \n",
      "                                                                                                  \n",
      " activation_22 (Activation)  (None, 128, 128, 256)        0         ['batch_normalization_22[0][0]\n",
      "                                                                    ']                            \n",
      "                                                                                                  \n",
      " conv2d_24 (Conv2D)          (None, 128, 128, 256)        590080    ['activation_22[0][0]']       \n",
      "                                                                                                  \n",
      " batch_normalization_23 (Ba  (None, 128, 128, 256)        1024      ['conv2d_24[0][0]']           \n",
      " tchNormalization)                                                                                \n",
      "                                                                                                  \n",
      " activation_23 (Activation)  (None, 128, 128, 256)        0         ['batch_normalization_23[0][0]\n",
      "                                                                    ']                            \n",
      "                                                                                                  \n",
      " max_pooling2d_6 (MaxPoolin  (None, 64, 64, 256)          0         ['activation_23[0][0]']       \n",
      " g2D)                                                                                             \n",
      "                                                                                                  \n",
      " conv2d_25 (Conv2D)          (None, 64, 64, 512)          1180160   ['max_pooling2d_6[0][0]']     \n",
      "                                                                                                  \n",
      " batch_normalization_24 (Ba  (None, 64, 64, 512)          2048      ['conv2d_25[0][0]']           \n",
      " tchNormalization)                                                                                \n",
      "                                                                                                  \n",
      " activation_24 (Activation)  (None, 64, 64, 512)          0         ['batch_normalization_24[0][0]\n",
      "                                                                    ']                            \n",
      "                                                                                                  \n",
      " conv2d_26 (Conv2D)          (None, 64, 64, 512)          2359808   ['activation_24[0][0]']       \n",
      "                                                                                                  \n",
      " batch_normalization_25 (Ba  (None, 64, 64, 512)          2048      ['conv2d_26[0][0]']           \n",
      " tchNormalization)                                                                                \n",
      "                                                                                                  \n",
      " activation_25 (Activation)  (None, 64, 64, 512)          0         ['batch_normalization_25[0][0]\n",
      "                                                                    ']                            \n",
      "                                                                                                  \n",
      " max_pooling2d_7 (MaxPoolin  (None, 32, 32, 512)          0         ['activation_25[0][0]']       \n",
      " g2D)                                                                                             \n",
      "                                                                                                  \n",
      " conv2d_27 (Conv2D)          (None, 32, 32, 1024)         4719616   ['max_pooling2d_7[0][0]']     \n",
      "                                                                                                  \n",
      " batch_normalization_26 (Ba  (None, 32, 32, 1024)         4096      ['conv2d_27[0][0]']           \n",
      " tchNormalization)                                                                                \n",
      "                                                                                                  \n",
      " activation_26 (Activation)  (None, 32, 32, 1024)         0         ['batch_normalization_26[0][0]\n",
      "                                                                    ']                            \n",
      "                                                                                                  \n",
      " conv2d_28 (Conv2D)          (None, 32, 32, 1024)         9438208   ['activation_26[0][0]']       \n",
      "                                                                                                  \n",
      " batch_normalization_27 (Ba  (None, 32, 32, 1024)         4096      ['conv2d_28[0][0]']           \n",
      " tchNormalization)                                                                                \n",
      "                                                                                                  \n",
      " activation_27 (Activation)  (None, 32, 32, 1024)         0         ['batch_normalization_27[0][0]\n",
      "                                                                    ']                            \n",
      "                                                                                                  \n",
      " conv2d_transpose_4 (Conv2D  (None, 64, 64, 512)          2097664   ['activation_27[0][0]']       \n",
      " Transpose)                                                                                       \n",
      "                                                                                                  \n",
      " concatenate_4 (Concatenate  (None, 64, 64, 1024)         0         ['conv2d_transpose_4[0][0]',  \n",
      " )                                                                   'activation_25[0][0]']       \n",
      "                                                                                                  \n",
      " conv2d_29 (Conv2D)          (None, 64, 64, 512)          4719104   ['concatenate_4[0][0]']       \n",
      "                                                                                                  \n",
      " batch_normalization_28 (Ba  (None, 64, 64, 512)          2048      ['conv2d_29[0][0]']           \n",
      " tchNormalization)                                                                                \n",
      "                                                                                                  \n",
      " activation_28 (Activation)  (None, 64, 64, 512)          0         ['batch_normalization_28[0][0]\n",
      "                                                                    ']                            \n",
      "                                                                                                  \n",
      " conv2d_30 (Conv2D)          (None, 64, 64, 512)          2359808   ['activation_28[0][0]']       \n",
      "                                                                                                  \n",
      " batch_normalization_29 (Ba  (None, 64, 64, 512)          2048      ['conv2d_30[0][0]']           \n",
      " tchNormalization)                                                                                \n",
      "                                                                                                  \n",
      " activation_29 (Activation)  (None, 64, 64, 512)          0         ['batch_normalization_29[0][0]\n",
      "                                                                    ']                            \n",
      "                                                                                                  \n",
      " conv2d_transpose_5 (Conv2D  (None, 128, 128, 256)        524544    ['activation_29[0][0]']       \n",
      " Transpose)                                                                                       \n",
      "                                                                                                  \n",
      " concatenate_5 (Concatenate  (None, 128, 128, 512)        0         ['conv2d_transpose_5[0][0]',  \n",
      " )                                                                   'activation_23[0][0]']       \n",
      "                                                                                                  \n",
      " conv2d_31 (Conv2D)          (None, 128, 128, 256)        1179904   ['concatenate_5[0][0]']       \n",
      "                                                                                                  \n",
      " batch_normalization_30 (Ba  (None, 128, 128, 256)        1024      ['conv2d_31[0][0]']           \n",
      " tchNormalization)                                                                                \n",
      "                                                                                                  \n",
      " activation_30 (Activation)  (None, 128, 128, 256)        0         ['batch_normalization_30[0][0]\n",
      "                                                                    ']                            \n",
      "                                                                                                  \n",
      " conv2d_32 (Conv2D)          (None, 128, 128, 256)        590080    ['activation_30[0][0]']       \n",
      "                                                                                                  \n",
      " batch_normalization_31 (Ba  (None, 128, 128, 256)        1024      ['conv2d_32[0][0]']           \n",
      " tchNormalization)                                                                                \n",
      "                                                                                                  \n",
      " activation_31 (Activation)  (None, 128, 128, 256)        0         ['batch_normalization_31[0][0]\n",
      "                                                                    ']                            \n",
      "                                                                                                  \n",
      " conv2d_transpose_6 (Conv2D  (None, 256, 256, 128)        131200    ['activation_31[0][0]']       \n",
      " Transpose)                                                                                       \n",
      "                                                                                                  \n",
      " concatenate_6 (Concatenate  (None, 256, 256, 256)        0         ['conv2d_transpose_6[0][0]',  \n",
      " )                                                                   'activation_21[0][0]']       \n",
      "                                                                                                  \n",
      " conv2d_33 (Conv2D)          (None, 256, 256, 128)        295040    ['concatenate_6[0][0]']       \n",
      "                                                                                                  \n",
      " batch_normalization_32 (Ba  (None, 256, 256, 128)        512       ['conv2d_33[0][0]']           \n",
      " tchNormalization)                                                                                \n",
      "                                                                                                  \n",
      " activation_32 (Activation)  (None, 256, 256, 128)        0         ['batch_normalization_32[0][0]\n",
      "                                                                    ']                            \n",
      "                                                                                                  \n",
      " conv2d_34 (Conv2D)          (None, 256, 256, 128)        147584    ['activation_32[0][0]']       \n",
      "                                                                                                  \n",
      " batch_normalization_33 (Ba  (None, 256, 256, 128)        512       ['conv2d_34[0][0]']           \n",
      " tchNormalization)                                                                                \n",
      "                                                                                                  \n",
      " activation_33 (Activation)  (None, 256, 256, 128)        0         ['batch_normalization_33[0][0]\n",
      "                                                                    ']                            \n",
      "                                                                                                  \n",
      " conv2d_transpose_7 (Conv2D  (None, 512, 512, 64)         32832     ['activation_33[0][0]']       \n",
      " Transpose)                                                                                       \n",
      "                                                                                                  \n",
      " concatenate_7 (Concatenate  (None, 512, 512, 128)        0         ['conv2d_transpose_7[0][0]',  \n",
      " )                                                                   'activation_19[0][0]']       \n",
      "                                                                                                  \n",
      " conv2d_35 (Conv2D)          (None, 512, 512, 64)         73792     ['concatenate_7[0][0]']       \n",
      "                                                                                                  \n",
      " batch_normalization_34 (Ba  (None, 512, 512, 64)         256       ['conv2d_35[0][0]']           \n",
      " tchNormalization)                                                                                \n",
      "                                                                                                  \n",
      " activation_34 (Activation)  (None, 512, 512, 64)         0         ['batch_normalization_34[0][0]\n",
      "                                                                    ']                            \n",
      "                                                                                                  \n",
      " conv2d_36 (Conv2D)          (None, 512, 512, 64)         36928     ['activation_34[0][0]']       \n",
      "                                                                                                  \n",
      " batch_normalization_35 (Ba  (None, 512, 512, 64)         256       ['conv2d_36[0][0]']           \n",
      " tchNormalization)                                                                                \n",
      "                                                                                                  \n",
      " activation_35 (Activation)  (None, 512, 512, 64)         0         ['batch_normalization_35[0][0]\n",
      "                                                                    ']                            \n",
      "                                                                                                  \n",
      " conv2d_37 (Conv2D)          (None, 512, 512, 1)          65        ['activation_35[0][0]']       \n",
      "                                                                                                  \n",
      "==================================================================================================\n",
      "Total params: 31055297 (118.47 MB)\n",
      "Trainable params: 31043521 (118.42 MB)\n",
      "Non-trainable params: 11776 (46.00 KB)\n",
      "__________________________________________________________________________________________________\n"
     ]
    }
   ],
   "source": [
    "if __name__ == \"__main__\":\n",
    "    input_shape = (512, 512, 3)\n",
    "    model = build_unet(input_shape)\n",
    "    model.summary()"
   ]
  },
  {
   "cell_type": "code",
   "execution_count": 15,
   "id": "4a3d19cd-be94-43a1-9268-1ca49cffa68f",
   "metadata": {},
   "outputs": [],
   "source": [
    "def load_dataset(path):\n",
    "    x = sorted(glob(os.path.join(path, \"image\", \"*.jpg\")))\n",
    "    y = sorted(glob(os.path.join(path, \"mask\", \"*.jpg\")))\n",
    "    return x, y"
   ]
  },
  {
   "cell_type": "code",
   "execution_count": 17,
   "id": "9a5bc48c-4a9b-4fa3-8570-e28a921aa9fc",
   "metadata": {},
   "outputs": [],
   "source": [
    "def shuffling(x, y):\n",
    "    x, y = shuffle(x, y, random_state=42)\n",
    "    return x, y"
   ]
  },
  {
   "cell_type": "code",
   "execution_count": 34,
   "id": "5a72a104-7290-4fc8-8071-696a6c97b424",
   "metadata": {},
   "outputs": [],
   "source": [
    "def read_images(path):\n",
    "    path = path.decode()\n",
    "    x = cv2.imread(path, cv2.IMREAD_COLOR)\n",
    "    #x = cv2.resize(x , (W, H))\n",
    "    x = x / 255.0\n",
    "    x = x.astype(np.float32)\n",
    "    return x"
   ]
  },
  {
   "cell_type": "code",
   "execution_count": 36,
   "id": "cd458037-1cbd-4a03-93d2-c7c916b123d2",
   "metadata": {},
   "outputs": [],
   "source": [
    "def read_mask(path):\n",
    "    path = path.decode()\n",
    "    x = cv2.imread(path, cv2.IMREAD_GRAYSCALE)\n",
    "    #x = cv2.resize(x , (W, H))\n",
    "    x = x / 255.0\n",
    "    x = x.astype(np.float32)\n",
    "    x = np.expand_dims(x, axis=-1)\n",
    "    return x"
   ]
  },
  {
   "cell_type": "code",
   "execution_count": 38,
   "id": "ea8125fc-38fe-4619-9cf5-101e4db956f6",
   "metadata": {},
   "outputs": [],
   "source": [
    "def tf_parse(x, y):\n",
    "    def _parse(x, y):\n",
    "        x = read_images(x)\n",
    "        y = read_mask(y)\n",
    "        return x, y\n",
    "\n",
    "    x, y = tf.numpy_function(_parse, [x, y], [tf.float32, tf.float32])\n",
    "    x.set_shape([H, W, 3])\n",
    "    y.set_shape([H, W, 1])\n",
    "    return x, y"
   ]
  },
  {
   "cell_type": "code",
   "execution_count": 42,
   "id": "96bbbdca-d704-43a4-a86f-2c1bec33acbf",
   "metadata": {},
   "outputs": [],
   "source": [
    "def tf_dataset(X, y, batch=2):\n",
    "    dataset = tf.data.Dataset.from_tensor_slices((X, y))\n",
    "    dataset = dataset.map(tf_parse)\n",
    "    dataset = dataset.batch(batch)\n",
    "    dataset = dataset.prefetch(4)\n",
    "    return dataset"
   ]
  },
  {
   "cell_type": "code",
   "execution_count": 64,
   "id": "1a38b737-3d80-4d57-a45e-bb3b0bb5d6ad",
   "metadata": {},
   "outputs": [],
   "source": [
    "smooth = 1e-15\n",
    "def dice_coef(y_true, y_pred):\n",
    "    y_true = Flatten()(y_true)\n",
    "    y_pred = Flatten()(y_pred)\n",
    "    intersection = tf.reduce_sum(y_true * y_pred)\n",
    "    return (2 * intersection + smooth) / (tf.reduce_sum(y_true) + tf.reduce_sum(y_pred) + smooth)"
   ]
  },
  {
   "cell_type": "code",
   "execution_count": 66,
   "id": "0e880ce6-9ad2-4f50-8afb-577ee8c5cb02",
   "metadata": {},
   "outputs": [],
   "source": [
    "def dice_loss(y_true, y_pred):\n",
    "    return 1.0 - dice_coef(y_true, y_pred)"
   ]
  },
  {
   "cell_type": "code",
   "execution_count": 100,
   "id": "cc098b68-e54f-4854-a9d5-60aedff788da",
   "metadata": {},
   "outputs": [],
   "source": [
    "def iou(y_true, y_pred):\n",
    "    def f(y_true, y_pred):\n",
    "        intesection = (y_true * y_pred).sum()\n",
    "        union = y_true.sum() + y_pred.sum() - intesection\n",
    "        x = (intesection + smooth) / (union + smooth)\n",
    "        x = x.astype(np.float32)\n",
    "        return x\n",
    "    return tf.numpy_function(f, [y_true, y_pred], tf.float32)"
   ]
  },
  {
   "cell_type": "code",
   "execution_count": null,
   "id": "32ced01e-acf6-4023-857e-473b9f83cea2",
   "metadata": {},
   "outputs": [],
   "source": []
  },
  {
   "cell_type": "code",
   "execution_count": 106,
   "id": "9494314e-d084-41e5-bf35-2a945a6c37ad",
   "metadata": {},
   "outputs": [
    {
     "name": "stdout",
     "output_type": "stream",
     "text": [
      "Training dataset : 140 - 140\n",
      "Validation dataset : 20 - 20\n",
      "Model: \"Unet\"\n",
      "__________________________________________________________________________________________________\n",
      " Layer (type)                Output Shape                 Param #   Connected to                  \n",
      "==================================================================================================\n",
      " input_9 (InputLayer)        [(None, 512, 512, 3)]        0         []                            \n",
      "                                                                                                  \n",
      " conv2d_152 (Conv2D)         (None, 512, 512, 64)         1792      ['input_9[0][0]']             \n",
      "                                                                                                  \n",
      " batch_normalization_144 (B  (None, 512, 512, 64)         256       ['conv2d_152[0][0]']          \n",
      " atchNormalization)                                                                               \n",
      "                                                                                                  \n",
      " activation_144 (Activation  (None, 512, 512, 64)         0         ['batch_normalization_144[0][0\n",
      " )                                                                  ]']                           \n",
      "                                                                                                  \n",
      " conv2d_153 (Conv2D)         (None, 512, 512, 64)         36928     ['activation_144[0][0]']      \n",
      "                                                                                                  \n",
      " batch_normalization_145 (B  (None, 512, 512, 64)         256       ['conv2d_153[0][0]']          \n",
      " atchNormalization)                                                                               \n",
      "                                                                                                  \n",
      " activation_145 (Activation  (None, 512, 512, 64)         0         ['batch_normalization_145[0][0\n",
      " )                                                                  ]']                           \n",
      "                                                                                                  \n",
      " max_pooling2d_32 (MaxPooli  (None, 256, 256, 64)         0         ['activation_145[0][0]']      \n",
      " ng2D)                                                                                            \n",
      "                                                                                                  \n",
      " conv2d_154 (Conv2D)         (None, 256, 256, 128)        73856     ['max_pooling2d_32[0][0]']    \n",
      "                                                                                                  \n",
      " batch_normalization_146 (B  (None, 256, 256, 128)        512       ['conv2d_154[0][0]']          \n",
      " atchNormalization)                                                                               \n",
      "                                                                                                  \n",
      " activation_146 (Activation  (None, 256, 256, 128)        0         ['batch_normalization_146[0][0\n",
      " )                                                                  ]']                           \n",
      "                                                                                                  \n",
      " conv2d_155 (Conv2D)         (None, 256, 256, 128)        147584    ['activation_146[0][0]']      \n",
      "                                                                                                  \n",
      " batch_normalization_147 (B  (None, 256, 256, 128)        512       ['conv2d_155[0][0]']          \n",
      " atchNormalization)                                                                               \n",
      "                                                                                                  \n",
      " activation_147 (Activation  (None, 256, 256, 128)        0         ['batch_normalization_147[0][0\n",
      " )                                                                  ]']                           \n",
      "                                                                                                  \n",
      " max_pooling2d_33 (MaxPooli  (None, 128, 128, 128)        0         ['activation_147[0][0]']      \n",
      " ng2D)                                                                                            \n",
      "                                                                                                  \n",
      " conv2d_156 (Conv2D)         (None, 128, 128, 256)        295168    ['max_pooling2d_33[0][0]']    \n",
      "                                                                                                  \n",
      " batch_normalization_148 (B  (None, 128, 128, 256)        1024      ['conv2d_156[0][0]']          \n",
      " atchNormalization)                                                                               \n",
      "                                                                                                  \n",
      " activation_148 (Activation  (None, 128, 128, 256)        0         ['batch_normalization_148[0][0\n",
      " )                                                                  ]']                           \n",
      "                                                                                                  \n",
      " conv2d_157 (Conv2D)         (None, 128, 128, 256)        590080    ['activation_148[0][0]']      \n",
      "                                                                                                  \n",
      " batch_normalization_149 (B  (None, 128, 128, 256)        1024      ['conv2d_157[0][0]']          \n",
      " atchNormalization)                                                                               \n",
      "                                                                                                  \n",
      " activation_149 (Activation  (None, 128, 128, 256)        0         ['batch_normalization_149[0][0\n",
      " )                                                                  ]']                           \n",
      "                                                                                                  \n",
      " max_pooling2d_34 (MaxPooli  (None, 64, 64, 256)          0         ['activation_149[0][0]']      \n",
      " ng2D)                                                                                            \n",
      "                                                                                                  \n",
      " conv2d_158 (Conv2D)         (None, 64, 64, 512)          1180160   ['max_pooling2d_34[0][0]']    \n",
      "                                                                                                  \n",
      " batch_normalization_150 (B  (None, 64, 64, 512)          2048      ['conv2d_158[0][0]']          \n",
      " atchNormalization)                                                                               \n",
      "                                                                                                  \n",
      " activation_150 (Activation  (None, 64, 64, 512)          0         ['batch_normalization_150[0][0\n",
      " )                                                                  ]']                           \n",
      "                                                                                                  \n",
      " conv2d_159 (Conv2D)         (None, 64, 64, 512)          2359808   ['activation_150[0][0]']      \n",
      "                                                                                                  \n",
      " batch_normalization_151 (B  (None, 64, 64, 512)          2048      ['conv2d_159[0][0]']          \n",
      " atchNormalization)                                                                               \n",
      "                                                                                                  \n",
      " activation_151 (Activation  (None, 64, 64, 512)          0         ['batch_normalization_151[0][0\n",
      " )                                                                  ]']                           \n",
      "                                                                                                  \n",
      " max_pooling2d_35 (MaxPooli  (None, 32, 32, 512)          0         ['activation_151[0][0]']      \n",
      " ng2D)                                                                                            \n",
      "                                                                                                  \n",
      " conv2d_160 (Conv2D)         (None, 32, 32, 1024)         4719616   ['max_pooling2d_35[0][0]']    \n",
      "                                                                                                  \n",
      " batch_normalization_152 (B  (None, 32, 32, 1024)         4096      ['conv2d_160[0][0]']          \n",
      " atchNormalization)                                                                               \n",
      "                                                                                                  \n",
      " activation_152 (Activation  (None, 32, 32, 1024)         0         ['batch_normalization_152[0][0\n",
      " )                                                                  ]']                           \n",
      "                                                                                                  \n",
      " conv2d_161 (Conv2D)         (None, 32, 32, 1024)         9438208   ['activation_152[0][0]']      \n",
      "                                                                                                  \n",
      " batch_normalization_153 (B  (None, 32, 32, 1024)         4096      ['conv2d_161[0][0]']          \n",
      " atchNormalization)                                                                               \n",
      "                                                                                                  \n",
      " activation_153 (Activation  (None, 32, 32, 1024)         0         ['batch_normalization_153[0][0\n",
      " )                                                                  ]']                           \n",
      "                                                                                                  \n",
      " conv2d_transpose_32 (Conv2  (None, 64, 64, 512)          2097664   ['activation_153[0][0]']      \n",
      " DTranspose)                                                                                      \n",
      "                                                                                                  \n",
      " concatenate_32 (Concatenat  (None, 64, 64, 1024)         0         ['conv2d_transpose_32[0][0]', \n",
      " e)                                                                  'activation_151[0][0]']      \n",
      "                                                                                                  \n",
      " conv2d_162 (Conv2D)         (None, 64, 64, 512)          4719104   ['concatenate_32[0][0]']      \n",
      "                                                                                                  \n",
      " batch_normalization_154 (B  (None, 64, 64, 512)          2048      ['conv2d_162[0][0]']          \n",
      " atchNormalization)                                                                               \n",
      "                                                                                                  \n",
      " activation_154 (Activation  (None, 64, 64, 512)          0         ['batch_normalization_154[0][0\n",
      " )                                                                  ]']                           \n",
      "                                                                                                  \n",
      " conv2d_163 (Conv2D)         (None, 64, 64, 512)          2359808   ['activation_154[0][0]']      \n",
      "                                                                                                  \n",
      " batch_normalization_155 (B  (None, 64, 64, 512)          2048      ['conv2d_163[0][0]']          \n",
      " atchNormalization)                                                                               \n",
      "                                                                                                  \n",
      " activation_155 (Activation  (None, 64, 64, 512)          0         ['batch_normalization_155[0][0\n",
      " )                                                                  ]']                           \n",
      "                                                                                                  \n",
      " conv2d_transpose_33 (Conv2  (None, 128, 128, 256)        524544    ['activation_155[0][0]']      \n",
      " DTranspose)                                                                                      \n",
      "                                                                                                  \n",
      " concatenate_33 (Concatenat  (None, 128, 128, 512)        0         ['conv2d_transpose_33[0][0]', \n",
      " e)                                                                  'activation_149[0][0]']      \n",
      "                                                                                                  \n",
      " conv2d_164 (Conv2D)         (None, 128, 128, 256)        1179904   ['concatenate_33[0][0]']      \n",
      "                                                                                                  \n",
      " batch_normalization_156 (B  (None, 128, 128, 256)        1024      ['conv2d_164[0][0]']          \n",
      " atchNormalization)                                                                               \n",
      "                                                                                                  \n",
      " activation_156 (Activation  (None, 128, 128, 256)        0         ['batch_normalization_156[0][0\n",
      " )                                                                  ]']                           \n",
      "                                                                                                  \n",
      " conv2d_165 (Conv2D)         (None, 128, 128, 256)        590080    ['activation_156[0][0]']      \n",
      "                                                                                                  \n",
      " batch_normalization_157 (B  (None, 128, 128, 256)        1024      ['conv2d_165[0][0]']          \n",
      " atchNormalization)                                                                               \n",
      "                                                                                                  \n",
      " activation_157 (Activation  (None, 128, 128, 256)        0         ['batch_normalization_157[0][0\n",
      " )                                                                  ]']                           \n",
      "                                                                                                  \n",
      " conv2d_transpose_34 (Conv2  (None, 256, 256, 128)        131200    ['activation_157[0][0]']      \n",
      " DTranspose)                                                                                      \n",
      "                                                                                                  \n",
      " concatenate_34 (Concatenat  (None, 256, 256, 256)        0         ['conv2d_transpose_34[0][0]', \n",
      " e)                                                                  'activation_147[0][0]']      \n",
      "                                                                                                  \n",
      " conv2d_166 (Conv2D)         (None, 256, 256, 128)        295040    ['concatenate_34[0][0]']      \n",
      "                                                                                                  \n",
      " batch_normalization_158 (B  (None, 256, 256, 128)        512       ['conv2d_166[0][0]']          \n",
      " atchNormalization)                                                                               \n",
      "                                                                                                  \n",
      " activation_158 (Activation  (None, 256, 256, 128)        0         ['batch_normalization_158[0][0\n",
      " )                                                                  ]']                           \n",
      "                                                                                                  \n",
      " conv2d_167 (Conv2D)         (None, 256, 256, 128)        147584    ['activation_158[0][0]']      \n",
      "                                                                                                  \n",
      " batch_normalization_159 (B  (None, 256, 256, 128)        512       ['conv2d_167[0][0]']          \n",
      " atchNormalization)                                                                               \n",
      "                                                                                                  \n",
      " activation_159 (Activation  (None, 256, 256, 128)        0         ['batch_normalization_159[0][0\n",
      " )                                                                  ]']                           \n",
      "                                                                                                  \n",
      " conv2d_transpose_35 (Conv2  (None, 512, 512, 64)         32832     ['activation_159[0][0]']      \n",
      " DTranspose)                                                                                      \n",
      "                                                                                                  \n",
      " concatenate_35 (Concatenat  (None, 512, 512, 128)        0         ['conv2d_transpose_35[0][0]', \n",
      " e)                                                                  'activation_145[0][0]']      \n",
      "                                                                                                  \n",
      " conv2d_168 (Conv2D)         (None, 512, 512, 64)         73792     ['concatenate_35[0][0]']      \n",
      "                                                                                                  \n",
      " batch_normalization_160 (B  (None, 512, 512, 64)         256       ['conv2d_168[0][0]']          \n",
      " atchNormalization)                                                                               \n",
      "                                                                                                  \n",
      " activation_160 (Activation  (None, 512, 512, 64)         0         ['batch_normalization_160[0][0\n",
      " )                                                                  ]']                           \n",
      "                                                                                                  \n",
      " conv2d_169 (Conv2D)         (None, 512, 512, 64)         36928     ['activation_160[0][0]']      \n",
      "                                                                                                  \n",
      " batch_normalization_161 (B  (None, 512, 512, 64)         256       ['conv2d_169[0][0]']          \n",
      " atchNormalization)                                                                               \n",
      "                                                                                                  \n",
      " activation_161 (Activation  (None, 512, 512, 64)         0         ['batch_normalization_161[0][0\n",
      " )                                                                  ]']                           \n",
      "                                                                                                  \n",
      " conv2d_170 (Conv2D)         (None, 512, 512, 1)          65        ['activation_161[0][0]']      \n",
      "                                                                                                  \n",
      "==================================================================================================\n",
      "Total params: 31055297 (118.47 MB)\n",
      "Trainable params: 31043521 (118.42 MB)\n",
      "Non-trainable params: 11776 (46.00 KB)\n",
      "__________________________________________________________________________________________________\n"
     ]
    }
   ],
   "source": [
    "dataset_path = r\"E:\\python\\segmentation\\Computer Vision\\Data\\blood\\new_data\"\n",
    "if __name__ == \"__main__\":\n",
    "    np.random.seed(42)\n",
    "    tf.random.set_seed(42)\n",
    "\n",
    "    create_dir(dataset_path + \"/files\")\n",
    "\n",
    "    \n",
    "    batch_size = 2\n",
    "    learning_rate = 1e-4\n",
    "    num_epochs = 20\n",
    "    model_path = os.path.join(dataset_path + \"files\" + \"Retina_Blood_Verssel.h5\")\n",
    "    csv_path = os.path.join(dataset_path + \"files\" + \"retina_blood_verssel.csv\")\n",
    "\n",
    "    train_path = os.path.join(dataset_path, \"train/\")\n",
    "    \n",
    "    validation_path = os.path.join(dataset_path, \"test/\")\n",
    "    \n",
    "\n",
    "    X_train, y_train = load_dataset(train_path)\n",
    "    X_train, y_train = shuffling(X_train, y_train)\n",
    "\n",
    "    X_val, y_val = load_dataset(validation_path)\n",
    "    print(F\"Training dataset : {len(X_train)} - {len(y_train)}\")\n",
    "    print(F\"Validation dataset : {len(X_val)} - {len(y_val)}\")\n",
    "\n",
    "    train_dataset = tf_dataset(X_train, y_train, batch=batch_size)\n",
    "    val_dataset = tf_dataset(X_val, y_val, batch=batch_size)\n",
    "\n",
    "    train_steps = len(X_train) // batch_size\n",
    "    val_steps = len(X_val) // batch_size\n",
    "\n",
    "    if len(X_train) % batch_size != 0:\n",
    "        train_steps += 1\n",
    "\n",
    "    if len(X_val) % batch_size != 0:\n",
    "        val_steps += 1\n",
    "\n",
    "    model = build_unet((H, W, 3))\n",
    "    model.compile(loss=dice_loss, optimizer=Adam(learning_rate=learning_rate), \n",
    "                 metrics=[dice_coef, iou, Recall(), Precision()])\n",
    "\n",
    "    model.summary()\n"
   ]
  },
  {
   "cell_type": "code",
   "execution_count": 78,
   "id": "8dd909ae-ecf3-4129-baaf-f26a7e92974c",
   "metadata": {},
   "outputs": [],
   "source": [
    "callbacks = [\n",
    "        ModelCheckpoint(model_path, verbose=1, save_best_only=True),\n",
    "        ReduceLROnPlateau(monitor=\"val_loss\", factor=0.1, patience=5, min_lr1=1e-6, verbose=1),\n",
    "        CSVLogger(csv_path),\n",
    "        #TensorBoard(),\n",
    "        EarlyStopping(monitor=\"val_loss\", patience=10, restore_best_weights=False)\n",
    "    ]"
   ]
  },
  {
   "cell_type": "code",
   "execution_count": 108,
   "id": "7bf577c0-a294-4ea3-89fe-f26c8a43fc7e",
   "metadata": {},
   "outputs": [
    {
     "name": "stdout",
     "output_type": "stream",
     "text": [
      "Epoch 1/20\n",
      "70/70 [==============================] - ETA: 0s - loss: 0.6906 - dice_coef: 0.3094 - iou: 0.1851 - recall_5: 0.7139 - precision_5: 0.3998\n",
      "Epoch 1: val_loss improved from inf to 0.86270, saving model to E:\\python\\segmentation\\Computer Vision\\Data\\blood\\new_datafilesRetina_Blood_Verssel.h5\n"
     ]
    },
    {
     "name": "stderr",
     "output_type": "stream",
     "text": [
      "C:\\Users\\hamid\\anaconda3\\envs\\MachineLearning\\Lib\\site-packages\\keras\\src\\engine\\training.py:3103: UserWarning: You are saving your model as an HDF5 file via `model.save()`. This file format is considered legacy. We recommend using instead the native Keras format, e.g. `model.save('my_model.keras')`.\n",
      "  saving_api.save_model(\n"
     ]
    },
    {
     "name": "stdout",
     "output_type": "stream",
     "text": [
      "70/70 [==============================] - 715s 10s/step - loss: 0.6906 - dice_coef: 0.3094 - iou: 0.1851 - recall_5: 0.7139 - precision_5: 0.3998 - val_loss: 0.8627 - val_dice_coef: 0.1373 - val_iou: 0.0737 - val_recall_5: 0.0000e+00 - val_precision_5: 0.0000e+00 - lr: 1.0000e-04\n",
      "Epoch 2/20\n",
      "70/70 [==============================] - ETA: 0s - loss: 0.5551 - dice_coef: 0.4449 - iou: 0.2866 - recall_5: 0.5119 - precision_5: 0.7565\n",
      "Epoch 2: val_loss did not improve from 0.86270\n",
      "70/70 [==============================] - 672s 10s/step - loss: 0.5551 - dice_coef: 0.4449 - iou: 0.2866 - recall_5: 0.5119 - precision_5: 0.7565 - val_loss: 0.8838 - val_dice_coef: 0.1162 - val_iou: 0.0617 - val_recall_5: 0.0000e+00 - val_precision_5: 0.0000e+00 - lr: 1.0000e-04\n",
      "Epoch 3/20\n",
      "70/70 [==============================] - ETA: 0s - loss: 0.5105 - dice_coef: 0.4895 - iou: 0.3245 - recall_5: 0.4958 - precision_5: 0.8215\n",
      "Epoch 3: val_loss did not improve from 0.86270\n",
      "70/70 [==============================] - 675s 10s/step - loss: 0.5105 - dice_coef: 0.4895 - iou: 0.3245 - recall_5: 0.4958 - precision_5: 0.8215 - val_loss: 0.9021 - val_dice_coef: 0.0979 - val_iou: 0.0515 - val_recall_5: 0.0016 - val_precision_5: 0.0472 - lr: 1.0000e-04\n",
      "Epoch 4/20\n",
      "70/70 [==============================] - ETA: 0s - loss: 0.4743 - dice_coef: 0.5257 - iou: 0.3571 - recall_5: 0.4857 - precision_5: 0.8611\n",
      "Epoch 4: val_loss improved from 0.86270 to 0.86069, saving model to E:\\python\\segmentation\\Computer Vision\\Data\\blood\\new_datafilesRetina_Blood_Verssel.h5\n",
      "70/70 [==============================] - 678s 10s/step - loss: 0.4743 - dice_coef: 0.5257 - iou: 0.3571 - recall_5: 0.4857 - precision_5: 0.8611 - val_loss: 0.8607 - val_dice_coef: 0.1393 - val_iou: 0.0749 - val_recall_5: 0.0273 - val_precision_5: 0.2032 - lr: 1.0000e-04\n",
      "Epoch 5/20\n",
      "70/70 [==============================] - ETA: 0s - loss: 0.4389 - dice_coef: 0.5611 - iou: 0.3904 - recall_5: 0.4745 - precision_5: 0.8895\n",
      "Epoch 5: val_loss improved from 0.86069 to 0.72273, saving model to E:\\python\\segmentation\\Computer Vision\\Data\\blood\\new_datafilesRetina_Blood_Verssel.h5\n",
      "70/70 [==============================] - 688s 10s/step - loss: 0.4389 - dice_coef: 0.5611 - iou: 0.3904 - recall_5: 0.4745 - precision_5: 0.8895 - val_loss: 0.7227 - val_dice_coef: 0.2773 - val_iou: 0.1613 - val_recall_5: 0.1457 - val_precision_5: 0.4790 - lr: 1.0000e-04\n",
      "Epoch 6/20\n",
      "70/70 [==============================] - ETA: 0s - loss: 0.4060 - dice_coef: 0.5940 - iou: 0.4229 - recall_5: 0.4657 - precision_5: 0.9103\n",
      "Epoch 6: val_loss improved from 0.72273 to 0.64909, saving model to E:\\python\\segmentation\\Computer Vision\\Data\\blood\\new_datafilesRetina_Blood_Verssel.h5\n",
      "70/70 [==============================] - 688s 10s/step - loss: 0.4060 - dice_coef: 0.5940 - iou: 0.4229 - recall_5: 0.4657 - precision_5: 0.9103 - val_loss: 0.6491 - val_dice_coef: 0.3509 - val_iou: 0.2131 - val_recall_5: 0.2158 - val_precision_5: 0.5676 - lr: 1.0000e-04\n",
      "Epoch 7/20\n",
      "70/70 [==============================] - ETA: 0s - loss: 0.3773 - dice_coef: 0.6227 - iou: 0.4525 - recall_5: 0.4596 - precision_5: 0.9259\n",
      "Epoch 7: val_loss improved from 0.64909 to 0.54851, saving model to E:\\python\\segmentation\\Computer Vision\\Data\\blood\\new_datafilesRetina_Blood_Verssel.h5\n",
      "70/70 [==============================] - 687s 10s/step - loss: 0.3773 - dice_coef: 0.6227 - iou: 0.4525 - recall_5: 0.4596 - precision_5: 0.9259 - val_loss: 0.5485 - val_dice_coef: 0.4515 - val_iou: 0.2919 - val_recall_5: 0.3008 - val_precision_5: 0.6781 - lr: 1.0000e-04\n",
      "Epoch 8/20\n",
      "70/70 [==============================] - ETA: 0s - loss: 0.3526 - dice_coef: 0.6474 - iou: 0.4789 - recall_5: 0.4553 - precision_5: 0.9359\n",
      "Epoch 8: val_loss improved from 0.54851 to 0.46339, saving model to E:\\python\\segmentation\\Computer Vision\\Data\\blood\\new_datafilesRetina_Blood_Verssel.h5\n",
      "70/70 [==============================] - 683s 10s/step - loss: 0.3526 - dice_coef: 0.6474 - iou: 0.4789 - recall_5: 0.4553 - precision_5: 0.9359 - val_loss: 0.4634 - val_dice_coef: 0.5366 - val_iou: 0.3669 - val_recall_5: 0.3385 - val_precision_5: 0.8484 - lr: 1.0000e-04\n",
      "Epoch 9/20\n",
      "70/70 [==============================] - ETA: 0s - loss: 0.3311 - dice_coef: 0.6689 - iou: 0.5028 - recall_5: 0.4513 - precision_5: 0.9437\n",
      "Epoch 9: val_loss improved from 0.46339 to 0.40443, saving model to E:\\python\\segmentation\\Computer Vision\\Data\\blood\\new_datafilesRetina_Blood_Verssel.h5\n",
      "70/70 [==============================] - 684s 10s/step - loss: 0.3311 - dice_coef: 0.6689 - iou: 0.5028 - recall_5: 0.4513 - precision_5: 0.9437 - val_loss: 0.4044 - val_dice_coef: 0.5956 - val_iou: 0.4242 - val_recall_5: 0.3504 - val_precision_5: 0.9379 - lr: 1.0000e-04\n",
      "Epoch 10/20\n",
      "70/70 [==============================] - ETA: 0s - loss: 0.3122 - dice_coef: 0.6878 - iou: 0.5245 - recall_5: 0.4477 - precision_5: 0.9494\n",
      "Epoch 10: val_loss improved from 0.40443 to 0.36574, saving model to E:\\python\\segmentation\\Computer Vision\\Data\\blood\\new_datafilesRetina_Blood_Verssel.h5\n",
      "70/70 [==============================] - 682s 10s/step - loss: 0.3122 - dice_coef: 0.6878 - iou: 0.5245 - recall_5: 0.4477 - precision_5: 0.9494 - val_loss: 0.3657 - val_dice_coef: 0.6343 - val_iou: 0.4646 - val_recall_5: 0.3699 - val_precision_5: 0.9502 - lr: 1.0000e-04\n",
      "Epoch 11/20\n",
      "70/70 [==============================] - ETA: 0s - loss: 0.2945 - dice_coef: 0.7055 - iou: 0.5453 - recall_5: 0.4438 - precision_5: 0.9557\n",
      "Epoch 11: val_loss improved from 0.36574 to 0.34143, saving model to E:\\python\\segmentation\\Computer Vision\\Data\\blood\\new_datafilesRetina_Blood_Verssel.h5\n",
      "70/70 [==============================] - 680s 10s/step - loss: 0.2945 - dice_coef: 0.7055 - iou: 0.5453 - recall_5: 0.4438 - precision_5: 0.9557 - val_loss: 0.3414 - val_dice_coef: 0.6586 - val_iou: 0.4911 - val_recall_5: 0.3928 - val_precision_5: 0.9404 - lr: 1.0000e-04\n",
      "Epoch 12/20\n",
      "70/70 [==============================] - ETA: 0s - loss: 0.2796 - dice_coef: 0.7204 - iou: 0.5632 - recall_5: 0.4400 - precision_5: 0.9600\n",
      "Epoch 12: val_loss improved from 0.34143 to 0.33381, saving model to E:\\python\\segmentation\\Computer Vision\\Data\\blood\\new_datafilesRetina_Blood_Verssel.h5\n",
      "70/70 [==============================] - 681s 10s/step - loss: 0.2796 - dice_coef: 0.7204 - iou: 0.5632 - recall_5: 0.4400 - precision_5: 0.9600 - val_loss: 0.3338 - val_dice_coef: 0.6662 - val_iou: 0.4996 - val_recall_5: 0.3775 - val_precision_5: 0.9410 - lr: 1.0000e-04\n",
      "Epoch 13/20\n",
      "70/70 [==============================] - ETA: 0s - loss: 0.2676 - dice_coef: 0.7324 - iou: 0.5781 - recall_5: 0.4380 - precision_5: 0.9622\n",
      "Epoch 13: val_loss improved from 0.33381 to 0.31570, saving model to E:\\python\\segmentation\\Computer Vision\\Data\\blood\\new_datafilesRetina_Blood_Verssel.h5\n",
      "70/70 [==============================] - 680s 10s/step - loss: 0.2676 - dice_coef: 0.7324 - iou: 0.5781 - recall_5: 0.4380 - precision_5: 0.9622 - val_loss: 0.3157 - val_dice_coef: 0.6843 - val_iou: 0.5203 - val_recall_5: 0.3786 - val_precision_5: 0.9501 - lr: 1.0000e-04\n",
      "Epoch 14/20\n",
      "70/70 [==============================] - ETA: 0s - loss: 0.2555 - dice_coef: 0.7445 - iou: 0.5932 - recall_5: 0.4368 - precision_5: 0.9653\n",
      "Epoch 14: val_loss improved from 0.31570 to 0.30858, saving model to E:\\python\\segmentation\\Computer Vision\\Data\\blood\\new_datafilesRetina_Blood_Verssel.h5\n",
      "70/70 [==============================] - 682s 10s/step - loss: 0.2555 - dice_coef: 0.7445 - iou: 0.5932 - recall_5: 0.4368 - precision_5: 0.9653 - val_loss: 0.3086 - val_dice_coef: 0.6914 - val_iou: 0.5285 - val_recall_5: 0.3964 - val_precision_5: 0.9388 - lr: 1.0000e-04\n",
      "Epoch 15/20\n",
      "70/70 [==============================] - ETA: 0s - loss: 0.2446 - dice_coef: 0.7554 - iou: 0.6071 - recall_5: 0.4343 - precision_5: 0.9685\n",
      "Epoch 15: val_loss improved from 0.30858 to 0.29828, saving model to E:\\python\\segmentation\\Computer Vision\\Data\\blood\\new_datafilesRetina_Blood_Verssel.h5\n",
      "70/70 [==============================] - 682s 10s/step - loss: 0.2446 - dice_coef: 0.7554 - iou: 0.6071 - recall_5: 0.4343 - precision_5: 0.9685 - val_loss: 0.2983 - val_dice_coef: 0.7017 - val_iou: 0.5406 - val_recall_5: 0.3820 - val_precision_5: 0.9479 - lr: 1.0000e-04\n",
      "Epoch 16/20\n",
      "70/70 [==============================] - ETA: 0s - loss: 0.2359 - dice_coef: 0.7641 - iou: 0.6184 - recall_5: 0.4321 - precision_5: 0.9706\n",
      "Epoch 16: val_loss did not improve from 0.29828\n",
      "70/70 [==============================] - 679s 10s/step - loss: 0.2359 - dice_coef: 0.7641 - iou: 0.6184 - recall_5: 0.4321 - precision_5: 0.9706 - val_loss: 0.2998 - val_dice_coef: 0.7002 - val_iou: 0.5389 - val_recall_5: 0.3619 - val_precision_5: 0.9541 - lr: 1.0000e-04\n",
      "Epoch 17/20\n",
      "70/70 [==============================] - ETA: 0s - loss: 0.2268 - dice_coef: 0.7732 - iou: 0.6305 - recall_5: 0.4313 - precision_5: 0.9729\n",
      "Epoch 17: val_loss improved from 0.29828 to 0.29711, saving model to E:\\python\\segmentation\\Computer Vision\\Data\\blood\\new_datafilesRetina_Blood_Verssel.h5\n",
      "70/70 [==============================] - 711s 10s/step - loss: 0.2268 - dice_coef: 0.7732 - iou: 0.6305 - recall_5: 0.4313 - precision_5: 0.9729 - val_loss: 0.2971 - val_dice_coef: 0.7029 - val_iou: 0.5421 - val_recall_5: 0.3521 - val_precision_5: 0.9596 - lr: 1.0000e-04\n",
      "Epoch 18/20\n",
      "70/70 [==============================] - ETA: 0s - loss: 0.2199 - dice_coef: 0.7801 - iou: 0.6397 - recall_5: 0.4303 - precision_5: 0.9742\n",
      "Epoch 18: val_loss did not improve from 0.29711\n",
      "70/70 [==============================] - 692s 10s/step - loss: 0.2199 - dice_coef: 0.7801 - iou: 0.6397 - recall_5: 0.4303 - precision_5: 0.9742 - val_loss: 0.2980 - val_dice_coef: 0.7020 - val_iou: 0.5411 - val_recall_5: 0.3597 - val_precision_5: 0.9469 - lr: 1.0000e-04\n",
      "Epoch 19/20\n",
      "70/70 [==============================] - ETA: 0s - loss: 0.2133 - dice_coef: 0.7867 - iou: 0.6486 - recall_5: 0.4289 - precision_5: 0.9758\n",
      "Epoch 19: val_loss improved from 0.29711 to 0.28481, saving model to E:\\python\\segmentation\\Computer Vision\\Data\\blood\\new_datafilesRetina_Blood_Verssel.h5\n",
      "70/70 [==============================] - 689s 10s/step - loss: 0.2133 - dice_coef: 0.7867 - iou: 0.6486 - recall_5: 0.4289 - precision_5: 0.9758 - val_loss: 0.2848 - val_dice_coef: 0.7152 - val_iou: 0.5569 - val_recall_5: 0.3597 - val_precision_5: 0.9535 - lr: 1.0000e-04\n",
      "Epoch 20/20\n",
      "70/70 [==============================] - ETA: 0s - loss: 0.2071 - dice_coef: 0.7929 - iou: 0.6571 - recall_5: 0.4286 - precision_5: 0.9770\n",
      "Epoch 20: val_loss improved from 0.28481 to 0.28308, saving model to E:\\python\\segmentation\\Computer Vision\\Data\\blood\\new_datafilesRetina_Blood_Verssel.h5\n",
      "70/70 [==============================] - 717s 10s/step - loss: 0.2071 - dice_coef: 0.7929 - iou: 0.6571 - recall_5: 0.4286 - precision_5: 0.9770 - val_loss: 0.2831 - val_dice_coef: 0.7169 - val_iou: 0.5590 - val_recall_5: 0.3520 - val_precision_5: 0.9571 - lr: 1.0000e-04\n"
     ]
    },
    {
     "data": {
      "text/plain": [
       "<keras.src.callbacks.History at 0x16bba434d90>"
      ]
     },
     "execution_count": 108,
     "metadata": {},
     "output_type": "execute_result"
    }
   ],
   "source": [
    "model.fit(\n",
    "    train_dataset,\n",
    "    epochs=num_epochs,\n",
    "    validation_data=val_dataset,\n",
    "    steps_per_epoch=train_steps,\n",
    "    validation_steps=val_steps,\n",
    "    callbacks=callbacks\n",
    ")"
   ]
  },
  {
   "cell_type": "code",
   "execution_count": 116,
   "id": "175b98f1-e953-451f-b6e0-b6e82a851099",
   "metadata": {},
   "outputs": [],
   "source": [
    "model.save(\"Retina_Blood_Vessel.h5\")"
   ]
  },
  {
   "cell_type": "code",
   "execution_count": 166,
   "id": "1eb1c3e0-31f5-481d-ae05-a12f84675a25",
   "metadata": {},
   "outputs": [],
   "source": [
    "def read_test_images(path):\n",
    "    x = cv2.imread(path, cv2.IMREAD_COLOR)\n",
    "    ori_x = x\n",
    "    x = x / 255.0\n",
    "    x = x.astype(np.float32)\n",
    "    return ori_x, x"
   ]
  },
  {
   "cell_type": "code",
   "execution_count": 228,
   "id": "8b1d5ba0-d3b2-489f-a7fa-314082af320f",
   "metadata": {},
   "outputs": [],
   "source": [
    "def read_test_mask(path):\n",
    "    x = cv2.imread(path, cv2.IMREAD_GRAYSCALE)\n",
    "    ori_x = x\n",
    "    x = x / 255.0\n",
    "    x = x.astype(np.int32)\n",
    "    return ori_x, x"
   ]
  },
  {
   "cell_type": "code",
   "execution_count": 180,
   "id": "032bbcf1-e413-4de1-8390-06bbb321599f",
   "metadata": {},
   "outputs": [],
   "source": [
    "def save_results(ori_x, ori_y, y_pred, save_image_path):\n",
    "    line = np.ones((H, 10, 3)) * 255\n",
    "    ori_y = np.expand_dims(ori_y, axis=-1)\n",
    "    ori_y = np.concatenate([ori_y, ori_y, ori_y], axis=-1)\n",
    "\n",
    "    y_pred = np.expand_dims(y_pred, axis=-1)\n",
    "    y_pred = np.concatenate([y_pred, y_pred, y_pred], axis=-1) * 255\n",
    "\n",
    "    concatinate_images = np.concatenate([ori_x, line, ori_y, line, y_pred], axis=1)\n",
    "\n",
    "    cv2.imwrite(save_image_path, concatinate_images)\n",
    "    "
   ]
  },
  {
   "cell_type": "code",
   "execution_count": 238,
   "id": "712ad20f-e782-432d-a124-2c4eb4d6b52f",
   "metadata": {},
   "outputs": [
    {
     "name": "stderr",
     "output_type": "stream",
     "text": [
      "  0%|                                                                                           | 0/20 [00:00<?, ?it/s]"
     ]
    },
    {
     "name": "stdout",
     "output_type": "stream",
     "text": [
      "01_test\n",
      "1/1 [==============================] - 4s 4s/step\n"
     ]
    },
    {
     "name": "stderr",
     "output_type": "stream",
     "text": [
      "  5%|████▏                                                                              | 1/20 [00:04<01:23,  4.41s/it]"
     ]
    },
    {
     "name": "stdout",
     "output_type": "stream",
     "text": [
      "02_test\n",
      "1/1 [==============================] - 1s 910ms/step\n"
     ]
    },
    {
     "name": "stderr",
     "output_type": "stream",
     "text": [
      " 10%|████████▎                                                                          | 2/20 [00:05<00:46,  2.59s/it]"
     ]
    },
    {
     "name": "stdout",
     "output_type": "stream",
     "text": [
      "03_test\n",
      "1/1 [==============================] - 1s 887ms/step\n"
     ]
    },
    {
     "name": "stderr",
     "output_type": "stream",
     "text": [
      " 15%|████████████▍                                                                      | 3/20 [00:07<00:33,  2.00s/it]"
     ]
    },
    {
     "name": "stdout",
     "output_type": "stream",
     "text": [
      "04_test\n",
      "1/1 [==============================] - 1s 913ms/step\n"
     ]
    },
    {
     "name": "stderr",
     "output_type": "stream",
     "text": [
      " 20%|████████████████▌                                                                  | 4/20 [00:08<00:27,  1.73s/it]"
     ]
    },
    {
     "name": "stdout",
     "output_type": "stream",
     "text": [
      "05_test\n",
      "1/1 [==============================] - 1s 870ms/step\n"
     ]
    },
    {
     "name": "stderr",
     "output_type": "stream",
     "text": [
      " 25%|████████████████████▊                                                              | 5/20 [00:09<00:23,  1.57s/it]"
     ]
    },
    {
     "name": "stdout",
     "output_type": "stream",
     "text": [
      "06_test\n",
      "1/1 [==============================] - 1s 893ms/step\n"
     ]
    },
    {
     "name": "stderr",
     "output_type": "stream",
     "text": [
      " 30%|████████████████████████▉                                                          | 6/20 [00:10<00:20,  1.48s/it]"
     ]
    },
    {
     "name": "stdout",
     "output_type": "stream",
     "text": [
      "07_test\n",
      "1/1 [==============================] - 1s 875ms/step\n"
     ]
    },
    {
     "name": "stderr",
     "output_type": "stream",
     "text": [
      " 35%|█████████████████████████████                                                      | 7/20 [00:12<00:18,  1.41s/it]"
     ]
    },
    {
     "name": "stdout",
     "output_type": "stream",
     "text": [
      "08_test\n",
      "1/1 [==============================] - 1s 885ms/step\n"
     ]
    },
    {
     "name": "stderr",
     "output_type": "stream",
     "text": [
      " 40%|█████████████████████████████████▏                                                 | 8/20 [00:13<00:16,  1.37s/it]"
     ]
    },
    {
     "name": "stdout",
     "output_type": "stream",
     "text": [
      "09_test\n",
      "1/1 [==============================] - 1s 872ms/step\n"
     ]
    },
    {
     "name": "stderr",
     "output_type": "stream",
     "text": [
      " 45%|█████████████████████████████████████▎                                             | 9/20 [00:14<00:14,  1.34s/it]"
     ]
    },
    {
     "name": "stdout",
     "output_type": "stream",
     "text": [
      "10_test\n",
      "1/1 [==============================] - 1s 898ms/step\n"
     ]
    },
    {
     "name": "stderr",
     "output_type": "stream",
     "text": [
      " 50%|█████████████████████████████████████████                                         | 10/20 [00:16<00:13,  1.34s/it]"
     ]
    },
    {
     "name": "stdout",
     "output_type": "stream",
     "text": [
      "11_test\n",
      "1/1 [==============================] - 1s 882ms/step\n"
     ]
    },
    {
     "name": "stderr",
     "output_type": "stream",
     "text": [
      " 55%|█████████████████████████████████████████████                                     | 11/20 [00:17<00:11,  1.32s/it]"
     ]
    },
    {
     "name": "stdout",
     "output_type": "stream",
     "text": [
      "12_test\n",
      "1/1 [==============================] - 1s 928ms/step\n"
     ]
    },
    {
     "name": "stderr",
     "output_type": "stream",
     "text": [
      " 60%|█████████████████████████████████████████████████▏                                | 12/20 [00:18<00:10,  1.33s/it]"
     ]
    },
    {
     "name": "stdout",
     "output_type": "stream",
     "text": [
      "13_test\n",
      "1/1 [==============================] - 1s 887ms/step\n"
     ]
    },
    {
     "name": "stderr",
     "output_type": "stream",
     "text": [
      " 65%|█████████████████████████████████████████████████████▎                            | 13/20 [00:20<00:09,  1.32s/it]"
     ]
    },
    {
     "name": "stdout",
     "output_type": "stream",
     "text": [
      "14_test\n",
      "1/1 [==============================] - 1s 896ms/step\n"
     ]
    },
    {
     "name": "stderr",
     "output_type": "stream",
     "text": [
      " 70%|█████████████████████████████████████████████████████████▍                        | 14/20 [00:21<00:07,  1.31s/it]"
     ]
    },
    {
     "name": "stdout",
     "output_type": "stream",
     "text": [
      "15_test\n",
      "1/1 [==============================] - 1s 882ms/step\n"
     ]
    },
    {
     "name": "stderr",
     "output_type": "stream",
     "text": [
      " 75%|█████████████████████████████████████████████████████████████▌                    | 15/20 [00:22<00:06,  1.31s/it]"
     ]
    },
    {
     "name": "stdout",
     "output_type": "stream",
     "text": [
      "16_test\n",
      "1/1 [==============================] - 1s 890ms/step\n"
     ]
    },
    {
     "name": "stderr",
     "output_type": "stream",
     "text": [
      " 80%|█████████████████████████████████████████████████████████████████▌                | 16/20 [00:23<00:05,  1.31s/it]"
     ]
    },
    {
     "name": "stdout",
     "output_type": "stream",
     "text": [
      "17_test\n",
      "1/1 [==============================] - 1s 890ms/step\n"
     ]
    },
    {
     "name": "stderr",
     "output_type": "stream",
     "text": [
      " 85%|█████████████████████████████████████████████████████████████████████▋            | 17/20 [00:25<00:03,  1.30s/it]"
     ]
    },
    {
     "name": "stdout",
     "output_type": "stream",
     "text": [
      "18_test\n",
      "1/1 [==============================] - 1s 893ms/step\n"
     ]
    },
    {
     "name": "stderr",
     "output_type": "stream",
     "text": [
      " 90%|█████████████████████████████████████████████████████████████████████████▊        | 18/20 [00:26<00:02,  1.30s/it]"
     ]
    },
    {
     "name": "stdout",
     "output_type": "stream",
     "text": [
      "19_test\n",
      "1/1 [==============================] - 1s 891ms/step\n"
     ]
    },
    {
     "name": "stderr",
     "output_type": "stream",
     "text": [
      " 95%|█████████████████████████████████████████████████████████████████████████████▉    | 19/20 [00:27<00:01,  1.30s/it]"
     ]
    },
    {
     "name": "stdout",
     "output_type": "stream",
     "text": [
      "20_test\n",
      "1/1 [==============================] - 1s 943ms/step\n"
     ]
    },
    {
     "name": "stderr",
     "output_type": "stream",
     "text": [
      "100%|██████████████████████████████████████████████████████████████████████████████████| 20/20 [00:29<00:00,  1.46s/it]"
     ]
    },
    {
     "name": "stdout",
     "output_type": "stream",
     "text": [
      "Accuracy: 0.94709\n",
      "F1: 0.52832\n",
      "Jaccard: 0.35963\n",
      "Recall: 0.88130\n",
      "Precision: 0.38008\n"
     ]
    },
    {
     "name": "stderr",
     "output_type": "stream",
     "text": [
      "\n"
     ]
    }
   ],
   "source": [
    "dataset_path = r\"E:\\python\\segmentation\\Computer Vision\\Data\\blood\\new_data\"\n",
    "\n",
    "retina_blood_model_path = r\"E:\\python\\segmentation\\Computer Vision\\Data\\blood\\new_datafilesRetina_Blood_Verssel.h5\"\n",
    "if __name__ == \"__main__\":\n",
    "    create_dir(dataset_path + \"results\")\n",
    "\n",
    "    with CustomObjectScope({\"iou\":iou, \"dice_coef\":dice_coef, \"dice_loss\":dice_loss}):\n",
    "        retina_blood_model = load_model(retina_blood_model_path)\n",
    "        #retina_blood_model.summary()\n",
    "\n",
    "    test_dataset_path = os.path.join(dataset_path, \"test\")\n",
    "    X_test, y_test = load_dataset(test_dataset_path)\n",
    "    #print(X_test, y_test)\n",
    "\n",
    "    score = []\n",
    "    for x, y in tqdm(zip(X_test, y_test), total=len(X_test)):\n",
    "        #print(x, y)\n",
    "        name = x.split(\"\\\\\")[-1].split(\".\")[0]\n",
    "        print(name)\n",
    "\n",
    "        ori_x, x = read_test_images(x)\n",
    "        ori_y, y = read_test_mask(y)\n",
    "\n",
    "        y_pred = retina_blood_model.predict(np.expand_dims(x, axis=0))[0]\n",
    "        y_pred = y_pred > 0.5\n",
    "        #print(y_pred.shape)\n",
    "        y_pred = y_pred.astype(np.int32)\n",
    "        y_pred = np.squeeze(y_pred, axis=-1)\n",
    "        #print(y_pred.shape)\n",
    "\n",
    "        save_path = r\"E:\\python\\segmentation\\Computer Vision\\Data\\blood\\new_data\\results\"\n",
    "        save_image_path = f\"result{name+'A'}.png\"\n",
    "        save_image_path = os.path.join(save_path, save_image_path)\n",
    "        save_results(ori_x, ori_y, y_pred, save_image_path) \n",
    "\n",
    "        y = y.flatten()\n",
    "        y_pred = y_pred.flatten()\n",
    "\n",
    "        accuracy_value = accuracy_score(y, y_pred)\n",
    "        f1_value = f1_score(y, y_pred, labels=[0, 1], average=\"binary\")\n",
    "        jac_value = jaccard_score(y, y_pred, labels=[0, 1], average=\"binary\")\n",
    "        recall_value = recall_score(y, y_pred, labels=[0, 1], average=\"binary\")\n",
    "        precision_value = precision_score(y, y_pred, labels=[0, 1], average=\"binary\")\n",
    "\n",
    "        score.append([name, accuracy_value, f1_value, jac_value, recall_value, precision_value])\n",
    "\n",
    "    score = [s[1:] for s in score]\n",
    "    score = np.mean(score, axis=0)\n",
    "\n",
    "    print(f\"Accuracy: {score[0]:0.5f}\")\n",
    "    print(f\"F1: {score[1]:0.5f}\")\n",
    "    print(f\"Jaccard: {score[2]:0.5f}\")\n",
    "    print(f\"Recall: {score[3]:0.5f}\")\n",
    "    print(f\"Precision: {score[4]:0.5f}\")\n",
    "        \n",
    "\n",
    "    df = pd.DataFrame(score, columns=[\"Image\", \"Accuracy\", \"F1_score\", \"Jaccard\", \"Recall\", \"Precision\"])\n",
    "    df.to_csv(save_path + \"\\\\score.csv\")"
   ]
  },
  {
   "cell_type": "code",
   "execution_count": null,
   "id": "e8e8a0fa-6f75-4d32-8596-80c0282609a7",
   "metadata": {},
   "outputs": [],
   "source": []
  },
  {
   "cell_type": "code",
   "execution_count": null,
   "id": "87b53ce7-4331-43c8-a9e9-d47e3b373371",
   "metadata": {},
   "outputs": [],
   "source": []
  },
  {
   "cell_type": "code",
   "execution_count": null,
   "id": "69e6ecaf-dea8-47e6-9f1d-ce080980583b",
   "metadata": {},
   "outputs": [],
   "source": []
  },
  {
   "cell_type": "code",
   "execution_count": null,
   "id": "f90a4746-a15b-4562-8c59-f54f0cdd8ad9",
   "metadata": {},
   "outputs": [],
   "source": []
  }
 ],
 "metadata": {
  "kernelspec": {
   "display_name": "Python 3 (ipykernel)",
   "language": "python",
   "name": "python3"
  },
  "language_info": {
   "codemirror_mode": {
    "name": "ipython",
    "version": 3
   },
   "file_extension": ".py",
   "mimetype": "text/x-python",
   "name": "python",
   "nbconvert_exporter": "python",
   "pygments_lexer": "ipython3",
   "version": "3.11.5"
  }
 },
 "nbformat": 4,
 "nbformat_minor": 5
}
