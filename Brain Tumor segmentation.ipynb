{
 "cells": [
  {
   "cell_type": "code",
   "execution_count": 1,
   "id": "19ba9c4e-a997-4643-ba55-36646fa29030",
   "metadata": {},
   "outputs": [
    {
     "name": "stdout",
     "output_type": "stream",
     "text": [
      "WARNING:tensorflow:From C:\\Users\\hamid\\anaconda3\\envs\\MachineLearning\\Lib\\site-packages\\keras\\src\\losses.py:2976: The name tf.losses.sparse_softmax_cross_entropy is deprecated. Please use tf.compat.v1.losses.sparse_softmax_cross_entropy instead.\n",
      "\n"
     ]
    }
   ],
   "source": [
    "import os\n",
    "import cv2\n",
    "from glob import glob\n",
    "import numpy as np\n",
    "from sklearn.utils import shuffle\n",
    "from sklearn.model_selection import train_test_split\n",
    "import pandas as pd\n",
    "from tqdm import tqdm\n",
    "import tensorflow as tf\n",
    "from tensorflow.keras.utils import CustomObjectScope\n",
    "from sklearn.metrics import f1_score, jaccard_score, precision_score, recall_score\n",
    "from tensorflow.keras.optimizers import Adam\n",
    "from tensorflow.keras.callbacks import ModelCheckpoint, CSVLogger, ReduceLROnPlateau, EarlyStopping\n",
    "from tensorflow.keras.layers import Conv2D, BatchNormalization, Activation, MaxPool2D, Conv2DTranspose, Concatenate, Input, Flatten\n",
    "from tensorflow.keras.models import Model"
   ]
  },
  {
   "cell_type": "code",
   "execution_count": 91,
   "id": "0bca8c45-fbb8-4426-be3e-48d162fd8f99",
   "metadata": {},
   "outputs": [],
   "source": [
    "dataset = r\"E:\\python\\segmentation\\Computer Vision\\Computer Vision\\Data\\braintomurarchive\""
   ]
  },
  {
   "cell_type": "code",
   "execution_count": 131,
   "id": "dae221d4-dfda-4ffc-87b6-1e6d93b1b49d",
   "metadata": {},
   "outputs": [],
   "source": [
    "\"\"\" Global Parameters \"\"\"\n",
    "H = 256\n",
    "W = 256"
   ]
  },
  {
   "cell_type": "code",
   "execution_count": 7,
   "id": "0600595a-98c3-4303-8e01-f23bd9b61349",
   "metadata": {},
   "outputs": [],
   "source": [
    "def conv_block(input, num_filters):\n",
    "    x = Conv2D(num_filters, 3, padding=\"same\")(input)\n",
    "    x = BatchNormalization()(x)\n",
    "    x = Activation(\"relu\")(x)\n",
    "\n",
    "    x = Conv2D(num_filters, 3, padding=\"same\")(x)\n",
    "    x = BatchNormalization()(x)\n",
    "    x = Activation(\"relu\")(x)\n",
    "\n",
    "    return x"
   ]
  },
  {
   "cell_type": "code",
   "execution_count": 9,
   "id": "28cdd47f-4e2c-4e59-ac7f-59ea345fabcb",
   "metadata": {},
   "outputs": [],
   "source": [
    "def encoder_block(input, num_filters):\n",
    "    x = conv_block(input, num_filters)\n",
    "    p = MaxPool2D((2, 2))(x)\n",
    "    return x, p"
   ]
  },
  {
   "cell_type": "code",
   "execution_count": 11,
   "id": "0572827f-2639-4526-8f0a-f5407d582748",
   "metadata": {},
   "outputs": [],
   "source": [
    "def decoder_block(input, skip_connection, num_filters):\n",
    "    \n",
    "    #print(\"The input shape before Conv2DTranspose is :\", input.shape)\n",
    "    \n",
    "    x = Conv2DTranspose(num_filters, 2, strides=2, padding=\"same\")(input)\n",
    "    #print(\"The input shape after Conv2DTranspose is :\", x.shape)\n",
    "         \n",
    "    x = Concatenate()([x, skip_connection])\n",
    "    #print(\"The input shape after Concatination is :\", x.shape)\n",
    "\n",
    "    x = conv_block(x, num_filters)\n",
    "    \n",
    "    return x"
   ]
  },
  {
   "cell_type": "code",
   "execution_count": 13,
   "id": "20148f12-b599-4180-8a1b-d245bf3dcf43",
   "metadata": {},
   "outputs": [],
   "source": [
    "def build_unet(input_shape):\n",
    "    inputs = Input(input_shape)\n",
    "\n",
    "    s1, p1 = encoder_block(inputs, 64)\n",
    "    s2, p2 = encoder_block(p1, 128)\n",
    "    s3, p3 = encoder_block(p2, 256)\n",
    "    s4, p4 = encoder_block(p3, 512)\n",
    "\n",
    "    #print(s1.shape, s2.shape, s3.shape, s4.shape) \n",
    "    #print(p1.shape, p2.shape, p3.shape, p4.shape)\n",
    "\n",
    "    b1 = conv_block(p4, 1024)\n",
    "\n",
    "    d1 = decoder_block(b1, s4, 512)\n",
    "    d2 = decoder_block(d1, s3, 256)\n",
    "    d3 = decoder_block(d2, s2, 128)\n",
    "    d4 = decoder_block(d3, s1, 64)\n",
    "    #print(d4.shape)\n",
    "\n",
    "    output = Conv2D(1, 1, padding=\"same\", activation=\"sigmoid\")(d4)\n",
    "    #print(output.shape)\n",
    "\n",
    "    model = Model(inputs, output, name=\"UNET\")\n",
    "\n",
    "    return model"
   ]
  },
  {
   "cell_type": "code",
   "execution_count": 15,
   "id": "ca8bd0a3-4361-49ca-84d3-e8601937f0a5",
   "metadata": {},
   "outputs": [
    {
     "name": "stdout",
     "output_type": "stream",
     "text": [
      "WARNING:tensorflow:From C:\\Users\\hamid\\anaconda3\\envs\\MachineLearning\\Lib\\site-packages\\keras\\src\\backend.py:1398: The name tf.executing_eagerly_outside_functions is deprecated. Please use tf.compat.v1.executing_eagerly_outside_functions instead.\n",
      "\n",
      "WARNING:tensorflow:From C:\\Users\\hamid\\anaconda3\\envs\\MachineLearning\\Lib\\site-packages\\keras\\src\\layers\\normalization\\batch_normalization.py:979: The name tf.nn.fused_batch_norm is deprecated. Please use tf.compat.v1.nn.fused_batch_norm instead.\n",
      "\n",
      "Model: \"UNET\"\n",
      "__________________________________________________________________________________________________\n",
      " Layer (type)                Output Shape                 Param #   Connected to                  \n",
      "==================================================================================================\n",
      " input_1 (InputLayer)        [(None, 256, 256, 3)]        0         []                            \n",
      "                                                                                                  \n",
      " conv2d (Conv2D)             (None, 256, 256, 64)         1792      ['input_1[0][0]']             \n",
      "                                                                                                  \n",
      " batch_normalization (Batch  (None, 256, 256, 64)         256       ['conv2d[0][0]']              \n",
      " Normalization)                                                                                   \n",
      "                                                                                                  \n",
      " activation (Activation)     (None, 256, 256, 64)         0         ['batch_normalization[0][0]'] \n",
      "                                                                                                  \n",
      " conv2d_1 (Conv2D)           (None, 256, 256, 64)         36928     ['activation[0][0]']          \n",
      "                                                                                                  \n",
      " batch_normalization_1 (Bat  (None, 256, 256, 64)         256       ['conv2d_1[0][0]']            \n",
      " chNormalization)                                                                                 \n",
      "                                                                                                  \n",
      " activation_1 (Activation)   (None, 256, 256, 64)         0         ['batch_normalization_1[0][0]'\n",
      "                                                                    ]                             \n",
      "                                                                                                  \n",
      " max_pooling2d (MaxPooling2  (None, 128, 128, 64)         0         ['activation_1[0][0]']        \n",
      " D)                                                                                               \n",
      "                                                                                                  \n",
      " conv2d_2 (Conv2D)           (None, 128, 128, 128)        73856     ['max_pooling2d[0][0]']       \n",
      "                                                                                                  \n",
      " batch_normalization_2 (Bat  (None, 128, 128, 128)        512       ['conv2d_2[0][0]']            \n",
      " chNormalization)                                                                                 \n",
      "                                                                                                  \n",
      " activation_2 (Activation)   (None, 128, 128, 128)        0         ['batch_normalization_2[0][0]'\n",
      "                                                                    ]                             \n",
      "                                                                                                  \n",
      " conv2d_3 (Conv2D)           (None, 128, 128, 128)        147584    ['activation_2[0][0]']        \n",
      "                                                                                                  \n",
      " batch_normalization_3 (Bat  (None, 128, 128, 128)        512       ['conv2d_3[0][0]']            \n",
      " chNormalization)                                                                                 \n",
      "                                                                                                  \n",
      " activation_3 (Activation)   (None, 128, 128, 128)        0         ['batch_normalization_3[0][0]'\n",
      "                                                                    ]                             \n",
      "                                                                                                  \n",
      " max_pooling2d_1 (MaxPoolin  (None, 64, 64, 128)          0         ['activation_3[0][0]']        \n",
      " g2D)                                                                                             \n",
      "                                                                                                  \n",
      " conv2d_4 (Conv2D)           (None, 64, 64, 256)          295168    ['max_pooling2d_1[0][0]']     \n",
      "                                                                                                  \n",
      " batch_normalization_4 (Bat  (None, 64, 64, 256)          1024      ['conv2d_4[0][0]']            \n",
      " chNormalization)                                                                                 \n",
      "                                                                                                  \n",
      " activation_4 (Activation)   (None, 64, 64, 256)          0         ['batch_normalization_4[0][0]'\n",
      "                                                                    ]                             \n",
      "                                                                                                  \n",
      " conv2d_5 (Conv2D)           (None, 64, 64, 256)          590080    ['activation_4[0][0]']        \n",
      "                                                                                                  \n",
      " batch_normalization_5 (Bat  (None, 64, 64, 256)          1024      ['conv2d_5[0][0]']            \n",
      " chNormalization)                                                                                 \n",
      "                                                                                                  \n",
      " activation_5 (Activation)   (None, 64, 64, 256)          0         ['batch_normalization_5[0][0]'\n",
      "                                                                    ]                             \n",
      "                                                                                                  \n",
      " max_pooling2d_2 (MaxPoolin  (None, 32, 32, 256)          0         ['activation_5[0][0]']        \n",
      " g2D)                                                                                             \n",
      "                                                                                                  \n",
      " conv2d_6 (Conv2D)           (None, 32, 32, 512)          1180160   ['max_pooling2d_2[0][0]']     \n",
      "                                                                                                  \n",
      " batch_normalization_6 (Bat  (None, 32, 32, 512)          2048      ['conv2d_6[0][0]']            \n",
      " chNormalization)                                                                                 \n",
      "                                                                                                  \n",
      " activation_6 (Activation)   (None, 32, 32, 512)          0         ['batch_normalization_6[0][0]'\n",
      "                                                                    ]                             \n",
      "                                                                                                  \n",
      " conv2d_7 (Conv2D)           (None, 32, 32, 512)          2359808   ['activation_6[0][0]']        \n",
      "                                                                                                  \n",
      " batch_normalization_7 (Bat  (None, 32, 32, 512)          2048      ['conv2d_7[0][0]']            \n",
      " chNormalization)                                                                                 \n",
      "                                                                                                  \n",
      " activation_7 (Activation)   (None, 32, 32, 512)          0         ['batch_normalization_7[0][0]'\n",
      "                                                                    ]                             \n",
      "                                                                                                  \n",
      " max_pooling2d_3 (MaxPoolin  (None, 16, 16, 512)          0         ['activation_7[0][0]']        \n",
      " g2D)                                                                                             \n",
      "                                                                                                  \n",
      " conv2d_8 (Conv2D)           (None, 16, 16, 1024)         4719616   ['max_pooling2d_3[0][0]']     \n",
      "                                                                                                  \n",
      " batch_normalization_8 (Bat  (None, 16, 16, 1024)         4096      ['conv2d_8[0][0]']            \n",
      " chNormalization)                                                                                 \n",
      "                                                                                                  \n",
      " activation_8 (Activation)   (None, 16, 16, 1024)         0         ['batch_normalization_8[0][0]'\n",
      "                                                                    ]                             \n",
      "                                                                                                  \n",
      " conv2d_9 (Conv2D)           (None, 16, 16, 1024)         9438208   ['activation_8[0][0]']        \n",
      "                                                                                                  \n",
      " batch_normalization_9 (Bat  (None, 16, 16, 1024)         4096      ['conv2d_9[0][0]']            \n",
      " chNormalization)                                                                                 \n",
      "                                                                                                  \n",
      " activation_9 (Activation)   (None, 16, 16, 1024)         0         ['batch_normalization_9[0][0]'\n",
      "                                                                    ]                             \n",
      "                                                                                                  \n",
      " conv2d_transpose (Conv2DTr  (None, 32, 32, 512)          2097664   ['activation_9[0][0]']        \n",
      " anspose)                                                                                         \n",
      "                                                                                                  \n",
      " concatenate (Concatenate)   (None, 32, 32, 1024)         0         ['conv2d_transpose[0][0]',    \n",
      "                                                                     'activation_7[0][0]']        \n",
      "                                                                                                  \n",
      " conv2d_10 (Conv2D)          (None, 32, 32, 512)          4719104   ['concatenate[0][0]']         \n",
      "                                                                                                  \n",
      " batch_normalization_10 (Ba  (None, 32, 32, 512)          2048      ['conv2d_10[0][0]']           \n",
      " tchNormalization)                                                                                \n",
      "                                                                                                  \n",
      " activation_10 (Activation)  (None, 32, 32, 512)          0         ['batch_normalization_10[0][0]\n",
      "                                                                    ']                            \n",
      "                                                                                                  \n",
      " conv2d_11 (Conv2D)          (None, 32, 32, 512)          2359808   ['activation_10[0][0]']       \n",
      "                                                                                                  \n",
      " batch_normalization_11 (Ba  (None, 32, 32, 512)          2048      ['conv2d_11[0][0]']           \n",
      " tchNormalization)                                                                                \n",
      "                                                                                                  \n",
      " activation_11 (Activation)  (None, 32, 32, 512)          0         ['batch_normalization_11[0][0]\n",
      "                                                                    ']                            \n",
      "                                                                                                  \n",
      " conv2d_transpose_1 (Conv2D  (None, 64, 64, 256)          524544    ['activation_11[0][0]']       \n",
      " Transpose)                                                                                       \n",
      "                                                                                                  \n",
      " concatenate_1 (Concatenate  (None, 64, 64, 512)          0         ['conv2d_transpose_1[0][0]',  \n",
      " )                                                                   'activation_5[0][0]']        \n",
      "                                                                                                  \n",
      " conv2d_12 (Conv2D)          (None, 64, 64, 256)          1179904   ['concatenate_1[0][0]']       \n",
      "                                                                                                  \n",
      " batch_normalization_12 (Ba  (None, 64, 64, 256)          1024      ['conv2d_12[0][0]']           \n",
      " tchNormalization)                                                                                \n",
      "                                                                                                  \n",
      " activation_12 (Activation)  (None, 64, 64, 256)          0         ['batch_normalization_12[0][0]\n",
      "                                                                    ']                            \n",
      "                                                                                                  \n",
      " conv2d_13 (Conv2D)          (None, 64, 64, 256)          590080    ['activation_12[0][0]']       \n",
      "                                                                                                  \n",
      " batch_normalization_13 (Ba  (None, 64, 64, 256)          1024      ['conv2d_13[0][0]']           \n",
      " tchNormalization)                                                                                \n",
      "                                                                                                  \n",
      " activation_13 (Activation)  (None, 64, 64, 256)          0         ['batch_normalization_13[0][0]\n",
      "                                                                    ']                            \n",
      "                                                                                                  \n",
      " conv2d_transpose_2 (Conv2D  (None, 128, 128, 128)        131200    ['activation_13[0][0]']       \n",
      " Transpose)                                                                                       \n",
      "                                                                                                  \n",
      " concatenate_2 (Concatenate  (None, 128, 128, 256)        0         ['conv2d_transpose_2[0][0]',  \n",
      " )                                                                   'activation_3[0][0]']        \n",
      "                                                                                                  \n",
      " conv2d_14 (Conv2D)          (None, 128, 128, 128)        295040    ['concatenate_2[0][0]']       \n",
      "                                                                                                  \n",
      " batch_normalization_14 (Ba  (None, 128, 128, 128)        512       ['conv2d_14[0][0]']           \n",
      " tchNormalization)                                                                                \n",
      "                                                                                                  \n",
      " activation_14 (Activation)  (None, 128, 128, 128)        0         ['batch_normalization_14[0][0]\n",
      "                                                                    ']                            \n",
      "                                                                                                  \n",
      " conv2d_15 (Conv2D)          (None, 128, 128, 128)        147584    ['activation_14[0][0]']       \n",
      "                                                                                                  \n",
      " batch_normalization_15 (Ba  (None, 128, 128, 128)        512       ['conv2d_15[0][0]']           \n",
      " tchNormalization)                                                                                \n",
      "                                                                                                  \n",
      " activation_15 (Activation)  (None, 128, 128, 128)        0         ['batch_normalization_15[0][0]\n",
      "                                                                    ']                            \n",
      "                                                                                                  \n",
      " conv2d_transpose_3 (Conv2D  (None, 256, 256, 64)         32832     ['activation_15[0][0]']       \n",
      " Transpose)                                                                                       \n",
      "                                                                                                  \n",
      " concatenate_3 (Concatenate  (None, 256, 256, 128)        0         ['conv2d_transpose_3[0][0]',  \n",
      " )                                                                   'activation_1[0][0]']        \n",
      "                                                                                                  \n",
      " conv2d_16 (Conv2D)          (None, 256, 256, 64)         73792     ['concatenate_3[0][0]']       \n",
      "                                                                                                  \n",
      " batch_normalization_16 (Ba  (None, 256, 256, 64)         256       ['conv2d_16[0][0]']           \n",
      " tchNormalization)                                                                                \n",
      "                                                                                                  \n",
      " activation_16 (Activation)  (None, 256, 256, 64)         0         ['batch_normalization_16[0][0]\n",
      "                                                                    ']                            \n",
      "                                                                                                  \n",
      " conv2d_17 (Conv2D)          (None, 256, 256, 64)         36928     ['activation_16[0][0]']       \n",
      "                                                                                                  \n",
      " batch_normalization_17 (Ba  (None, 256, 256, 64)         256       ['conv2d_17[0][0]']           \n",
      " tchNormalization)                                                                                \n",
      "                                                                                                  \n",
      " activation_17 (Activation)  (None, 256, 256, 64)         0         ['batch_normalization_17[0][0]\n",
      "                                                                    ']                            \n",
      "                                                                                                  \n",
      " conv2d_18 (Conv2D)          (None, 256, 256, 1)          65        ['activation_17[0][0]']       \n",
      "                                                                                                  \n",
      "==================================================================================================\n",
      "Total params: 31055297 (118.47 MB)\n",
      "Trainable params: 31043521 (118.42 MB)\n",
      "Non-trainable params: 11776 (46.00 KB)\n",
      "__________________________________________________________________________________________________\n"
     ]
    }
   ],
   "source": [
    "if __name__ == \"__main__\":\n",
    "    input_shape = (256, 256, 3)\n",
    "    model = build_unet(input_shape)\n",
    "    model.summary()"
   ]
  },
  {
   "cell_type": "code",
   "execution_count": 19,
   "id": "f68c55f0-be07-4d13-9fcc-ae8bc18aa315",
   "metadata": {},
   "outputs": [],
   "source": [
    "smooth = 1e-15\n",
    "def dice_coef(y_true, y_pred):\n",
    "    y_true = Flatten()(y_true)\n",
    "    y_pred = Flatten()(y_pred)\n",
    "    intersection = tf.reduce_sum(y_true * y_pred)\n",
    "    return (2 * intersection + smooth) / (tf.reduce_sum(y_true) + tf.reduce_sum(y_pred) + smooth)"
   ]
  },
  {
   "cell_type": "code",
   "execution_count": 21,
   "id": "c72f8862-b022-4e1e-aed3-e4af91640455",
   "metadata": {},
   "outputs": [],
   "source": [
    "def dice_loss(y_true, y_pred):\n",
    "    return 1.0 - dice_coef(y_true, y_pred)"
   ]
  },
  {
   "cell_type": "code",
   "execution_count": 230,
   "id": "d75ab8ad-15bb-4cd7-b5ee-586bcc14adec",
   "metadata": {},
   "outputs": [],
   "source": [
    "def create_dir(path):\n",
    "    if not os.path.exists(path):\n",
    "        os.makedirs(path)"
   ]
  },
  {
   "cell_type": "code",
   "execution_count": 232,
   "id": "32382a74-618d-4795-906f-44a608cd7ee5",
   "metadata": {},
   "outputs": [],
   "source": [
    "def load_dataset(dataset, split=0.2):\n",
    "    images = sorted(glob(os.path.join(dataset, \"images\", \"*.png\")))\n",
    "    masks = sorted(glob(os.path.join(dataset, \"masks\", \"*.png\")))\n",
    "\n",
    "    split_size = int(len(images) * split)\n",
    "    X_train, X_validation = train_test_split(images, test_size=split_size, random_state=42)\n",
    "    y_train_mask, y_validation_mask = train_test_split(masks, test_size=split_size, random_state=42)\n",
    "\n",
    "    X_train, X_test = train_test_split(X_train, test_size=split_size, random_state=42)\n",
    "    y_train_mask, y_mask_test = train_test_split(y_train_mask, test_size=split_size, random_state=42)\n",
    "    \n",
    "    return (X_train, y_train_mask), (X_validation, y_validation_mask), (X_test, y_mask_test)"
   ]
  },
  {
   "cell_type": "code",
   "execution_count": 103,
   "id": "a3323673-bba0-4973-a081-3ca73fa71d05",
   "metadata": {},
   "outputs": [],
   "source": [
    "path = r\"E:\\python\\segmentation\\Computer Vision\\Computer Vision\\Segmentation project\""
   ]
  },
  {
   "cell_type": "code",
   "execution_count": 197,
   "id": "a21798fa-40a4-46ba-9a98-37d0cfe9fb97",
   "metadata": {},
   "outputs": [],
   "source": [
    "def read_images(path):\n",
    "    #path = tf.io.read_file(path)\n",
    "    path = path.decode()\n",
    "    x = cv2.imread(path, cv2.IMREAD_COLOR)\n",
    "    x = cv2.resize(x , (W, H))\n",
    "    x = x / 255.0\n",
    "    x = x.astype(np.float32)\n",
    "    return x"
   ]
  },
  {
   "cell_type": "code",
   "execution_count": 199,
   "id": "e156a85a-1e16-434e-9d50-e2b826592c75",
   "metadata": {},
   "outputs": [],
   "source": [
    "def read_mask(path):\n",
    "    #path = tf.io.read_file(path)\n",
    "    path = path.decode()\n",
    "    x = cv2.imread(path, cv2.IMREAD_GRAYSCALE)\n",
    "    x = cv2.resize(x , (W, H))\n",
    "    x = x / 255.0\n",
    "    x = x.astype(np.float32)\n",
    "    x = np.expand_dims(x, axis=-1)\n",
    "    return x"
   ]
  },
  {
   "cell_type": "code",
   "execution_count": 201,
   "id": "fa005d41-1d36-4c71-a498-fb9cd6488209",
   "metadata": {},
   "outputs": [],
   "source": [
    "def tf_parse(x, y):\n",
    "    def _parse(x, y):\n",
    "        x = read_images(x)\n",
    "        y = read_mask(y)\n",
    "        return x, y\n",
    "\n",
    "    x, y = tf.numpy_function(_parse, [x, y], [tf.float32, tf.float32])\n",
    "    x.set_shape([H, W, 3])\n",
    "    y.set_shape([H, W, 1])\n",
    "    return x, y"
   ]
  },
  {
   "cell_type": "code",
   "execution_count": 203,
   "id": "7aada305-3b8e-4757-aaeb-cfa3cad7a3f2",
   "metadata": {},
   "outputs": [],
   "source": [
    "def tf_dataset(X, y, batch=2):\n",
    "    dataset = tf.data.Dataset.from_tensor_slices((X, y))\n",
    "    dataset = dataset.map(tf_parse)\n",
    "    dataset = dataset.batch(batch)\n",
    "    dataset = dataset.prefetch(10)\n",
    "    return dataset"
   ]
  },
  {
   "cell_type": "code",
   "execution_count": 213,
   "id": "abd72333-330d-4bb5-a259-f70d890f955f",
   "metadata": {},
   "outputs": [
    {
     "name": "stdout",
     "output_type": "stream",
     "text": [
      "Train : 1840 - 1840\n",
      "Validation : 612 - 612\n",
      "Test : 612 - 612\n",
      "Epoch 1/10\n",
      "920/920 [==============================] - ETA: 0s - loss: 0.7326 - dice_coef: 0.2674\n",
      "Epoch 1: val_loss improved from inf to 0.58872, saving model to E:\\python\\segmentation\\Computer Vision\\Computer Vision\\Segmentation projectfilesbrain_tumor_model.h5\n"
     ]
    },
    {
     "name": "stderr",
     "output_type": "stream",
     "text": [
      "C:\\Users\\hamid\\anaconda3\\envs\\MachineLearning\\Lib\\site-packages\\keras\\src\\engine\\training.py:3103: UserWarning: You are saving your model as an HDF5 file via `model.save()`. This file format is considered legacy. We recommend using instead the native Keras format, e.g. `model.save('my_model.keras')`.\n",
      "  saving_api.save_model(\n"
     ]
    },
    {
     "name": "stdout",
     "output_type": "stream",
     "text": [
      "920/920 [==============================] - 1993s 2s/step - loss: 0.7326 - dice_coef: 0.2674 - val_loss: 0.5887 - val_dice_coef: 0.4113 - lr: 1.0000e-04\n",
      "Epoch 2/10\n",
      "920/920 [==============================] - ETA: 0s - loss: 0.5004 - dice_coef: 0.4996\n",
      "Epoch 2: val_loss improved from 0.58872 to 0.50470, saving model to E:\\python\\segmentation\\Computer Vision\\Computer Vision\\Segmentation projectfilesbrain_tumor_model.h5\n",
      "920/920 [==============================] - 1935s 2s/step - loss: 0.5004 - dice_coef: 0.4996 - val_loss: 0.5047 - val_dice_coef: 0.4953 - lr: 1.0000e-04\n",
      "Epoch 3/10\n",
      "920/920 [==============================] - ETA: 0s - loss: 0.4201 - dice_coef: 0.5799\n",
      "Epoch 3: val_loss improved from 0.50470 to 0.42285, saving model to E:\\python\\segmentation\\Computer Vision\\Computer Vision\\Segmentation projectfilesbrain_tumor_model.h5\n",
      "920/920 [==============================] - 1937s 2s/step - loss: 0.4201 - dice_coef: 0.5799 - val_loss: 0.4228 - val_dice_coef: 0.5772 - lr: 1.0000e-04\n",
      "Epoch 4/10\n",
      "920/920 [==============================] - ETA: 0s - loss: 0.3786 - dice_coef: 0.6214\n",
      "Epoch 4: val_loss improved from 0.42285 to 0.40532, saving model to E:\\python\\segmentation\\Computer Vision\\Computer Vision\\Segmentation projectfilesbrain_tumor_model.h5\n",
      "920/920 [==============================] - 1938s 2s/step - loss: 0.3786 - dice_coef: 0.6214 - val_loss: 0.4053 - val_dice_coef: 0.5947 - lr: 1.0000e-04\n",
      "Epoch 5/10\n",
      "920/920 [==============================] - ETA: 0s - loss: 0.3536 - dice_coef: 0.6464\n",
      "Epoch 5: val_loss improved from 0.40532 to 0.36267, saving model to E:\\python\\segmentation\\Computer Vision\\Computer Vision\\Segmentation projectfilesbrain_tumor_model.h5\n",
      "920/920 [==============================] - 1937s 2s/step - loss: 0.3536 - dice_coef: 0.6464 - val_loss: 0.3627 - val_dice_coef: 0.6373 - lr: 1.0000e-04\n",
      "Epoch 6/10\n",
      "920/920 [==============================] - ETA: 0s - loss: 0.3308 - dice_coef: 0.6692\n",
      "Epoch 6: val_loss improved from 0.36267 to 0.33590, saving model to E:\\python\\segmentation\\Computer Vision\\Computer Vision\\Segmentation projectfilesbrain_tumor_model.h5\n",
      "920/920 [==============================] - 1937s 2s/step - loss: 0.3308 - dice_coef: 0.6692 - val_loss: 0.3359 - val_dice_coef: 0.6641 - lr: 1.0000e-04\n",
      "Epoch 7/10\n",
      "920/920 [==============================] - ETA: 0s - loss: 0.3090 - dice_coef: 0.6910\n",
      "Epoch 7: val_loss improved from 0.33590 to 0.31067, saving model to E:\\python\\segmentation\\Computer Vision\\Computer Vision\\Segmentation projectfilesbrain_tumor_model.h5\n",
      "920/920 [==============================] - 1938s 2s/step - loss: 0.3090 - dice_coef: 0.6910 - val_loss: 0.3107 - val_dice_coef: 0.6893 - lr: 1.0000e-04\n",
      "Epoch 8/10\n",
      "920/920 [==============================] - ETA: 0s - loss: 0.2928 - dice_coef: 0.7072\n",
      "Epoch 8: val_loss did not improve from 0.31067\n",
      "920/920 [==============================] - 1937s 2s/step - loss: 0.2928 - dice_coef: 0.7072 - val_loss: 0.3386 - val_dice_coef: 0.6614 - lr: 1.0000e-04\n",
      "Epoch 9/10\n",
      "920/920 [==============================] - ETA: 0s - loss: 0.2902 - dice_coef: 0.7098\n",
      "Epoch 9: val_loss did not improve from 0.31067\n",
      "920/920 [==============================] - 1966s 2s/step - loss: 0.2902 - dice_coef: 0.7098 - val_loss: 0.3348 - val_dice_coef: 0.6652 - lr: 1.0000e-04\n",
      "Epoch 10/10\n",
      "920/920 [==============================] - ETA: 0s - loss: 0.2759 - dice_coef: 0.7241\n",
      "Epoch 10: val_loss improved from 0.31067 to 0.30775, saving model to E:\\python\\segmentation\\Computer Vision\\Computer Vision\\Segmentation projectfilesbrain_tumor_model.h5\n",
      "920/920 [==============================] - 1977s 2s/step - loss: 0.2759 - dice_coef: 0.7241 - val_loss: 0.3078 - val_dice_coef: 0.6922 - lr: 1.0000e-04\n"
     ]
    }
   ],
   "source": [
    "if __name__ == \"__main__\":\n",
    "    np.random.seed(42)\n",
    "    tf.random.set_seed(42)\n",
    "\n",
    "    creat_dir(path + \"/files\")\n",
    "    batch_size = 2\n",
    "    learning_rate = 1e-4\n",
    "    num_epochs = 10\n",
    "    model_path = os.path.join(path + \"files\" + \"brain_tumor_model.h5\")\n",
    "    csv_path = os.path.join(path + \"files\" + \"csv_log.csv\")\n",
    "    (X_train, y_train_mask), (X_validation, y_validation_mask), (X_test, y_mask_test) = load_dataset(dataset)\n",
    "\n",
    "    print(f\"Train : {len(X_train)} - {len(y_train_mask)}\")\n",
    "    print(f\"Validation : {len(X_validation)} - {len(y_validation_mask)}\")\n",
    "    print(f\"Test : {len(X_test)} - {len(y_mask_test)}\")\n",
    "\n",
    "    train_dataset = tf_dataset(X_train, y_train_mask, batch=batch_size)\n",
    "    validation_dataset = tf_dataset(X_validation, y_validation_mask, batch=batch_size)\n",
    "\n",
    "    #for x, y in train_dataset:\n",
    "        #print (x.shape, y.shape)\n",
    "    model = build_unet((H, W, 3))\n",
    "    model.compile(loss=dice_loss, optimizer=Adam(learning_rate=learning_rate), metrics=[dice_coef])\n",
    "    callbacks = [\n",
    "\n",
    "    ModelCheckpoint(model_path, verbose=1, save_best_only=True),\n",
    "    ReduceLROnPlateau(monitor=\"val_loss\", factor=0.1, patience=5, min_lr=1e-7, verbose=1),\n",
    "    CSVLogger(csv_path),\n",
    "    EarlyStopping(monitor=\"val_loss\", patience=20, restore_best_weights=False)\n",
    "    ]\n",
    "\n",
    "    model.fit(\n",
    "        train_dataset,\n",
    "        epochs=num_epochs,\n",
    "        validation_data=validation_dataset,\n",
    "        callbacks=callbacks\n",
    "    )"
   ]
  },
  {
   "cell_type": "code",
   "execution_count": 220,
   "id": "6db26536-3bc6-4fcd-93ed-d21831f199b7",
   "metadata": {},
   "outputs": [],
   "source": [
    "model.save(\"brain_tumor.h5\")"
   ]
  },
  {
   "cell_type": "code",
   "execution_count": 222,
   "id": "9df4bf77-b507-4235-8e5a-5d589a335251",
   "metadata": {},
   "outputs": [],
   "source": [
    "import pandas as pd\n",
    "from tqdm import tqdm\n",
    "from tensorflow.keras.utils import CustomObjectScope\n",
    "from sklearn.metrics import f1_score, jaccard_score, precision_score, recall_score"
   ]
  },
  {
   "cell_type": "code",
   "execution_count": 242,
   "id": "a6125c3c-5fee-43ad-84c6-30a197d6369d",
   "metadata": {},
   "outputs": [],
   "source": [
    "def save_results(image, mask, y_pred, save_image_path):\n",
    "    mask = np.expand_dims(mask, axis=-1)\n",
    "    mask = np.concatenate([mask, mask, mask], axis=-1)\n",
    "\n",
    "    y_pred = np.expand_dims(y_pred, axis=-1)\n",
    "    y_pred = np.concatenate([y_pred, y_pred, y_pred], axis=-1)\n",
    "    y_pred = y_pred * 255\n",
    "\n",
    "    line = np.ones((H, 10, 3)) * 255\n",
    "\n",
    "    #print(image.shape, mask.shape, y_pred.shape)\n",
    "    cat_images = np.concatenate([image, line, mask, y_pred], axis=1)\n",
    "    cv2.imwrite(save_image_path, cat_images)"
   ]
  },
  {
   "cell_type": "code",
   "execution_count": 254,
   "id": "7842e618-9028-499e-8fd5-bec98df1f11e",
   "metadata": {},
   "outputs": [
    {
     "name": "stdout",
     "output_type": "stream",
     "text": [
      "Model: \"UNET\"\n",
      "__________________________________________________________________________________________________\n",
      " Layer (type)                Output Shape                 Param #   Connected to                  \n",
      "==================================================================================================\n",
      " input_9 (InputLayer)        [(None, 256, 256, 3)]        0         []                            \n",
      "                                                                                                  \n",
      " conv2d_152 (Conv2D)         (None, 256, 256, 64)         1792      ['input_9[0][0]']             \n",
      "                                                                                                  \n",
      " batch_normalization_144 (B  (None, 256, 256, 64)         256       ['conv2d_152[0][0]']          \n",
      " atchNormalization)                                                                               \n",
      "                                                                                                  \n",
      " activation_144 (Activation  (None, 256, 256, 64)         0         ['batch_normalization_144[0][0\n",
      " )                                                                  ]']                           \n",
      "                                                                                                  \n",
      " conv2d_153 (Conv2D)         (None, 256, 256, 64)         36928     ['activation_144[0][0]']      \n",
      "                                                                                                  \n",
      " batch_normalization_145 (B  (None, 256, 256, 64)         256       ['conv2d_153[0][0]']          \n",
      " atchNormalization)                                                                               \n",
      "                                                                                                  \n",
      " activation_145 (Activation  (None, 256, 256, 64)         0         ['batch_normalization_145[0][0\n",
      " )                                                                  ]']                           \n",
      "                                                                                                  \n",
      " max_pooling2d_32 (MaxPooli  (None, 128, 128, 64)         0         ['activation_145[0][0]']      \n",
      " ng2D)                                                                                            \n",
      "                                                                                                  \n",
      " conv2d_154 (Conv2D)         (None, 128, 128, 128)        73856     ['max_pooling2d_32[0][0]']    \n",
      "                                                                                                  \n",
      " batch_normalization_146 (B  (None, 128, 128, 128)        512       ['conv2d_154[0][0]']          \n",
      " atchNormalization)                                                                               \n",
      "                                                                                                  \n",
      " activation_146 (Activation  (None, 128, 128, 128)        0         ['batch_normalization_146[0][0\n",
      " )                                                                  ]']                           \n",
      "                                                                                                  \n",
      " conv2d_155 (Conv2D)         (None, 128, 128, 128)        147584    ['activation_146[0][0]']      \n",
      "                                                                                                  \n",
      " batch_normalization_147 (B  (None, 128, 128, 128)        512       ['conv2d_155[0][0]']          \n",
      " atchNormalization)                                                                               \n",
      "                                                                                                  \n",
      " activation_147 (Activation  (None, 128, 128, 128)        0         ['batch_normalization_147[0][0\n",
      " )                                                                  ]']                           \n",
      "                                                                                                  \n",
      " max_pooling2d_33 (MaxPooli  (None, 64, 64, 128)          0         ['activation_147[0][0]']      \n",
      " ng2D)                                                                                            \n",
      "                                                                                                  \n",
      " conv2d_156 (Conv2D)         (None, 64, 64, 256)          295168    ['max_pooling2d_33[0][0]']    \n",
      "                                                                                                  \n",
      " batch_normalization_148 (B  (None, 64, 64, 256)          1024      ['conv2d_156[0][0]']          \n",
      " atchNormalization)                                                                               \n",
      "                                                                                                  \n",
      " activation_148 (Activation  (None, 64, 64, 256)          0         ['batch_normalization_148[0][0\n",
      " )                                                                  ]']                           \n",
      "                                                                                                  \n",
      " conv2d_157 (Conv2D)         (None, 64, 64, 256)          590080    ['activation_148[0][0]']      \n",
      "                                                                                                  \n",
      " batch_normalization_149 (B  (None, 64, 64, 256)          1024      ['conv2d_157[0][0]']          \n",
      " atchNormalization)                                                                               \n",
      "                                                                                                  \n",
      " activation_149 (Activation  (None, 64, 64, 256)          0         ['batch_normalization_149[0][0\n",
      " )                                                                  ]']                           \n",
      "                                                                                                  \n",
      " max_pooling2d_34 (MaxPooli  (None, 32, 32, 256)          0         ['activation_149[0][0]']      \n",
      " ng2D)                                                                                            \n",
      "                                                                                                  \n",
      " conv2d_158 (Conv2D)         (None, 32, 32, 512)          1180160   ['max_pooling2d_34[0][0]']    \n",
      "                                                                                                  \n",
      " batch_normalization_150 (B  (None, 32, 32, 512)          2048      ['conv2d_158[0][0]']          \n",
      " atchNormalization)                                                                               \n",
      "                                                                                                  \n",
      " activation_150 (Activation  (None, 32, 32, 512)          0         ['batch_normalization_150[0][0\n",
      " )                                                                  ]']                           \n",
      "                                                                                                  \n",
      " conv2d_159 (Conv2D)         (None, 32, 32, 512)          2359808   ['activation_150[0][0]']      \n",
      "                                                                                                  \n",
      " batch_normalization_151 (B  (None, 32, 32, 512)          2048      ['conv2d_159[0][0]']          \n",
      " atchNormalization)                                                                               \n",
      "                                                                                                  \n",
      " activation_151 (Activation  (None, 32, 32, 512)          0         ['batch_normalization_151[0][0\n",
      " )                                                                  ]']                           \n",
      "                                                                                                  \n",
      " max_pooling2d_35 (MaxPooli  (None, 16, 16, 512)          0         ['activation_151[0][0]']      \n",
      " ng2D)                                                                                            \n",
      "                                                                                                  \n",
      " conv2d_160 (Conv2D)         (None, 16, 16, 1024)         4719616   ['max_pooling2d_35[0][0]']    \n",
      "                                                                                                  \n",
      " batch_normalization_152 (B  (None, 16, 16, 1024)         4096      ['conv2d_160[0][0]']          \n",
      " atchNormalization)                                                                               \n",
      "                                                                                                  \n",
      " activation_152 (Activation  (None, 16, 16, 1024)         0         ['batch_normalization_152[0][0\n",
      " )                                                                  ]']                           \n",
      "                                                                                                  \n",
      " conv2d_161 (Conv2D)         (None, 16, 16, 1024)         9438208   ['activation_152[0][0]']      \n",
      "                                                                                                  \n",
      " batch_normalization_153 (B  (None, 16, 16, 1024)         4096      ['conv2d_161[0][0]']          \n",
      " atchNormalization)                                                                               \n",
      "                                                                                                  \n",
      " activation_153 (Activation  (None, 16, 16, 1024)         0         ['batch_normalization_153[0][0\n",
      " )                                                                  ]']                           \n",
      "                                                                                                  \n",
      " conv2d_transpose_32 (Conv2  (None, 32, 32, 512)          2097664   ['activation_153[0][0]']      \n",
      " DTranspose)                                                                                      \n",
      "                                                                                                  \n",
      " concatenate_32 (Concatenat  (None, 32, 32, 1024)         0         ['conv2d_transpose_32[0][0]', \n",
      " e)                                                                  'activation_151[0][0]']      \n",
      "                                                                                                  \n",
      " conv2d_162 (Conv2D)         (None, 32, 32, 512)          4719104   ['concatenate_32[0][0]']      \n",
      "                                                                                                  \n",
      " batch_normalization_154 (B  (None, 32, 32, 512)          2048      ['conv2d_162[0][0]']          \n",
      " atchNormalization)                                                                               \n",
      "                                                                                                  \n",
      " activation_154 (Activation  (None, 32, 32, 512)          0         ['batch_normalization_154[0][0\n",
      " )                                                                  ]']                           \n",
      "                                                                                                  \n",
      " conv2d_163 (Conv2D)         (None, 32, 32, 512)          2359808   ['activation_154[0][0]']      \n",
      "                                                                                                  \n",
      " batch_normalization_155 (B  (None, 32, 32, 512)          2048      ['conv2d_163[0][0]']          \n",
      " atchNormalization)                                                                               \n",
      "                                                                                                  \n",
      " activation_155 (Activation  (None, 32, 32, 512)          0         ['batch_normalization_155[0][0\n",
      " )                                                                  ]']                           \n",
      "                                                                                                  \n",
      " conv2d_transpose_33 (Conv2  (None, 64, 64, 256)          524544    ['activation_155[0][0]']      \n",
      " DTranspose)                                                                                      \n",
      "                                                                                                  \n",
      " concatenate_33 (Concatenat  (None, 64, 64, 512)          0         ['conv2d_transpose_33[0][0]', \n",
      " e)                                                                  'activation_149[0][0]']      \n",
      "                                                                                                  \n",
      " conv2d_164 (Conv2D)         (None, 64, 64, 256)          1179904   ['concatenate_33[0][0]']      \n",
      "                                                                                                  \n",
      " batch_normalization_156 (B  (None, 64, 64, 256)          1024      ['conv2d_164[0][0]']          \n",
      " atchNormalization)                                                                               \n",
      "                                                                                                  \n",
      " activation_156 (Activation  (None, 64, 64, 256)          0         ['batch_normalization_156[0][0\n",
      " )                                                                  ]']                           \n",
      "                                                                                                  \n",
      " conv2d_165 (Conv2D)         (None, 64, 64, 256)          590080    ['activation_156[0][0]']      \n",
      "                                                                                                  \n",
      " batch_normalization_157 (B  (None, 64, 64, 256)          1024      ['conv2d_165[0][0]']          \n",
      " atchNormalization)                                                                               \n",
      "                                                                                                  \n",
      " activation_157 (Activation  (None, 64, 64, 256)          0         ['batch_normalization_157[0][0\n",
      " )                                                                  ]']                           \n",
      "                                                                                                  \n",
      " conv2d_transpose_34 (Conv2  (None, 128, 128, 128)        131200    ['activation_157[0][0]']      \n",
      " DTranspose)                                                                                      \n",
      "                                                                                                  \n",
      " concatenate_34 (Concatenat  (None, 128, 128, 256)        0         ['conv2d_transpose_34[0][0]', \n",
      " e)                                                                  'activation_147[0][0]']      \n",
      "                                                                                                  \n",
      " conv2d_166 (Conv2D)         (None, 128, 128, 128)        295040    ['concatenate_34[0][0]']      \n",
      "                                                                                                  \n",
      " batch_normalization_158 (B  (None, 128, 128, 128)        512       ['conv2d_166[0][0]']          \n",
      " atchNormalization)                                                                               \n",
      "                                                                                                  \n",
      " activation_158 (Activation  (None, 128, 128, 128)        0         ['batch_normalization_158[0][0\n",
      " )                                                                  ]']                           \n",
      "                                                                                                  \n",
      " conv2d_167 (Conv2D)         (None, 128, 128, 128)        147584    ['activation_158[0][0]']      \n",
      "                                                                                                  \n",
      " batch_normalization_159 (B  (None, 128, 128, 128)        512       ['conv2d_167[0][0]']          \n",
      " atchNormalization)                                                                               \n",
      "                                                                                                  \n",
      " activation_159 (Activation  (None, 128, 128, 128)        0         ['batch_normalization_159[0][0\n",
      " )                                                                  ]']                           \n",
      "                                                                                                  \n",
      " conv2d_transpose_35 (Conv2  (None, 256, 256, 64)         32832     ['activation_159[0][0]']      \n",
      " DTranspose)                                                                                      \n",
      "                                                                                                  \n",
      " concatenate_35 (Concatenat  (None, 256, 256, 128)        0         ['conv2d_transpose_35[0][0]', \n",
      " e)                                                                  'activation_145[0][0]']      \n",
      "                                                                                                  \n",
      " conv2d_168 (Conv2D)         (None, 256, 256, 64)         73792     ['concatenate_35[0][0]']      \n",
      "                                                                                                  \n",
      " batch_normalization_160 (B  (None, 256, 256, 64)         256       ['conv2d_168[0][0]']          \n",
      " atchNormalization)                                                                               \n",
      "                                                                                                  \n",
      " activation_160 (Activation  (None, 256, 256, 64)         0         ['batch_normalization_160[0][0\n",
      " )                                                                  ]']                           \n",
      "                                                                                                  \n",
      " conv2d_169 (Conv2D)         (None, 256, 256, 64)         36928     ['activation_160[0][0]']      \n",
      "                                                                                                  \n",
      " batch_normalization_161 (B  (None, 256, 256, 64)         256       ['conv2d_169[0][0]']          \n",
      " atchNormalization)                                                                               \n",
      "                                                                                                  \n",
      " activation_161 (Activation  (None, 256, 256, 64)         0         ['batch_normalization_161[0][0\n",
      " )                                                                  ]']                           \n",
      "                                                                                                  \n",
      " conv2d_170 (Conv2D)         (None, 256, 256, 1)          65        ['activation_161[0][0]']      \n",
      "                                                                                                  \n",
      "==================================================================================================\n",
      "Total params: 31055297 (118.47 MB)\n",
      "Trainable params: 31043521 (118.42 MB)\n",
      "Non-trainable params: 11776 (46.00 KB)\n",
      "__________________________________________________________________________________________________\n"
     ]
    },
    {
     "name": "stderr",
     "output_type": "stream",
     "text": [
      "  0%|                                                                                          | 0/612 [00:00<?, ?it/s]"
     ]
    },
    {
     "name": "stdout",
     "output_type": "stream",
     "text": [
      "E:\\python\\segmentation\\Computer Vision\\Computer Vision\\Data\\braintomurarchive\\images\\833.png\n"
     ]
    },
    {
     "name": "stderr",
     "output_type": "stream",
     "text": [
      "  0%|▏                                                                                 | 1/612 [00:03<38:51,  3.82s/it]"
     ]
    },
    {
     "name": "stdout",
     "output_type": "stream",
     "text": [
      "E:\\python\\segmentation\\Computer Vision\\Computer Vision\\Data\\braintomurarchive\\images\\2069.png\n"
     ]
    },
    {
     "name": "stderr",
     "output_type": "stream",
     "text": [
      "  0%|▎                                                                                 | 2/612 [00:04<19:43,  1.94s/it]"
     ]
    },
    {
     "name": "stdout",
     "output_type": "stream",
     "text": [
      "E:\\python\\segmentation\\Computer Vision\\Computer Vision\\Data\\braintomurarchive\\images\\3038.png\n"
     ]
    },
    {
     "name": "stderr",
     "output_type": "stream",
     "text": [
      "  0%|▍                                                                                 | 3/612 [00:05<13:39,  1.35s/it]"
     ]
    },
    {
     "name": "stdout",
     "output_type": "stream",
     "text": [
      "E:\\python\\segmentation\\Computer Vision\\Computer Vision\\Data\\braintomurarchive\\images\\1169.png\n"
     ]
    },
    {
     "name": "stderr",
     "output_type": "stream",
     "text": [
      "  1%|▌                                                                                 | 4/612 [00:05<11:12,  1.11s/it]"
     ]
    },
    {
     "name": "stdout",
     "output_type": "stream",
     "text": [
      "E:\\python\\segmentation\\Computer Vision\\Computer Vision\\Data\\braintomurarchive\\images\\501.png\n"
     ]
    },
    {
     "name": "stderr",
     "output_type": "stream",
     "text": [
      "  1%|▋                                                                                 | 5/612 [00:06<09:22,  1.08it/s]"
     ]
    },
    {
     "name": "stdout",
     "output_type": "stream",
     "text": [
      "E:\\python\\segmentation\\Computer Vision\\Computer Vision\\Data\\braintomurarchive\\images\\31.png\n"
     ]
    },
    {
     "name": "stderr",
     "output_type": "stream",
     "text": [
      "  1%|▊                                                                                 | 6/612 [00:07<08:31,  1.19it/s]"
     ]
    },
    {
     "name": "stdout",
     "output_type": "stream",
     "text": [
      "E:\\python\\segmentation\\Computer Vision\\Computer Vision\\Data\\braintomurarchive\\images\\2242.png\n"
     ]
    },
    {
     "name": "stderr",
     "output_type": "stream",
     "text": [
      "  1%|▉                                                                                 | 7/612 [00:07<07:46,  1.30it/s]"
     ]
    },
    {
     "name": "stdout",
     "output_type": "stream",
     "text": [
      "E:\\python\\segmentation\\Computer Vision\\Computer Vision\\Data\\braintomurarchive\\images\\1014.png\n"
     ]
    },
    {
     "name": "stderr",
     "output_type": "stream",
     "text": [
      "  1%|█                                                                                 | 8/612 [00:08<07:22,  1.36it/s]"
     ]
    },
    {
     "name": "stdout",
     "output_type": "stream",
     "text": [
      "E:\\python\\segmentation\\Computer Vision\\Computer Vision\\Data\\braintomurarchive\\images\\1322.png\n"
     ]
    },
    {
     "name": "stderr",
     "output_type": "stream",
     "text": [
      "  1%|█▏                                                                                | 9/612 [00:09<07:04,  1.42it/s]"
     ]
    },
    {
     "name": "stdout",
     "output_type": "stream",
     "text": [
      "E:\\python\\segmentation\\Computer Vision\\Computer Vision\\Data\\braintomurarchive\\images\\1779.png\n"
     ]
    },
    {
     "name": "stderr",
     "output_type": "stream",
     "text": [
      "  2%|█▎                                                                               | 10/612 [00:09<06:46,  1.48it/s]"
     ]
    },
    {
     "name": "stdout",
     "output_type": "stream",
     "text": [
      "E:\\python\\segmentation\\Computer Vision\\Computer Vision\\Data\\braintomurarchive\\images\\1217.png\n"
     ]
    },
    {
     "name": "stderr",
     "output_type": "stream",
     "text": [
      "  2%|█▍                                                                               | 11/612 [00:10<06:34,  1.53it/s]"
     ]
    },
    {
     "name": "stdout",
     "output_type": "stream",
     "text": [
      "E:\\python\\segmentation\\Computer Vision\\Computer Vision\\Data\\braintomurarchive\\images\\1956.png\n"
     ]
    },
    {
     "name": "stderr",
     "output_type": "stream",
     "text": [
      "  2%|█▌                                                                               | 12/612 [00:10<06:22,  1.57it/s]"
     ]
    },
    {
     "name": "stdout",
     "output_type": "stream",
     "text": [
      "E:\\python\\segmentation\\Computer Vision\\Computer Vision\\Data\\braintomurarchive\\images\\108.png\n"
     ]
    },
    {
     "name": "stderr",
     "output_type": "stream",
     "text": [
      "  2%|█▋                                                                               | 13/612 [00:11<06:20,  1.58it/s]"
     ]
    },
    {
     "name": "stdout",
     "output_type": "stream",
     "text": [
      "E:\\python\\segmentation\\Computer Vision\\Computer Vision\\Data\\braintomurarchive\\images\\1258.png\n"
     ]
    },
    {
     "name": "stderr",
     "output_type": "stream",
     "text": [
      "  2%|█▊                                                                               | 14/612 [00:12<06:21,  1.57it/s]"
     ]
    },
    {
     "name": "stdout",
     "output_type": "stream",
     "text": [
      "E:\\python\\segmentation\\Computer Vision\\Computer Vision\\Data\\braintomurarchive\\images\\571.png\n"
     ]
    },
    {
     "name": "stderr",
     "output_type": "stream",
     "text": [
      "  2%|█▉                                                                               | 15/612 [00:12<06:24,  1.55it/s]"
     ]
    },
    {
     "name": "stdout",
     "output_type": "stream",
     "text": [
      "E:\\python\\segmentation\\Computer Vision\\Computer Vision\\Data\\braintomurarchive\\images\\1888.png\n"
     ]
    },
    {
     "name": "stderr",
     "output_type": "stream",
     "text": [
      "  3%|██                                                                               | 16/612 [00:13<06:18,  1.58it/s]"
     ]
    },
    {
     "name": "stdout",
     "output_type": "stream",
     "text": [
      "E:\\python\\segmentation\\Computer Vision\\Computer Vision\\Data\\braintomurarchive\\images\\35.png\n"
     ]
    },
    {
     "name": "stderr",
     "output_type": "stream",
     "text": [
      "  3%|██▎                                                                              | 17/612 [00:14<06:23,  1.55it/s]"
     ]
    },
    {
     "name": "stdout",
     "output_type": "stream",
     "text": [
      "E:\\python\\segmentation\\Computer Vision\\Computer Vision\\Data\\braintomurarchive\\images\\2162.png\n"
     ]
    },
    {
     "name": "stderr",
     "output_type": "stream",
     "text": [
      "  3%|██▍                                                                              | 18/612 [00:14<06:17,  1.57it/s]"
     ]
    },
    {
     "name": "stdout",
     "output_type": "stream",
     "text": [
      "E:\\python\\segmentation\\Computer Vision\\Computer Vision\\Data\\braintomurarchive\\images\\2582.png\n"
     ]
    },
    {
     "name": "stderr",
     "output_type": "stream",
     "text": [
      "  3%|██▌                                                                              | 19/612 [00:15<06:13,  1.59it/s]"
     ]
    },
    {
     "name": "stdout",
     "output_type": "stream",
     "text": [
      "E:\\python\\segmentation\\Computer Vision\\Computer Vision\\Data\\braintomurarchive\\images\\1279.png\n"
     ]
    },
    {
     "name": "stderr",
     "output_type": "stream",
     "text": [
      "  3%|██▋                                                                              | 20/612 [00:15<06:18,  1.57it/s]"
     ]
    },
    {
     "name": "stdout",
     "output_type": "stream",
     "text": [
      "E:\\python\\segmentation\\Computer Vision\\Computer Vision\\Data\\braintomurarchive\\images\\749.png\n"
     ]
    },
    {
     "name": "stderr",
     "output_type": "stream",
     "text": [
      "  3%|██▊                                                                              | 21/612 [00:16<06:10,  1.59it/s]"
     ]
    },
    {
     "name": "stdout",
     "output_type": "stream",
     "text": [
      "E:\\python\\segmentation\\Computer Vision\\Computer Vision\\Data\\braintomurarchive\\images\\2122.png\n"
     ]
    },
    {
     "name": "stderr",
     "output_type": "stream",
     "text": [
      "  4%|██▉                                                                              | 22/612 [00:17<06:08,  1.60it/s]"
     ]
    },
    {
     "name": "stdout",
     "output_type": "stream",
     "text": [
      "E:\\python\\segmentation\\Computer Vision\\Computer Vision\\Data\\braintomurarchive\\images\\2928.png\n"
     ]
    },
    {
     "name": "stderr",
     "output_type": "stream",
     "text": [
      "  4%|███                                                                              | 23/612 [00:17<06:09,  1.60it/s]"
     ]
    },
    {
     "name": "stdout",
     "output_type": "stream",
     "text": [
      "E:\\python\\segmentation\\Computer Vision\\Computer Vision\\Data\\braintomurarchive\\images\\74.png\n"
     ]
    },
    {
     "name": "stderr",
     "output_type": "stream",
     "text": [
      "  4%|███▏                                                                             | 24/612 [00:18<06:08,  1.60it/s]"
     ]
    },
    {
     "name": "stdout",
     "output_type": "stream",
     "text": [
      "E:\\python\\segmentation\\Computer Vision\\Computer Vision\\Data\\braintomurarchive\\images\\788.png\n"
     ]
    },
    {
     "name": "stderr",
     "output_type": "stream",
     "text": [
      "  4%|███▎                                                                             | 25/612 [00:19<06:09,  1.59it/s]"
     ]
    },
    {
     "name": "stdout",
     "output_type": "stream",
     "text": [
      "E:\\python\\segmentation\\Computer Vision\\Computer Vision\\Data\\braintomurarchive\\images\\707.png\n"
     ]
    },
    {
     "name": "stderr",
     "output_type": "stream",
     "text": [
      "  4%|███▍                                                                             | 26/612 [00:19<06:13,  1.57it/s]"
     ]
    },
    {
     "name": "stdout",
     "output_type": "stream",
     "text": [
      "E:\\python\\segmentation\\Computer Vision\\Computer Vision\\Data\\braintomurarchive\\images\\1678.png\n"
     ]
    },
    {
     "name": "stderr",
     "output_type": "stream",
     "text": [
      "  4%|███▌                                                                             | 27/612 [00:20<06:08,  1.59it/s]"
     ]
    },
    {
     "name": "stdout",
     "output_type": "stream",
     "text": [
      "E:\\python\\segmentation\\Computer Vision\\Computer Vision\\Data\\braintomurarchive\\images\\909.png\n"
     ]
    },
    {
     "name": "stderr",
     "output_type": "stream",
     "text": [
      "  5%|███▋                                                                             | 28/612 [00:20<06:05,  1.60it/s]"
     ]
    },
    {
     "name": "stdout",
     "output_type": "stream",
     "text": [
      "E:\\python\\segmentation\\Computer Vision\\Computer Vision\\Data\\braintomurarchive\\images\\218.png\n"
     ]
    },
    {
     "name": "stderr",
     "output_type": "stream",
     "text": [
      "  5%|███▊                                                                             | 29/612 [00:21<06:09,  1.58it/s]"
     ]
    },
    {
     "name": "stdout",
     "output_type": "stream",
     "text": [
      "E:\\python\\segmentation\\Computer Vision\\Computer Vision\\Data\\braintomurarchive\\images\\2046.png\n"
     ]
    },
    {
     "name": "stderr",
     "output_type": "stream",
     "text": [
      "  5%|███▉                                                                             | 30/612 [00:22<06:03,  1.60it/s]"
     ]
    },
    {
     "name": "stdout",
     "output_type": "stream",
     "text": [
      "E:\\python\\segmentation\\Computer Vision\\Computer Vision\\Data\\braintomurarchive\\images\\3.png\n"
     ]
    },
    {
     "name": "stderr",
     "output_type": "stream",
     "text": [
      "  5%|████                                                                             | 31/612 [00:22<06:06,  1.58it/s]"
     ]
    },
    {
     "name": "stdout",
     "output_type": "stream",
     "text": [
      "E:\\python\\segmentation\\Computer Vision\\Computer Vision\\Data\\braintomurarchive\\images\\1270.png\n"
     ]
    },
    {
     "name": "stderr",
     "output_type": "stream",
     "text": [
      "  5%|████▏                                                                            | 32/612 [00:23<06:07,  1.58it/s]"
     ]
    },
    {
     "name": "stdout",
     "output_type": "stream",
     "text": [
      "E:\\python\\segmentation\\Computer Vision\\Computer Vision\\Data\\braintomurarchive\\images\\573.png\n"
     ]
    },
    {
     "name": "stderr",
     "output_type": "stream",
     "text": [
      "  5%|████▎                                                                            | 33/612 [00:24<06:00,  1.61it/s]"
     ]
    },
    {
     "name": "stdout",
     "output_type": "stream",
     "text": [
      "E:\\python\\segmentation\\Computer Vision\\Computer Vision\\Data\\braintomurarchive\\images\\861.png\n"
     ]
    },
    {
     "name": "stderr",
     "output_type": "stream",
     "text": [
      "  6%|████▌                                                                            | 34/612 [00:24<05:55,  1.62it/s]"
     ]
    },
    {
     "name": "stdout",
     "output_type": "stream",
     "text": [
      "E:\\python\\segmentation\\Computer Vision\\Computer Vision\\Data\\braintomurarchive\\images\\2463.png\n"
     ]
    },
    {
     "name": "stderr",
     "output_type": "stream",
     "text": [
      "  6%|████▋                                                                            | 35/612 [00:25<05:56,  1.62it/s]"
     ]
    },
    {
     "name": "stdout",
     "output_type": "stream",
     "text": [
      "E:\\python\\segmentation\\Computer Vision\\Computer Vision\\Data\\braintomurarchive\\images\\1326.png\n"
     ]
    },
    {
     "name": "stderr",
     "output_type": "stream",
     "text": [
      "  6%|████▊                                                                            | 36/612 [00:25<05:55,  1.62it/s]"
     ]
    },
    {
     "name": "stdout",
     "output_type": "stream",
     "text": [
      "E:\\python\\segmentation\\Computer Vision\\Computer Vision\\Data\\braintomurarchive\\images\\528.png\n"
     ]
    },
    {
     "name": "stderr",
     "output_type": "stream",
     "text": [
      "  6%|████▉                                                                            | 37/612 [00:26<05:58,  1.60it/s]"
     ]
    },
    {
     "name": "stdout",
     "output_type": "stream",
     "text": [
      "E:\\python\\segmentation\\Computer Vision\\Computer Vision\\Data\\braintomurarchive\\images\\461.png\n"
     ]
    },
    {
     "name": "stderr",
     "output_type": "stream",
     "text": [
      "  6%|█████                                                                            | 38/612 [00:27<06:02,  1.58it/s]"
     ]
    },
    {
     "name": "stdout",
     "output_type": "stream",
     "text": [
      "E:\\python\\segmentation\\Computer Vision\\Computer Vision\\Data\\braintomurarchive\\images\\803.png\n"
     ]
    },
    {
     "name": "stderr",
     "output_type": "stream",
     "text": [
      "  6%|█████▏                                                                           | 39/612 [00:27<05:59,  1.59it/s]"
     ]
    },
    {
     "name": "stdout",
     "output_type": "stream",
     "text": [
      "E:\\python\\segmentation\\Computer Vision\\Computer Vision\\Data\\braintomurarchive\\images\\1392.png\n"
     ]
    },
    {
     "name": "stderr",
     "output_type": "stream",
     "text": [
      "  7%|█████▎                                                                           | 40/612 [00:28<05:58,  1.60it/s]"
     ]
    },
    {
     "name": "stdout",
     "output_type": "stream",
     "text": [
      "E:\\python\\segmentation\\Computer Vision\\Computer Vision\\Data\\braintomurarchive\\images\\298.png\n"
     ]
    },
    {
     "name": "stderr",
     "output_type": "stream",
     "text": [
      "  7%|█████▍                                                                           | 41/612 [00:29<05:57,  1.60it/s]"
     ]
    },
    {
     "name": "stdout",
     "output_type": "stream",
     "text": [
      "E:\\python\\segmentation\\Computer Vision\\Computer Vision\\Data\\braintomurarchive\\images\\3005.png\n"
     ]
    },
    {
     "name": "stderr",
     "output_type": "stream",
     "text": [
      "  7%|█████▌                                                                           | 42/612 [00:29<06:03,  1.57it/s]"
     ]
    },
    {
     "name": "stdout",
     "output_type": "stream",
     "text": [
      "E:\\python\\segmentation\\Computer Vision\\Computer Vision\\Data\\braintomurarchive\\images\\1239.png\n"
     ]
    },
    {
     "name": "stderr",
     "output_type": "stream",
     "text": [
      "  7%|█████▋                                                                           | 43/612 [00:30<05:58,  1.59it/s]"
     ]
    },
    {
     "name": "stdout",
     "output_type": "stream",
     "text": [
      "E:\\python\\segmentation\\Computer Vision\\Computer Vision\\Data\\braintomurarchive\\images\\2839.png\n"
     ]
    },
    {
     "name": "stderr",
     "output_type": "stream",
     "text": [
      "  7%|█████▊                                                                           | 44/612 [00:31<06:02,  1.57it/s]"
     ]
    },
    {
     "name": "stdout",
     "output_type": "stream",
     "text": [
      "E:\\python\\segmentation\\Computer Vision\\Computer Vision\\Data\\braintomurarchive\\images\\2605.png\n"
     ]
    },
    {
     "name": "stderr",
     "output_type": "stream",
     "text": [
      "  7%|█████▉                                                                           | 45/612 [00:31<05:58,  1.58it/s]"
     ]
    },
    {
     "name": "stdout",
     "output_type": "stream",
     "text": [
      "E:\\python\\segmentation\\Computer Vision\\Computer Vision\\Data\\braintomurarchive\\images\\1529.png\n"
     ]
    },
    {
     "name": "stderr",
     "output_type": "stream",
     "text": [
      "  8%|██████                                                                           | 46/612 [00:32<05:53,  1.60it/s]"
     ]
    },
    {
     "name": "stdout",
     "output_type": "stream",
     "text": [
      "E:\\python\\segmentation\\Computer Vision\\Computer Vision\\Data\\braintomurarchive\\images\\574.png\n"
     ]
    },
    {
     "name": "stderr",
     "output_type": "stream",
     "text": [
      "  8%|██████▏                                                                          | 47/612 [00:32<05:55,  1.59it/s]"
     ]
    },
    {
     "name": "stdout",
     "output_type": "stream",
     "text": [
      "E:\\python\\segmentation\\Computer Vision\\Computer Vision\\Data\\braintomurarchive\\images\\2574.png\n"
     ]
    },
    {
     "name": "stderr",
     "output_type": "stream",
     "text": [
      "  8%|██████▎                                                                          | 48/612 [00:33<05:50,  1.61it/s]"
     ]
    },
    {
     "name": "stdout",
     "output_type": "stream",
     "text": [
      "E:\\python\\segmentation\\Computer Vision\\Computer Vision\\Data\\braintomurarchive\\images\\1702.png\n"
     ]
    },
    {
     "name": "stderr",
     "output_type": "stream",
     "text": [
      "  8%|██████▍                                                                          | 49/612 [00:34<05:50,  1.61it/s]"
     ]
    },
    {
     "name": "stdout",
     "output_type": "stream",
     "text": [
      "E:\\python\\segmentation\\Computer Vision\\Computer Vision\\Data\\braintomurarchive\\images\\1732.png\n"
     ]
    },
    {
     "name": "stderr",
     "output_type": "stream",
     "text": [
      "  8%|██████▌                                                                          | 50/612 [00:34<05:53,  1.59it/s]"
     ]
    },
    {
     "name": "stdout",
     "output_type": "stream",
     "text": [
      "E:\\python\\segmentation\\Computer Vision\\Computer Vision\\Data\\braintomurarchive\\images\\1266.png\n"
     ]
    },
    {
     "name": "stderr",
     "output_type": "stream",
     "text": [
      "  8%|██████▊                                                                          | 51/612 [00:35<05:51,  1.60it/s]"
     ]
    },
    {
     "name": "stdout",
     "output_type": "stream",
     "text": [
      "E:\\python\\segmentation\\Computer Vision\\Computer Vision\\Data\\braintomurarchive\\images\\1808.png\n"
     ]
    },
    {
     "name": "stderr",
     "output_type": "stream",
     "text": [
      "  8%|██████▉                                                                          | 52/612 [00:35<05:49,  1.60it/s]"
     ]
    },
    {
     "name": "stdout",
     "output_type": "stream",
     "text": [
      "E:\\python\\segmentation\\Computer Vision\\Computer Vision\\Data\\braintomurarchive\\images\\1085.png\n"
     ]
    },
    {
     "name": "stderr",
     "output_type": "stream",
     "text": [
      "  9%|███████                                                                          | 53/612 [00:36<05:50,  1.59it/s]"
     ]
    },
    {
     "name": "stdout",
     "output_type": "stream",
     "text": [
      "E:\\python\\segmentation\\Computer Vision\\Computer Vision\\Data\\braintomurarchive\\images\\653.png\n"
     ]
    },
    {
     "name": "stderr",
     "output_type": "stream",
     "text": [
      "  9%|███████▏                                                                         | 54/612 [00:37<05:50,  1.59it/s]"
     ]
    },
    {
     "name": "stdout",
     "output_type": "stream",
     "text": [
      "E:\\python\\segmentation\\Computer Vision\\Computer Vision\\Data\\braintomurarchive\\images\\2791.png\n"
     ]
    },
    {
     "name": "stderr",
     "output_type": "stream",
     "text": [
      "  9%|███████▎                                                                         | 55/612 [00:37<05:48,  1.60it/s]"
     ]
    },
    {
     "name": "stdout",
     "output_type": "stream",
     "text": [
      "E:\\python\\segmentation\\Computer Vision\\Computer Vision\\Data\\braintomurarchive\\images\\1187.png\n"
     ]
    },
    {
     "name": "stderr",
     "output_type": "stream",
     "text": [
      "  9%|███████▍                                                                         | 56/612 [00:38<06:07,  1.51it/s]"
     ]
    },
    {
     "name": "stdout",
     "output_type": "stream",
     "text": [
      "E:\\python\\segmentation\\Computer Vision\\Computer Vision\\Data\\braintomurarchive\\images\\2744.png\n"
     ]
    },
    {
     "name": "stderr",
     "output_type": "stream",
     "text": [
      "  9%|███████▌                                                                         | 57/612 [00:39<05:57,  1.55it/s]"
     ]
    },
    {
     "name": "stdout",
     "output_type": "stream",
     "text": [
      "E:\\python\\segmentation\\Computer Vision\\Computer Vision\\Data\\braintomurarchive\\images\\1023.png\n"
     ]
    },
    {
     "name": "stderr",
     "output_type": "stream",
     "text": [
      "  9%|███████▋                                                                         | 58/612 [00:39<05:50,  1.58it/s]"
     ]
    },
    {
     "name": "stdout",
     "output_type": "stream",
     "text": [
      "E:\\python\\segmentation\\Computer Vision\\Computer Vision\\Data\\braintomurarchive\\images\\1667.png\n"
     ]
    },
    {
     "name": "stderr",
     "output_type": "stream",
     "text": [
      " 10%|███████▊                                                                         | 59/612 [00:40<05:46,  1.59it/s]"
     ]
    },
    {
     "name": "stdout",
     "output_type": "stream",
     "text": [
      "E:\\python\\segmentation\\Computer Vision\\Computer Vision\\Data\\braintomurarchive\\images\\904.png\n"
     ]
    },
    {
     "name": "stderr",
     "output_type": "stream",
     "text": [
      " 10%|███████▉                                                                         | 60/612 [00:41<05:42,  1.61it/s]"
     ]
    },
    {
     "name": "stdout",
     "output_type": "stream",
     "text": [
      "E:\\python\\segmentation\\Computer Vision\\Computer Vision\\Data\\braintomurarchive\\images\\701.png\n"
     ]
    },
    {
     "name": "stderr",
     "output_type": "stream",
     "text": [
      " 10%|████████                                                                         | 61/612 [00:41<05:42,  1.61it/s]"
     ]
    },
    {
     "name": "stdout",
     "output_type": "stream",
     "text": [
      "E:\\python\\segmentation\\Computer Vision\\Computer Vision\\Data\\braintomurarchive\\images\\381.png\n"
     ]
    },
    {
     "name": "stderr",
     "output_type": "stream",
     "text": [
      " 10%|████████▏                                                                        | 62/612 [00:42<05:46,  1.59it/s]"
     ]
    },
    {
     "name": "stdout",
     "output_type": "stream",
     "text": [
      "E:\\python\\segmentation\\Computer Vision\\Computer Vision\\Data\\braintomurarchive\\images\\478.png\n"
     ]
    },
    {
     "name": "stderr",
     "output_type": "stream",
     "text": [
      " 10%|████████▎                                                                        | 63/612 [00:42<05:41,  1.61it/s]"
     ]
    },
    {
     "name": "stdout",
     "output_type": "stream",
     "text": [
      "E:\\python\\segmentation\\Computer Vision\\Computer Vision\\Data\\braintomurarchive\\images\\1354.png\n"
     ]
    },
    {
     "name": "stderr",
     "output_type": "stream",
     "text": [
      " 10%|████████▍                                                                        | 64/612 [00:43<05:40,  1.61it/s]"
     ]
    },
    {
     "name": "stdout",
     "output_type": "stream",
     "text": [
      "E:\\python\\segmentation\\Computer Vision\\Computer Vision\\Data\\braintomurarchive\\images\\2701.png\n"
     ]
    },
    {
     "name": "stderr",
     "output_type": "stream",
     "text": [
      " 11%|████████▌                                                                        | 65/612 [00:44<05:39,  1.61it/s]"
     ]
    },
    {
     "name": "stdout",
     "output_type": "stream",
     "text": [
      "E:\\python\\segmentation\\Computer Vision\\Computer Vision\\Data\\braintomurarchive\\images\\1689.png\n"
     ]
    },
    {
     "name": "stderr",
     "output_type": "stream",
     "text": [
      " 11%|████████▋                                                                        | 66/612 [00:44<05:40,  1.60it/s]"
     ]
    },
    {
     "name": "stdout",
     "output_type": "stream",
     "text": [
      "E:\\python\\segmentation\\Computer Vision\\Computer Vision\\Data\\braintomurarchive\\images\\2672.png\n"
     ]
    },
    {
     "name": "stderr",
     "output_type": "stream",
     "text": [
      " 11%|████████▊                                                                        | 67/612 [00:45<05:42,  1.59it/s]"
     ]
    },
    {
     "name": "stdout",
     "output_type": "stream",
     "text": [
      "E:\\python\\segmentation\\Computer Vision\\Computer Vision\\Data\\braintomurarchive\\images\\2524.png\n"
     ]
    },
    {
     "name": "stderr",
     "output_type": "stream",
     "text": [
      " 11%|█████████                                                                        | 68/612 [00:46<05:44,  1.58it/s]"
     ]
    },
    {
     "name": "stdout",
     "output_type": "stream",
     "text": [
      "E:\\python\\segmentation\\Computer Vision\\Computer Vision\\Data\\braintomurarchive\\images\\2026.png\n"
     ]
    },
    {
     "name": "stderr",
     "output_type": "stream",
     "text": [
      " 11%|█████████▏                                                                       | 69/612 [00:46<05:44,  1.58it/s]"
     ]
    },
    {
     "name": "stdout",
     "output_type": "stream",
     "text": [
      "E:\\python\\segmentation\\Computer Vision\\Computer Vision\\Data\\braintomurarchive\\images\\2356.png\n"
     ]
    },
    {
     "name": "stderr",
     "output_type": "stream",
     "text": [
      " 11%|█████████▎                                                                       | 70/612 [00:47<05:39,  1.60it/s]"
     ]
    },
    {
     "name": "stdout",
     "output_type": "stream",
     "text": [
      "E:\\python\\segmentation\\Computer Vision\\Computer Vision\\Data\\braintomurarchive\\images\\527.png\n"
     ]
    },
    {
     "name": "stderr",
     "output_type": "stream",
     "text": [
      " 12%|█████████▍                                                                       | 71/612 [00:47<05:37,  1.60it/s]"
     ]
    },
    {
     "name": "stdout",
     "output_type": "stream",
     "text": [
      "E:\\python\\segmentation\\Computer Vision\\Computer Vision\\Data\\braintomurarchive\\images\\1142.png\n"
     ]
    },
    {
     "name": "stderr",
     "output_type": "stream",
     "text": [
      " 12%|█████████▌                                                                       | 72/612 [00:48<05:34,  1.61it/s]"
     ]
    },
    {
     "name": "stdout",
     "output_type": "stream",
     "text": [
      "E:\\python\\segmentation\\Computer Vision\\Computer Vision\\Data\\braintomurarchive\\images\\1562.png\n"
     ]
    },
    {
     "name": "stderr",
     "output_type": "stream",
     "text": [
      " 12%|█████████▋                                                                       | 73/612 [00:49<05:30,  1.63it/s]"
     ]
    },
    {
     "name": "stdout",
     "output_type": "stream",
     "text": [
      "E:\\python\\segmentation\\Computer Vision\\Computer Vision\\Data\\braintomurarchive\\images\\1668.png\n"
     ]
    },
    {
     "name": "stderr",
     "output_type": "stream",
     "text": [
      " 12%|█████████▊                                                                       | 74/612 [00:49<05:28,  1.64it/s]"
     ]
    },
    {
     "name": "stdout",
     "output_type": "stream",
     "text": [
      "E:\\python\\segmentation\\Computer Vision\\Computer Vision\\Data\\braintomurarchive\\images\\1837.png\n"
     ]
    },
    {
     "name": "stderr",
     "output_type": "stream",
     "text": [
      " 12%|█████████▉                                                                       | 75/612 [00:50<05:27,  1.64it/s]"
     ]
    },
    {
     "name": "stdout",
     "output_type": "stream",
     "text": [
      "E:\\python\\segmentation\\Computer Vision\\Computer Vision\\Data\\braintomurarchive\\images\\294.png\n"
     ]
    },
    {
     "name": "stderr",
     "output_type": "stream",
     "text": [
      " 12%|██████████                                                                       | 76/612 [00:50<05:29,  1.63it/s]"
     ]
    },
    {
     "name": "stdout",
     "output_type": "stream",
     "text": [
      "E:\\python\\segmentation\\Computer Vision\\Computer Vision\\Data\\braintomurarchive\\images\\2157.png\n"
     ]
    },
    {
     "name": "stderr",
     "output_type": "stream",
     "text": [
      " 13%|██████████▏                                                                      | 77/612 [00:51<05:26,  1.64it/s]"
     ]
    },
    {
     "name": "stdout",
     "output_type": "stream",
     "text": [
      "E:\\python\\segmentation\\Computer Vision\\Computer Vision\\Data\\braintomurarchive\\images\\2528.png\n"
     ]
    },
    {
     "name": "stderr",
     "output_type": "stream",
     "text": [
      " 13%|██████████▎                                                                      | 78/612 [00:52<05:23,  1.65it/s]"
     ]
    },
    {
     "name": "stdout",
     "output_type": "stream",
     "text": [
      "E:\\python\\segmentation\\Computer Vision\\Computer Vision\\Data\\braintomurarchive\\images\\2527.png\n"
     ]
    },
    {
     "name": "stderr",
     "output_type": "stream",
     "text": [
      " 13%|██████████▍                                                                      | 79/612 [00:52<05:18,  1.67it/s]"
     ]
    },
    {
     "name": "stdout",
     "output_type": "stream",
     "text": [
      "E:\\python\\segmentation\\Computer Vision\\Computer Vision\\Data\\braintomurarchive\\images\\2075.png\n"
     ]
    },
    {
     "name": "stderr",
     "output_type": "stream",
     "text": [
      " 13%|██████████▌                                                                      | 80/612 [00:53<05:25,  1.63it/s]"
     ]
    },
    {
     "name": "stdout",
     "output_type": "stream",
     "text": [
      "E:\\python\\segmentation\\Computer Vision\\Computer Vision\\Data\\braintomurarchive\\images\\2322.png\n"
     ]
    },
    {
     "name": "stderr",
     "output_type": "stream",
     "text": [
      " 13%|██████████▋                                                                      | 81/612 [00:54<05:26,  1.63it/s]"
     ]
    },
    {
     "name": "stdout",
     "output_type": "stream",
     "text": [
      "E:\\python\\segmentation\\Computer Vision\\Computer Vision\\Data\\braintomurarchive\\images\\3034.png\n"
     ]
    },
    {
     "name": "stderr",
     "output_type": "stream",
     "text": [
      " 13%|██████████▊                                                                      | 82/612 [00:54<05:22,  1.64it/s]"
     ]
    },
    {
     "name": "stdout",
     "output_type": "stream",
     "text": [
      "E:\\python\\segmentation\\Computer Vision\\Computer Vision\\Data\\braintomurarchive\\images\\1851.png\n"
     ]
    },
    {
     "name": "stderr",
     "output_type": "stream",
     "text": [
      " 14%|██████████▉                                                                      | 83/612 [00:55<05:19,  1.65it/s]"
     ]
    },
    {
     "name": "stdout",
     "output_type": "stream",
     "text": [
      "E:\\python\\segmentation\\Computer Vision\\Computer Vision\\Data\\braintomurarchive\\images\\676.png\n"
     ]
    },
    {
     "name": "stderr",
     "output_type": "stream",
     "text": [
      " 14%|███████████                                                                      | 84/612 [00:55<05:17,  1.66it/s]"
     ]
    },
    {
     "name": "stdout",
     "output_type": "stream",
     "text": [
      "E:\\python\\segmentation\\Computer Vision\\Computer Vision\\Data\\braintomurarchive\\images\\1818.png\n"
     ]
    },
    {
     "name": "stderr",
     "output_type": "stream",
     "text": [
      " 14%|███████████▎                                                                     | 85/612 [00:56<05:20,  1.64it/s]"
     ]
    },
    {
     "name": "stdout",
     "output_type": "stream",
     "text": [
      "E:\\python\\segmentation\\Computer Vision\\Computer Vision\\Data\\braintomurarchive\\images\\2906.png\n"
     ]
    },
    {
     "name": "stderr",
     "output_type": "stream",
     "text": [
      " 14%|███████████▍                                                                     | 86/612 [00:57<05:26,  1.61it/s]"
     ]
    },
    {
     "name": "stdout",
     "output_type": "stream",
     "text": [
      "E:\\python\\segmentation\\Computer Vision\\Computer Vision\\Data\\braintomurarchive\\images\\1840.png\n"
     ]
    },
    {
     "name": "stderr",
     "output_type": "stream",
     "text": [
      " 14%|███████████▌                                                                     | 87/612 [00:57<05:20,  1.64it/s]"
     ]
    },
    {
     "name": "stdout",
     "output_type": "stream",
     "text": [
      "E:\\python\\segmentation\\Computer Vision\\Computer Vision\\Data\\braintomurarchive\\images\\560.png\n"
     ]
    },
    {
     "name": "stderr",
     "output_type": "stream",
     "text": [
      " 14%|███████████▋                                                                     | 88/612 [00:58<05:29,  1.59it/s]"
     ]
    },
    {
     "name": "stdout",
     "output_type": "stream",
     "text": [
      "E:\\python\\segmentation\\Computer Vision\\Computer Vision\\Data\\braintomurarchive\\images\\1337.png\n"
     ]
    },
    {
     "name": "stderr",
     "output_type": "stream",
     "text": [
      " 15%|███████████▊                                                                     | 89/612 [00:58<05:26,  1.60it/s]"
     ]
    },
    {
     "name": "stdout",
     "output_type": "stream",
     "text": [
      "E:\\python\\segmentation\\Computer Vision\\Computer Vision\\Data\\braintomurarchive\\images\\1384.png\n"
     ]
    },
    {
     "name": "stderr",
     "output_type": "stream",
     "text": [
      " 15%|███████████▉                                                                     | 90/612 [00:59<05:25,  1.61it/s]"
     ]
    },
    {
     "name": "stdout",
     "output_type": "stream",
     "text": [
      "E:\\python\\segmentation\\Computer Vision\\Computer Vision\\Data\\braintomurarchive\\images\\2936.png\n"
     ]
    },
    {
     "name": "stderr",
     "output_type": "stream",
     "text": [
      " 15%|████████████                                                                     | 91/612 [01:00<05:28,  1.59it/s]"
     ]
    },
    {
     "name": "stdout",
     "output_type": "stream",
     "text": [
      "E:\\python\\segmentation\\Computer Vision\\Computer Vision\\Data\\braintomurarchive\\images\\1579.png\n"
     ]
    },
    {
     "name": "stderr",
     "output_type": "stream",
     "text": [
      " 15%|████████████▏                                                                    | 92/612 [01:00<05:27,  1.59it/s]"
     ]
    },
    {
     "name": "stdout",
     "output_type": "stream",
     "text": [
      "E:\\python\\segmentation\\Computer Vision\\Computer Vision\\Data\\braintomurarchive\\images\\678.png\n"
     ]
    },
    {
     "name": "stderr",
     "output_type": "stream",
     "text": [
      " 15%|████████████▎                                                                    | 93/612 [01:01<05:19,  1.62it/s]"
     ]
    },
    {
     "name": "stdout",
     "output_type": "stream",
     "text": [
      "E:\\python\\segmentation\\Computer Vision\\Computer Vision\\Data\\braintomurarchive\\images\\555.png\n"
     ]
    },
    {
     "name": "stderr",
     "output_type": "stream",
     "text": [
      " 15%|████████████▍                                                                    | 94/612 [01:02<05:18,  1.62it/s]"
     ]
    },
    {
     "name": "stdout",
     "output_type": "stream",
     "text": [
      "E:\\python\\segmentation\\Computer Vision\\Computer Vision\\Data\\braintomurarchive\\images\\1885.png\n"
     ]
    },
    {
     "name": "stderr",
     "output_type": "stream",
     "text": [
      " 16%|████████████▌                                                                    | 95/612 [01:02<05:18,  1.63it/s]"
     ]
    },
    {
     "name": "stdout",
     "output_type": "stream",
     "text": [
      "E:\\python\\segmentation\\Computer Vision\\Computer Vision\\Data\\braintomurarchive\\images\\2471.png\n"
     ]
    },
    {
     "name": "stderr",
     "output_type": "stream",
     "text": [
      " 16%|████████████▋                                                                    | 96/612 [01:03<05:20,  1.61it/s]"
     ]
    },
    {
     "name": "stdout",
     "output_type": "stream",
     "text": [
      "E:\\python\\segmentation\\Computer Vision\\Computer Vision\\Data\\braintomurarchive\\images\\1769.png\n"
     ]
    },
    {
     "name": "stderr",
     "output_type": "stream",
     "text": [
      " 16%|████████████▊                                                                    | 97/612 [01:03<05:21,  1.60it/s]"
     ]
    },
    {
     "name": "stdout",
     "output_type": "stream",
     "text": [
      "E:\\python\\segmentation\\Computer Vision\\Computer Vision\\Data\\braintomurarchive\\images\\1720.png\n"
     ]
    },
    {
     "name": "stderr",
     "output_type": "stream",
     "text": [
      " 16%|████████████▉                                                                    | 98/612 [01:04<05:22,  1.59it/s]"
     ]
    },
    {
     "name": "stdout",
     "output_type": "stream",
     "text": [
      "E:\\python\\segmentation\\Computer Vision\\Computer Vision\\Data\\braintomurarchive\\images\\2465.png\n"
     ]
    },
    {
     "name": "stderr",
     "output_type": "stream",
     "text": [
      " 16%|█████████████                                                                    | 99/612 [01:05<05:21,  1.60it/s]"
     ]
    },
    {
     "name": "stdout",
     "output_type": "stream",
     "text": [
      "E:\\python\\segmentation\\Computer Vision\\Computer Vision\\Data\\braintomurarchive\\images\\2255.png\n"
     ]
    },
    {
     "name": "stderr",
     "output_type": "stream",
     "text": [
      " 16%|█████████████                                                                   | 100/612 [01:05<05:19,  1.60it/s]"
     ]
    },
    {
     "name": "stdout",
     "output_type": "stream",
     "text": [
      "E:\\python\\segmentation\\Computer Vision\\Computer Vision\\Data\\braintomurarchive\\images\\1960.png\n"
     ]
    },
    {
     "name": "stderr",
     "output_type": "stream",
     "text": [
      " 17%|█████████████▏                                                                  | 101/612 [01:06<05:18,  1.61it/s]"
     ]
    },
    {
     "name": "stdout",
     "output_type": "stream",
     "text": [
      "E:\\python\\segmentation\\Computer Vision\\Computer Vision\\Data\\braintomurarchive\\images\\21.png\n"
     ]
    },
    {
     "name": "stderr",
     "output_type": "stream",
     "text": [
      " 17%|█████████████▎                                                                  | 102/612 [01:07<05:16,  1.61it/s]"
     ]
    },
    {
     "name": "stdout",
     "output_type": "stream",
     "text": [
      "E:\\python\\segmentation\\Computer Vision\\Computer Vision\\Data\\braintomurarchive\\images\\26.png\n"
     ]
    },
    {
     "name": "stderr",
     "output_type": "stream",
     "text": [
      " 17%|█████████████▍                                                                  | 103/612 [01:07<05:15,  1.61it/s]"
     ]
    },
    {
     "name": "stdout",
     "output_type": "stream",
     "text": [
      "E:\\python\\segmentation\\Computer Vision\\Computer Vision\\Data\\braintomurarchive\\images\\2405.png\n"
     ]
    },
    {
     "name": "stderr",
     "output_type": "stream",
     "text": [
      " 17%|█████████████▌                                                                  | 104/612 [01:08<05:19,  1.59it/s]"
     ]
    },
    {
     "name": "stdout",
     "output_type": "stream",
     "text": [
      "E:\\python\\segmentation\\Computer Vision\\Computer Vision\\Data\\braintomurarchive\\images\\335.png\n"
     ]
    },
    {
     "name": "stderr",
     "output_type": "stream",
     "text": [
      " 17%|█████████████▋                                                                  | 105/612 [01:08<05:19,  1.59it/s]"
     ]
    },
    {
     "name": "stdout",
     "output_type": "stream",
     "text": [
      "E:\\python\\segmentation\\Computer Vision\\Computer Vision\\Data\\braintomurarchive\\images\\893.png\n"
     ]
    },
    {
     "name": "stderr",
     "output_type": "stream",
     "text": [
      " 17%|█████████████▊                                                                  | 106/612 [01:09<05:15,  1.60it/s]"
     ]
    },
    {
     "name": "stdout",
     "output_type": "stream",
     "text": [
      "E:\\python\\segmentation\\Computer Vision\\Computer Vision\\Data\\braintomurarchive\\images\\2606.png\n"
     ]
    },
    {
     "name": "stderr",
     "output_type": "stream",
     "text": [
      " 17%|█████████████▉                                                                  | 107/612 [01:10<05:13,  1.61it/s]"
     ]
    },
    {
     "name": "stdout",
     "output_type": "stream",
     "text": [
      "E:\\python\\segmentation\\Computer Vision\\Computer Vision\\Data\\braintomurarchive\\images\\11.png\n"
     ]
    },
    {
     "name": "stderr",
     "output_type": "stream",
     "text": [
      " 18%|██████████████                                                                  | 108/612 [01:10<05:07,  1.64it/s]"
     ]
    },
    {
     "name": "stdout",
     "output_type": "stream",
     "text": [
      "E:\\python\\segmentation\\Computer Vision\\Computer Vision\\Data\\braintomurarchive\\images\\2980.png\n"
     ]
    },
    {
     "name": "stderr",
     "output_type": "stream",
     "text": [
      " 18%|██████████████▏                                                                 | 109/612 [01:11<05:10,  1.62it/s]"
     ]
    },
    {
     "name": "stdout",
     "output_type": "stream",
     "text": [
      "E:\\python\\segmentation\\Computer Vision\\Computer Vision\\Data\\braintomurarchive\\images\\3011.png\n"
     ]
    },
    {
     "name": "stderr",
     "output_type": "stream",
     "text": [
      " 18%|██████████████▍                                                                 | 110/612 [01:12<05:29,  1.53it/s]"
     ]
    },
    {
     "name": "stdout",
     "output_type": "stream",
     "text": [
      "E:\\python\\segmentation\\Computer Vision\\Computer Vision\\Data\\braintomurarchive\\images\\717.png\n"
     ]
    },
    {
     "name": "stderr",
     "output_type": "stream",
     "text": [
      " 18%|██████████████▌                                                                 | 111/612 [01:12<05:23,  1.55it/s]"
     ]
    },
    {
     "name": "stdout",
     "output_type": "stream",
     "text": [
      "E:\\python\\segmentation\\Computer Vision\\Computer Vision\\Data\\braintomurarchive\\images\\277.png\n"
     ]
    },
    {
     "name": "stderr",
     "output_type": "stream",
     "text": [
      " 18%|██████████████▋                                                                 | 112/612 [01:13<05:19,  1.57it/s]"
     ]
    },
    {
     "name": "stdout",
     "output_type": "stream",
     "text": [
      "E:\\python\\segmentation\\Computer Vision\\Computer Vision\\Data\\braintomurarchive\\images\\2979.png\n"
     ]
    },
    {
     "name": "stderr",
     "output_type": "stream",
     "text": [
      " 18%|██████████████▊                                                                 | 113/612 [01:14<05:20,  1.55it/s]"
     ]
    },
    {
     "name": "stdout",
     "output_type": "stream",
     "text": [
      "E:\\python\\segmentation\\Computer Vision\\Computer Vision\\Data\\braintomurarchive\\images\\2275.png\n"
     ]
    },
    {
     "name": "stderr",
     "output_type": "stream",
     "text": [
      " 19%|██████████████▉                                                                 | 114/612 [01:14<05:15,  1.58it/s]"
     ]
    },
    {
     "name": "stdout",
     "output_type": "stream",
     "text": [
      "E:\\python\\segmentation\\Computer Vision\\Computer Vision\\Data\\braintomurarchive\\images\\1866.png\n"
     ]
    },
    {
     "name": "stderr",
     "output_type": "stream",
     "text": [
      " 19%|███████████████                                                                 | 115/612 [01:15<05:09,  1.61it/s]"
     ]
    },
    {
     "name": "stdout",
     "output_type": "stream",
     "text": [
      "E:\\python\\segmentation\\Computer Vision\\Computer Vision\\Data\\braintomurarchive\\images\\1344.png\n"
     ]
    },
    {
     "name": "stderr",
     "output_type": "stream",
     "text": [
      " 19%|███████████████▏                                                                | 116/612 [01:15<05:09,  1.60it/s]"
     ]
    },
    {
     "name": "stdout",
     "output_type": "stream",
     "text": [
      "E:\\python\\segmentation\\Computer Vision\\Computer Vision\\Data\\braintomurarchive\\images\\2137.png\n"
     ]
    },
    {
     "name": "stderr",
     "output_type": "stream",
     "text": [
      " 19%|███████████████▎                                                                | 117/612 [01:16<05:07,  1.61it/s]"
     ]
    },
    {
     "name": "stdout",
     "output_type": "stream",
     "text": [
      "E:\\python\\segmentation\\Computer Vision\\Computer Vision\\Data\\braintomurarchive\\images\\2072.png\n"
     ]
    },
    {
     "name": "stderr",
     "output_type": "stream",
     "text": [
      " 19%|███████████████▍                                                                | 118/612 [01:17<05:13,  1.58it/s]"
     ]
    },
    {
     "name": "stdout",
     "output_type": "stream",
     "text": [
      "E:\\python\\segmentation\\Computer Vision\\Computer Vision\\Data\\braintomurarchive\\images\\1137.png\n"
     ]
    },
    {
     "name": "stderr",
     "output_type": "stream",
     "text": [
      " 19%|███████████████▌                                                                | 119/612 [01:17<05:10,  1.59it/s]"
     ]
    },
    {
     "name": "stdout",
     "output_type": "stream",
     "text": [
      "E:\\python\\segmentation\\Computer Vision\\Computer Vision\\Data\\braintomurarchive\\images\\1906.png\n"
     ]
    },
    {
     "name": "stderr",
     "output_type": "stream",
     "text": [
      " 20%|███████████████▋                                                                | 120/612 [01:18<05:04,  1.61it/s]"
     ]
    },
    {
     "name": "stdout",
     "output_type": "stream",
     "text": [
      "E:\\python\\segmentation\\Computer Vision\\Computer Vision\\Data\\braintomurarchive\\images\\1495.png\n"
     ]
    },
    {
     "name": "stderr",
     "output_type": "stream",
     "text": [
      " 20%|███████████████▊                                                                | 121/612 [01:18<05:03,  1.62it/s]"
     ]
    },
    {
     "name": "stdout",
     "output_type": "stream",
     "text": [
      "E:\\python\\segmentation\\Computer Vision\\Computer Vision\\Data\\braintomurarchive\\images\\694.png\n"
     ]
    },
    {
     "name": "stderr",
     "output_type": "stream",
     "text": [
      " 20%|███████████████▉                                                                | 122/612 [01:19<05:17,  1.54it/s]"
     ]
    },
    {
     "name": "stdout",
     "output_type": "stream",
     "text": [
      "E:\\python\\segmentation\\Computer Vision\\Computer Vision\\Data\\braintomurarchive\\images\\336.png\n"
     ]
    },
    {
     "name": "stderr",
     "output_type": "stream",
     "text": [
      " 20%|████████████████                                                                | 123/612 [01:20<05:06,  1.60it/s]"
     ]
    },
    {
     "name": "stdout",
     "output_type": "stream",
     "text": [
      "E:\\python\\segmentation\\Computer Vision\\Computer Vision\\Data\\braintomurarchive\\images\\1560.png\n"
     ]
    },
    {
     "name": "stderr",
     "output_type": "stream",
     "text": [
      " 20%|████████████████▏                                                               | 124/612 [01:20<05:04,  1.60it/s]"
     ]
    },
    {
     "name": "stdout",
     "output_type": "stream",
     "text": [
      "E:\\python\\segmentation\\Computer Vision\\Computer Vision\\Data\\braintomurarchive\\images\\1546.png\n"
     ]
    },
    {
     "name": "stderr",
     "output_type": "stream",
     "text": [
      " 20%|████████████████▎                                                               | 125/612 [01:21<05:05,  1.60it/s]"
     ]
    },
    {
     "name": "stdout",
     "output_type": "stream",
     "text": [
      "E:\\python\\segmentation\\Computer Vision\\Computer Vision\\Data\\braintomurarchive\\images\\1969.png\n"
     ]
    },
    {
     "name": "stderr",
     "output_type": "stream",
     "text": [
      " 21%|████████████████▍                                                               | 126/612 [01:22<05:05,  1.59it/s]"
     ]
    },
    {
     "name": "stdout",
     "output_type": "stream",
     "text": [
      "E:\\python\\segmentation\\Computer Vision\\Computer Vision\\Data\\braintomurarchive\\images\\2459.png\n"
     ]
    },
    {
     "name": "stderr",
     "output_type": "stream",
     "text": [
      " 21%|████████████████▌                                                               | 127/612 [01:22<04:59,  1.62it/s]"
     ]
    },
    {
     "name": "stdout",
     "output_type": "stream",
     "text": [
      "E:\\python\\segmentation\\Computer Vision\\Computer Vision\\Data\\braintomurarchive\\images\\587.png\n"
     ]
    },
    {
     "name": "stderr",
     "output_type": "stream",
     "text": [
      " 21%|████████████████▋                                                               | 128/612 [01:23<05:05,  1.58it/s]"
     ]
    },
    {
     "name": "stdout",
     "output_type": "stream",
     "text": [
      "E:\\python\\segmentation\\Computer Vision\\Computer Vision\\Data\\braintomurarchive\\images\\2662.png\n"
     ]
    },
    {
     "name": "stderr",
     "output_type": "stream",
     "text": [
      " 21%|████████████████▊                                                               | 129/612 [01:24<05:07,  1.57it/s]"
     ]
    },
    {
     "name": "stdout",
     "output_type": "stream",
     "text": [
      "E:\\python\\segmentation\\Computer Vision\\Computer Vision\\Data\\braintomurarchive\\images\\2930.png\n"
     ]
    },
    {
     "name": "stderr",
     "output_type": "stream",
     "text": [
      " 21%|████████████████▉                                                               | 130/612 [01:24<05:04,  1.58it/s]"
     ]
    },
    {
     "name": "stdout",
     "output_type": "stream",
     "text": [
      "E:\\python\\segmentation\\Computer Vision\\Computer Vision\\Data\\braintomurarchive\\images\\943.png\n"
     ]
    },
    {
     "name": "stderr",
     "output_type": "stream",
     "text": [
      " 21%|█████████████████                                                               | 131/612 [01:25<05:00,  1.60it/s]"
     ]
    },
    {
     "name": "stdout",
     "output_type": "stream",
     "text": [
      "E:\\python\\segmentation\\Computer Vision\\Computer Vision\\Data\\braintomurarchive\\images\\1794.png\n"
     ]
    },
    {
     "name": "stderr",
     "output_type": "stream",
     "text": [
      " 22%|█████████████████▎                                                              | 132/612 [01:26<05:13,  1.53it/s]"
     ]
    },
    {
     "name": "stdout",
     "output_type": "stream",
     "text": [
      "E:\\python\\segmentation\\Computer Vision\\Computer Vision\\Data\\braintomurarchive\\images\\3043.png\n"
     ]
    },
    {
     "name": "stderr",
     "output_type": "stream",
     "text": [
      " 22%|█████████████████▍                                                              | 133/612 [01:26<05:04,  1.57it/s]"
     ]
    },
    {
     "name": "stdout",
     "output_type": "stream",
     "text": [
      "E:\\python\\segmentation\\Computer Vision\\Computer Vision\\Data\\braintomurarchive\\images\\2380.png\n"
     ]
    },
    {
     "name": "stderr",
     "output_type": "stream",
     "text": [
      " 22%|█████████████████▌                                                              | 134/612 [01:27<05:05,  1.57it/s]"
     ]
    },
    {
     "name": "stdout",
     "output_type": "stream",
     "text": [
      "E:\\python\\segmentation\\Computer Vision\\Computer Vision\\Data\\braintomurarchive\\images\\126.png\n"
     ]
    },
    {
     "name": "stderr",
     "output_type": "stream",
     "text": [
      " 22%|█████████████████▋                                                              | 135/612 [01:27<05:00,  1.58it/s]"
     ]
    },
    {
     "name": "stdout",
     "output_type": "stream",
     "text": [
      "E:\\python\\segmentation\\Computer Vision\\Computer Vision\\Data\\braintomurarchive\\images\\1147.png\n"
     ]
    },
    {
     "name": "stderr",
     "output_type": "stream",
     "text": [
      " 22%|█████████████████▊                                                              | 136/612 [01:28<04:58,  1.60it/s]"
     ]
    },
    {
     "name": "stdout",
     "output_type": "stream",
     "text": [
      "E:\\python\\segmentation\\Computer Vision\\Computer Vision\\Data\\braintomurarchive\\images\\1883.png\n"
     ]
    },
    {
     "name": "stderr",
     "output_type": "stream",
     "text": [
      " 22%|█████████████████▉                                                              | 137/612 [01:29<04:57,  1.60it/s]"
     ]
    },
    {
     "name": "stdout",
     "output_type": "stream",
     "text": [
      "E:\\python\\segmentation\\Computer Vision\\Computer Vision\\Data\\braintomurarchive\\images\\2176.png\n"
     ]
    },
    {
     "name": "stderr",
     "output_type": "stream",
     "text": [
      " 23%|██████████████████                                                              | 138/612 [01:29<04:54,  1.61it/s]"
     ]
    },
    {
     "name": "stdout",
     "output_type": "stream",
     "text": [
      "E:\\python\\segmentation\\Computer Vision\\Computer Vision\\Data\\braintomurarchive\\images\\2304.png\n"
     ]
    },
    {
     "name": "stderr",
     "output_type": "stream",
     "text": [
      " 23%|██████████████████▏                                                             | 139/612 [01:30<04:54,  1.61it/s]"
     ]
    },
    {
     "name": "stdout",
     "output_type": "stream",
     "text": [
      "E:\\python\\segmentation\\Computer Vision\\Computer Vision\\Data\\braintomurarchive\\images\\369.png\n"
     ]
    },
    {
     "name": "stderr",
     "output_type": "stream",
     "text": [
      " 23%|██████████████████▎                                                             | 140/612 [01:30<04:55,  1.60it/s]"
     ]
    },
    {
     "name": "stdout",
     "output_type": "stream",
     "text": [
      "E:\\python\\segmentation\\Computer Vision\\Computer Vision\\Data\\braintomurarchive\\images\\2228.png\n"
     ]
    },
    {
     "name": "stderr",
     "output_type": "stream",
     "text": [
      " 23%|██████████████████▍                                                             | 141/612 [01:31<04:53,  1.61it/s]"
     ]
    },
    {
     "name": "stdout",
     "output_type": "stream",
     "text": [
      "E:\\python\\segmentation\\Computer Vision\\Computer Vision\\Data\\braintomurarchive\\images\\2114.png\n"
     ]
    },
    {
     "name": "stderr",
     "output_type": "stream",
     "text": [
      " 23%|██████████████████▌                                                             | 142/612 [01:32<05:02,  1.55it/s]"
     ]
    },
    {
     "name": "stdout",
     "output_type": "stream",
     "text": [
      "E:\\python\\segmentation\\Computer Vision\\Computer Vision\\Data\\braintomurarchive\\images\\451.png\n"
     ]
    },
    {
     "name": "stderr",
     "output_type": "stream",
     "text": [
      " 23%|██████████████████▋                                                             | 143/612 [01:32<04:57,  1.58it/s]"
     ]
    },
    {
     "name": "stdout",
     "output_type": "stream",
     "text": [
      "E:\\python\\segmentation\\Computer Vision\\Computer Vision\\Data\\braintomurarchive\\images\\1916.png\n"
     ]
    },
    {
     "name": "stderr",
     "output_type": "stream",
     "text": [
      " 24%|██████████████████▊                                                             | 144/612 [01:33<04:53,  1.60it/s]"
     ]
    },
    {
     "name": "stdout",
     "output_type": "stream",
     "text": [
      "E:\\python\\segmentation\\Computer Vision\\Computer Vision\\Data\\braintomurarchive\\images\\2349.png\n"
     ]
    },
    {
     "name": "stderr",
     "output_type": "stream",
     "text": [
      " 24%|██████████████████▉                                                             | 145/612 [01:34<04:54,  1.58it/s]"
     ]
    },
    {
     "name": "stdout",
     "output_type": "stream",
     "text": [
      "E:\\python\\segmentation\\Computer Vision\\Computer Vision\\Data\\braintomurarchive\\images\\2530.png\n"
     ]
    },
    {
     "name": "stderr",
     "output_type": "stream",
     "text": [
      " 24%|███████████████████                                                             | 146/612 [01:34<04:55,  1.58it/s]"
     ]
    },
    {
     "name": "stdout",
     "output_type": "stream",
     "text": [
      "E:\\python\\segmentation\\Computer Vision\\Computer Vision\\Data\\braintomurarchive\\images\\1419.png\n"
     ]
    },
    {
     "name": "stderr",
     "output_type": "stream",
     "text": [
      " 24%|███████████████████▏                                                            | 147/612 [01:35<04:52,  1.59it/s]"
     ]
    },
    {
     "name": "stdout",
     "output_type": "stream",
     "text": [
      "E:\\python\\segmentation\\Computer Vision\\Computer Vision\\Data\\braintomurarchive\\images\\86.png\n"
     ]
    },
    {
     "name": "stderr",
     "output_type": "stream",
     "text": [
      " 24%|███████████████████▎                                                            | 148/612 [01:36<04:50,  1.60it/s]"
     ]
    },
    {
     "name": "stdout",
     "output_type": "stream",
     "text": [
      "E:\\python\\segmentation\\Computer Vision\\Computer Vision\\Data\\braintomurarchive\\images\\2725.png\n"
     ]
    },
    {
     "name": "stderr",
     "output_type": "stream",
     "text": [
      " 24%|███████████████████▍                                                            | 149/612 [01:36<04:48,  1.60it/s]"
     ]
    },
    {
     "name": "stdout",
     "output_type": "stream",
     "text": [
      "E:\\python\\segmentation\\Computer Vision\\Computer Vision\\Data\\braintomurarchive\\images\\1013.png\n"
     ]
    },
    {
     "name": "stderr",
     "output_type": "stream",
     "text": [
      " 25%|███████████████████▌                                                            | 150/612 [01:37<04:51,  1.59it/s]"
     ]
    },
    {
     "name": "stdout",
     "output_type": "stream",
     "text": [
      "E:\\python\\segmentation\\Computer Vision\\Computer Vision\\Data\\braintomurarchive\\images\\777.png\n"
     ]
    },
    {
     "name": "stderr",
     "output_type": "stream",
     "text": [
      " 25%|███████████████████▋                                                            | 151/612 [01:37<04:52,  1.58it/s]"
     ]
    },
    {
     "name": "stdout",
     "output_type": "stream",
     "text": [
      "E:\\python\\segmentation\\Computer Vision\\Computer Vision\\Data\\braintomurarchive\\images\\2995.png\n"
     ]
    },
    {
     "name": "stderr",
     "output_type": "stream",
     "text": [
      " 25%|███████████████████▊                                                            | 152/612 [01:38<04:52,  1.57it/s]"
     ]
    },
    {
     "name": "stdout",
     "output_type": "stream",
     "text": [
      "E:\\python\\segmentation\\Computer Vision\\Computer Vision\\Data\\braintomurarchive\\images\\2992.png\n"
     ]
    },
    {
     "name": "stderr",
     "output_type": "stream",
     "text": [
      " 25%|████████████████████                                                            | 153/612 [01:39<04:47,  1.60it/s]"
     ]
    },
    {
     "name": "stdout",
     "output_type": "stream",
     "text": [
      "E:\\python\\segmentation\\Computer Vision\\Computer Vision\\Data\\braintomurarchive\\images\\1968.png\n"
     ]
    },
    {
     "name": "stderr",
     "output_type": "stream",
     "text": [
      " 25%|████████████████████▏                                                           | 154/612 [01:39<04:41,  1.62it/s]"
     ]
    },
    {
     "name": "stdout",
     "output_type": "stream",
     "text": [
      "E:\\python\\segmentation\\Computer Vision\\Computer Vision\\Data\\braintomurarchive\\images\\1191.png\n"
     ]
    },
    {
     "name": "stderr",
     "output_type": "stream",
     "text": [
      " 25%|████████████████████▎                                                           | 155/612 [01:40<04:39,  1.63it/s]"
     ]
    },
    {
     "name": "stdout",
     "output_type": "stream",
     "text": [
      "E:\\python\\segmentation\\Computer Vision\\Computer Vision\\Data\\braintomurarchive\\images\\2956.png\n"
     ]
    },
    {
     "name": "stderr",
     "output_type": "stream",
     "text": [
      " 25%|████████████████████▍                                                           | 156/612 [01:40<04:42,  1.62it/s]"
     ]
    },
    {
     "name": "stdout",
     "output_type": "stream",
     "text": [
      "E:\\python\\segmentation\\Computer Vision\\Computer Vision\\Data\\braintomurarchive\\images\\2187.png\n"
     ]
    },
    {
     "name": "stderr",
     "output_type": "stream",
     "text": [
      " 26%|████████████████████▌                                                           | 157/612 [01:41<04:41,  1.62it/s]"
     ]
    },
    {
     "name": "stdout",
     "output_type": "stream",
     "text": [
      "E:\\python\\segmentation\\Computer Vision\\Computer Vision\\Data\\braintomurarchive\\images\\2248.png\n"
     ]
    },
    {
     "name": "stderr",
     "output_type": "stream",
     "text": [
      " 26%|████████████████████▋                                                           | 158/612 [01:42<04:44,  1.60it/s]"
     ]
    },
    {
     "name": "stdout",
     "output_type": "stream",
     "text": [
      "E:\\python\\segmentation\\Computer Vision\\Computer Vision\\Data\\braintomurarchive\\images\\1452.png\n"
     ]
    },
    {
     "name": "stderr",
     "output_type": "stream",
     "text": [
      " 26%|████████████████████▊                                                           | 159/612 [01:42<04:45,  1.59it/s]"
     ]
    },
    {
     "name": "stdout",
     "output_type": "stream",
     "text": [
      "E:\\python\\segmentation\\Computer Vision\\Computer Vision\\Data\\braintomurarchive\\images\\2525.png\n"
     ]
    },
    {
     "name": "stderr",
     "output_type": "stream",
     "text": [
      " 26%|████████████████████▉                                                           | 160/612 [01:43<04:43,  1.59it/s]"
     ]
    },
    {
     "name": "stdout",
     "output_type": "stream",
     "text": [
      "E:\\python\\segmentation\\Computer Vision\\Computer Vision\\Data\\braintomurarchive\\images\\1108.png\n"
     ]
    },
    {
     "name": "stderr",
     "output_type": "stream",
     "text": [
      " 26%|█████████████████████                                                           | 161/612 [01:44<04:43,  1.59it/s]"
     ]
    },
    {
     "name": "stdout",
     "output_type": "stream",
     "text": [
      "E:\\python\\segmentation\\Computer Vision\\Computer Vision\\Data\\braintomurarchive\\images\\2787.png\n"
     ]
    },
    {
     "name": "stderr",
     "output_type": "stream",
     "text": [
      " 26%|█████████████████████▏                                                          | 162/612 [01:44<04:43,  1.59it/s]"
     ]
    },
    {
     "name": "stdout",
     "output_type": "stream",
     "text": [
      "E:\\python\\segmentation\\Computer Vision\\Computer Vision\\Data\\braintomurarchive\\images\\602.png\n"
     ]
    },
    {
     "name": "stderr",
     "output_type": "stream",
     "text": [
      " 27%|█████████████████████▎                                                          | 163/612 [01:45<04:43,  1.59it/s]"
     ]
    },
    {
     "name": "stdout",
     "output_type": "stream",
     "text": [
      "E:\\python\\segmentation\\Computer Vision\\Computer Vision\\Data\\braintomurarchive\\images\\227.png\n"
     ]
    },
    {
     "name": "stderr",
     "output_type": "stream",
     "text": [
      " 27%|█████████████████████▍                                                          | 164/612 [01:46<04:43,  1.58it/s]"
     ]
    },
    {
     "name": "stdout",
     "output_type": "stream",
     "text": [
      "E:\\python\\segmentation\\Computer Vision\\Computer Vision\\Data\\braintomurarchive\\images\\1567.png\n"
     ]
    },
    {
     "name": "stderr",
     "output_type": "stream",
     "text": [
      " 27%|█████████████████████▌                                                          | 165/612 [01:46<04:39,  1.60it/s]"
     ]
    },
    {
     "name": "stdout",
     "output_type": "stream",
     "text": [
      "E:\\python\\segmentation\\Computer Vision\\Computer Vision\\Data\\braintomurarchive\\images\\1076.png\n"
     ]
    },
    {
     "name": "stderr",
     "output_type": "stream",
     "text": [
      " 27%|█████████████████████▋                                                          | 166/612 [01:47<04:36,  1.61it/s]"
     ]
    },
    {
     "name": "stdout",
     "output_type": "stream",
     "text": [
      "E:\\python\\segmentation\\Computer Vision\\Computer Vision\\Data\\braintomurarchive\\images\\2565.png\n"
     ]
    },
    {
     "name": "stderr",
     "output_type": "stream",
     "text": [
      " 27%|█████████████████████▊                                                          | 167/612 [01:47<04:36,  1.61it/s]"
     ]
    },
    {
     "name": "stdout",
     "output_type": "stream",
     "text": [
      "E:\\python\\segmentation\\Computer Vision\\Computer Vision\\Data\\braintomurarchive\\images\\1075.png\n"
     ]
    },
    {
     "name": "stderr",
     "output_type": "stream",
     "text": [
      " 27%|█████████████████████▉                                                          | 168/612 [01:48<04:37,  1.60it/s]"
     ]
    },
    {
     "name": "stdout",
     "output_type": "stream",
     "text": [
      "E:\\python\\segmentation\\Computer Vision\\Computer Vision\\Data\\braintomurarchive\\images\\824.png\n"
     ]
    },
    {
     "name": "stderr",
     "output_type": "stream",
     "text": [
      " 28%|██████████████████████                                                          | 169/612 [01:49<04:32,  1.62it/s]"
     ]
    },
    {
     "name": "stdout",
     "output_type": "stream",
     "text": [
      "E:\\python\\segmentation\\Computer Vision\\Computer Vision\\Data\\braintomurarchive\\images\\2543.png\n"
     ]
    },
    {
     "name": "stderr",
     "output_type": "stream",
     "text": [
      " 28%|██████████████████████▏                                                         | 170/612 [01:49<04:36,  1.60it/s]"
     ]
    },
    {
     "name": "stdout",
     "output_type": "stream",
     "text": [
      "E:\\python\\segmentation\\Computer Vision\\Computer Vision\\Data\\braintomurarchive\\images\\460.png\n"
     ]
    },
    {
     "name": "stderr",
     "output_type": "stream",
     "text": [
      " 28%|██████████████████████▎                                                         | 171/612 [01:50<04:34,  1.61it/s]"
     ]
    },
    {
     "name": "stdout",
     "output_type": "stream",
     "text": [
      "E:\\python\\segmentation\\Computer Vision\\Computer Vision\\Data\\braintomurarchive\\images\\1751.png\n"
     ]
    },
    {
     "name": "stderr",
     "output_type": "stream",
     "text": [
      " 28%|██████████████████████▍                                                         | 172/612 [01:51<04:35,  1.60it/s]"
     ]
    },
    {
     "name": "stdout",
     "output_type": "stream",
     "text": [
      "E:\\python\\segmentation\\Computer Vision\\Computer Vision\\Data\\braintomurarchive\\images\\1390.png\n"
     ]
    },
    {
     "name": "stderr",
     "output_type": "stream",
     "text": [
      " 28%|██████████████████████▌                                                         | 173/612 [01:51<04:34,  1.60it/s]"
     ]
    },
    {
     "name": "stdout",
     "output_type": "stream",
     "text": [
      "E:\\python\\segmentation\\Computer Vision\\Computer Vision\\Data\\braintomurarchive\\images\\754.png\n"
     ]
    },
    {
     "name": "stderr",
     "output_type": "stream",
     "text": [
      " 28%|██████████████████████▋                                                         | 174/612 [01:52<04:46,  1.53it/s]"
     ]
    },
    {
     "name": "stdout",
     "output_type": "stream",
     "text": [
      "E:\\python\\segmentation\\Computer Vision\\Computer Vision\\Data\\braintomurarchive\\images\\117.png\n"
     ]
    },
    {
     "name": "stderr",
     "output_type": "stream",
     "text": [
      " 29%|██████████████████████▉                                                         | 175/612 [01:52<04:42,  1.55it/s]"
     ]
    },
    {
     "name": "stdout",
     "output_type": "stream",
     "text": [
      "E:\\python\\segmentation\\Computer Vision\\Computer Vision\\Data\\braintomurarchive\\images\\941.png\n"
     ]
    },
    {
     "name": "stderr",
     "output_type": "stream",
     "text": [
      " 29%|███████████████████████                                                         | 176/612 [01:53<04:43,  1.54it/s]"
     ]
    },
    {
     "name": "stdout",
     "output_type": "stream",
     "text": [
      "E:\\python\\segmentation\\Computer Vision\\Computer Vision\\Data\\braintomurarchive\\images\\347.png\n"
     ]
    },
    {
     "name": "stderr",
     "output_type": "stream",
     "text": [
      " 29%|███████████████████████▏                                                        | 177/612 [01:54<04:39,  1.55it/s]"
     ]
    },
    {
     "name": "stdout",
     "output_type": "stream",
     "text": [
      "E:\\python\\segmentation\\Computer Vision\\Computer Vision\\Data\\braintomurarchive\\images\\247.png\n"
     ]
    },
    {
     "name": "stderr",
     "output_type": "stream",
     "text": [
      " 29%|███████████████████████▎                                                        | 178/612 [01:54<04:46,  1.51it/s]"
     ]
    },
    {
     "name": "stdout",
     "output_type": "stream",
     "text": [
      "E:\\python\\segmentation\\Computer Vision\\Computer Vision\\Data\\braintomurarchive\\images\\837.png\n"
     ]
    },
    {
     "name": "stderr",
     "output_type": "stream",
     "text": [
      " 29%|███████████████████████▍                                                        | 179/612 [01:55<04:39,  1.55it/s]"
     ]
    },
    {
     "name": "stdout",
     "output_type": "stream",
     "text": [
      "E:\\python\\segmentation\\Computer Vision\\Computer Vision\\Data\\braintomurarchive\\images\\1225.png\n"
     ]
    },
    {
     "name": "stderr",
     "output_type": "stream",
     "text": [
      " 29%|███████████████████████▌                                                        | 180/612 [01:56<04:36,  1.56it/s]"
     ]
    },
    {
     "name": "stdout",
     "output_type": "stream",
     "text": [
      "E:\\python\\segmentation\\Computer Vision\\Computer Vision\\Data\\braintomurarchive\\images\\1428.png\n"
     ]
    },
    {
     "name": "stderr",
     "output_type": "stream",
     "text": [
      " 30%|███████████████████████▋                                                        | 181/612 [01:56<04:33,  1.58it/s]"
     ]
    },
    {
     "name": "stdout",
     "output_type": "stream",
     "text": [
      "E:\\python\\segmentation\\Computer Vision\\Computer Vision\\Data\\braintomurarchive\\images\\2926.png\n"
     ]
    },
    {
     "name": "stderr",
     "output_type": "stream",
     "text": [
      " 30%|███████████████████████▊                                                        | 182/612 [01:57<04:35,  1.56it/s]"
     ]
    },
    {
     "name": "stdout",
     "output_type": "stream",
     "text": [
      "E:\\python\\segmentation\\Computer Vision\\Computer Vision\\Data\\braintomurarchive\\images\\1774.png\n"
     ]
    },
    {
     "name": "stderr",
     "output_type": "stream",
     "text": [
      " 30%|███████████████████████▉                                                        | 183/612 [01:58<04:30,  1.59it/s]"
     ]
    },
    {
     "name": "stdout",
     "output_type": "stream",
     "text": [
      "E:\\python\\segmentation\\Computer Vision\\Computer Vision\\Data\\braintomurarchive\\images\\2107.png\n"
     ]
    },
    {
     "name": "stderr",
     "output_type": "stream",
     "text": [
      " 30%|████████████████████████                                                        | 184/612 [01:58<04:31,  1.58it/s]"
     ]
    },
    {
     "name": "stdout",
     "output_type": "stream",
     "text": [
      "E:\\python\\segmentation\\Computer Vision\\Computer Vision\\Data\\braintomurarchive\\images\\552.png\n"
     ]
    },
    {
     "name": "stderr",
     "output_type": "stream",
     "text": [
      " 30%|████████████████████████▏                                                       | 185/612 [01:59<04:27,  1.60it/s]"
     ]
    },
    {
     "name": "stdout",
     "output_type": "stream",
     "text": [
      "E:\\python\\segmentation\\Computer Vision\\Computer Vision\\Data\\braintomurarchive\\images\\925.png\n"
     ]
    },
    {
     "name": "stderr",
     "output_type": "stream",
     "text": [
      " 30%|████████████████████████▎                                                       | 186/612 [01:59<04:26,  1.60it/s]"
     ]
    },
    {
     "name": "stdout",
     "output_type": "stream",
     "text": [
      "E:\\python\\segmentation\\Computer Vision\\Computer Vision\\Data\\braintomurarchive\\images\\284.png\n"
     ]
    },
    {
     "name": "stderr",
     "output_type": "stream",
     "text": [
      " 31%|████████████████████████▍                                                       | 187/612 [02:00<04:30,  1.57it/s]"
     ]
    },
    {
     "name": "stdout",
     "output_type": "stream",
     "text": [
      "E:\\python\\segmentation\\Computer Vision\\Computer Vision\\Data\\braintomurarchive\\images\\2780.png\n"
     ]
    },
    {
     "name": "stderr",
     "output_type": "stream",
     "text": [
      " 31%|████████████████████████▌                                                       | 188/612 [02:01<04:33,  1.55it/s]"
     ]
    },
    {
     "name": "stdout",
     "output_type": "stream",
     "text": [
      "E:\\python\\segmentation\\Computer Vision\\Computer Vision\\Data\\braintomurarchive\\images\\860.png\n"
     ]
    },
    {
     "name": "stderr",
     "output_type": "stream",
     "text": [
      " 31%|████████████████████████▋                                                       | 189/612 [02:01<04:29,  1.57it/s]"
     ]
    },
    {
     "name": "stdout",
     "output_type": "stream",
     "text": [
      "E:\\python\\segmentation\\Computer Vision\\Computer Vision\\Data\\braintomurarchive\\images\\375.png\n"
     ]
    },
    {
     "name": "stderr",
     "output_type": "stream",
     "text": [
      " 31%|████████████████████████▊                                                       | 190/612 [02:02<04:27,  1.58it/s]"
     ]
    },
    {
     "name": "stdout",
     "output_type": "stream",
     "text": [
      "E:\\python\\segmentation\\Computer Vision\\Computer Vision\\Data\\braintomurarchive\\images\\834.png\n"
     ]
    },
    {
     "name": "stderr",
     "output_type": "stream",
     "text": [
      " 31%|████████████████████████▉                                                       | 191/612 [02:03<04:25,  1.59it/s]"
     ]
    },
    {
     "name": "stdout",
     "output_type": "stream",
     "text": [
      "E:\\python\\segmentation\\Computer Vision\\Computer Vision\\Data\\braintomurarchive\\images\\2642.png\n"
     ]
    },
    {
     "name": "stderr",
     "output_type": "stream",
     "text": [
      " 31%|█████████████████████████                                                       | 192/612 [02:03<04:23,  1.59it/s]"
     ]
    },
    {
     "name": "stdout",
     "output_type": "stream",
     "text": [
      "E:\\python\\segmentation\\Computer Vision\\Computer Vision\\Data\\braintomurarchive\\images\\1375.png\n"
     ]
    },
    {
     "name": "stderr",
     "output_type": "stream",
     "text": [
      " 32%|█████████████████████████▏                                                      | 193/612 [02:04<04:23,  1.59it/s]"
     ]
    },
    {
     "name": "stdout",
     "output_type": "stream",
     "text": [
      "E:\\python\\segmentation\\Computer Vision\\Computer Vision\\Data\\braintomurarchive\\images\\681.png\n"
     ]
    },
    {
     "name": "stderr",
     "output_type": "stream",
     "text": [
      " 32%|█████████████████████████▎                                                      | 194/612 [02:05<04:25,  1.57it/s]"
     ]
    },
    {
     "name": "stdout",
     "output_type": "stream",
     "text": [
      "E:\\python\\segmentation\\Computer Vision\\Computer Vision\\Data\\braintomurarchive\\images\\384.png\n"
     ]
    },
    {
     "name": "stderr",
     "output_type": "stream",
     "text": [
      " 32%|█████████████████████████▍                                                      | 195/612 [02:05<04:24,  1.58it/s]"
     ]
    },
    {
     "name": "stdout",
     "output_type": "stream",
     "text": [
      "E:\\python\\segmentation\\Computer Vision\\Computer Vision\\Data\\braintomurarchive\\images\\2154.png\n"
     ]
    },
    {
     "name": "stderr",
     "output_type": "stream",
     "text": [
      " 32%|█████████████████████████▌                                                      | 196/612 [02:06<04:20,  1.60it/s]"
     ]
    },
    {
     "name": "stdout",
     "output_type": "stream",
     "text": [
      "E:\\python\\segmentation\\Computer Vision\\Computer Vision\\Data\\braintomurarchive\\images\\1657.png\n"
     ]
    },
    {
     "name": "stderr",
     "output_type": "stream",
     "text": [
      " 32%|█████████████████████████▊                                                      | 197/612 [02:06<04:20,  1.59it/s]"
     ]
    },
    {
     "name": "stdout",
     "output_type": "stream",
     "text": [
      "E:\\python\\segmentation\\Computer Vision\\Computer Vision\\Data\\braintomurarchive\\images\\69.png\n"
     ]
    },
    {
     "name": "stderr",
     "output_type": "stream",
     "text": [
      " 32%|█████████████████████████▉                                                      | 198/612 [02:07<04:20,  1.59it/s]"
     ]
    },
    {
     "name": "stdout",
     "output_type": "stream",
     "text": [
      "E:\\python\\segmentation\\Computer Vision\\Computer Vision\\Data\\braintomurarchive\\images\\1568.png\n"
     ]
    },
    {
     "name": "stderr",
     "output_type": "stream",
     "text": [
      " 33%|██████████████████████████                                                      | 199/612 [02:08<04:18,  1.60it/s]"
     ]
    },
    {
     "name": "stdout",
     "output_type": "stream",
     "text": [
      "E:\\python\\segmentation\\Computer Vision\\Computer Vision\\Data\\braintomurarchive\\images\\222.png\n"
     ]
    },
    {
     "name": "stderr",
     "output_type": "stream",
     "text": [
      " 33%|██████████████████████████▏                                                     | 200/612 [02:08<04:19,  1.59it/s]"
     ]
    },
    {
     "name": "stdout",
     "output_type": "stream",
     "text": [
      "E:\\python\\segmentation\\Computer Vision\\Computer Vision\\Data\\braintomurarchive\\images\\269.png\n"
     ]
    },
    {
     "name": "stderr",
     "output_type": "stream",
     "text": [
      " 33%|██████████████████████████▎                                                     | 201/612 [02:09<04:15,  1.61it/s]"
     ]
    },
    {
     "name": "stdout",
     "output_type": "stream",
     "text": [
      "E:\\python\\segmentation\\Computer Vision\\Computer Vision\\Data\\braintomurarchive\\images\\3041.png\n"
     ]
    },
    {
     "name": "stderr",
     "output_type": "stream",
     "text": [
      " 33%|██████████████████████████▍                                                     | 202/612 [02:10<04:16,  1.60it/s]"
     ]
    },
    {
     "name": "stdout",
     "output_type": "stream",
     "text": [
      "E:\\python\\segmentation\\Computer Vision\\Computer Vision\\Data\\braintomurarchive\\images\\1043.png\n"
     ]
    },
    {
     "name": "stderr",
     "output_type": "stream",
     "text": [
      " 33%|██████████████████████████▌                                                     | 203/612 [02:10<04:14,  1.61it/s]"
     ]
    },
    {
     "name": "stdout",
     "output_type": "stream",
     "text": [
      "E:\\python\\segmentation\\Computer Vision\\Computer Vision\\Data\\braintomurarchive\\images\\2479.png\n"
     ]
    },
    {
     "name": "stderr",
     "output_type": "stream",
     "text": [
      " 33%|██████████████████████████▋                                                     | 204/612 [02:11<04:14,  1.60it/s]"
     ]
    },
    {
     "name": "stdout",
     "output_type": "stream",
     "text": [
      "E:\\python\\segmentation\\Computer Vision\\Computer Vision\\Data\\braintomurarchive\\images\\2550.png\n"
     ]
    },
    {
     "name": "stderr",
     "output_type": "stream",
     "text": [
      " 33%|██████████████████████████▊                                                     | 205/612 [02:11<04:14,  1.60it/s]"
     ]
    },
    {
     "name": "stdout",
     "output_type": "stream",
     "text": [
      "E:\\python\\segmentation\\Computer Vision\\Computer Vision\\Data\\braintomurarchive\\images\\393.png\n"
     ]
    },
    {
     "name": "stderr",
     "output_type": "stream",
     "text": [
      " 34%|██████████████████████████▉                                                     | 206/612 [02:12<04:16,  1.58it/s]"
     ]
    },
    {
     "name": "stdout",
     "output_type": "stream",
     "text": [
      "E:\\python\\segmentation\\Computer Vision\\Computer Vision\\Data\\braintomurarchive\\images\\110.png\n"
     ]
    },
    {
     "name": "stderr",
     "output_type": "stream",
     "text": [
      " 34%|███████████████████████████                                                     | 207/612 [02:13<04:11,  1.61it/s]"
     ]
    },
    {
     "name": "stdout",
     "output_type": "stream",
     "text": [
      "E:\\python\\segmentation\\Computer Vision\\Computer Vision\\Data\\braintomurarchive\\images\\3033.png\n"
     ]
    },
    {
     "name": "stderr",
     "output_type": "stream",
     "text": [
      " 34%|███████████████████████████▏                                                    | 208/612 [02:13<04:15,  1.58it/s]"
     ]
    },
    {
     "name": "stdout",
     "output_type": "stream",
     "text": [
      "E:\\python\\segmentation\\Computer Vision\\Computer Vision\\Data\\braintomurarchive\\images\\2233.png\n"
     ]
    },
    {
     "name": "stderr",
     "output_type": "stream",
     "text": [
      " 34%|███████████████████████████▎                                                    | 209/612 [02:14<04:13,  1.59it/s]"
     ]
    },
    {
     "name": "stdout",
     "output_type": "stream",
     "text": [
      "E:\\python\\segmentation\\Computer Vision\\Computer Vision\\Data\\braintomurarchive\\images\\2965.png\n"
     ]
    },
    {
     "name": "stderr",
     "output_type": "stream",
     "text": [
      " 34%|███████████████████████████▍                                                    | 210/612 [02:15<04:11,  1.60it/s]"
     ]
    },
    {
     "name": "stdout",
     "output_type": "stream",
     "text": [
      "E:\\python\\segmentation\\Computer Vision\\Computer Vision\\Data\\braintomurarchive\\images\\581.png\n"
     ]
    },
    {
     "name": "stderr",
     "output_type": "stream",
     "text": [
      " 34%|███████████████████████████▌                                                    | 211/612 [02:15<04:15,  1.57it/s]"
     ]
    },
    {
     "name": "stdout",
     "output_type": "stream",
     "text": [
      "E:\\python\\segmentation\\Computer Vision\\Computer Vision\\Data\\braintomurarchive\\images\\1089.png\n"
     ]
    },
    {
     "name": "stderr",
     "output_type": "stream",
     "text": [
      " 35%|███████████████████████████▋                                                    | 212/612 [02:16<04:14,  1.57it/s]"
     ]
    },
    {
     "name": "stdout",
     "output_type": "stream",
     "text": [
      "E:\\python\\segmentation\\Computer Vision\\Computer Vision\\Data\\braintomurarchive\\images\\2627.png\n"
     ]
    },
    {
     "name": "stderr",
     "output_type": "stream",
     "text": [
      " 35%|███████████████████████████▊                                                    | 213/612 [02:17<04:12,  1.58it/s]"
     ]
    },
    {
     "name": "stdout",
     "output_type": "stream",
     "text": [
      "E:\\python\\segmentation\\Computer Vision\\Computer Vision\\Data\\braintomurarchive\\images\\1411.png\n"
     ]
    },
    {
     "name": "stderr",
     "output_type": "stream",
     "text": [
      " 35%|███████████████████████████▉                                                    | 214/612 [02:17<04:12,  1.58it/s]"
     ]
    },
    {
     "name": "stdout",
     "output_type": "stream",
     "text": [
      "E:\\python\\segmentation\\Computer Vision\\Computer Vision\\Data\\braintomurarchive\\images\\244.png\n"
     ]
    },
    {
     "name": "stderr",
     "output_type": "stream",
     "text": [
      " 35%|████████████████████████████                                                    | 215/612 [02:18<04:11,  1.58it/s]"
     ]
    },
    {
     "name": "stdout",
     "output_type": "stream",
     "text": [
      "E:\\python\\segmentation\\Computer Vision\\Computer Vision\\Data\\braintomurarchive\\images\\2609.png\n"
     ]
    },
    {
     "name": "stderr",
     "output_type": "stream",
     "text": [
      " 35%|████████████████████████████▏                                                   | 216/612 [02:18<04:13,  1.56it/s]"
     ]
    },
    {
     "name": "stdout",
     "output_type": "stream",
     "text": [
      "E:\\python\\segmentation\\Computer Vision\\Computer Vision\\Data\\braintomurarchive\\images\\855.png\n"
     ]
    },
    {
     "name": "stderr",
     "output_type": "stream",
     "text": [
      " 35%|████████████████████████████▎                                                   | 217/612 [02:19<04:10,  1.58it/s]"
     ]
    },
    {
     "name": "stdout",
     "output_type": "stream",
     "text": [
      "E:\\python\\segmentation\\Computer Vision\\Computer Vision\\Data\\braintomurarchive\\images\\2909.png\n"
     ]
    },
    {
     "name": "stderr",
     "output_type": "stream",
     "text": [
      " 36%|████████████████████████████▍                                                   | 218/612 [02:20<04:11,  1.57it/s]"
     ]
    },
    {
     "name": "stdout",
     "output_type": "stream",
     "text": [
      "E:\\python\\segmentation\\Computer Vision\\Computer Vision\\Data\\braintomurarchive\\images\\1207.png\n"
     ]
    },
    {
     "name": "stderr",
     "output_type": "stream",
     "text": [
      " 36%|████████████████████████████▋                                                   | 219/612 [02:20<04:05,  1.60it/s]"
     ]
    },
    {
     "name": "stdout",
     "output_type": "stream",
     "text": [
      "E:\\python\\segmentation\\Computer Vision\\Computer Vision\\Data\\braintomurarchive\\images\\2593.png\n"
     ]
    },
    {
     "name": "stderr",
     "output_type": "stream",
     "text": [
      " 36%|████████████████████████████▊                                                   | 220/612 [02:21<04:05,  1.60it/s]"
     ]
    },
    {
     "name": "stdout",
     "output_type": "stream",
     "text": [
      "E:\\python\\segmentation\\Computer Vision\\Computer Vision\\Data\\braintomurarchive\\images\\184.png\n"
     ]
    },
    {
     "name": "stderr",
     "output_type": "stream",
     "text": [
      " 36%|████████████████████████████▉                                                   | 221/612 [02:22<04:05,  1.59it/s]"
     ]
    },
    {
     "name": "stdout",
     "output_type": "stream",
     "text": [
      "E:\\python\\segmentation\\Computer Vision\\Computer Vision\\Data\\braintomurarchive\\images\\2060.png\n"
     ]
    },
    {
     "name": "stderr",
     "output_type": "stream",
     "text": [
      " 36%|█████████████████████████████                                                   | 222/612 [02:22<04:04,  1.60it/s]"
     ]
    },
    {
     "name": "stdout",
     "output_type": "stream",
     "text": [
      "E:\\python\\segmentation\\Computer Vision\\Computer Vision\\Data\\braintomurarchive\\images\\159.png\n"
     ]
    },
    {
     "name": "stderr",
     "output_type": "stream",
     "text": [
      " 36%|█████████████████████████████▏                                                  | 223/612 [02:23<04:05,  1.59it/s]"
     ]
    },
    {
     "name": "stdout",
     "output_type": "stream",
     "text": [
      "E:\\python\\segmentation\\Computer Vision\\Computer Vision\\Data\\braintomurarchive\\images\\512.png\n"
     ]
    },
    {
     "name": "stderr",
     "output_type": "stream",
     "text": [
      " 37%|█████████████████████████████▎                                                  | 224/612 [02:23<04:06,  1.57it/s]"
     ]
    },
    {
     "name": "stdout",
     "output_type": "stream",
     "text": [
      "E:\\python\\segmentation\\Computer Vision\\Computer Vision\\Data\\braintomurarchive\\images\\2732.png\n"
     ]
    },
    {
     "name": "stderr",
     "output_type": "stream",
     "text": [
      " 37%|█████████████████████████████▍                                                  | 225/612 [02:24<04:05,  1.58it/s]"
     ]
    },
    {
     "name": "stdout",
     "output_type": "stream",
     "text": [
      "E:\\python\\segmentation\\Computer Vision\\Computer Vision\\Data\\braintomurarchive\\images\\2994.png\n"
     ]
    },
    {
     "name": "stderr",
     "output_type": "stream",
     "text": [
      " 37%|█████████████████████████████▌                                                  | 226/612 [02:25<04:01,  1.60it/s]"
     ]
    },
    {
     "name": "stdout",
     "output_type": "stream",
     "text": [
      "E:\\python\\segmentation\\Computer Vision\\Computer Vision\\Data\\braintomurarchive\\images\\2394.png\n"
     ]
    },
    {
     "name": "stderr",
     "output_type": "stream",
     "text": [
      " 37%|█████████████████████████████▋                                                  | 227/612 [02:25<04:00,  1.60it/s]"
     ]
    },
    {
     "name": "stdout",
     "output_type": "stream",
     "text": [
      "E:\\python\\segmentation\\Computer Vision\\Computer Vision\\Data\\braintomurarchive\\images\\1420.png\n"
     ]
    },
    {
     "name": "stderr",
     "output_type": "stream",
     "text": [
      " 37%|█████████████████████████████▊                                                  | 228/612 [02:26<03:59,  1.60it/s]"
     ]
    },
    {
     "name": "stdout",
     "output_type": "stream",
     "text": [
      "E:\\python\\segmentation\\Computer Vision\\Computer Vision\\Data\\braintomurarchive\\images\\1814.png\n"
     ]
    },
    {
     "name": "stderr",
     "output_type": "stream",
     "text": [
      " 37%|█████████████████████████████▉                                                  | 229/612 [02:27<04:00,  1.59it/s]"
     ]
    },
    {
     "name": "stdout",
     "output_type": "stream",
     "text": [
      "E:\\python\\segmentation\\Computer Vision\\Computer Vision\\Data\\braintomurarchive\\images\\782.png\n"
     ]
    },
    {
     "name": "stderr",
     "output_type": "stream",
     "text": [
      " 38%|██████████████████████████████                                                  | 230/612 [02:27<04:06,  1.55it/s]"
     ]
    },
    {
     "name": "stdout",
     "output_type": "stream",
     "text": [
      "E:\\python\\segmentation\\Computer Vision\\Computer Vision\\Data\\braintomurarchive\\images\\1437.png\n"
     ]
    },
    {
     "name": "stderr",
     "output_type": "stream",
     "text": [
      " 38%|██████████████████████████████▏                                                 | 231/612 [02:28<04:01,  1.58it/s]"
     ]
    },
    {
     "name": "stdout",
     "output_type": "stream",
     "text": [
      "E:\\python\\segmentation\\Computer Vision\\Computer Vision\\Data\\braintomurarchive\\images\\2300.png\n"
     ]
    },
    {
     "name": "stderr",
     "output_type": "stream",
     "text": [
      " 38%|██████████████████████████████▎                                                 | 232/612 [02:29<04:03,  1.56it/s]"
     ]
    },
    {
     "name": "stdout",
     "output_type": "stream",
     "text": [
      "E:\\python\\segmentation\\Computer Vision\\Computer Vision\\Data\\braintomurarchive\\images\\2801.png\n"
     ]
    },
    {
     "name": "stderr",
     "output_type": "stream",
     "text": [
      " 38%|██████████████████████████████▍                                                 | 233/612 [02:29<04:01,  1.57it/s]"
     ]
    },
    {
     "name": "stdout",
     "output_type": "stream",
     "text": [
      "E:\\python\\segmentation\\Computer Vision\\Computer Vision\\Data\\braintomurarchive\\images\\2418.png\n"
     ]
    },
    {
     "name": "stderr",
     "output_type": "stream",
     "text": [
      " 38%|██████████████████████████████▌                                                 | 234/612 [02:30<04:00,  1.57it/s]"
     ]
    },
    {
     "name": "stdout",
     "output_type": "stream",
     "text": [
      "E:\\python\\segmentation\\Computer Vision\\Computer Vision\\Data\\braintomurarchive\\images\\1955.png\n"
     ]
    },
    {
     "name": "stderr",
     "output_type": "stream",
     "text": [
      " 38%|██████████████████████████████▋                                                 | 235/612 [02:30<03:59,  1.58it/s]"
     ]
    },
    {
     "name": "stdout",
     "output_type": "stream",
     "text": [
      "E:\\python\\segmentation\\Computer Vision\\Computer Vision\\Data\\braintomurarchive\\images\\1342.png\n"
     ]
    },
    {
     "name": "stderr",
     "output_type": "stream",
     "text": [
      " 39%|██████████████████████████████▊                                                 | 236/612 [02:31<04:00,  1.57it/s]"
     ]
    },
    {
     "name": "stdout",
     "output_type": "stream",
     "text": [
      "E:\\python\\segmentation\\Computer Vision\\Computer Vision\\Data\\braintomurarchive\\images\\1585.png\n"
     ]
    },
    {
     "name": "stderr",
     "output_type": "stream",
     "text": [
      " 39%|██████████████████████████████▉                                                 | 237/612 [02:32<03:56,  1.59it/s]"
     ]
    },
    {
     "name": "stdout",
     "output_type": "stream",
     "text": [
      "E:\\python\\segmentation\\Computer Vision\\Computer Vision\\Data\\braintomurarchive\\images\\6.png\n"
     ]
    },
    {
     "name": "stderr",
     "output_type": "stream",
     "text": [
      " 39%|███████████████████████████████                                                 | 238/612 [02:32<03:56,  1.58it/s]"
     ]
    },
    {
     "name": "stdout",
     "output_type": "stream",
     "text": [
      "E:\\python\\segmentation\\Computer Vision\\Computer Vision\\Data\\braintomurarchive\\images\\718.png\n"
     ]
    },
    {
     "name": "stderr",
     "output_type": "stream",
     "text": [
      " 39%|███████████████████████████████▏                                                | 239/612 [02:33<03:53,  1.60it/s]"
     ]
    },
    {
     "name": "stdout",
     "output_type": "stream",
     "text": [
      "E:\\python\\segmentation\\Computer Vision\\Computer Vision\\Data\\braintomurarchive\\images\\437.png\n"
     ]
    },
    {
     "name": "stderr",
     "output_type": "stream",
     "text": [
      " 39%|███████████████████████████████▎                                                | 240/612 [02:34<03:54,  1.59it/s]"
     ]
    },
    {
     "name": "stdout",
     "output_type": "stream",
     "text": [
      "E:\\python\\segmentation\\Computer Vision\\Computer Vision\\Data\\braintomurarchive\\images\\1792.png\n"
     ]
    },
    {
     "name": "stderr",
     "output_type": "stream",
     "text": [
      " 39%|███████████████████████████████▌                                                | 241/612 [02:34<03:54,  1.58it/s]"
     ]
    },
    {
     "name": "stdout",
     "output_type": "stream",
     "text": [
      "E:\\python\\segmentation\\Computer Vision\\Computer Vision\\Data\\braintomurarchive\\images\\1681.png\n"
     ]
    },
    {
     "name": "stderr",
     "output_type": "stream",
     "text": [
      " 40%|███████████████████████████████▋                                                | 242/612 [02:35<03:55,  1.57it/s]"
     ]
    },
    {
     "name": "stdout",
     "output_type": "stream",
     "text": [
      "E:\\python\\segmentation\\Computer Vision\\Computer Vision\\Data\\braintomurarchive\\images\\750.png\n"
     ]
    },
    {
     "name": "stderr",
     "output_type": "stream",
     "text": [
      " 40%|███████████████████████████████▊                                                | 243/612 [02:35<03:51,  1.60it/s]"
     ]
    },
    {
     "name": "stdout",
     "output_type": "stream",
     "text": [
      "E:\\python\\segmentation\\Computer Vision\\Computer Vision\\Data\\braintomurarchive\\images\\1826.png\n"
     ]
    },
    {
     "name": "stderr",
     "output_type": "stream",
     "text": [
      " 40%|███████████████████████████████▉                                                | 244/612 [02:36<03:50,  1.60it/s]"
     ]
    },
    {
     "name": "stdout",
     "output_type": "stream",
     "text": [
      "E:\\python\\segmentation\\Computer Vision\\Computer Vision\\Data\\braintomurarchive\\images\\2061.png\n"
     ]
    },
    {
     "name": "stderr",
     "output_type": "stream",
     "text": [
      " 40%|████████████████████████████████                                                | 245/612 [02:37<03:48,  1.60it/s]"
     ]
    },
    {
     "name": "stdout",
     "output_type": "stream",
     "text": [
      "E:\\python\\segmentation\\Computer Vision\\Computer Vision\\Data\\braintomurarchive\\images\\2858.png\n"
     ]
    },
    {
     "name": "stderr",
     "output_type": "stream",
     "text": [
      " 40%|████████████████████████████████▏                                               | 246/612 [02:37<03:49,  1.60it/s]"
     ]
    },
    {
     "name": "stdout",
     "output_type": "stream",
     "text": [
      "E:\\python\\segmentation\\Computer Vision\\Computer Vision\\Data\\braintomurarchive\\images\\2101.png\n"
     ]
    },
    {
     "name": "stderr",
     "output_type": "stream",
     "text": [
      " 40%|████████████████████████████████▎                                               | 247/612 [02:38<03:47,  1.60it/s]"
     ]
    },
    {
     "name": "stdout",
     "output_type": "stream",
     "text": [
      "E:\\python\\segmentation\\Computer Vision\\Computer Vision\\Data\\braintomurarchive\\images\\1006.png\n"
     ]
    },
    {
     "name": "stderr",
     "output_type": "stream",
     "text": [
      " 41%|████████████████████████████████▍                                               | 248/612 [02:39<03:50,  1.58it/s]"
     ]
    },
    {
     "name": "stdout",
     "output_type": "stream",
     "text": [
      "E:\\python\\segmentation\\Computer Vision\\Computer Vision\\Data\\braintomurarchive\\images\\2808.png\n"
     ]
    },
    {
     "name": "stderr",
     "output_type": "stream",
     "text": [
      " 41%|████████████████████████████████▌                                               | 249/612 [02:39<03:49,  1.58it/s]"
     ]
    },
    {
     "name": "stdout",
     "output_type": "stream",
     "text": [
      "E:\\python\\segmentation\\Computer Vision\\Computer Vision\\Data\\braintomurarchive\\images\\1803.png\n"
     ]
    },
    {
     "name": "stderr",
     "output_type": "stream",
     "text": [
      " 41%|████████████████████████████████▋                                               | 250/612 [02:40<03:49,  1.58it/s]"
     ]
    },
    {
     "name": "stdout",
     "output_type": "stream",
     "text": [
      "E:\\python\\segmentation\\Computer Vision\\Computer Vision\\Data\\braintomurarchive\\images\\1491.png\n"
     ]
    },
    {
     "name": "stderr",
     "output_type": "stream",
     "text": [
      " 41%|████████████████████████████████▊                                               | 251/612 [02:41<03:47,  1.59it/s]"
     ]
    },
    {
     "name": "stdout",
     "output_type": "stream",
     "text": [
      "E:\\python\\segmentation\\Computer Vision\\Computer Vision\\Data\\braintomurarchive\\images\\3012.png\n"
     ]
    },
    {
     "name": "stderr",
     "output_type": "stream",
     "text": [
      " 41%|████████████████████████████████▉                                               | 252/612 [02:41<03:48,  1.58it/s]"
     ]
    },
    {
     "name": "stdout",
     "output_type": "stream",
     "text": [
      "E:\\python\\segmentation\\Computer Vision\\Computer Vision\\Data\\braintomurarchive\\images\\2566.png\n"
     ]
    },
    {
     "name": "stderr",
     "output_type": "stream",
     "text": [
      " 41%|█████████████████████████████████                                               | 253/612 [02:42<03:46,  1.59it/s]"
     ]
    },
    {
     "name": "stdout",
     "output_type": "stream",
     "text": [
      "E:\\python\\segmentation\\Computer Vision\\Computer Vision\\Data\\braintomurarchive\\images\\841.png\n"
     ]
    },
    {
     "name": "stderr",
     "output_type": "stream",
     "text": [
      " 42%|█████████████████████████████████▏                                              | 254/612 [02:42<03:46,  1.58it/s]"
     ]
    },
    {
     "name": "stdout",
     "output_type": "stream",
     "text": [
      "E:\\python\\segmentation\\Computer Vision\\Computer Vision\\Data\\braintomurarchive\\images\\2922.png\n"
     ]
    },
    {
     "name": "stderr",
     "output_type": "stream",
     "text": [
      " 42%|█████████████████████████████████▎                                              | 255/612 [02:43<03:45,  1.58it/s]"
     ]
    },
    {
     "name": "stdout",
     "output_type": "stream",
     "text": [
      "E:\\python\\segmentation\\Computer Vision\\Computer Vision\\Data\\braintomurarchive\\images\\2359.png\n"
     ]
    },
    {
     "name": "stderr",
     "output_type": "stream",
     "text": [
      " 42%|█████████████████████████████████▍                                              | 256/612 [02:44<03:45,  1.58it/s]"
     ]
    },
    {
     "name": "stdout",
     "output_type": "stream",
     "text": [
      "E:\\python\\segmentation\\Computer Vision\\Computer Vision\\Data\\braintomurarchive\\images\\1304.png\n"
     ]
    },
    {
     "name": "stderr",
     "output_type": "stream",
     "text": [
      " 42%|█████████████████████████████████▌                                              | 257/612 [02:44<03:44,  1.58it/s]"
     ]
    },
    {
     "name": "stdout",
     "output_type": "stream",
     "text": [
      "E:\\python\\segmentation\\Computer Vision\\Computer Vision\\Data\\braintomurarchive\\images\\1063.png\n"
     ]
    },
    {
     "name": "stderr",
     "output_type": "stream",
     "text": [
      " 42%|█████████████████████████████████▋                                              | 258/612 [02:45<03:42,  1.59it/s]"
     ]
    },
    {
     "name": "stdout",
     "output_type": "stream",
     "text": [
      "E:\\python\\segmentation\\Computer Vision\\Computer Vision\\Data\\braintomurarchive\\images\\769.png\n"
     ]
    },
    {
     "name": "stderr",
     "output_type": "stream",
     "text": [
      " 42%|█████████████████████████████████▊                                              | 259/612 [02:46<03:41,  1.59it/s]"
     ]
    },
    {
     "name": "stdout",
     "output_type": "stream",
     "text": [
      "E:\\python\\segmentation\\Computer Vision\\Computer Vision\\Data\\braintomurarchive\\images\\2246.png\n"
     ]
    },
    {
     "name": "stderr",
     "output_type": "stream",
     "text": [
      " 42%|█████████████████████████████████▉                                              | 260/612 [02:46<03:42,  1.58it/s]"
     ]
    },
    {
     "name": "stdout",
     "output_type": "stream",
     "text": [
      "E:\\python\\segmentation\\Computer Vision\\Computer Vision\\Data\\braintomurarchive\\images\\2362.png\n"
     ]
    },
    {
     "name": "stderr",
     "output_type": "stream",
     "text": [
      " 43%|██████████████████████████████████                                              | 261/612 [02:47<03:38,  1.61it/s]"
     ]
    },
    {
     "name": "stdout",
     "output_type": "stream",
     "text": [
      "E:\\python\\segmentation\\Computer Vision\\Computer Vision\\Data\\braintomurarchive\\images\\550.png\n"
     ]
    },
    {
     "name": "stderr",
     "output_type": "stream",
     "text": [
      " 43%|██████████████████████████████████▏                                             | 262/612 [02:47<03:41,  1.58it/s]"
     ]
    },
    {
     "name": "stdout",
     "output_type": "stream",
     "text": [
      "E:\\python\\segmentation\\Computer Vision\\Computer Vision\\Data\\braintomurarchive\\images\\2878.png\n"
     ]
    },
    {
     "name": "stderr",
     "output_type": "stream",
     "text": [
      " 43%|██████████████████████████████████▍                                             | 263/612 [02:48<03:39,  1.59it/s]"
     ]
    },
    {
     "name": "stdout",
     "output_type": "stream",
     "text": [
      "E:\\python\\segmentation\\Computer Vision\\Computer Vision\\Data\\braintomurarchive\\images\\1021.png\n"
     ]
    },
    {
     "name": "stderr",
     "output_type": "stream",
     "text": [
      " 43%|██████████████████████████████████▌                                             | 264/612 [02:49<03:38,  1.59it/s]"
     ]
    },
    {
     "name": "stdout",
     "output_type": "stream",
     "text": [
      "E:\\python\\segmentation\\Computer Vision\\Computer Vision\\Data\\braintomurarchive\\images\\197.png\n"
     ]
    },
    {
     "name": "stderr",
     "output_type": "stream",
     "text": [
      " 43%|██████████████████████████████████▋                                             | 265/612 [02:49<03:41,  1.57it/s]"
     ]
    },
    {
     "name": "stdout",
     "output_type": "stream",
     "text": [
      "E:\\python\\segmentation\\Computer Vision\\Computer Vision\\Data\\braintomurarchive\\images\\1274.png\n"
     ]
    },
    {
     "name": "stderr",
     "output_type": "stream",
     "text": [
      " 43%|██████████████████████████████████▊                                             | 266/612 [02:50<03:41,  1.56it/s]"
     ]
    },
    {
     "name": "stdout",
     "output_type": "stream",
     "text": [
      "E:\\python\\segmentation\\Computer Vision\\Computer Vision\\Data\\braintomurarchive\\images\\915.png\n"
     ]
    },
    {
     "name": "stderr",
     "output_type": "stream",
     "text": [
      " 44%|██████████████████████████████████▉                                             | 267/612 [02:51<03:38,  1.58it/s]"
     ]
    },
    {
     "name": "stdout",
     "output_type": "stream",
     "text": [
      "E:\\python\\segmentation\\Computer Vision\\Computer Vision\\Data\\braintomurarchive\\images\\2360.png\n"
     ]
    },
    {
     "name": "stderr",
     "output_type": "stream",
     "text": [
      " 44%|███████████████████████████████████                                             | 268/612 [02:51<03:34,  1.61it/s]"
     ]
    },
    {
     "name": "stdout",
     "output_type": "stream",
     "text": [
      "E:\\python\\segmentation\\Computer Vision\\Computer Vision\\Data\\braintomurarchive\\images\\1553.png\n"
     ]
    },
    {
     "name": "stderr",
     "output_type": "stream",
     "text": [
      " 44%|███████████████████████████████████▏                                            | 269/612 [02:52<03:34,  1.60it/s]"
     ]
    },
    {
     "name": "stdout",
     "output_type": "stream",
     "text": [
      "E:\\python\\segmentation\\Computer Vision\\Computer Vision\\Data\\braintomurarchive\\images\\2262.png\n"
     ]
    },
    {
     "name": "stderr",
     "output_type": "stream",
     "text": [
      " 44%|███████████████████████████████████▎                                            | 270/612 [02:52<03:33,  1.60it/s]"
     ]
    },
    {
     "name": "stdout",
     "output_type": "stream",
     "text": [
      "E:\\python\\segmentation\\Computer Vision\\Computer Vision\\Data\\braintomurarchive\\images\\2096.png\n"
     ]
    },
    {
     "name": "stderr",
     "output_type": "stream",
     "text": [
      " 44%|███████████████████████████████████▍                                            | 271/612 [02:53<03:32,  1.61it/s]"
     ]
    },
    {
     "name": "stdout",
     "output_type": "stream",
     "text": [
      "E:\\python\\segmentation\\Computer Vision\\Computer Vision\\Data\\braintomurarchive\\images\\2385.png\n"
     ]
    },
    {
     "name": "stderr",
     "output_type": "stream",
     "text": [
      " 44%|███████████████████████████████████▌                                            | 272/612 [02:54<03:38,  1.56it/s]"
     ]
    },
    {
     "name": "stdout",
     "output_type": "stream",
     "text": [
      "E:\\python\\segmentation\\Computer Vision\\Computer Vision\\Data\\braintomurarchive\\images\\2073.png\n"
     ]
    },
    {
     "name": "stderr",
     "output_type": "stream",
     "text": [
      " 45%|███████████████████████████████████▋                                            | 273/612 [02:54<03:34,  1.58it/s]"
     ]
    },
    {
     "name": "stdout",
     "output_type": "stream",
     "text": [
      "E:\\python\\segmentation\\Computer Vision\\Computer Vision\\Data\\braintomurarchive\\images\\979.png\n"
     ]
    },
    {
     "name": "stderr",
     "output_type": "stream",
     "text": [
      " 45%|███████████████████████████████████▊                                            | 274/612 [02:55<03:35,  1.57it/s]"
     ]
    },
    {
     "name": "stdout",
     "output_type": "stream",
     "text": [
      "E:\\python\\segmentation\\Computer Vision\\Computer Vision\\Data\\braintomurarchive\\images\\1658.png\n"
     ]
    },
    {
     "name": "stderr",
     "output_type": "stream",
     "text": [
      " 45%|███████████████████████████████████▉                                            | 275/612 [02:56<03:33,  1.58it/s]"
     ]
    },
    {
     "name": "stdout",
     "output_type": "stream",
     "text": [
      "E:\\python\\segmentation\\Computer Vision\\Computer Vision\\Data\\braintomurarchive\\images\\864.png\n"
     ]
    },
    {
     "name": "stderr",
     "output_type": "stream",
     "text": [
      " 45%|████████████████████████████████████                                            | 276/612 [02:56<03:31,  1.59it/s]"
     ]
    },
    {
     "name": "stdout",
     "output_type": "stream",
     "text": [
      "E:\\python\\segmentation\\Computer Vision\\Computer Vision\\Data\\braintomurarchive\\images\\2571.png\n"
     ]
    },
    {
     "name": "stderr",
     "output_type": "stream",
     "text": [
      " 45%|████████████████████████████████████▏                                           | 277/612 [02:57<03:31,  1.59it/s]"
     ]
    },
    {
     "name": "stdout",
     "output_type": "stream",
     "text": [
      "E:\\python\\segmentation\\Computer Vision\\Computer Vision\\Data\\braintomurarchive\\images\\1269.png\n"
     ]
    },
    {
     "name": "stderr",
     "output_type": "stream",
     "text": [
      " 45%|████████████████████████████████████▎                                           | 278/612 [02:58<03:32,  1.57it/s]"
     ]
    },
    {
     "name": "stdout",
     "output_type": "stream",
     "text": [
      "E:\\python\\segmentation\\Computer Vision\\Computer Vision\\Data\\braintomurarchive\\images\\985.png\n"
     ]
    },
    {
     "name": "stderr",
     "output_type": "stream",
     "text": [
      " 46%|████████████████████████████████████▍                                           | 279/612 [02:58<03:30,  1.58it/s]"
     ]
    },
    {
     "name": "stdout",
     "output_type": "stream",
     "text": [
      "E:\\python\\segmentation\\Computer Vision\\Computer Vision\\Data\\braintomurarchive\\images\\847.png\n"
     ]
    },
    {
     "name": "stderr",
     "output_type": "stream",
     "text": [
      " 46%|████████████████████████████████████▌                                           | 280/612 [02:59<03:32,  1.56it/s]"
     ]
    },
    {
     "name": "stdout",
     "output_type": "stream",
     "text": [
      "E:\\python\\segmentation\\Computer Vision\\Computer Vision\\Data\\braintomurarchive\\images\\1218.png\n"
     ]
    },
    {
     "name": "stderr",
     "output_type": "stream",
     "text": [
      " 46%|████████████████████████████████████▋                                           | 281/612 [02:59<03:29,  1.58it/s]"
     ]
    },
    {
     "name": "stdout",
     "output_type": "stream",
     "text": [
      "E:\\python\\segmentation\\Computer Vision\\Computer Vision\\Data\\braintomurarchive\\images\\926.png\n"
     ]
    },
    {
     "name": "stderr",
     "output_type": "stream",
     "text": [
      " 46%|████████████████████████████████████▊                                           | 282/612 [03:00<03:27,  1.59it/s]"
     ]
    },
    {
     "name": "stdout",
     "output_type": "stream",
     "text": [
      "E:\\python\\segmentation\\Computer Vision\\Computer Vision\\Data\\braintomurarchive\\images\\2029.png\n"
     ]
    },
    {
     "name": "stderr",
     "output_type": "stream",
     "text": [
      " 46%|████████████████████████████████████▉                                           | 283/612 [03:01<03:25,  1.60it/s]"
     ]
    },
    {
     "name": "stdout",
     "output_type": "stream",
     "text": [
      "E:\\python\\segmentation\\Computer Vision\\Computer Vision\\Data\\braintomurarchive\\images\\559.png\n"
     ]
    },
    {
     "name": "stderr",
     "output_type": "stream",
     "text": [
      " 46%|█████████████████████████████████████                                           | 284/612 [03:01<03:28,  1.57it/s]"
     ]
    },
    {
     "name": "stdout",
     "output_type": "stream",
     "text": [
      "E:\\python\\segmentation\\Computer Vision\\Computer Vision\\Data\\braintomurarchive\\images\\16.png\n"
     ]
    },
    {
     "name": "stderr",
     "output_type": "stream",
     "text": [
      " 47%|█████████████████████████████████████▎                                          | 285/612 [03:02<03:26,  1.59it/s]"
     ]
    },
    {
     "name": "stdout",
     "output_type": "stream",
     "text": [
      "E:\\python\\segmentation\\Computer Vision\\Computer Vision\\Data\\braintomurarchive\\images\\1972.png\n"
     ]
    },
    {
     "name": "stderr",
     "output_type": "stream",
     "text": [
      " 47%|█████████████████████████████████████▍                                          | 286/612 [03:03<03:22,  1.61it/s]"
     ]
    },
    {
     "name": "stdout",
     "output_type": "stream",
     "text": [
      "E:\\python\\segmentation\\Computer Vision\\Computer Vision\\Data\\braintomurarchive\\images\\2837.png\n"
     ]
    },
    {
     "name": "stderr",
     "output_type": "stream",
     "text": [
      " 47%|█████████████████████████████████████▌                                          | 287/612 [03:03<03:22,  1.61it/s]"
     ]
    },
    {
     "name": "stdout",
     "output_type": "stream",
     "text": [
      "E:\\python\\segmentation\\Computer Vision\\Computer Vision\\Data\\braintomurarchive\\images\\1050.png\n"
     ]
    },
    {
     "name": "stderr",
     "output_type": "stream",
     "text": [
      " 47%|█████████████████████████████████████▋                                          | 288/612 [03:04<03:22,  1.60it/s]"
     ]
    },
    {
     "name": "stdout",
     "output_type": "stream",
     "text": [
      "E:\\python\\segmentation\\Computer Vision\\Computer Vision\\Data\\braintomurarchive\\images\\2971.png\n"
     ]
    },
    {
     "name": "stderr",
     "output_type": "stream",
     "text": [
      " 47%|█████████████████████████████████████▊                                          | 289/612 [03:05<03:31,  1.53it/s]"
     ]
    },
    {
     "name": "stdout",
     "output_type": "stream",
     "text": [
      "E:\\python\\segmentation\\Computer Vision\\Computer Vision\\Data\\braintomurarchive\\images\\1988.png\n"
     ]
    },
    {
     "name": "stderr",
     "output_type": "stream",
     "text": [
      " 47%|█████████████████████████████████████▉                                          | 290/612 [03:05<03:30,  1.53it/s]"
     ]
    },
    {
     "name": "stdout",
     "output_type": "stream",
     "text": [
      "E:\\python\\segmentation\\Computer Vision\\Computer Vision\\Data\\braintomurarchive\\images\\949.png\n"
     ]
    },
    {
     "name": "stderr",
     "output_type": "stream",
     "text": [
      " 48%|██████████████████████████████████████                                          | 291/612 [03:06<03:27,  1.55it/s]"
     ]
    },
    {
     "name": "stdout",
     "output_type": "stream",
     "text": [
      "E:\\python\\segmentation\\Computer Vision\\Computer Vision\\Data\\braintomurarchive\\images\\2633.png\n"
     ]
    },
    {
     "name": "stderr",
     "output_type": "stream",
     "text": [
      " 48%|██████████████████████████████████████▏                                         | 292/612 [03:06<03:23,  1.57it/s]"
     ]
    },
    {
     "name": "stdout",
     "output_type": "stream",
     "text": [
      "E:\\python\\segmentation\\Computer Vision\\Computer Vision\\Data\\braintomurarchive\\images\\1410.png\n"
     ]
    },
    {
     "name": "stderr",
     "output_type": "stream",
     "text": [
      " 48%|██████████████████████████████████████▎                                         | 293/612 [03:07<03:22,  1.57it/s]"
     ]
    },
    {
     "name": "stdout",
     "output_type": "stream",
     "text": [
      "E:\\python\\segmentation\\Computer Vision\\Computer Vision\\Data\\braintomurarchive\\images\\1118.png\n"
     ]
    },
    {
     "name": "stderr",
     "output_type": "stream",
     "text": [
      " 48%|██████████████████████████████████████▍                                         | 294/612 [03:08<03:21,  1.58it/s]"
     ]
    },
    {
     "name": "stdout",
     "output_type": "stream",
     "text": [
      "E:\\python\\segmentation\\Computer Vision\\Computer Vision\\Data\\braintomurarchive\\images\\1185.png\n"
     ]
    },
    {
     "name": "stderr",
     "output_type": "stream",
     "text": [
      " 48%|██████████████████████████████████████▌                                         | 295/612 [03:08<03:20,  1.58it/s]"
     ]
    },
    {
     "name": "stdout",
     "output_type": "stream",
     "text": [
      "E:\\python\\segmentation\\Computer Vision\\Computer Vision\\Data\\braintomurarchive\\images\\1726.png\n"
     ]
    },
    {
     "name": "stderr",
     "output_type": "stream",
     "text": [
      " 48%|██████████████████████████████████████▋                                         | 296/612 [03:09<03:21,  1.57it/s]"
     ]
    },
    {
     "name": "stdout",
     "output_type": "stream",
     "text": [
      "E:\\python\\segmentation\\Computer Vision\\Computer Vision\\Data\\braintomurarchive\\images\\880.png\n"
     ]
    },
    {
     "name": "stderr",
     "output_type": "stream",
     "text": [
      " 49%|██████████████████████████████████████▊                                         | 297/612 [03:10<03:17,  1.60it/s]"
     ]
    },
    {
     "name": "stdout",
     "output_type": "stream",
     "text": [
      "E:\\python\\segmentation\\Computer Vision\\Computer Vision\\Data\\braintomurarchive\\images\\2951.png\n"
     ]
    },
    {
     "name": "stderr",
     "output_type": "stream",
     "text": [
      " 49%|██████████████████████████████████████▉                                         | 298/612 [03:10<03:16,  1.60it/s]"
     ]
    },
    {
     "name": "stdout",
     "output_type": "stream",
     "text": [
      "E:\\python\\segmentation\\Computer Vision\\Computer Vision\\Data\\braintomurarchive\\images\\2269.png\n"
     ]
    },
    {
     "name": "stderr",
     "output_type": "stream",
     "text": [
      " 49%|███████████████████████████████████████                                         | 299/612 [03:11<03:13,  1.61it/s]"
     ]
    },
    {
     "name": "stdout",
     "output_type": "stream",
     "text": [
      "E:\\python\\segmentation\\Computer Vision\\Computer Vision\\Data\\braintomurarchive\\images\\1555.png\n"
     ]
    },
    {
     "name": "stderr",
     "output_type": "stream",
     "text": [
      " 49%|███████████████████████████████████████▏                                        | 300/612 [03:11<03:15,  1.59it/s]"
     ]
    },
    {
     "name": "stdout",
     "output_type": "stream",
     "text": [
      "E:\\python\\segmentation\\Computer Vision\\Computer Vision\\Data\\braintomurarchive\\images\\2968.png\n"
     ]
    },
    {
     "name": "stderr",
     "output_type": "stream",
     "text": [
      " 49%|███████████████████████████████████████▎                                        | 301/612 [03:12<03:13,  1.61it/s]"
     ]
    },
    {
     "name": "stdout",
     "output_type": "stream",
     "text": [
      "E:\\python\\segmentation\\Computer Vision\\Computer Vision\\Data\\braintomurarchive\\images\\948.png\n"
     ]
    },
    {
     "name": "stderr",
     "output_type": "stream",
     "text": [
      " 49%|███████████████████████████████████████▍                                        | 302/612 [03:13<03:13,  1.61it/s]"
     ]
    },
    {
     "name": "stdout",
     "output_type": "stream",
     "text": [
      "E:\\python\\segmentation\\Computer Vision\\Computer Vision\\Data\\braintomurarchive\\images\\262.png\n"
     ]
    },
    {
     "name": "stderr",
     "output_type": "stream",
     "text": [
      " 50%|███████████████████████████████████████▌                                        | 303/612 [03:13<03:12,  1.61it/s]"
     ]
    },
    {
     "name": "stdout",
     "output_type": "stream",
     "text": [
      "E:\\python\\segmentation\\Computer Vision\\Computer Vision\\Data\\braintomurarchive\\images\\2090.png\n"
     ]
    },
    {
     "name": "stderr",
     "output_type": "stream",
     "text": [
      " 50%|███████████████████████████████████████▋                                        | 304/612 [03:14<03:11,  1.61it/s]"
     ]
    },
    {
     "name": "stdout",
     "output_type": "stream",
     "text": [
      "E:\\python\\segmentation\\Computer Vision\\Computer Vision\\Data\\braintomurarchive\\images\\2285.png\n"
     ]
    },
    {
     "name": "stderr",
     "output_type": "stream",
     "text": [
      " 50%|███████████████████████████████████████▊                                        | 305/612 [03:15<03:12,  1.60it/s]"
     ]
    },
    {
     "name": "stdout",
     "output_type": "stream",
     "text": [
      "E:\\python\\segmentation\\Computer Vision\\Computer Vision\\Data\\braintomurarchive\\images\\1262.png\n"
     ]
    },
    {
     "name": "stderr",
     "output_type": "stream",
     "text": [
      " 50%|████████████████████████████████████████                                        | 306/612 [03:15<03:11,  1.60it/s]"
     ]
    },
    {
     "name": "stdout",
     "output_type": "stream",
     "text": [
      "E:\\python\\segmentation\\Computer Vision\\Computer Vision\\Data\\braintomurarchive\\images\\2098.png\n"
     ]
    },
    {
     "name": "stderr",
     "output_type": "stream",
     "text": [
      " 50%|████████████████████████████████████████▏                                       | 307/612 [03:16<03:13,  1.58it/s]"
     ]
    },
    {
     "name": "stdout",
     "output_type": "stream",
     "text": [
      "E:\\python\\segmentation\\Computer Vision\\Computer Vision\\Data\\braintomurarchive\\images\\1662.png\n"
     ]
    },
    {
     "name": "stderr",
     "output_type": "stream",
     "text": [
      " 50%|████████████████████████████████████████▎                                       | 308/612 [03:17<03:18,  1.53it/s]"
     ]
    },
    {
     "name": "stdout",
     "output_type": "stream",
     "text": [
      "E:\\python\\segmentation\\Computer Vision\\Computer Vision\\Data\\braintomurarchive\\images\\1739.png\n"
     ]
    },
    {
     "name": "stderr",
     "output_type": "stream",
     "text": [
      " 50%|████████████████████████████████████████▍                                       | 309/612 [03:17<03:16,  1.54it/s]"
     ]
    },
    {
     "name": "stdout",
     "output_type": "stream",
     "text": [
      "E:\\python\\segmentation\\Computer Vision\\Computer Vision\\Data\\braintomurarchive\\images\\557.png\n"
     ]
    },
    {
     "name": "stderr",
     "output_type": "stream",
     "text": [
      " 51%|████████████████████████████████████████▌                                       | 310/612 [03:18<03:16,  1.54it/s]"
     ]
    },
    {
     "name": "stdout",
     "output_type": "stream",
     "text": [
      "E:\\python\\segmentation\\Computer Vision\\Computer Vision\\Data\\braintomurarchive\\images\\2718.png\n"
     ]
    },
    {
     "name": "stderr",
     "output_type": "stream",
     "text": [
      " 51%|████████████████████████████████████████▋                                       | 311/612 [03:18<03:14,  1.55it/s]"
     ]
    },
    {
     "name": "stdout",
     "output_type": "stream",
     "text": [
      "E:\\python\\segmentation\\Computer Vision\\Computer Vision\\Data\\braintomurarchive\\images\\2172.png\n"
     ]
    },
    {
     "name": "stderr",
     "output_type": "stream",
     "text": [
      " 51%|████████████████████████████████████████▊                                       | 312/612 [03:19<03:10,  1.57it/s]"
     ]
    },
    {
     "name": "stdout",
     "output_type": "stream",
     "text": [
      "E:\\python\\segmentation\\Computer Vision\\Computer Vision\\Data\\braintomurarchive\\images\\2729.png\n"
     ]
    },
    {
     "name": "stderr",
     "output_type": "stream",
     "text": [
      " 51%|████████████████████████████████████████▉                                       | 313/612 [03:20<03:09,  1.58it/s]"
     ]
    },
    {
     "name": "stdout",
     "output_type": "stream",
     "text": [
      "E:\\python\\segmentation\\Computer Vision\\Computer Vision\\Data\\braintomurarchive\\images\\361.png\n"
     ]
    },
    {
     "name": "stderr",
     "output_type": "stream",
     "text": [
      " 51%|█████████████████████████████████████████                                       | 314/612 [03:20<03:14,  1.54it/s]"
     ]
    },
    {
     "name": "stdout",
     "output_type": "stream",
     "text": [
      "E:\\python\\segmentation\\Computer Vision\\Computer Vision\\Data\\braintomurarchive\\images\\2647.png\n"
     ]
    },
    {
     "name": "stderr",
     "output_type": "stream",
     "text": [
      " 51%|█████████████████████████████████████████▏                                      | 315/612 [03:21<03:11,  1.55it/s]"
     ]
    },
    {
     "name": "stdout",
     "output_type": "stream",
     "text": [
      "E:\\python\\segmentation\\Computer Vision\\Computer Vision\\Data\\braintomurarchive\\images\\2489.png\n"
     ]
    },
    {
     "name": "stderr",
     "output_type": "stream",
     "text": [
      " 52%|█████████████████████████████████████████▎                                      | 316/612 [03:22<03:09,  1.56it/s]"
     ]
    },
    {
     "name": "stdout",
     "output_type": "stream",
     "text": [
      "E:\\python\\segmentation\\Computer Vision\\Computer Vision\\Data\\braintomurarchive\\images\\822.png\n"
     ]
    },
    {
     "name": "stderr",
     "output_type": "stream",
     "text": [
      " 52%|█████████████████████████████████████████▍                                      | 317/612 [03:22<03:06,  1.59it/s]"
     ]
    },
    {
     "name": "stdout",
     "output_type": "stream",
     "text": [
      "E:\\python\\segmentation\\Computer Vision\\Computer Vision\\Data\\braintomurarchive\\images\\2305.png\n"
     ]
    },
    {
     "name": "stderr",
     "output_type": "stream",
     "text": [
      " 52%|█████████████████████████████████████████▌                                      | 318/612 [03:23<03:04,  1.59it/s]"
     ]
    },
    {
     "name": "stdout",
     "output_type": "stream",
     "text": [
      "E:\\python\\segmentation\\Computer Vision\\Computer Vision\\Data\\braintomurarchive\\images\\2655.png\n"
     ]
    },
    {
     "name": "stderr",
     "output_type": "stream",
     "text": [
      " 52%|█████████████████████████████████████████▋                                      | 319/612 [03:24<03:03,  1.59it/s]"
     ]
    },
    {
     "name": "stdout",
     "output_type": "stream",
     "text": [
      "E:\\python\\segmentation\\Computer Vision\\Computer Vision\\Data\\braintomurarchive\\images\\2957.png\n"
     ]
    },
    {
     "name": "stderr",
     "output_type": "stream",
     "text": [
      " 52%|█████████████████████████████████████████▊                                      | 320/612 [03:24<03:03,  1.59it/s]"
     ]
    },
    {
     "name": "stdout",
     "output_type": "stream",
     "text": [
      "E:\\python\\segmentation\\Computer Vision\\Computer Vision\\Data\\braintomurarchive\\images\\1194.png\n"
     ]
    },
    {
     "name": "stderr",
     "output_type": "stream",
     "text": [
      " 52%|█████████████████████████████████████████▉                                      | 321/612 [03:25<03:03,  1.59it/s]"
     ]
    },
    {
     "name": "stdout",
     "output_type": "stream",
     "text": [
      "E:\\python\\segmentation\\Computer Vision\\Computer Vision\\Data\\braintomurarchive\\images\\2198.png\n"
     ]
    },
    {
     "name": "stderr",
     "output_type": "stream",
     "text": [
      " 53%|██████████████████████████████████████████                                      | 322/612 [03:25<03:04,  1.57it/s]"
     ]
    },
    {
     "name": "stdout",
     "output_type": "stream",
     "text": [
      "E:\\python\\segmentation\\Computer Vision\\Computer Vision\\Data\\braintomurarchive\\images\\2497.png\n"
     ]
    },
    {
     "name": "stderr",
     "output_type": "stream",
     "text": [
      " 53%|██████████████████████████████████████████▏                                     | 323/612 [03:26<03:00,  1.60it/s]"
     ]
    },
    {
     "name": "stdout",
     "output_type": "stream",
     "text": [
      "E:\\python\\segmentation\\Computer Vision\\Computer Vision\\Data\\braintomurarchive\\images\\1867.png\n"
     ]
    },
    {
     "name": "stderr",
     "output_type": "stream",
     "text": [
      " 53%|██████████████████████████████████████████▎                                     | 324/612 [03:27<02:58,  1.61it/s]"
     ]
    },
    {
     "name": "stdout",
     "output_type": "stream",
     "text": [
      "E:\\python\\segmentation\\Computer Vision\\Computer Vision\\Data\\braintomurarchive\\images\\2345.png\n"
     ]
    },
    {
     "name": "stderr",
     "output_type": "stream",
     "text": [
      " 53%|██████████████████████████████████████████▍                                     | 325/612 [03:27<02:58,  1.61it/s]"
     ]
    },
    {
     "name": "stdout",
     "output_type": "stream",
     "text": [
      "E:\\python\\segmentation\\Computer Vision\\Computer Vision\\Data\\braintomurarchive\\images\\1561.png\n"
     ]
    },
    {
     "name": "stderr",
     "output_type": "stream",
     "text": [
      " 53%|██████████████████████████████████████████▌                                     | 326/612 [03:28<02:57,  1.61it/s]"
     ]
    },
    {
     "name": "stdout",
     "output_type": "stream",
     "text": [
      "E:\\python\\segmentation\\Computer Vision\\Computer Vision\\Data\\braintomurarchive\\images\\3035.png\n"
     ]
    },
    {
     "name": "stderr",
     "output_type": "stream",
     "text": [
      " 53%|██████████████████████████████████████████▋                                     | 327/612 [03:29<02:57,  1.60it/s]"
     ]
    },
    {
     "name": "stdout",
     "output_type": "stream",
     "text": [
      "E:\\python\\segmentation\\Computer Vision\\Computer Vision\\Data\\braintomurarchive\\images\\2789.png\n"
     ]
    },
    {
     "name": "stderr",
     "output_type": "stream",
     "text": [
      " 54%|██████████████████████████████████████████▉                                     | 328/612 [03:29<02:57,  1.60it/s]"
     ]
    },
    {
     "name": "stdout",
     "output_type": "stream",
     "text": [
      "E:\\python\\segmentation\\Computer Vision\\Computer Vision\\Data\\braintomurarchive\\images\\593.png\n"
     ]
    },
    {
     "name": "stderr",
     "output_type": "stream",
     "text": [
      " 54%|███████████████████████████████████████████                                     | 329/612 [03:30<02:57,  1.60it/s]"
     ]
    },
    {
     "name": "stdout",
     "output_type": "stream",
     "text": [
      "E:\\python\\segmentation\\Computer Vision\\Computer Vision\\Data\\braintomurarchive\\images\\2190.png\n"
     ]
    },
    {
     "name": "stderr",
     "output_type": "stream",
     "text": [
      " 54%|███████████████████████████████████████████▏                                    | 330/612 [03:31<03:03,  1.54it/s]"
     ]
    },
    {
     "name": "stdout",
     "output_type": "stream",
     "text": [
      "E:\\python\\segmentation\\Computer Vision\\Computer Vision\\Data\\braintomurarchive\\images\\12.png\n"
     ]
    },
    {
     "name": "stderr",
     "output_type": "stream",
     "text": [
      " 54%|███████████████████████████████████████████▎                                    | 331/612 [03:31<02:59,  1.56it/s]"
     ]
    },
    {
     "name": "stdout",
     "output_type": "stream",
     "text": [
      "E:\\python\\segmentation\\Computer Vision\\Computer Vision\\Data\\braintomurarchive\\images\\580.png\n"
     ]
    },
    {
     "name": "stderr",
     "output_type": "stream",
     "text": [
      " 54%|███████████████████████████████████████████▍                                    | 332/612 [03:32<03:03,  1.53it/s]"
     ]
    },
    {
     "name": "stdout",
     "output_type": "stream",
     "text": [
      "E:\\python\\segmentation\\Computer Vision\\Computer Vision\\Data\\braintomurarchive\\images\\2006.png\n"
     ]
    },
    {
     "name": "stderr",
     "output_type": "stream",
     "text": [
      " 54%|███████████████████████████████████████████▌                                    | 333/612 [03:32<03:00,  1.55it/s]"
     ]
    },
    {
     "name": "stdout",
     "output_type": "stream",
     "text": [
      "E:\\python\\segmentation\\Computer Vision\\Computer Vision\\Data\\braintomurarchive\\images\\1902.png\n"
     ]
    },
    {
     "name": "stderr",
     "output_type": "stream",
     "text": [
      " 55%|███████████████████████████████████████████▋                                    | 334/612 [03:33<02:58,  1.56it/s]"
     ]
    },
    {
     "name": "stdout",
     "output_type": "stream",
     "text": [
      "E:\\python\\segmentation\\Computer Vision\\Computer Vision\\Data\\braintomurarchive\\images\\2825.png\n"
     ]
    },
    {
     "name": "stderr",
     "output_type": "stream",
     "text": [
      " 55%|███████████████████████████████████████████▊                                    | 335/612 [03:34<02:56,  1.57it/s]"
     ]
    },
    {
     "name": "stdout",
     "output_type": "stream",
     "text": [
      "E:\\python\\segmentation\\Computer Vision\\Computer Vision\\Data\\braintomurarchive\\images\\730.png\n"
     ]
    },
    {
     "name": "stderr",
     "output_type": "stream",
     "text": [
      " 55%|███████████████████████████████████████████▉                                    | 336/612 [03:34<02:54,  1.58it/s]"
     ]
    },
    {
     "name": "stdout",
     "output_type": "stream",
     "text": [
      "E:\\python\\segmentation\\Computer Vision\\Computer Vision\\Data\\braintomurarchive\\images\\3010.png\n"
     ]
    },
    {
     "name": "stderr",
     "output_type": "stream",
     "text": [
      " 55%|████████████████████████████████████████████                                    | 337/612 [03:35<02:53,  1.58it/s]"
     ]
    },
    {
     "name": "stdout",
     "output_type": "stream",
     "text": [
      "E:\\python\\segmentation\\Computer Vision\\Computer Vision\\Data\\braintomurarchive\\images\\1616.png\n"
     ]
    },
    {
     "name": "stderr",
     "output_type": "stream",
     "text": [
      " 55%|████████████████████████████████████████████▏                                   | 338/612 [03:36<02:54,  1.57it/s]"
     ]
    },
    {
     "name": "stdout",
     "output_type": "stream",
     "text": [
      "E:\\python\\segmentation\\Computer Vision\\Computer Vision\\Data\\braintomurarchive\\images\\1590.png\n"
     ]
    },
    {
     "name": "stderr",
     "output_type": "stream",
     "text": [
      " 55%|████████████████████████████████████████████▎                                   | 339/612 [03:36<02:52,  1.58it/s]"
     ]
    },
    {
     "name": "stdout",
     "output_type": "stream",
     "text": [
      "E:\\python\\segmentation\\Computer Vision\\Computer Vision\\Data\\braintomurarchive\\images\\1087.png\n"
     ]
    },
    {
     "name": "stderr",
     "output_type": "stream",
     "text": [
      " 56%|████████████████████████████████████████████▍                                   | 340/612 [03:37<02:52,  1.58it/s]"
     ]
    },
    {
     "name": "stdout",
     "output_type": "stream",
     "text": [
      "E:\\python\\segmentation\\Computer Vision\\Computer Vision\\Data\\braintomurarchive\\images\\702.png\n"
     ]
    },
    {
     "name": "stderr",
     "output_type": "stream",
     "text": [
      " 56%|████████████████████████████████████████████▌                                   | 341/612 [03:37<02:52,  1.57it/s]"
     ]
    },
    {
     "name": "stdout",
     "output_type": "stream",
     "text": [
      "E:\\python\\segmentation\\Computer Vision\\Computer Vision\\Data\\braintomurarchive\\images\\2263.png\n"
     ]
    },
    {
     "name": "stderr",
     "output_type": "stream",
     "text": [
      " 56%|████████████████████████████████████████████▋                                   | 342/612 [03:38<02:50,  1.58it/s]"
     ]
    },
    {
     "name": "stdout",
     "output_type": "stream",
     "text": [
      "E:\\python\\segmentation\\Computer Vision\\Computer Vision\\Data\\braintomurarchive\\images\\479.png\n"
     ]
    },
    {
     "name": "stderr",
     "output_type": "stream",
     "text": [
      " 56%|████████████████████████████████████████████▊                                   | 343/612 [03:39<02:49,  1.59it/s]"
     ]
    },
    {
     "name": "stdout",
     "output_type": "stream",
     "text": [
      "E:\\python\\segmentation\\Computer Vision\\Computer Vision\\Data\\braintomurarchive\\images\\2411.png\n"
     ]
    },
    {
     "name": "stderr",
     "output_type": "stream",
     "text": [
      " 56%|████████████████████████████████████████████▉                                   | 344/612 [03:39<02:51,  1.56it/s]"
     ]
    },
    {
     "name": "stdout",
     "output_type": "stream",
     "text": [
      "E:\\python\\segmentation\\Computer Vision\\Computer Vision\\Data\\braintomurarchive\\images\\3029.png\n"
     ]
    },
    {
     "name": "stderr",
     "output_type": "stream",
     "text": [
      " 56%|█████████████████████████████████████████████                                   | 345/612 [03:40<02:49,  1.57it/s]"
     ]
    },
    {
     "name": "stdout",
     "output_type": "stream",
     "text": [
      "E:\\python\\segmentation\\Computer Vision\\Computer Vision\\Data\\braintomurarchive\\images\\1539.png\n"
     ]
    },
    {
     "name": "stderr",
     "output_type": "stream",
     "text": [
      " 57%|█████████████████████████████████████████████▏                                  | 346/612 [03:41<02:49,  1.57it/s]"
     ]
    },
    {
     "name": "stdout",
     "output_type": "stream",
     "text": [
      "E:\\python\\segmentation\\Computer Vision\\Computer Vision\\Data\\braintomurarchive\\images\\3001.png\n"
     ]
    },
    {
     "name": "stderr",
     "output_type": "stream",
     "text": [
      " 57%|█████████████████████████████████████████████▎                                  | 347/612 [03:41<02:47,  1.58it/s]"
     ]
    },
    {
     "name": "stdout",
     "output_type": "stream",
     "text": [
      "E:\\python\\segmentation\\Computer Vision\\Computer Vision\\Data\\braintomurarchive\\images\\2503.png\n"
     ]
    },
    {
     "name": "stderr",
     "output_type": "stream",
     "text": [
      " 57%|█████████████████████████████████████████████▍                                  | 348/612 [03:42<02:49,  1.56it/s]"
     ]
    },
    {
     "name": "stdout",
     "output_type": "stream",
     "text": [
      "E:\\python\\segmentation\\Computer Vision\\Computer Vision\\Data\\braintomurarchive\\images\\2403.png\n"
     ]
    },
    {
     "name": "stderr",
     "output_type": "stream",
     "text": [
      " 57%|█████████████████████████████████████████████▌                                  | 349/612 [03:43<02:47,  1.57it/s]"
     ]
    },
    {
     "name": "stdout",
     "output_type": "stream",
     "text": [
      "E:\\python\\segmentation\\Computer Vision\\Computer Vision\\Data\\braintomurarchive\\images\\2429.png\n"
     ]
    },
    {
     "name": "stderr",
     "output_type": "stream",
     "text": [
      " 57%|█████████████████████████████████████████████▊                                  | 350/612 [03:43<02:48,  1.56it/s]"
     ]
    },
    {
     "name": "stdout",
     "output_type": "stream",
     "text": [
      "E:\\python\\segmentation\\Computer Vision\\Computer Vision\\Data\\braintomurarchive\\images\\1795.png\n"
     ]
    },
    {
     "name": "stderr",
     "output_type": "stream",
     "text": [
      " 57%|█████████████████████████████████████████████▉                                  | 351/612 [03:44<02:46,  1.57it/s]"
     ]
    },
    {
     "name": "stdout",
     "output_type": "stream",
     "text": [
      "E:\\python\\segmentation\\Computer Vision\\Computer Vision\\Data\\braintomurarchive\\images\\2182.png\n"
     ]
    },
    {
     "name": "stderr",
     "output_type": "stream",
     "text": [
      " 58%|██████████████████████████████████████████████                                  | 352/612 [03:44<02:44,  1.58it/s]"
     ]
    },
    {
     "name": "stdout",
     "output_type": "stream",
     "text": [
      "E:\\python\\segmentation\\Computer Vision\\Computer Vision\\Data\\braintomurarchive\\images\\1542.png\n"
     ]
    },
    {
     "name": "stderr",
     "output_type": "stream",
     "text": [
      " 58%|██████████████████████████████████████████████▏                                 | 353/612 [03:45<02:43,  1.58it/s]"
     ]
    },
    {
     "name": "stdout",
     "output_type": "stream",
     "text": [
      "E:\\python\\segmentation\\Computer Vision\\Computer Vision\\Data\\braintomurarchive\\images\\1520.png\n"
     ]
    },
    {
     "name": "stderr",
     "output_type": "stream",
     "text": [
      " 58%|██████████████████████████████████████████████▎                                 | 354/612 [03:46<02:44,  1.57it/s]"
     ]
    },
    {
     "name": "stdout",
     "output_type": "stream",
     "text": [
      "E:\\python\\segmentation\\Computer Vision\\Computer Vision\\Data\\braintomurarchive\\images\\246.png\n"
     ]
    },
    {
     "name": "stderr",
     "output_type": "stream",
     "text": [
      " 58%|██████████████████████████████████████████████▍                                 | 355/612 [03:46<02:44,  1.56it/s]"
     ]
    },
    {
     "name": "stdout",
     "output_type": "stream",
     "text": [
      "E:\\python\\segmentation\\Computer Vision\\Computer Vision\\Data\\braintomurarchive\\images\\250.png\n"
     ]
    },
    {
     "name": "stderr",
     "output_type": "stream",
     "text": [
      " 58%|██████████████████████████████████████████████▌                                 | 356/612 [03:47<02:47,  1.53it/s]"
     ]
    },
    {
     "name": "stdout",
     "output_type": "stream",
     "text": [
      "E:\\python\\segmentation\\Computer Vision\\Computer Vision\\Data\\braintomurarchive\\images\\607.png\n"
     ]
    },
    {
     "name": "stderr",
     "output_type": "stream",
     "text": [
      " 58%|██████████████████████████████████████████████▋                                 | 357/612 [03:48<02:45,  1.54it/s]"
     ]
    },
    {
     "name": "stdout",
     "output_type": "stream",
     "text": [
      "E:\\python\\segmentation\\Computer Vision\\Computer Vision\\Data\\braintomurarchive\\images\\2110.png\n"
     ]
    },
    {
     "name": "stderr",
     "output_type": "stream",
     "text": [
      " 58%|██████████████████████████████████████████████▊                                 | 358/612 [03:48<02:44,  1.55it/s]"
     ]
    },
    {
     "name": "stdout",
     "output_type": "stream",
     "text": [
      "E:\\python\\segmentation\\Computer Vision\\Computer Vision\\Data\\braintomurarchive\\images\\2665.png\n"
     ]
    },
    {
     "name": "stderr",
     "output_type": "stream",
     "text": [
      " 59%|██████████████████████████████████████████████▉                                 | 359/612 [03:49<02:41,  1.57it/s]"
     ]
    },
    {
     "name": "stdout",
     "output_type": "stream",
     "text": [
      "E:\\python\\segmentation\\Computer Vision\\Computer Vision\\Data\\braintomurarchive\\images\\1959.png\n"
     ]
    },
    {
     "name": "stderr",
     "output_type": "stream",
     "text": [
      " 59%|███████████████████████████████████████████████                                 | 360/612 [03:50<02:40,  1.57it/s]"
     ]
    },
    {
     "name": "stdout",
     "output_type": "stream",
     "text": [
      "E:\\python\\segmentation\\Computer Vision\\Computer Vision\\Data\\braintomurarchive\\images\\364.png\n"
     ]
    },
    {
     "name": "stderr",
     "output_type": "stream",
     "text": [
      " 59%|███████████████████████████████████████████████▏                                | 361/612 [03:50<02:39,  1.58it/s]"
     ]
    },
    {
     "name": "stdout",
     "output_type": "stream",
     "text": [
      "E:\\python\\segmentation\\Computer Vision\\Computer Vision\\Data\\braintomurarchive\\images\\2737.png\n"
     ]
    },
    {
     "name": "stderr",
     "output_type": "stream",
     "text": [
      " 59%|███████████████████████████████████████████████▎                                | 362/612 [03:51<02:39,  1.56it/s]"
     ]
    },
    {
     "name": "stdout",
     "output_type": "stream",
     "text": [
      "E:\\python\\segmentation\\Computer Vision\\Computer Vision\\Data\\braintomurarchive\\images\\162.png\n"
     ]
    },
    {
     "name": "stderr",
     "output_type": "stream",
     "text": [
      " 59%|███████████████████████████████████████████████▍                                | 363/612 [03:52<02:36,  1.60it/s]"
     ]
    },
    {
     "name": "stdout",
     "output_type": "stream",
     "text": [
      "E:\\python\\segmentation\\Computer Vision\\Computer Vision\\Data\\braintomurarchive\\images\\2372.png\n"
     ]
    },
    {
     "name": "stderr",
     "output_type": "stream",
     "text": [
      " 59%|███████████████████████████████████████████████▌                                | 364/612 [03:52<02:36,  1.58it/s]"
     ]
    },
    {
     "name": "stdout",
     "output_type": "stream",
     "text": [
      "E:\\python\\segmentation\\Computer Vision\\Computer Vision\\Data\\braintomurarchive\\images\\1475.png\n"
     ]
    },
    {
     "name": "stderr",
     "output_type": "stream",
     "text": [
      " 60%|███████████████████████████████████████████████▋                                | 365/612 [03:53<02:37,  1.57it/s]"
     ]
    },
    {
     "name": "stdout",
     "output_type": "stream",
     "text": [
      "E:\\python\\segmentation\\Computer Vision\\Computer Vision\\Data\\braintomurarchive\\images\\2216.png\n"
     ]
    },
    {
     "name": "stderr",
     "output_type": "stream",
     "text": [
      " 60%|███████████████████████████████████████████████▊                                | 366/612 [03:53<02:35,  1.58it/s]"
     ]
    },
    {
     "name": "stdout",
     "output_type": "stream",
     "text": [
      "E:\\python\\segmentation\\Computer Vision\\Computer Vision\\Data\\braintomurarchive\\images\\873.png\n"
     ]
    },
    {
     "name": "stderr",
     "output_type": "stream",
     "text": [
      " 60%|███████████████████████████████████████████████▉                                | 367/612 [03:54<02:32,  1.60it/s]"
     ]
    },
    {
     "name": "stdout",
     "output_type": "stream",
     "text": [
      "E:\\python\\segmentation\\Computer Vision\\Computer Vision\\Data\\braintomurarchive\\images\\1094.png\n"
     ]
    },
    {
     "name": "stderr",
     "output_type": "stream",
     "text": [
      " 60%|████████████████████████████████████████████████                                | 368/612 [03:55<02:35,  1.57it/s]"
     ]
    },
    {
     "name": "stdout",
     "output_type": "stream",
     "text": [
      "E:\\python\\segmentation\\Computer Vision\\Computer Vision\\Data\\braintomurarchive\\images\\3060.png\n"
     ]
    },
    {
     "name": "stderr",
     "output_type": "stream",
     "text": [
      " 60%|████████████████████████████████████████████████▏                               | 369/612 [03:55<02:34,  1.57it/s]"
     ]
    },
    {
     "name": "stdout",
     "output_type": "stream",
     "text": [
      "E:\\python\\segmentation\\Computer Vision\\Computer Vision\\Data\\braintomurarchive\\images\\1638.png\n"
     ]
    },
    {
     "name": "stderr",
     "output_type": "stream",
     "text": [
      " 60%|████████████████████████████████████████████████▎                               | 370/612 [03:56<02:33,  1.57it/s]"
     ]
    },
    {
     "name": "stdout",
     "output_type": "stream",
     "text": [
      "E:\\python\\segmentation\\Computer Vision\\Computer Vision\\Data\\braintomurarchive\\images\\1748.png\n"
     ]
    },
    {
     "name": "stderr",
     "output_type": "stream",
     "text": [
      " 61%|████████████████████████████████████████████████▍                               | 371/612 [03:57<02:32,  1.58it/s]"
     ]
    },
    {
     "name": "stdout",
     "output_type": "stream",
     "text": [
      "E:\\python\\segmentation\\Computer Vision\\Computer Vision\\Data\\braintomurarchive\\images\\947.png\n"
     ]
    },
    {
     "name": "stderr",
     "output_type": "stream",
     "text": [
      " 61%|████████████████████████████████████████████████▋                               | 372/612 [03:57<02:30,  1.59it/s]"
     ]
    },
    {
     "name": "stdout",
     "output_type": "stream",
     "text": [
      "E:\\python\\segmentation\\Computer Vision\\Computer Vision\\Data\\braintomurarchive\\images\\1374.png\n"
     ]
    },
    {
     "name": "stderr",
     "output_type": "stream",
     "text": [
      " 61%|████████████████████████████████████████████████▊                               | 373/612 [03:58<02:29,  1.59it/s]"
     ]
    },
    {
     "name": "stdout",
     "output_type": "stream",
     "text": [
      "E:\\python\\segmentation\\Computer Vision\\Computer Vision\\Data\\braintomurarchive\\images\\1671.png\n"
     ]
    },
    {
     "name": "stderr",
     "output_type": "stream",
     "text": [
      " 61%|████████████████████████████████████████████████▉                               | 374/612 [03:58<02:31,  1.57it/s]"
     ]
    },
    {
     "name": "stdout",
     "output_type": "stream",
     "text": [
      "E:\\python\\segmentation\\Computer Vision\\Computer Vision\\Data\\braintomurarchive\\images\\2296.png\n"
     ]
    },
    {
     "name": "stderr",
     "output_type": "stream",
     "text": [
      " 61%|█████████████████████████████████████████████████                               | 375/612 [03:59<02:29,  1.59it/s]"
     ]
    },
    {
     "name": "stdout",
     "output_type": "stream",
     "text": [
      "E:\\python\\segmentation\\Computer Vision\\Computer Vision\\Data\\braintomurarchive\\images\\174.png\n"
     ]
    },
    {
     "name": "stderr",
     "output_type": "stream",
     "text": [
      " 61%|█████████████████████████████████████████████████▏                              | 376/612 [04:00<02:30,  1.57it/s]"
     ]
    },
    {
     "name": "stdout",
     "output_type": "stream",
     "text": [
      "E:\\python\\segmentation\\Computer Vision\\Computer Vision\\Data\\braintomurarchive\\images\\1868.png\n"
     ]
    },
    {
     "name": "stderr",
     "output_type": "stream",
     "text": [
      " 62%|█████████████████████████████████████████████████▎                              | 377/612 [04:00<02:27,  1.59it/s]"
     ]
    },
    {
     "name": "stdout",
     "output_type": "stream",
     "text": [
      "E:\\python\\segmentation\\Computer Vision\\Computer Vision\\Data\\braintomurarchive\\images\\2867.png\n"
     ]
    },
    {
     "name": "stderr",
     "output_type": "stream",
     "text": [
      " 62%|█████████████████████████████████████████████████▍                              | 378/612 [04:01<02:26,  1.59it/s]"
     ]
    },
    {
     "name": "stdout",
     "output_type": "stream",
     "text": [
      "E:\\python\\segmentation\\Computer Vision\\Computer Vision\\Data\\braintomurarchive\\images\\1602.png\n"
     ]
    },
    {
     "name": "stderr",
     "output_type": "stream",
     "text": [
      " 62%|█████████████████████████████████████████████████▌                              | 379/612 [04:02<02:26,  1.59it/s]"
     ]
    },
    {
     "name": "stdout",
     "output_type": "stream",
     "text": [
      "E:\\python\\segmentation\\Computer Vision\\Computer Vision\\Data\\braintomurarchive\\images\\1093.png\n"
     ]
    },
    {
     "name": "stderr",
     "output_type": "stream",
     "text": [
      " 62%|█████████████████████████████████████████████████▋                              | 380/612 [04:02<02:26,  1.58it/s]"
     ]
    },
    {
     "name": "stdout",
     "output_type": "stream",
     "text": [
      "E:\\python\\segmentation\\Computer Vision\\Computer Vision\\Data\\braintomurarchive\\images\\660.png\n"
     ]
    },
    {
     "name": "stderr",
     "output_type": "stream",
     "text": [
      " 62%|█████████████████████████████████████████████████▊                              | 381/612 [04:03<02:26,  1.58it/s]"
     ]
    },
    {
     "name": "stdout",
     "output_type": "stream",
     "text": [
      "E:\\python\\segmentation\\Computer Vision\\Computer Vision\\Data\\braintomurarchive\\images\\870.png\n"
     ]
    },
    {
     "name": "stderr",
     "output_type": "stream",
     "text": [
      " 62%|█████████████████████████████████████████████████▉                              | 382/612 [04:04<02:24,  1.59it/s]"
     ]
    },
    {
     "name": "stdout",
     "output_type": "stream",
     "text": [
      "E:\\python\\segmentation\\Computer Vision\\Computer Vision\\Data\\braintomurarchive\\images\\93.png\n"
     ]
    },
    {
     "name": "stderr",
     "output_type": "stream",
     "text": [
      " 63%|██████████████████████████████████████████████████                              | 383/612 [04:04<02:24,  1.59it/s]"
     ]
    },
    {
     "name": "stdout",
     "output_type": "stream",
     "text": [
      "E:\\python\\segmentation\\Computer Vision\\Computer Vision\\Data\\braintomurarchive\\images\\1141.png\n"
     ]
    },
    {
     "name": "stderr",
     "output_type": "stream",
     "text": [
      " 63%|██████████████████████████████████████████████████▏                             | 384/612 [04:05<02:22,  1.60it/s]"
     ]
    },
    {
     "name": "stdout",
     "output_type": "stream",
     "text": [
      "E:\\python\\segmentation\\Computer Vision\\Computer Vision\\Data\\braintomurarchive\\images\\1710.png\n"
     ]
    },
    {
     "name": "stderr",
     "output_type": "stream",
     "text": [
      " 63%|██████████████████████████████████████████████████▎                             | 385/612 [04:05<02:22,  1.60it/s]"
     ]
    },
    {
     "name": "stdout",
     "output_type": "stream",
     "text": [
      "E:\\python\\segmentation\\Computer Vision\\Computer Vision\\Data\\braintomurarchive\\images\\1098.png\n"
     ]
    },
    {
     "name": "stderr",
     "output_type": "stream",
     "text": [
      " 63%|██████████████████████████████████████████████████▍                             | 386/612 [04:06<02:23,  1.58it/s]"
     ]
    },
    {
     "name": "stdout",
     "output_type": "stream",
     "text": [
      "E:\\python\\segmentation\\Computer Vision\\Computer Vision\\Data\\braintomurarchive\\images\\2771.png\n"
     ]
    },
    {
     "name": "stderr",
     "output_type": "stream",
     "text": [
      " 63%|██████████████████████████████████████████████████▌                             | 387/612 [04:07<02:22,  1.58it/s]"
     ]
    },
    {
     "name": "stdout",
     "output_type": "stream",
     "text": [
      "E:\\python\\segmentation\\Computer Vision\\Computer Vision\\Data\\braintomurarchive\\images\\1170.png\n"
     ]
    },
    {
     "name": "stderr",
     "output_type": "stream",
     "text": [
      " 63%|██████████████████████████████████████████████████▋                             | 388/612 [04:07<02:20,  1.60it/s]"
     ]
    },
    {
     "name": "stdout",
     "output_type": "stream",
     "text": [
      "E:\\python\\segmentation\\Computer Vision\\Computer Vision\\Data\\braintomurarchive\\images\\2159.png\n"
     ]
    },
    {
     "name": "stderr",
     "output_type": "stream",
     "text": [
      " 64%|██████████████████████████████████████████████████▊                             | 389/612 [04:08<02:18,  1.61it/s]"
     ]
    },
    {
     "name": "stdout",
     "output_type": "stream",
     "text": [
      "E:\\python\\segmentation\\Computer Vision\\Computer Vision\\Data\\braintomurarchive\\images\\1793.png\n"
     ]
    },
    {
     "name": "stderr",
     "output_type": "stream",
     "text": [
      " 64%|██████████████████████████████████████████████████▉                             | 390/612 [04:09<02:18,  1.60it/s]"
     ]
    },
    {
     "name": "stdout",
     "output_type": "stream",
     "text": [
      "E:\\python\\segmentation\\Computer Vision\\Computer Vision\\Data\\braintomurarchive\\images\\1500.png\n"
     ]
    },
    {
     "name": "stderr",
     "output_type": "stream",
     "text": [
      " 64%|███████████████████████████████████████████████████                             | 391/612 [04:09<02:17,  1.61it/s]"
     ]
    },
    {
     "name": "stdout",
     "output_type": "stream",
     "text": [
      "E:\\python\\segmentation\\Computer Vision\\Computer Vision\\Data\\braintomurarchive\\images\\1907.png\n"
     ]
    },
    {
     "name": "stderr",
     "output_type": "stream",
     "text": [
      " 64%|███████████████████████████████████████████████████▏                            | 392/612 [04:10<02:18,  1.59it/s]"
     ]
    },
    {
     "name": "stdout",
     "output_type": "stream",
     "text": [
      "E:\\python\\segmentation\\Computer Vision\\Computer Vision\\Data\\braintomurarchive\\images\\2654.png\n"
     ]
    },
    {
     "name": "stderr",
     "output_type": "stream",
     "text": [
      " 64%|███████████████████████████████████████████████████▎                            | 393/612 [04:10<02:17,  1.60it/s]"
     ]
    },
    {
     "name": "stdout",
     "output_type": "stream",
     "text": [
      "E:\\python\\segmentation\\Computer Vision\\Computer Vision\\Data\\braintomurarchive\\images\\2831.png\n"
     ]
    },
    {
     "name": "stderr",
     "output_type": "stream",
     "text": [
      " 64%|███████████████████████████████████████████████████▌                            | 394/612 [04:11<02:16,  1.60it/s]"
     ]
    },
    {
     "name": "stdout",
     "output_type": "stream",
     "text": [
      "E:\\python\\segmentation\\Computer Vision\\Computer Vision\\Data\\braintomurarchive\\images\\2173.png\n"
     ]
    },
    {
     "name": "stderr",
     "output_type": "stream",
     "text": [
      " 65%|███████████████████████████████████████████████████▋                            | 395/612 [04:12<02:16,  1.59it/s]"
     ]
    },
    {
     "name": "stdout",
     "output_type": "stream",
     "text": [
      "E:\\python\\segmentation\\Computer Vision\\Computer Vision\\Data\\braintomurarchive\\images\\894.png\n"
     ]
    },
    {
     "name": "stderr",
     "output_type": "stream",
     "text": [
      " 65%|███████████████████████████████████████████████████▊                            | 396/612 [04:12<02:14,  1.60it/s]"
     ]
    },
    {
     "name": "stdout",
     "output_type": "stream",
     "text": [
      "E:\\python\\segmentation\\Computer Vision\\Computer Vision\\Data\\braintomurarchive\\images\\1800.png\n"
     ]
    },
    {
     "name": "stderr",
     "output_type": "stream",
     "text": [
      " 65%|███████████████████████████████████████████████████▉                            | 397/612 [04:13<02:15,  1.58it/s]"
     ]
    },
    {
     "name": "stdout",
     "output_type": "stream",
     "text": [
      "E:\\python\\segmentation\\Computer Vision\\Computer Vision\\Data\\braintomurarchive\\images\\1129.png\n"
     ]
    },
    {
     "name": "stderr",
     "output_type": "stream",
     "text": [
      " 65%|████████████████████████████████████████████████████                            | 398/612 [04:14<02:17,  1.56it/s]"
     ]
    },
    {
     "name": "stdout",
     "output_type": "stream",
     "text": [
      "E:\\python\\segmentation\\Computer Vision\\Computer Vision\\Data\\braintomurarchive\\images\\621.png\n"
     ]
    },
    {
     "name": "stderr",
     "output_type": "stream",
     "text": [
      " 65%|████████████████████████████████████████████████████▏                           | 399/612 [04:14<02:16,  1.56it/s]"
     ]
    },
    {
     "name": "stdout",
     "output_type": "stream",
     "text": [
      "E:\\python\\segmentation\\Computer Vision\\Computer Vision\\Data\\braintomurarchive\\images\\1174.png\n"
     ]
    },
    {
     "name": "stderr",
     "output_type": "stream",
     "text": [
      " 65%|████████████████████████████████████████████████████▎                           | 400/612 [04:15<02:15,  1.56it/s]"
     ]
    },
    {
     "name": "stdout",
     "output_type": "stream",
     "text": [
      "E:\\python\\segmentation\\Computer Vision\\Computer Vision\\Data\\braintomurarchive\\images\\3042.png\n"
     ]
    },
    {
     "name": "stderr",
     "output_type": "stream",
     "text": [
      " 66%|████████████████████████████████████████████████████▍                           | 401/612 [04:15<02:13,  1.58it/s]"
     ]
    },
    {
     "name": "stdout",
     "output_type": "stream",
     "text": [
      "E:\\python\\segmentation\\Computer Vision\\Computer Vision\\Data\\braintomurarchive\\images\\879.png\n"
     ]
    },
    {
     "name": "stderr",
     "output_type": "stream",
     "text": [
      " 66%|████████████████████████████████████████████████████▌                           | 402/612 [04:16<02:12,  1.58it/s]"
     ]
    },
    {
     "name": "stdout",
     "output_type": "stream",
     "text": [
      "E:\\python\\segmentation\\Computer Vision\\Computer Vision\\Data\\braintomurarchive\\images\\3056.png\n"
     ]
    },
    {
     "name": "stderr",
     "output_type": "stream",
     "text": [
      " 66%|████████████████████████████████████████████████████▋                           | 403/612 [04:17<02:11,  1.59it/s]"
     ]
    },
    {
     "name": "stdout",
     "output_type": "stream",
     "text": [
      "E:\\python\\segmentation\\Computer Vision\\Computer Vision\\Data\\braintomurarchive\\images\\2827.png\n"
     ]
    },
    {
     "name": "stderr",
     "output_type": "stream",
     "text": [
      " 66%|████████████████████████████████████████████████████▊                           | 404/612 [04:17<02:12,  1.57it/s]"
     ]
    },
    {
     "name": "stdout",
     "output_type": "stream",
     "text": [
      "E:\\python\\segmentation\\Computer Vision\\Computer Vision\\Data\\braintomurarchive\\images\\91.png\n"
     ]
    },
    {
     "name": "stderr",
     "output_type": "stream",
     "text": [
      " 66%|████████████████████████████████████████████████████▉                           | 405/612 [04:18<02:11,  1.58it/s]"
     ]
    },
    {
     "name": "stdout",
     "output_type": "stream",
     "text": [
      "E:\\python\\segmentation\\Computer Vision\\Computer Vision\\Data\\braintomurarchive\\images\\145.png\n"
     ]
    },
    {
     "name": "stderr",
     "output_type": "stream",
     "text": [
      " 66%|█████████████████████████████████████████████████████                           | 406/612 [04:19<02:08,  1.60it/s]"
     ]
    },
    {
     "name": "stdout",
     "output_type": "stream",
     "text": [
      "E:\\python\\segmentation\\Computer Vision\\Computer Vision\\Data\\braintomurarchive\\images\\1765.png\n"
     ]
    },
    {
     "name": "stderr",
     "output_type": "stream",
     "text": [
      " 67%|█████████████████████████████████████████████████████▏                          | 407/612 [04:19<02:07,  1.61it/s]"
     ]
    },
    {
     "name": "stdout",
     "output_type": "stream",
     "text": [
      "E:\\python\\segmentation\\Computer Vision\\Computer Vision\\Data\\braintomurarchive\\images\\2249.png\n"
     ]
    },
    {
     "name": "stderr",
     "output_type": "stream",
     "text": [
      " 67%|█████████████████████████████████████████████████████▎                          | 408/612 [04:20<02:05,  1.63it/s]"
     ]
    },
    {
     "name": "stdout",
     "output_type": "stream",
     "text": [
      "E:\\python\\segmentation\\Computer Vision\\Computer Vision\\Data\\braintomurarchive\\images\\2548.png\n"
     ]
    },
    {
     "name": "stderr",
     "output_type": "stream",
     "text": [
      " 67%|█████████████████████████████████████████████████████▍                          | 409/612 [04:20<02:05,  1.62it/s]"
     ]
    },
    {
     "name": "stdout",
     "output_type": "stream",
     "text": [
      "E:\\python\\segmentation\\Computer Vision\\Computer Vision\\Data\\braintomurarchive\\images\\2964.png\n"
     ]
    },
    {
     "name": "stderr",
     "output_type": "stream",
     "text": [
      " 67%|█████████████████████████████████████████████████████▌                          | 410/612 [04:21<02:06,  1.59it/s]"
     ]
    },
    {
     "name": "stdout",
     "output_type": "stream",
     "text": [
      "E:\\python\\segmentation\\Computer Vision\\Computer Vision\\Data\\braintomurarchive\\images\\2486.png\n"
     ]
    },
    {
     "name": "stderr",
     "output_type": "stream",
     "text": [
      " 67%|█████████████████████████████████████████████████████▋                          | 411/612 [04:22<02:06,  1.59it/s]"
     ]
    },
    {
     "name": "stdout",
     "output_type": "stream",
     "text": [
      "E:\\python\\segmentation\\Computer Vision\\Computer Vision\\Data\\braintomurarchive\\images\\964.png\n"
     ]
    },
    {
     "name": "stderr",
     "output_type": "stream",
     "text": [
      " 67%|█████████████████████████████████████████████████████▊                          | 412/612 [04:22<02:05,  1.59it/s]"
     ]
    },
    {
     "name": "stdout",
     "output_type": "stream",
     "text": [
      "E:\\python\\segmentation\\Computer Vision\\Computer Vision\\Data\\braintomurarchive\\images\\1316.png\n"
     ]
    },
    {
     "name": "stderr",
     "output_type": "stream",
     "text": [
      " 67%|█████████████████████████████████████████████████████▉                          | 413/612 [04:23<02:03,  1.61it/s]"
     ]
    },
    {
     "name": "stdout",
     "output_type": "stream",
     "text": [
      "E:\\python\\segmentation\\Computer Vision\\Computer Vision\\Data\\braintomurarchive\\images\\954.png\n"
     ]
    },
    {
     "name": "stderr",
     "output_type": "stream",
     "text": [
      " 68%|██████████████████████████████████████████████████████                          | 414/612 [04:24<02:03,  1.60it/s]"
     ]
    },
    {
     "name": "stdout",
     "output_type": "stream",
     "text": [
      "E:\\python\\segmentation\\Computer Vision\\Computer Vision\\Data\\braintomurarchive\\images\\134.png\n"
     ]
    },
    {
     "name": "stderr",
     "output_type": "stream",
     "text": [
      " 68%|██████████████████████████████████████████████████████▏                         | 415/612 [04:24<02:04,  1.58it/s]"
     ]
    },
    {
     "name": "stdout",
     "output_type": "stream",
     "text": [
      "E:\\python\\segmentation\\Computer Vision\\Computer Vision\\Data\\braintomurarchive\\images\\351.png\n"
     ]
    },
    {
     "name": "stderr",
     "output_type": "stream",
     "text": [
      " 68%|██████████████████████████████████████████████████████▍                         | 416/612 [04:25<02:05,  1.56it/s]"
     ]
    },
    {
     "name": "stdout",
     "output_type": "stream",
     "text": [
      "E:\\python\\segmentation\\Computer Vision\\Computer Vision\\Data\\braintomurarchive\\images\\1873.png\n"
     ]
    },
    {
     "name": "stderr",
     "output_type": "stream",
     "text": [
      " 68%|██████████████████████████████████████████████████████▌                         | 417/612 [04:26<02:02,  1.59it/s]"
     ]
    },
    {
     "name": "stdout",
     "output_type": "stream",
     "text": [
      "E:\\python\\segmentation\\Computer Vision\\Computer Vision\\Data\\braintomurarchive\\images\\1646.png\n"
     ]
    },
    {
     "name": "stderr",
     "output_type": "stream",
     "text": [
      " 68%|██████████████████████████████████████████████████████▋                         | 418/612 [04:26<02:01,  1.60it/s]"
     ]
    },
    {
     "name": "stdout",
     "output_type": "stream",
     "text": [
      "E:\\python\\segmentation\\Computer Vision\\Computer Vision\\Data\\braintomurarchive\\images\\629.png\n"
     ]
    },
    {
     "name": "stderr",
     "output_type": "stream",
     "text": [
      " 68%|██████████████████████████████████████████████████████▊                         | 419/612 [04:27<02:01,  1.59it/s]"
     ]
    },
    {
     "name": "stdout",
     "output_type": "stream",
     "text": [
      "E:\\python\\segmentation\\Computer Vision\\Computer Vision\\Data\\braintomurarchive\\images\\2428.png\n"
     ]
    },
    {
     "name": "stderr",
     "output_type": "stream",
     "text": [
      " 69%|██████████████████████████████████████████████████████▉                         | 420/612 [04:27<02:03,  1.56it/s]"
     ]
    },
    {
     "name": "stdout",
     "output_type": "stream",
     "text": [
      "E:\\python\\segmentation\\Computer Vision\\Computer Vision\\Data\\braintomurarchive\\images\\2473.png\n"
     ]
    },
    {
     "name": "stderr",
     "output_type": "stream",
     "text": [
      " 69%|███████████████████████████████████████████████████████                         | 421/612 [04:28<02:01,  1.57it/s]"
     ]
    },
    {
     "name": "stdout",
     "output_type": "stream",
     "text": [
      "E:\\python\\segmentation\\Computer Vision\\Computer Vision\\Data\\braintomurarchive\\images\\1846.png\n"
     ]
    },
    {
     "name": "stderr",
     "output_type": "stream",
     "text": [
      " 69%|███████████████████████████████████████████████████████▏                        | 422/612 [04:29<02:01,  1.57it/s]"
     ]
    },
    {
     "name": "stdout",
     "output_type": "stream",
     "text": [
      "E:\\python\\segmentation\\Computer Vision\\Computer Vision\\Data\\braintomurarchive\\images\\1895.png\n"
     ]
    },
    {
     "name": "stderr",
     "output_type": "stream",
     "text": [
      " 69%|███████████████████████████████████████████████████████▎                        | 423/612 [04:29<01:58,  1.59it/s]"
     ]
    },
    {
     "name": "stdout",
     "output_type": "stream",
     "text": [
      "E:\\python\\segmentation\\Computer Vision\\Computer Vision\\Data\\braintomurarchive\\images\\2220.png\n"
     ]
    },
    {
     "name": "stderr",
     "output_type": "stream",
     "text": [
      " 69%|███████████████████████████████████████████████████████▍                        | 424/612 [04:30<01:57,  1.61it/s]"
     ]
    },
    {
     "name": "stdout",
     "output_type": "stream",
     "text": [
      "E:\\python\\segmentation\\Computer Vision\\Computer Vision\\Data\\braintomurarchive\\images\\1282.png\n"
     ]
    },
    {
     "name": "stderr",
     "output_type": "stream",
     "text": [
      " 69%|███████████████████████████████████████████████████████▌                        | 425/612 [04:31<01:56,  1.61it/s]"
     ]
    },
    {
     "name": "stdout",
     "output_type": "stream",
     "text": [
      "E:\\python\\segmentation\\Computer Vision\\Computer Vision\\Data\\braintomurarchive\\images\\2368.png\n"
     ]
    },
    {
     "name": "stderr",
     "output_type": "stream",
     "text": [
      " 70%|███████████████████████████████████████████████████████▋                        | 426/612 [04:31<01:56,  1.60it/s]"
     ]
    },
    {
     "name": "stdout",
     "output_type": "stream",
     "text": [
      "E:\\python\\segmentation\\Computer Vision\\Computer Vision\\Data\\braintomurarchive\\images\\535.png\n"
     ]
    },
    {
     "name": "stderr",
     "output_type": "stream",
     "text": [
      " 70%|███████████████████████████████████████████████████████▊                        | 427/612 [04:32<01:55,  1.60it/s]"
     ]
    },
    {
     "name": "stdout",
     "output_type": "stream",
     "text": [
      "E:\\python\\segmentation\\Computer Vision\\Computer Vision\\Data\\braintomurarchive\\images\\140.png\n"
     ]
    },
    {
     "name": "stderr",
     "output_type": "stream",
     "text": [
      " 70%|███████████████████████████████████████████████████████▉                        | 428/612 [04:32<01:58,  1.56it/s]"
     ]
    },
    {
     "name": "stdout",
     "output_type": "stream",
     "text": [
      "E:\\python\\segmentation\\Computer Vision\\Computer Vision\\Data\\braintomurarchive\\images\\590.png\n"
     ]
    },
    {
     "name": "stderr",
     "output_type": "stream",
     "text": [
      " 70%|████████████████████████████████████████████████████████                        | 429/612 [04:33<01:57,  1.56it/s]"
     ]
    },
    {
     "name": "stdout",
     "output_type": "stream",
     "text": [
      "E:\\python\\segmentation\\Computer Vision\\Computer Vision\\Data\\braintomurarchive\\images\\1296.png\n"
     ]
    },
    {
     "name": "stderr",
     "output_type": "stream",
     "text": [
      " 70%|████████████████████████████████████████████████████████▏                       | 430/612 [04:34<01:55,  1.57it/s]"
     ]
    },
    {
     "name": "stdout",
     "output_type": "stream",
     "text": [
      "E:\\python\\segmentation\\Computer Vision\\Computer Vision\\Data\\braintomurarchive\\images\\2920.png\n"
     ]
    },
    {
     "name": "stderr",
     "output_type": "stream",
     "text": [
      " 70%|████████████████████████████████████████████████████████▎                       | 431/612 [04:34<01:53,  1.59it/s]"
     ]
    },
    {
     "name": "stdout",
     "output_type": "stream",
     "text": [
      "E:\\python\\segmentation\\Computer Vision\\Computer Vision\\Data\\braintomurarchive\\images\\402.png\n"
     ]
    },
    {
     "name": "stderr",
     "output_type": "stream",
     "text": [
      " 71%|████████████████████████████████████████████████████████▍                       | 432/612 [04:35<01:52,  1.60it/s]"
     ]
    },
    {
     "name": "stdout",
     "output_type": "stream",
     "text": [
      "E:\\python\\segmentation\\Computer Vision\\Computer Vision\\Data\\braintomurarchive\\images\\472.png\n"
     ]
    },
    {
     "name": "stderr",
     "output_type": "stream",
     "text": [
      " 71%|████████████████████████████████████████████████████████▌                       | 433/612 [04:36<01:51,  1.61it/s]"
     ]
    },
    {
     "name": "stdout",
     "output_type": "stream",
     "text": [
      "E:\\python\\segmentation\\Computer Vision\\Computer Vision\\Data\\braintomurarchive\\images\\2855.png\n"
     ]
    },
    {
     "name": "stderr",
     "output_type": "stream",
     "text": [
      " 71%|████████████████████████████████████████████████████████▋                       | 434/612 [04:36<01:54,  1.56it/s]"
     ]
    },
    {
     "name": "stdout",
     "output_type": "stream",
     "text": [
      "E:\\python\\segmentation\\Computer Vision\\Computer Vision\\Data\\braintomurarchive\\images\\1515.png\n"
     ]
    },
    {
     "name": "stderr",
     "output_type": "stream",
     "text": [
      " 71%|████████████████████████████████████████████████████████▊                       | 435/612 [04:37<01:52,  1.57it/s]"
     ]
    },
    {
     "name": "stdout",
     "output_type": "stream",
     "text": [
      "E:\\python\\segmentation\\Computer Vision\\Computer Vision\\Data\\braintomurarchive\\images\\1247.png\n"
     ]
    },
    {
     "name": "stderr",
     "output_type": "stream",
     "text": [
      " 71%|████████████████████████████████████████████████████████▉                       | 436/612 [04:38<01:52,  1.57it/s]"
     ]
    },
    {
     "name": "stdout",
     "output_type": "stream",
     "text": [
      "E:\\python\\segmentation\\Computer Vision\\Computer Vision\\Data\\braintomurarchive\\images\\2450.png\n"
     ]
    },
    {
     "name": "stderr",
     "output_type": "stream",
     "text": [
      " 71%|█████████████████████████████████████████████████████████                       | 437/612 [04:38<01:51,  1.57it/s]"
     ]
    },
    {
     "name": "stdout",
     "output_type": "stream",
     "text": [
      "E:\\python\\segmentation\\Computer Vision\\Computer Vision\\Data\\braintomurarchive\\images\\1333.png\n"
     ]
    },
    {
     "name": "stderr",
     "output_type": "stream",
     "text": [
      " 72%|█████████████████████████████████████████████████████████▎                      | 438/612 [04:39<01:49,  1.59it/s]"
     ]
    },
    {
     "name": "stdout",
     "output_type": "stream",
     "text": [
      "E:\\python\\segmentation\\Computer Vision\\Computer Vision\\Data\\braintomurarchive\\images\\1582.png\n"
     ]
    },
    {
     "name": "stderr",
     "output_type": "stream",
     "text": [
      " 72%|█████████████████████████████████████████████████████████▍                      | 439/612 [04:39<01:48,  1.59it/s]"
     ]
    },
    {
     "name": "stdout",
     "output_type": "stream",
     "text": [
      "E:\\python\\segmentation\\Computer Vision\\Computer Vision\\Data\\braintomurarchive\\images\\1897.png\n"
     ]
    },
    {
     "name": "stderr",
     "output_type": "stream",
     "text": [
      " 72%|█████████████████████████████████████████████████████████▌                      | 440/612 [04:40<01:47,  1.60it/s]"
     ]
    },
    {
     "name": "stdout",
     "output_type": "stream",
     "text": [
      "E:\\python\\segmentation\\Computer Vision\\Computer Vision\\Data\\braintomurarchive\\images\\967.png\n"
     ]
    },
    {
     "name": "stderr",
     "output_type": "stream",
     "text": [
      " 72%|█████████████████████████████████████████████████████████▋                      | 441/612 [04:41<01:45,  1.62it/s]"
     ]
    },
    {
     "name": "stdout",
     "output_type": "stream",
     "text": [
      "E:\\python\\segmentation\\Computer Vision\\Computer Vision\\Data\\braintomurarchive\\images\\971.png\n"
     ]
    },
    {
     "name": "stderr",
     "output_type": "stream",
     "text": [
      " 72%|█████████████████████████████████████████████████████████▊                      | 442/612 [04:41<01:44,  1.63it/s]"
     ]
    },
    {
     "name": "stdout",
     "output_type": "stream",
     "text": [
      "E:\\python\\segmentation\\Computer Vision\\Computer Vision\\Data\\braintomurarchive\\images\\2007.png\n"
     ]
    },
    {
     "name": "stderr",
     "output_type": "stream",
     "text": [
      " 72%|█████████████████████████████████████████████████████████▉                      | 443/612 [04:42<01:43,  1.63it/s]"
     ]
    },
    {
     "name": "stdout",
     "output_type": "stream",
     "text": [
      "E:\\python\\segmentation\\Computer Vision\\Computer Vision\\Data\\braintomurarchive\\images\\1684.png\n"
     ]
    },
    {
     "name": "stderr",
     "output_type": "stream",
     "text": [
      " 73%|██████████████████████████████████████████████████████████                      | 444/612 [04:42<01:44,  1.61it/s]"
     ]
    },
    {
     "name": "stdout",
     "output_type": "stream",
     "text": [
      "E:\\python\\segmentation\\Computer Vision\\Computer Vision\\Data\\braintomurarchive\\images\\189.png\n"
     ]
    },
    {
     "name": "stderr",
     "output_type": "stream",
     "text": [
      " 73%|██████████████████████████████████████████████████████████▏                     | 445/612 [04:43<01:44,  1.60it/s]"
     ]
    },
    {
     "name": "stdout",
     "output_type": "stream",
     "text": [
      "E:\\python\\segmentation\\Computer Vision\\Computer Vision\\Data\\braintomurarchive\\images\\36.png\n"
     ]
    },
    {
     "name": "stderr",
     "output_type": "stream",
     "text": [
      " 73%|██████████████████████████████████████████████████████████▎                     | 446/612 [04:44<01:45,  1.57it/s]"
     ]
    },
    {
     "name": "stdout",
     "output_type": "stream",
     "text": [
      "E:\\python\\segmentation\\Computer Vision\\Computer Vision\\Data\\braintomurarchive\\images\\55.png\n"
     ]
    },
    {
     "name": "stderr",
     "output_type": "stream",
     "text": [
      " 73%|██████████████████████████████████████████████████████████▍                     | 447/612 [04:44<01:44,  1.58it/s]"
     ]
    },
    {
     "name": "stdout",
     "output_type": "stream",
     "text": [
      "E:\\python\\segmentation\\Computer Vision\\Computer Vision\\Data\\braintomurarchive\\images\\2898.png\n"
     ]
    },
    {
     "name": "stderr",
     "output_type": "stream",
     "text": [
      " 73%|██████████████████████████████████████████████████████████▌                     | 448/612 [04:45<01:43,  1.58it/s]"
     ]
    },
    {
     "name": "stdout",
     "output_type": "stream",
     "text": [
      "E:\\python\\segmentation\\Computer Vision\\Computer Vision\\Data\\braintomurarchive\\images\\157.png\n"
     ]
    },
    {
     "name": "stderr",
     "output_type": "stream",
     "text": [
      " 73%|██████████████████████████████████████████████████████████▋                     | 449/612 [04:46<01:42,  1.58it/s]"
     ]
    },
    {
     "name": "stdout",
     "output_type": "stream",
     "text": [
      "E:\\python\\segmentation\\Computer Vision\\Computer Vision\\Data\\braintomurarchive\\images\\3004.png\n"
     ]
    },
    {
     "name": "stderr",
     "output_type": "stream",
     "text": [
      " 74%|██████████████████████████████████████████████████████████▊                     | 450/612 [04:46<01:42,  1.59it/s]"
     ]
    },
    {
     "name": "stdout",
     "output_type": "stream",
     "text": [
      "E:\\python\\segmentation\\Computer Vision\\Computer Vision\\Data\\braintomurarchive\\images\\1275.png\n"
     ]
    },
    {
     "name": "stderr",
     "output_type": "stream",
     "text": [
      " 74%|██████████████████████████████████████████████████████████▉                     | 451/612 [04:47<01:43,  1.56it/s]"
     ]
    },
    {
     "name": "stdout",
     "output_type": "stream",
     "text": [
      "E:\\python\\segmentation\\Computer Vision\\Computer Vision\\Data\\braintomurarchive\\images\\2343.png\n"
     ]
    },
    {
     "name": "stderr",
     "output_type": "stream",
     "text": [
      " 74%|███████████████████████████████████████████████████████████                     | 452/612 [04:48<01:42,  1.56it/s]"
     ]
    },
    {
     "name": "stdout",
     "output_type": "stream",
     "text": [
      "E:\\python\\segmentation\\Computer Vision\\Computer Vision\\Data\\braintomurarchive\\images\\434.png\n"
     ]
    },
    {
     "name": "stderr",
     "output_type": "stream",
     "text": [
      " 74%|███████████████████████████████████████████████████████████▏                    | 453/612 [04:48<01:40,  1.58it/s]"
     ]
    },
    {
     "name": "stdout",
     "output_type": "stream",
     "text": [
      "E:\\python\\segmentation\\Computer Vision\\Computer Vision\\Data\\braintomurarchive\\images\\149.png\n"
     ]
    },
    {
     "name": "stderr",
     "output_type": "stream",
     "text": [
      " 74%|███████████████████████████████████████████████████████████▎                    | 454/612 [04:49<01:39,  1.58it/s]"
     ]
    },
    {
     "name": "stdout",
     "output_type": "stream",
     "text": [
      "E:\\python\\segmentation\\Computer Vision\\Computer Vision\\Data\\braintomurarchive\\images\\87.png\n"
     ]
    },
    {
     "name": "stderr",
     "output_type": "stream",
     "text": [
      " 74%|███████████████████████████████████████████████████████████▍                    | 455/612 [04:49<01:37,  1.61it/s]"
     ]
    },
    {
     "name": "stdout",
     "output_type": "stream",
     "text": [
      "E:\\python\\segmentation\\Computer Vision\\Computer Vision\\Data\\braintomurarchive\\images\\2553.png\n"
     ]
    },
    {
     "name": "stderr",
     "output_type": "stream",
     "text": [
      " 75%|███████████████████████████████████████████████████████████▌                    | 456/612 [04:50<01:36,  1.61it/s]"
     ]
    },
    {
     "name": "stdout",
     "output_type": "stream",
     "text": [
      "E:\\python\\segmentation\\Computer Vision\\Computer Vision\\Data\\braintomurarchive\\images\\1641.png\n"
     ]
    },
    {
     "name": "stderr",
     "output_type": "stream",
     "text": [
      " 75%|███████████████████████████████████████████████████████████▋                    | 457/612 [04:51<01:36,  1.61it/s]"
     ]
    },
    {
     "name": "stdout",
     "output_type": "stream",
     "text": [
      "E:\\python\\segmentation\\Computer Vision\\Computer Vision\\Data\\braintomurarchive\\images\\1943.png\n"
     ]
    },
    {
     "name": "stderr",
     "output_type": "stream",
     "text": [
      " 75%|███████████████████████████████████████████████████████████▊                    | 458/612 [04:51<01:36,  1.59it/s]"
     ]
    },
    {
     "name": "stdout",
     "output_type": "stream",
     "text": [
      "E:\\python\\segmentation\\Computer Vision\\Computer Vision\\Data\\braintomurarchive\\images\\2618.png\n"
     ]
    },
    {
     "name": "stderr",
     "output_type": "stream",
     "text": [
      " 75%|████████████████████████████████████████████████████████████                    | 459/612 [04:52<01:35,  1.60it/s]"
     ]
    },
    {
     "name": "stdout",
     "output_type": "stream",
     "text": [
      "E:\\python\\segmentation\\Computer Vision\\Computer Vision\\Data\\braintomurarchive\\images\\981.png\n"
     ]
    },
    {
     "name": "stderr",
     "output_type": "stream",
     "text": [
      " 75%|████████████████████████████████████████████████████████████▏                   | 460/612 [04:53<01:34,  1.61it/s]"
     ]
    },
    {
     "name": "stdout",
     "output_type": "stream",
     "text": [
      "E:\\python\\segmentation\\Computer Vision\\Computer Vision\\Data\\braintomurarchive\\images\\1729.png\n"
     ]
    },
    {
     "name": "stderr",
     "output_type": "stream",
     "text": [
      " 75%|████████████████████████████████████████████████████████████▎                   | 461/612 [04:53<01:34,  1.60it/s]"
     ]
    },
    {
     "name": "stdout",
     "output_type": "stream",
     "text": [
      "E:\\python\\segmentation\\Computer Vision\\Computer Vision\\Data\\braintomurarchive\\images\\2911.png\n"
     ]
    },
    {
     "name": "stderr",
     "output_type": "stream",
     "text": [
      " 75%|████████████████████████████████████████████████████████████▍                   | 462/612 [04:54<01:35,  1.56it/s]"
     ]
    },
    {
     "name": "stdout",
     "output_type": "stream",
     "text": [
      "E:\\python\\segmentation\\Computer Vision\\Computer Vision\\Data\\braintomurarchive\\images\\2250.png\n"
     ]
    },
    {
     "name": "stderr",
     "output_type": "stream",
     "text": [
      " 76%|████████████████████████████████████████████████████████████▌                   | 463/612 [04:54<01:34,  1.58it/s]"
     ]
    },
    {
     "name": "stdout",
     "output_type": "stream",
     "text": [
      "E:\\python\\segmentation\\Computer Vision\\Computer Vision\\Data\\braintomurarchive\\images\\1271.png\n"
     ]
    },
    {
     "name": "stderr",
     "output_type": "stream",
     "text": [
      " 76%|████████████████████████████████████████████████████████████▋                   | 464/612 [04:55<01:34,  1.57it/s]"
     ]
    },
    {
     "name": "stdout",
     "output_type": "stream",
     "text": [
      "E:\\python\\segmentation\\Computer Vision\\Computer Vision\\Data\\braintomurarchive\\images\\1630.png\n"
     ]
    },
    {
     "name": "stderr",
     "output_type": "stream",
     "text": [
      " 76%|████████████████████████████████████████████████████████████▊                   | 465/612 [04:56<01:33,  1.58it/s]"
     ]
    },
    {
     "name": "stdout",
     "output_type": "stream",
     "text": [
      "E:\\python\\segmentation\\Computer Vision\\Computer Vision\\Data\\braintomurarchive\\images\\1927.png\n"
     ]
    },
    {
     "name": "stderr",
     "output_type": "stream",
     "text": [
      " 76%|████████████████████████████████████████████████████████████▉                   | 466/612 [04:56<01:32,  1.58it/s]"
     ]
    },
    {
     "name": "stdout",
     "output_type": "stream",
     "text": [
      "E:\\python\\segmentation\\Computer Vision\\Computer Vision\\Data\\braintomurarchive\\images\\1103.png\n"
     ]
    },
    {
     "name": "stderr",
     "output_type": "stream",
     "text": [
      " 76%|█████████████████████████████████████████████████████████████                   | 467/612 [04:57<01:31,  1.58it/s]"
     ]
    },
    {
     "name": "stdout",
     "output_type": "stream",
     "text": [
      "E:\\python\\segmentation\\Computer Vision\\Computer Vision\\Data\\braintomurarchive\\images\\213.png\n"
     ]
    },
    {
     "name": "stderr",
     "output_type": "stream",
     "text": [
      " 76%|█████████████████████████████████████████████████████████████▏                  | 468/612 [04:58<01:31,  1.57it/s]"
     ]
    },
    {
     "name": "stdout",
     "output_type": "stream",
     "text": [
      "E:\\python\\segmentation\\Computer Vision\\Computer Vision\\Data\\braintomurarchive\\images\\1656.png\n"
     ]
    },
    {
     "name": "stderr",
     "output_type": "stream",
     "text": [
      " 77%|█████████████████████████████████████████████████████████████▎                  | 469/612 [04:58<01:31,  1.56it/s]"
     ]
    },
    {
     "name": "stdout",
     "output_type": "stream",
     "text": [
      "E:\\python\\segmentation\\Computer Vision\\Computer Vision\\Data\\braintomurarchive\\images\\2588.png\n"
     ]
    },
    {
     "name": "stderr",
     "output_type": "stream",
     "text": [
      " 77%|█████████████████████████████████████████████████████████████▍                  | 470/612 [04:59<01:31,  1.55it/s]"
     ]
    },
    {
     "name": "stdout",
     "output_type": "stream",
     "text": [
      "E:\\python\\segmentation\\Computer Vision\\Computer Vision\\Data\\braintomurarchive\\images\\2274.png\n"
     ]
    },
    {
     "name": "stderr",
     "output_type": "stream",
     "text": [
      " 77%|█████████████████████████████████████████████████████████████▌                  | 471/612 [05:00<01:30,  1.55it/s]"
     ]
    },
    {
     "name": "stdout",
     "output_type": "stream",
     "text": [
      "E:\\python\\segmentation\\Computer Vision\\Computer Vision\\Data\\braintomurarchive\\images\\849.png\n"
     ]
    },
    {
     "name": "stderr",
     "output_type": "stream",
     "text": [
      " 77%|█████████████████████████████████████████████████████████████▋                  | 472/612 [05:00<01:30,  1.55it/s]"
     ]
    },
    {
     "name": "stdout",
     "output_type": "stream",
     "text": [
      "E:\\python\\segmentation\\Computer Vision\\Computer Vision\\Data\\braintomurarchive\\images\\2986.png\n"
     ]
    },
    {
     "name": "stderr",
     "output_type": "stream",
     "text": [
      " 77%|█████████████████████████████████████████████████████████████▊                  | 473/612 [05:01<01:28,  1.56it/s]"
     ]
    },
    {
     "name": "stdout",
     "output_type": "stream",
     "text": [
      "E:\\python\\segmentation\\Computer Vision\\Computer Vision\\Data\\braintomurarchive\\images\\1588.png\n"
     ]
    },
    {
     "name": "stderr",
     "output_type": "stream",
     "text": [
      " 77%|█████████████████████████████████████████████████████████████▉                  | 474/612 [05:02<01:26,  1.59it/s]"
     ]
    },
    {
     "name": "stdout",
     "output_type": "stream",
     "text": [
      "E:\\python\\segmentation\\Computer Vision\\Computer Vision\\Data\\braintomurarchive\\images\\2688.png\n"
     ]
    },
    {
     "name": "stderr",
     "output_type": "stream",
     "text": [
      " 78%|██████████████████████████████████████████████████████████████                  | 475/612 [05:02<01:26,  1.58it/s]"
     ]
    },
    {
     "name": "stdout",
     "output_type": "stream",
     "text": [
      "E:\\python\\segmentation\\Computer Vision\\Computer Vision\\Data\\braintomurarchive\\images\\1234.png\n"
     ]
    },
    {
     "name": "stderr",
     "output_type": "stream",
     "text": [
      " 78%|██████████████████████████████████████████████████████████████▏                 | 476/612 [05:03<01:26,  1.57it/s]"
     ]
    },
    {
     "name": "stdout",
     "output_type": "stream",
     "text": [
      "E:\\python\\segmentation\\Computer Vision\\Computer Vision\\Data\\braintomurarchive\\images\\745.png\n"
     ]
    },
    {
     "name": "stderr",
     "output_type": "stream",
     "text": [
      " 78%|██████████████████████████████████████████████████████████████▎                 | 477/612 [05:03<01:25,  1.58it/s]"
     ]
    },
    {
     "name": "stdout",
     "output_type": "stream",
     "text": [
      "E:\\python\\segmentation\\Computer Vision\\Computer Vision\\Data\\braintomurarchive\\images\\387.png\n"
     ]
    },
    {
     "name": "stderr",
     "output_type": "stream",
     "text": [
      " 78%|██████████████████████████████████████████████████████████████▍                 | 478/612 [05:04<01:24,  1.58it/s]"
     ]
    },
    {
     "name": "stdout",
     "output_type": "stream",
     "text": [
      "E:\\python\\segmentation\\Computer Vision\\Computer Vision\\Data\\braintomurarchive\\images\\103.png\n"
     ]
    },
    {
     "name": "stderr",
     "output_type": "stream",
     "text": [
      " 78%|██████████████████████████████████████████████████████████████▌                 | 479/612 [05:05<01:23,  1.59it/s]"
     ]
    },
    {
     "name": "stdout",
     "output_type": "stream",
     "text": [
      "E:\\python\\segmentation\\Computer Vision\\Computer Vision\\Data\\braintomurarchive\\images\\1742.png\n"
     ]
    },
    {
     "name": "stderr",
     "output_type": "stream",
     "text": [
      " 78%|██████████████████████████████████████████████████████████████▋                 | 480/612 [05:05<01:23,  1.58it/s]"
     ]
    },
    {
     "name": "stdout",
     "output_type": "stream",
     "text": [
      "E:\\python\\segmentation\\Computer Vision\\Computer Vision\\Data\\braintomurarchive\\images\\636.png\n"
     ]
    },
    {
     "name": "stderr",
     "output_type": "stream",
     "text": [
      " 79%|██████████████████████████████████████████████████████████████▉                 | 481/612 [05:06<01:23,  1.56it/s]"
     ]
    },
    {
     "name": "stdout",
     "output_type": "stream",
     "text": [
      "E:\\python\\segmentation\\Computer Vision\\Computer Vision\\Data\\braintomurarchive\\images\\2763.png\n"
     ]
    },
    {
     "name": "stderr",
     "output_type": "stream",
     "text": [
      " 79%|███████████████████████████████████████████████████████████████                 | 482/612 [05:07<01:23,  1.56it/s]"
     ]
    },
    {
     "name": "stdout",
     "output_type": "stream",
     "text": [
      "E:\\python\\segmentation\\Computer Vision\\Computer Vision\\Data\\braintomurarchive\\images\\1446.png\n"
     ]
    },
    {
     "name": "stderr",
     "output_type": "stream",
     "text": [
      " 79%|███████████████████████████████████████████████████████████████▏                | 483/612 [05:07<01:22,  1.57it/s]"
     ]
    },
    {
     "name": "stdout",
     "output_type": "stream",
     "text": [
      "E:\\python\\segmentation\\Computer Vision\\Computer Vision\\Data\\braintomurarchive\\images\\2342.png\n"
     ]
    },
    {
     "name": "stderr",
     "output_type": "stream",
     "text": [
      " 79%|███████████████████████████████████████████████████████████████▎                | 484/612 [05:08<01:21,  1.58it/s]"
     ]
    },
    {
     "name": "stdout",
     "output_type": "stream",
     "text": [
      "E:\\python\\segmentation\\Computer Vision\\Computer Vision\\Data\\braintomurarchive\\images\\2494.png\n"
     ]
    },
    {
     "name": "stderr",
     "output_type": "stream",
     "text": [
      " 79%|███████████████████████████████████████████████████████████████▍                | 485/612 [05:08<01:20,  1.58it/s]"
     ]
    },
    {
     "name": "stdout",
     "output_type": "stream",
     "text": [
      "E:\\python\\segmentation\\Computer Vision\\Computer Vision\\Data\\braintomurarchive\\images\\2390.png\n"
     ]
    },
    {
     "name": "stderr",
     "output_type": "stream",
     "text": [
      " 79%|███████████████████████████████████████████████████████████████▌                | 486/612 [05:09<01:22,  1.53it/s]"
     ]
    },
    {
     "name": "stdout",
     "output_type": "stream",
     "text": [
      "E:\\python\\segmentation\\Computer Vision\\Computer Vision\\Data\\braintomurarchive\\images\\2709.png\n"
     ]
    },
    {
     "name": "stderr",
     "output_type": "stream",
     "text": [
      " 80%|███████████████████████████████████████████████████████████████▋                | 487/612 [05:10<01:20,  1.55it/s]"
     ]
    },
    {
     "name": "stdout",
     "output_type": "stream",
     "text": [
      "E:\\python\\segmentation\\Computer Vision\\Computer Vision\\Data\\braintomurarchive\\images\\2604.png\n"
     ]
    },
    {
     "name": "stderr",
     "output_type": "stream",
     "text": [
      " 80%|███████████████████████████████████████████████████████████████▊                | 488/612 [05:10<01:20,  1.54it/s]"
     ]
    },
    {
     "name": "stdout",
     "output_type": "stream",
     "text": [
      "E:\\python\\segmentation\\Computer Vision\\Computer Vision\\Data\\braintomurarchive\\images\\412.png\n"
     ]
    },
    {
     "name": "stderr",
     "output_type": "stream",
     "text": [
      " 80%|███████████████████████████████████████████████████████████████▉                | 489/612 [05:11<01:18,  1.58it/s]"
     ]
    },
    {
     "name": "stdout",
     "output_type": "stream",
     "text": [
      "E:\\python\\segmentation\\Computer Vision\\Computer Vision\\Data\\braintomurarchive\\images\\1097.png\n"
     ]
    },
    {
     "name": "stderr",
     "output_type": "stream",
     "text": [
      " 80%|████████████████████████████████████████████████████████████████                | 490/612 [05:12<01:18,  1.55it/s]"
     ]
    },
    {
     "name": "stdout",
     "output_type": "stream",
     "text": [
      "E:\\python\\segmentation\\Computer Vision\\Computer Vision\\Data\\braintomurarchive\\images\\1311.png\n"
     ]
    },
    {
     "name": "stderr",
     "output_type": "stream",
     "text": [
      " 80%|████████████████████████████████████████████████████████████████▏               | 491/612 [05:12<01:17,  1.57it/s]"
     ]
    },
    {
     "name": "stdout",
     "output_type": "stream",
     "text": [
      "E:\\python\\segmentation\\Computer Vision\\Computer Vision\\Data\\braintomurarchive\\images\\2081.png\n"
     ]
    },
    {
     "name": "stderr",
     "output_type": "stream",
     "text": [
      " 80%|████████████████████████████████████████████████████████████████▎               | 492/612 [05:13<01:16,  1.56it/s]"
     ]
    },
    {
     "name": "stdout",
     "output_type": "stream",
     "text": [
      "E:\\python\\segmentation\\Computer Vision\\Computer Vision\\Data\\braintomurarchive\\images\\132.png\n"
     ]
    },
    {
     "name": "stderr",
     "output_type": "stream",
     "text": [
      " 81%|████████████████████████████████████████████████████████████████▍               | 493/612 [05:14<01:16,  1.56it/s]"
     ]
    },
    {
     "name": "stdout",
     "output_type": "stream",
     "text": [
      "E:\\python\\segmentation\\Computer Vision\\Computer Vision\\Data\\braintomurarchive\\images\\186.png\n"
     ]
    },
    {
     "name": "stderr",
     "output_type": "stream",
     "text": [
      " 81%|████████████████████████████████████████████████████████████████▌               | 494/612 [05:14<01:15,  1.56it/s]"
     ]
    },
    {
     "name": "stdout",
     "output_type": "stream",
     "text": [
      "E:\\python\\segmentation\\Computer Vision\\Computer Vision\\Data\\braintomurarchive\\images\\1330.png\n"
     ]
    },
    {
     "name": "stderr",
     "output_type": "stream",
     "text": [
      " 81%|████████████████████████████████████████████████████████████████▋               | 495/612 [05:15<01:14,  1.58it/s]"
     ]
    },
    {
     "name": "stdout",
     "output_type": "stream",
     "text": [
      "E:\\python\\segmentation\\Computer Vision\\Computer Vision\\Data\\braintomurarchive\\images\\1523.png\n"
     ]
    },
    {
     "name": "stderr",
     "output_type": "stream",
     "text": [
      " 81%|████████████████████████████████████████████████████████████████▊               | 496/612 [05:16<01:13,  1.58it/s]"
     ]
    },
    {
     "name": "stdout",
     "output_type": "stream",
     "text": [
      "E:\\python\\segmentation\\Computer Vision\\Computer Vision\\Data\\braintomurarchive\\images\\2401.png\n"
     ]
    },
    {
     "name": "stderr",
     "output_type": "stream",
     "text": [
      " 81%|████████████████████████████████████████████████████████████████▉               | 497/612 [05:16<01:12,  1.58it/s]"
     ]
    },
    {
     "name": "stdout",
     "output_type": "stream",
     "text": [
      "E:\\python\\segmentation\\Computer Vision\\Computer Vision\\Data\\braintomurarchive\\images\\657.png\n"
     ]
    },
    {
     "name": "stderr",
     "output_type": "stream",
     "text": [
      " 81%|█████████████████████████████████████████████████████████████████               | 498/612 [05:17<01:12,  1.58it/s]"
     ]
    },
    {
     "name": "stdout",
     "output_type": "stream",
     "text": [
      "E:\\python\\segmentation\\Computer Vision\\Computer Vision\\Data\\braintomurarchive\\images\\29.png\n"
     ]
    },
    {
     "name": "stderr",
     "output_type": "stream",
     "text": [
      " 82%|█████████████████████████████████████████████████████████████████▏              | 499/612 [05:17<01:11,  1.57it/s]"
     ]
    },
    {
     "name": "stdout",
     "output_type": "stream",
     "text": [
      "E:\\python\\segmentation\\Computer Vision\\Computer Vision\\Data\\braintomurarchive\\images\\2579.png\n"
     ]
    },
    {
     "name": "stderr",
     "output_type": "stream",
     "text": [
      " 82%|█████████████████████████████████████████████████████████████████▎              | 500/612 [05:18<01:11,  1.56it/s]"
     ]
    },
    {
     "name": "stdout",
     "output_type": "stream",
     "text": [
      "E:\\python\\segmentation\\Computer Vision\\Computer Vision\\Data\\braintomurarchive\\images\\2521.png\n"
     ]
    },
    {
     "name": "stderr",
     "output_type": "stream",
     "text": [
      " 82%|█████████████████████████████████████████████████████████████████▍              | 501/612 [05:19<01:11,  1.54it/s]"
     ]
    },
    {
     "name": "stdout",
     "output_type": "stream",
     "text": [
      "E:\\python\\segmentation\\Computer Vision\\Computer Vision\\Data\\braintomurarchive\\images\\640.png\n"
     ]
    },
    {
     "name": "stderr",
     "output_type": "stream",
     "text": [
      " 82%|█████████████████████████████████████████████████████████████████▌              | 502/612 [05:19<01:10,  1.57it/s]"
     ]
    },
    {
     "name": "stdout",
     "output_type": "stream",
     "text": [
      "E:\\python\\segmentation\\Computer Vision\\Computer Vision\\Data\\braintomurarchive\\images\\2058.png\n"
     ]
    },
    {
     "name": "stderr",
     "output_type": "stream",
     "text": [
      " 82%|█████████████████████████████████████████████████████████████████▊              | 503/612 [05:20<01:08,  1.59it/s]"
     ]
    },
    {
     "name": "stdout",
     "output_type": "stream",
     "text": [
      "E:\\python\\segmentation\\Computer Vision\\Computer Vision\\Data\\braintomurarchive\\images\\1981.png\n"
     ]
    },
    {
     "name": "stderr",
     "output_type": "stream",
     "text": [
      " 82%|█████████████████████████████████████████████████████████████████▉              | 504/612 [05:21<01:07,  1.60it/s]"
     ]
    },
    {
     "name": "stdout",
     "output_type": "stream",
     "text": [
      "E:\\python\\segmentation\\Computer Vision\\Computer Vision\\Data\\braintomurarchive\\images\\2091.png\n"
     ]
    },
    {
     "name": "stderr",
     "output_type": "stream",
     "text": [
      " 83%|██████████████████████████████████████████████████████████████████              | 505/612 [05:21<01:07,  1.59it/s]"
     ]
    },
    {
     "name": "stdout",
     "output_type": "stream",
     "text": [
      "E:\\python\\segmentation\\Computer Vision\\Computer Vision\\Data\\braintomurarchive\\images\\1204.png\n"
     ]
    },
    {
     "name": "stderr",
     "output_type": "stream",
     "text": [
      " 83%|██████████████████████████████████████████████████████████████████▏             | 506/612 [05:22<01:07,  1.56it/s]"
     ]
    },
    {
     "name": "stdout",
     "output_type": "stream",
     "text": [
      "E:\\python\\segmentation\\Computer Vision\\Computer Vision\\Data\\braintomurarchive\\images\\2451.png\n"
     ]
    },
    {
     "name": "stderr",
     "output_type": "stream",
     "text": [
      " 83%|██████████████████████████████████████████████████████████████████▎             | 507/612 [05:23<01:06,  1.58it/s]"
     ]
    },
    {
     "name": "stdout",
     "output_type": "stream",
     "text": [
      "E:\\python\\segmentation\\Computer Vision\\Computer Vision\\Data\\braintomurarchive\\images\\523.png\n"
     ]
    },
    {
     "name": "stderr",
     "output_type": "stream",
     "text": [
      " 83%|██████████████████████████████████████████████████████████████████▍             | 508/612 [05:23<01:05,  1.60it/s]"
     ]
    },
    {
     "name": "stdout",
     "output_type": "stream",
     "text": [
      "E:\\python\\segmentation\\Computer Vision\\Computer Vision\\Data\\braintomurarchive\\images\\1393.png\n"
     ]
    },
    {
     "name": "stderr",
     "output_type": "stream",
     "text": [
      " 83%|██████████████████████████████████████████████████████████████████▌             | 509/612 [05:24<01:04,  1.59it/s]"
     ]
    },
    {
     "name": "stdout",
     "output_type": "stream",
     "text": [
      "E:\\python\\segmentation\\Computer Vision\\Computer Vision\\Data\\braintomurarchive\\images\\301.png\n"
     ]
    },
    {
     "name": "stderr",
     "output_type": "stream",
     "text": [
      " 83%|██████████████████████████████████████████████████████████████████▋             | 510/612 [05:24<01:04,  1.58it/s]"
     ]
    },
    {
     "name": "stdout",
     "output_type": "stream",
     "text": [
      "E:\\python\\segmentation\\Computer Vision\\Computer Vision\\Data\\braintomurarchive\\images\\1477.png\n"
     ]
    },
    {
     "name": "stderr",
     "output_type": "stream",
     "text": [
      " 83%|██████████████████████████████████████████████████████████████████▊             | 511/612 [05:25<01:03,  1.58it/s]"
     ]
    },
    {
     "name": "stdout",
     "output_type": "stream",
     "text": [
      "E:\\python\\segmentation\\Computer Vision\\Computer Vision\\Data\\braintomurarchive\\images\\2590.png\n"
     ]
    },
    {
     "name": "stderr",
     "output_type": "stream",
     "text": [
      " 84%|██████████████████████████████████████████████████████████████████▉             | 512/612 [05:26<01:03,  1.57it/s]"
     ]
    },
    {
     "name": "stdout",
     "output_type": "stream",
     "text": [
      "E:\\python\\segmentation\\Computer Vision\\Computer Vision\\Data\\braintomurarchive\\images\\1461.png\n"
     ]
    },
    {
     "name": "stderr",
     "output_type": "stream",
     "text": [
      " 84%|███████████████████████████████████████████████████████████████████             | 513/612 [05:26<01:02,  1.58it/s]"
     ]
    },
    {
     "name": "stdout",
     "output_type": "stream",
     "text": [
      "E:\\python\\segmentation\\Computer Vision\\Computer Vision\\Data\\braintomurarchive\\images\\1145.png\n"
     ]
    },
    {
     "name": "stderr",
     "output_type": "stream",
     "text": [
      " 84%|███████████████████████████████████████████████████████████████████▏            | 514/612 [05:27<01:01,  1.59it/s]"
     ]
    },
    {
     "name": "stdout",
     "output_type": "stream",
     "text": [
      "E:\\python\\segmentation\\Computer Vision\\Computer Vision\\Data\\braintomurarchive\\images\\1312.png\n"
     ]
    },
    {
     "name": "stderr",
     "output_type": "stream",
     "text": [
      " 84%|███████████████████████████████████████████████████████████████████▎            | 515/612 [05:28<01:00,  1.60it/s]"
     ]
    },
    {
     "name": "stdout",
     "output_type": "stream",
     "text": [
      "E:\\python\\segmentation\\Computer Vision\\Computer Vision\\Data\\braintomurarchive\\images\\763.png\n"
     ]
    },
    {
     "name": "stderr",
     "output_type": "stream",
     "text": [
      " 84%|███████████████████████████████████████████████████████████████████▍            | 516/612 [05:28<01:00,  1.59it/s]"
     ]
    },
    {
     "name": "stdout",
     "output_type": "stream",
     "text": [
      "E:\\python\\segmentation\\Computer Vision\\Computer Vision\\Data\\braintomurarchive\\images\\2160.png\n"
     ]
    },
    {
     "name": "stderr",
     "output_type": "stream",
     "text": [
      " 84%|███████████████████████████████████████████████████████████████████▌            | 517/612 [05:29<00:59,  1.60it/s]"
     ]
    },
    {
     "name": "stdout",
     "output_type": "stream",
     "text": [
      "E:\\python\\segmentation\\Computer Vision\\Computer Vision\\Data\\braintomurarchive\\images\\2468.png\n"
     ]
    },
    {
     "name": "stderr",
     "output_type": "stream",
     "text": [
      " 85%|███████████████████████████████████████████████████████████████████▋            | 518/612 [05:29<00:59,  1.57it/s]"
     ]
    },
    {
     "name": "stdout",
     "output_type": "stream",
     "text": [
      "E:\\python\\segmentation\\Computer Vision\\Computer Vision\\Data\\braintomurarchive\\images\\2312.png\n"
     ]
    },
    {
     "name": "stderr",
     "output_type": "stream",
     "text": [
      " 85%|███████████████████████████████████████████████████████████████████▊            | 519/612 [05:30<00:58,  1.58it/s]"
     ]
    },
    {
     "name": "stdout",
     "output_type": "stream",
     "text": [
      "E:\\python\\segmentation\\Computer Vision\\Computer Vision\\Data\\braintomurarchive\\images\\1707.png\n"
     ]
    },
    {
     "name": "stderr",
     "output_type": "stream",
     "text": [
      " 85%|███████████████████████████████████████████████████████████████████▉            | 520/612 [05:31<00:58,  1.58it/s]"
     ]
    },
    {
     "name": "stdout",
     "output_type": "stream",
     "text": [
      "E:\\python\\segmentation\\Computer Vision\\Computer Vision\\Data\\braintomurarchive\\images\\248.png\n"
     ]
    },
    {
     "name": "stderr",
     "output_type": "stream",
     "text": [
      " 85%|████████████████████████████████████████████████████████████████████            | 521/612 [05:31<00:56,  1.61it/s]"
     ]
    },
    {
     "name": "stdout",
     "output_type": "stream",
     "text": [
      "E:\\python\\segmentation\\Computer Vision\\Computer Vision\\Data\\braintomurarchive\\images\\441.png\n"
     ]
    },
    {
     "name": "stderr",
     "output_type": "stream",
     "text": [
      " 85%|████████████████████████████████████████████████████████████████████▏           | 522/612 [05:32<00:55,  1.61it/s]"
     ]
    },
    {
     "name": "stdout",
     "output_type": "stream",
     "text": [
      "E:\\python\\segmentation\\Computer Vision\\Computer Vision\\Data\\braintomurarchive\\images\\2853.png\n"
     ]
    },
    {
     "name": "stderr",
     "output_type": "stream",
     "text": [
      " 85%|████████████████████████████████████████████████████████████████████▎           | 523/612 [05:33<00:55,  1.60it/s]"
     ]
    },
    {
     "name": "stdout",
     "output_type": "stream",
     "text": [
      "E:\\python\\segmentation\\Computer Vision\\Computer Vision\\Data\\braintomurarchive\\images\\793.png\n"
     ]
    },
    {
     "name": "stderr",
     "output_type": "stream",
     "text": [
      " 86%|████████████████████████████████████████████████████████████████████▍           | 524/612 [05:33<00:55,  1.57it/s]"
     ]
    },
    {
     "name": "stdout",
     "output_type": "stream",
     "text": [
      "E:\\python\\segmentation\\Computer Vision\\Computer Vision\\Data\\braintomurarchive\\images\\716.png\n"
     ]
    },
    {
     "name": "stderr",
     "output_type": "stream",
     "text": [
      " 86%|████████████████████████████████████████████████████████████████████▋           | 525/612 [05:34<00:54,  1.58it/s]"
     ]
    },
    {
     "name": "stdout",
     "output_type": "stream",
     "text": [
      "E:\\python\\segmentation\\Computer Vision\\Computer Vision\\Data\\braintomurarchive\\images\\896.png\n"
     ]
    },
    {
     "name": "stderr",
     "output_type": "stream",
     "text": [
      " 86%|████████████████████████████████████████████████████████████████████▊           | 526/612 [05:34<00:54,  1.59it/s]"
     ]
    },
    {
     "name": "stdout",
     "output_type": "stream",
     "text": [
      "E:\\python\\segmentation\\Computer Vision\\Computer Vision\\Data\\braintomurarchive\\images\\1251.png\n"
     ]
    },
    {
     "name": "stderr",
     "output_type": "stream",
     "text": [
      " 86%|████████████████████████████████████████████████████████████████████▉           | 527/612 [05:35<00:53,  1.59it/s]"
     ]
    },
    {
     "name": "stdout",
     "output_type": "stream",
     "text": [
      "E:\\python\\segmentation\\Computer Vision\\Computer Vision\\Data\\braintomurarchive\\images\\1071.png\n"
     ]
    },
    {
     "name": "stderr",
     "output_type": "stream",
     "text": [
      " 86%|█████████████████████████████████████████████████████████████████████           | 528/612 [05:36<00:52,  1.60it/s]"
     ]
    },
    {
     "name": "stdout",
     "output_type": "stream",
     "text": [
      "E:\\python\\segmentation\\Computer Vision\\Computer Vision\\Data\\braintomurarchive\\images\\1714.png\n"
     ]
    },
    {
     "name": "stderr",
     "output_type": "stream",
     "text": [
      " 86%|█████████████████████████████████████████████████████████████████████▏          | 529/612 [05:36<00:51,  1.60it/s]"
     ]
    },
    {
     "name": "stdout",
     "output_type": "stream",
     "text": [
      "E:\\python\\segmentation\\Computer Vision\\Computer Vision\\Data\\braintomurarchive\\images\\2818.png\n"
     ]
    },
    {
     "name": "stderr",
     "output_type": "stream",
     "text": [
      " 87%|█████████████████████████████████████████████████████████████████████▎          | 530/612 [05:37<00:51,  1.60it/s]"
     ]
    },
    {
     "name": "stdout",
     "output_type": "stream",
     "text": [
      "E:\\python\\segmentation\\Computer Vision\\Computer Vision\\Data\\braintomurarchive\\images\\2230.png\n"
     ]
    },
    {
     "name": "stderr",
     "output_type": "stream",
     "text": [
      " 87%|█████████████████████████████████████████████████████████████████████▍          | 531/612 [05:38<00:50,  1.60it/s]"
     ]
    },
    {
     "name": "stdout",
     "output_type": "stream",
     "text": [
      "E:\\python\\segmentation\\Computer Vision\\Computer Vision\\Data\\braintomurarchive\\images\\1665.png\n"
     ]
    },
    {
     "name": "stderr",
     "output_type": "stream",
     "text": [
      " 87%|█████████████████████████████████████████████████████████████████████▌          | 532/612 [05:38<00:50,  1.60it/s]"
     ]
    },
    {
     "name": "stdout",
     "output_type": "stream",
     "text": [
      "E:\\python\\segmentation\\Computer Vision\\Computer Vision\\Data\\braintomurarchive\\images\\2822.png\n"
     ]
    },
    {
     "name": "stderr",
     "output_type": "stream",
     "text": [
      " 87%|█████████████████████████████████████████████████████████████████████▋          | 533/612 [05:39<00:49,  1.59it/s]"
     ]
    },
    {
     "name": "stdout",
     "output_type": "stream",
     "text": [
      "E:\\python\\segmentation\\Computer Vision\\Computer Vision\\Data\\braintomurarchive\\images\\2854.png\n"
     ]
    },
    {
     "name": "stderr",
     "output_type": "stream",
     "text": [
      " 87%|█████████████████████████████████████████████████████████████████████▊          | 534/612 [05:39<00:48,  1.62it/s]"
     ]
    },
    {
     "name": "stdout",
     "output_type": "stream",
     "text": [
      "E:\\python\\segmentation\\Computer Vision\\Computer Vision\\Data\\braintomurarchive\\images\\2015.png\n"
     ]
    },
    {
     "name": "stderr",
     "output_type": "stream",
     "text": [
      " 87%|█████████████████████████████████████████████████████████████████████▉          | 535/612 [05:40<00:47,  1.62it/s]"
     ]
    },
    {
     "name": "stdout",
     "output_type": "stream",
     "text": [
      "E:\\python\\segmentation\\Computer Vision\\Computer Vision\\Data\\braintomurarchive\\images\\2685.png\n"
     ]
    },
    {
     "name": "stderr",
     "output_type": "stream",
     "text": [
      " 88%|██████████████████████████████████████████████████████████████████████          | 536/612 [05:41<00:47,  1.60it/s]"
     ]
    },
    {
     "name": "stdout",
     "output_type": "stream",
     "text": [
      "E:\\python\\segmentation\\Computer Vision\\Computer Vision\\Data\\braintomurarchive\\images\\1309.png\n"
     ]
    },
    {
     "name": "stderr",
     "output_type": "stream",
     "text": [
      " 88%|██████████████████████████████████████████████████████████████████████▏         | 537/612 [05:41<00:46,  1.61it/s]"
     ]
    },
    {
     "name": "stdout",
     "output_type": "stream",
     "text": [
      "E:\\python\\segmentation\\Computer Vision\\Computer Vision\\Data\\braintomurarchive\\images\\589.png\n"
     ]
    },
    {
     "name": "stderr",
     "output_type": "stream",
     "text": [
      " 88%|██████████████████████████████████████████████████████████████████████▎         | 538/612 [05:42<00:46,  1.61it/s]"
     ]
    },
    {
     "name": "stdout",
     "output_type": "stream",
     "text": [
      "E:\\python\\segmentation\\Computer Vision\\Computer Vision\\Data\\braintomurarchive\\images\\922.png\n"
     ]
    },
    {
     "name": "stderr",
     "output_type": "stream",
     "text": [
      " 88%|██████████████████████████████████████████████████████████████████████▍         | 539/612 [05:43<00:45,  1.60it/s]"
     ]
    },
    {
     "name": "stdout",
     "output_type": "stream",
     "text": [
      "E:\\python\\segmentation\\Computer Vision\\Computer Vision\\Data\\braintomurarchive\\images\\2279.png\n"
     ]
    },
    {
     "name": "stderr",
     "output_type": "stream",
     "text": [
      " 88%|██████████████████████████████████████████████████████████████████████▌         | 540/612 [05:43<00:45,  1.59it/s]"
     ]
    },
    {
     "name": "stdout",
     "output_type": "stream",
     "text": [
      "E:\\python\\segmentation\\Computer Vision\\Computer Vision\\Data\\braintomurarchive\\images\\2415.png\n"
     ]
    },
    {
     "name": "stderr",
     "output_type": "stream",
     "text": [
      " 88%|██████████████████████████████████████████████████████████████████████▋         | 541/612 [05:44<00:44,  1.60it/s]"
     ]
    },
    {
     "name": "stdout",
     "output_type": "stream",
     "text": [
      "E:\\python\\segmentation\\Computer Vision\\Computer Vision\\Data\\braintomurarchive\\images\\1789.png\n"
     ]
    },
    {
     "name": "stderr",
     "output_type": "stream",
     "text": [
      " 89%|██████████████████████████████████████████████████████████████████████▊         | 542/612 [05:44<00:44,  1.59it/s]"
     ]
    },
    {
     "name": "stdout",
     "output_type": "stream",
     "text": [
      "E:\\python\\segmentation\\Computer Vision\\Computer Vision\\Data\\braintomurarchive\\images\\1276.png\n"
     ]
    },
    {
     "name": "stderr",
     "output_type": "stream",
     "text": [
      " 89%|██████████████████████████████████████████████████████████████████████▉         | 543/612 [05:45<00:43,  1.59it/s]"
     ]
    },
    {
     "name": "stdout",
     "output_type": "stream",
     "text": [
      "E:\\python\\segmentation\\Computer Vision\\Computer Vision\\Data\\braintomurarchive\\images\\1991.png\n"
     ]
    },
    {
     "name": "stderr",
     "output_type": "stream",
     "text": [
      " 89%|███████████████████████████████████████████████████████████████████████         | 544/612 [05:46<00:43,  1.56it/s]"
     ]
    },
    {
     "name": "stdout",
     "output_type": "stream",
     "text": [
      "E:\\python\\segmentation\\Computer Vision\\Computer Vision\\Data\\braintomurarchive\\images\\215.png\n"
     ]
    },
    {
     "name": "stderr",
     "output_type": "stream",
     "text": [
      " 89%|███████████████████████████████████████████████████████████████████████▏        | 545/612 [05:46<00:42,  1.57it/s]"
     ]
    },
    {
     "name": "stdout",
     "output_type": "stream",
     "text": [
      "E:\\python\\segmentation\\Computer Vision\\Computer Vision\\Data\\braintomurarchive\\images\\663.png\n"
     ]
    },
    {
     "name": "stderr",
     "output_type": "stream",
     "text": [
      " 89%|███████████████████████████████████████████████████████████████████████▎        | 546/612 [05:47<00:42,  1.57it/s]"
     ]
    },
    {
     "name": "stdout",
     "output_type": "stream",
     "text": [
      "E:\\python\\segmentation\\Computer Vision\\Computer Vision\\Data\\braintomurarchive\\images\\2611.png\n"
     ]
    },
    {
     "name": "stderr",
     "output_type": "stream",
     "text": [
      " 89%|███████████████████████████████████████████████████████████████████████▌        | 547/612 [05:48<00:41,  1.58it/s]"
     ]
    },
    {
     "name": "stdout",
     "output_type": "stream",
     "text": [
      "E:\\python\\segmentation\\Computer Vision\\Computer Vision\\Data\\braintomurarchive\\images\\1149.png\n"
     ]
    },
    {
     "name": "stderr",
     "output_type": "stream",
     "text": [
      " 90%|███████████████████████████████████████████████████████████████████████▋        | 548/612 [05:48<00:40,  1.57it/s]"
     ]
    },
    {
     "name": "stdout",
     "output_type": "stream",
     "text": [
      "E:\\python\\segmentation\\Computer Vision\\Computer Vision\\Data\\braintomurarchive\\images\\2660.png\n"
     ]
    },
    {
     "name": "stderr",
     "output_type": "stream",
     "text": [
      " 90%|███████████████████████████████████████████████████████████████████████▊        | 549/612 [05:49<00:40,  1.57it/s]"
     ]
    },
    {
     "name": "stdout",
     "output_type": "stream",
     "text": [
      "E:\\python\\segmentation\\Computer Vision\\Computer Vision\\Data\\braintomurarchive\\images\\251.png\n"
     ]
    },
    {
     "name": "stderr",
     "output_type": "stream",
     "text": [
      " 90%|███████████████████████████████████████████████████████████████████████▉        | 550/612 [05:50<00:39,  1.58it/s]"
     ]
    },
    {
     "name": "stdout",
     "output_type": "stream",
     "text": [
      "E:\\python\\segmentation\\Computer Vision\\Computer Vision\\Data\\braintomurarchive\\images\\1231.png\n"
     ]
    },
    {
     "name": "stderr",
     "output_type": "stream",
     "text": [
      " 90%|████████████████████████████████████████████████████████████████████████        | 551/612 [05:50<00:38,  1.60it/s]"
     ]
    },
    {
     "name": "stdout",
     "output_type": "stream",
     "text": [
      "E:\\python\\segmentation\\Computer Vision\\Computer Vision\\Data\\braintomurarchive\\images\\2675.png\n"
     ]
    },
    {
     "name": "stderr",
     "output_type": "stream",
     "text": [
      " 90%|████████████████████████████████████████████████████████████████████████▏       | 552/612 [05:51<00:37,  1.61it/s]"
     ]
    },
    {
     "name": "stdout",
     "output_type": "stream",
     "text": [
      "E:\\python\\segmentation\\Computer Vision\\Computer Vision\\Data\\braintomurarchive\\images\\1879.png\n"
     ]
    },
    {
     "name": "stderr",
     "output_type": "stream",
     "text": [
      " 90%|████████████████████████████████████████████████████████████████████████▎       | 553/612 [05:51<00:36,  1.62it/s]"
     ]
    },
    {
     "name": "stdout",
     "output_type": "stream",
     "text": [
      "E:\\python\\segmentation\\Computer Vision\\Computer Vision\\Data\\braintomurarchive\\images\\1345.png\n"
     ]
    },
    {
     "name": "stderr",
     "output_type": "stream",
     "text": [
      " 91%|████████████████████████████████████████████████████████████████████████▍       | 554/612 [05:52<00:37,  1.56it/s]"
     ]
    },
    {
     "name": "stdout",
     "output_type": "stream",
     "text": [
      "E:\\python\\segmentation\\Computer Vision\\Computer Vision\\Data\\braintomurarchive\\images\\2164.png\n"
     ]
    },
    {
     "name": "stderr",
     "output_type": "stream",
     "text": [
      " 91%|████████████████████████████████████████████████████████████████████████▌       | 555/612 [05:53<00:36,  1.56it/s]"
     ]
    },
    {
     "name": "stdout",
     "output_type": "stream",
     "text": [
      "E:\\python\\segmentation\\Computer Vision\\Computer Vision\\Data\\braintomurarchive\\images\\2302.png\n"
     ]
    },
    {
     "name": "stderr",
     "output_type": "stream",
     "text": [
      " 91%|████████████████████████████████████████████████████████████████████████▋       | 556/612 [05:53<00:35,  1.57it/s]"
     ]
    },
    {
     "name": "stdout",
     "output_type": "stream",
     "text": [
      "E:\\python\\segmentation\\Computer Vision\\Computer Vision\\Data\\braintomurarchive\\images\\2630.png\n"
     ]
    },
    {
     "name": "stderr",
     "output_type": "stream",
     "text": [
      " 91%|████████████████████████████████████████████████████████████████████████▊       | 557/612 [05:54<00:34,  1.58it/s]"
     ]
    },
    {
     "name": "stdout",
     "output_type": "stream",
     "text": [
      "E:\\python\\segmentation\\Computer Vision\\Computer Vision\\Data\\braintomurarchive\\images\\1067.png\n"
     ]
    },
    {
     "name": "stderr",
     "output_type": "stream",
     "text": [
      " 91%|████████████████████████████████████████████████████████████████████████▉       | 558/612 [05:55<00:34,  1.57it/s]"
     ]
    },
    {
     "name": "stdout",
     "output_type": "stream",
     "text": [
      "E:\\python\\segmentation\\Computer Vision\\Computer Vision\\Data\\braintomurarchive\\images\\1002.png\n"
     ]
    },
    {
     "name": "stderr",
     "output_type": "stream",
     "text": [
      " 91%|█████████████████████████████████████████████████████████████████████████       | 559/612 [05:55<00:33,  1.57it/s]"
     ]
    },
    {
     "name": "stdout",
     "output_type": "stream",
     "text": [
      "E:\\python\\segmentation\\Computer Vision\\Computer Vision\\Data\\braintomurarchive\\images\\308.png\n"
     ]
    },
    {
     "name": "stderr",
     "output_type": "stream",
     "text": [
      " 92%|█████████████████████████████████████████████████████████████████████████▏      | 560/612 [05:56<00:33,  1.56it/s]"
     ]
    },
    {
     "name": "stdout",
     "output_type": "stream",
     "text": [
      "E:\\python\\segmentation\\Computer Vision\\Computer Vision\\Data\\braintomurarchive\\images\\324.png\n"
     ]
    },
    {
     "name": "stderr",
     "output_type": "stream",
     "text": [
      " 92%|█████████████████████████████████████████████████████████████████████████▎      | 561/612 [05:57<00:32,  1.57it/s]"
     ]
    },
    {
     "name": "stdout",
     "output_type": "stream",
     "text": [
      "E:\\python\\segmentation\\Computer Vision\\Computer Vision\\Data\\braintomurarchive\\images\\1235.png\n"
     ]
    },
    {
     "name": "stderr",
     "output_type": "stream",
     "text": [
      " 92%|█████████████████████████████████████████████████████████████████████████▍      | 562/612 [05:57<00:31,  1.58it/s]"
     ]
    },
    {
     "name": "stdout",
     "output_type": "stream",
     "text": [
      "E:\\python\\segmentation\\Computer Vision\\Computer Vision\\Data\\braintomurarchive\\images\\153.png\n"
     ]
    },
    {
     "name": "stderr",
     "output_type": "stream",
     "text": [
      " 92%|█████████████████████████████████████████████████████████████████████████▌      | 563/612 [05:58<00:30,  1.60it/s]"
     ]
    },
    {
     "name": "stdout",
     "output_type": "stream",
     "text": [
      "E:\\python\\segmentation\\Computer Vision\\Computer Vision\\Data\\braintomurarchive\\images\\1810.png\n"
     ]
    },
    {
     "name": "stderr",
     "output_type": "stream",
     "text": [
      " 92%|█████████████████████████████████████████████████████████████████████████▋      | 564/612 [05:58<00:30,  1.60it/s]"
     ]
    },
    {
     "name": "stdout",
     "output_type": "stream",
     "text": [
      "E:\\python\\segmentation\\Computer Vision\\Computer Vision\\Data\\braintomurarchive\\images\\1401.png\n"
     ]
    },
    {
     "name": "stderr",
     "output_type": "stream",
     "text": [
      " 92%|█████████████████████████████████████████████████████████████████████████▊      | 565/612 [05:59<00:29,  1.59it/s]"
     ]
    },
    {
     "name": "stdout",
     "output_type": "stream",
     "text": [
      "E:\\python\\segmentation\\Computer Vision\\Computer Vision\\Data\\braintomurarchive\\images\\1861.png\n"
     ]
    },
    {
     "name": "stderr",
     "output_type": "stream",
     "text": [
      " 92%|█████████████████████████████████████████████████████████████████████████▉      | 566/612 [06:00<00:29,  1.58it/s]"
     ]
    },
    {
     "name": "stdout",
     "output_type": "stream",
     "text": [
      "E:\\python\\segmentation\\Computer Vision\\Computer Vision\\Data\\braintomurarchive\\images\\2197.png\n"
     ]
    },
    {
     "name": "stderr",
     "output_type": "stream",
     "text": [
      " 93%|██████████████████████████████████████████████████████████████████████████      | 567/612 [06:00<00:27,  1.61it/s]"
     ]
    },
    {
     "name": "stdout",
     "output_type": "stream",
     "text": [
      "E:\\python\\segmentation\\Computer Vision\\Computer Vision\\Data\\braintomurarchive\\images\\709.png\n"
     ]
    },
    {
     "name": "stderr",
     "output_type": "stream",
     "text": [
      " 93%|██████████████████████████████████████████████████████████████████████████▏     | 568/612 [06:01<00:27,  1.62it/s]"
     ]
    },
    {
     "name": "stdout",
     "output_type": "stream",
     "text": [
      "E:\\python\\segmentation\\Computer Vision\\Computer Vision\\Data\\braintomurarchive\\images\\2080.png\n"
     ]
    },
    {
     "name": "stderr",
     "output_type": "stream",
     "text": [
      " 93%|██████████████████████████████████████████████████████████████████████████▍     | 569/612 [06:02<00:26,  1.60it/s]"
     ]
    },
    {
     "name": "stdout",
     "output_type": "stream",
     "text": [
      "E:\\python\\segmentation\\Computer Vision\\Computer Vision\\Data\\braintomurarchive\\images\\1768.png\n"
     ]
    },
    {
     "name": "stderr",
     "output_type": "stream",
     "text": [
      " 93%|██████████████████████████████████████████████████████████████████████████▌     | 570/612 [06:02<00:26,  1.58it/s]"
     ]
    },
    {
     "name": "stdout",
     "output_type": "stream",
     "text": [
      "E:\\python\\segmentation\\Computer Vision\\Computer Vision\\Data\\braintomurarchive\\images\\353.png\n"
     ]
    },
    {
     "name": "stderr",
     "output_type": "stream",
     "text": [
      " 93%|██████████████████████████████████████████████████████████████████████████▋     | 571/612 [06:03<00:25,  1.59it/s]"
     ]
    },
    {
     "name": "stdout",
     "output_type": "stream",
     "text": [
      "E:\\python\\segmentation\\Computer Vision\\Computer Vision\\Data\\braintomurarchive\\images\\181.png\n"
     ]
    },
    {
     "name": "stderr",
     "output_type": "stream",
     "text": [
      " 93%|██████████████████████████████████████████████████████████████████████████▊     | 572/612 [06:03<00:25,  1.59it/s]"
     ]
    },
    {
     "name": "stdout",
     "output_type": "stream",
     "text": [
      "E:\\python\\segmentation\\Computer Vision\\Computer Vision\\Data\\braintomurarchive\\images\\1801.png\n"
     ]
    },
    {
     "name": "stderr",
     "output_type": "stream",
     "text": [
      " 94%|██████████████████████████████████████████████████████████████████████████▉     | 573/612 [06:04<00:24,  1.59it/s]"
     ]
    },
    {
     "name": "stdout",
     "output_type": "stream",
     "text": [
      "E:\\python\\segmentation\\Computer Vision\\Computer Vision\\Data\\braintomurarchive\\images\\865.png\n"
     ]
    },
    {
     "name": "stderr",
     "output_type": "stream",
     "text": [
      " 94%|███████████████████████████████████████████████████████████████████████████     | 574/612 [06:05<00:23,  1.60it/s]"
     ]
    },
    {
     "name": "stdout",
     "output_type": "stream",
     "text": [
      "E:\\python\\segmentation\\Computer Vision\\Computer Vision\\Data\\braintomurarchive\\images\\2378.png\n"
     ]
    },
    {
     "name": "stderr",
     "output_type": "stream",
     "text": [
      " 94%|███████████████████████████████████████████████████████████████████████████▏    | 575/612 [06:05<00:23,  1.60it/s]"
     ]
    },
    {
     "name": "stdout",
     "output_type": "stream",
     "text": [
      "E:\\python\\segmentation\\Computer Vision\\Computer Vision\\Data\\braintomurarchive\\images\\605.png\n"
     ]
    },
    {
     "name": "stderr",
     "output_type": "stream",
     "text": [
      " 94%|███████████████████████████████████████████████████████████████████████████▎    | 576/612 [06:06<00:22,  1.61it/s]"
     ]
    },
    {
     "name": "stdout",
     "output_type": "stream",
     "text": [
      "E:\\python\\segmentation\\Computer Vision\\Computer Vision\\Data\\braintomurarchive\\images\\2148.png\n"
     ]
    },
    {
     "name": "stderr",
     "output_type": "stream",
     "text": [
      " 94%|███████████████████████████████████████████████████████████████████████████▍    | 577/612 [06:07<00:21,  1.61it/s]"
     ]
    },
    {
     "name": "stdout",
     "output_type": "stream",
     "text": [
      "E:\\python\\segmentation\\Computer Vision\\Computer Vision\\Data\\braintomurarchive\\images\\940.png\n"
     ]
    },
    {
     "name": "stderr",
     "output_type": "stream",
     "text": [
      " 94%|███████████████████████████████████████████████████████████████████████████▌    | 578/612 [06:07<00:21,  1.59it/s]"
     ]
    },
    {
     "name": "stdout",
     "output_type": "stream",
     "text": [
      "E:\\python\\segmentation\\Computer Vision\\Computer Vision\\Data\\braintomurarchive\\images\\545.png\n"
     ]
    },
    {
     "name": "stderr",
     "output_type": "stream",
     "text": [
      " 95%|███████████████████████████████████████████████████████████████████████████▋    | 579/612 [06:08<00:20,  1.59it/s]"
     ]
    },
    {
     "name": "stdout",
     "output_type": "stream",
     "text": [
      "E:\\python\\segmentation\\Computer Vision\\Computer Vision\\Data\\braintomurarchive\\images\\217.png\n"
     ]
    },
    {
     "name": "stderr",
     "output_type": "stream",
     "text": [
      " 95%|███████████████████████████████████████████████████████████████████████████▊    | 580/612 [06:08<00:20,  1.56it/s]"
     ]
    },
    {
     "name": "stdout",
     "output_type": "stream",
     "text": [
      "E:\\python\\segmentation\\Computer Vision\\Computer Vision\\Data\\braintomurarchive\\images\\980.png\n"
     ]
    },
    {
     "name": "stderr",
     "output_type": "stream",
     "text": [
      " 95%|███████████████████████████████████████████████████████████████████████████▉    | 581/612 [06:09<00:19,  1.58it/s]"
     ]
    },
    {
     "name": "stdout",
     "output_type": "stream",
     "text": [
      "E:\\python\\segmentation\\Computer Vision\\Computer Vision\\Data\\braintomurarchive\\images\\888.png\n"
     ]
    },
    {
     "name": "stderr",
     "output_type": "stream",
     "text": [
      " 95%|████████████████████████████████████████████████████████████████████████████    | 582/612 [06:10<00:19,  1.56it/s]"
     ]
    },
    {
     "name": "stdout",
     "output_type": "stream",
     "text": [
      "E:\\python\\segmentation\\Computer Vision\\Computer Vision\\Data\\braintomurarchive\\images\\407.png\n"
     ]
    },
    {
     "name": "stderr",
     "output_type": "stream",
     "text": [
      " 95%|████████████████████████████████████████████████████████████████████████████▏   | 583/612 [06:10<00:18,  1.58it/s]"
     ]
    },
    {
     "name": "stdout",
     "output_type": "stream",
     "text": [
      "E:\\python\\segmentation\\Computer Vision\\Computer Vision\\Data\\braintomurarchive\\images\\1566.png\n"
     ]
    },
    {
     "name": "stderr",
     "output_type": "stream",
     "text": [
      " 95%|████████████████████████████████████████████████████████████████████████████▎   | 584/612 [06:11<00:18,  1.54it/s]"
     ]
    },
    {
     "name": "stdout",
     "output_type": "stream",
     "text": [
      "E:\\python\\segmentation\\Computer Vision\\Computer Vision\\Data\\braintomurarchive\\images\\2830.png\n"
     ]
    },
    {
     "name": "stderr",
     "output_type": "stream",
     "text": [
      " 96%|████████████████████████████████████████████████████████████████████████████▍   | 585/612 [06:12<00:17,  1.55it/s]"
     ]
    },
    {
     "name": "stdout",
     "output_type": "stream",
     "text": [
      "E:\\python\\segmentation\\Computer Vision\\Computer Vision\\Data\\braintomurarchive\\images\\1841.png\n"
     ]
    },
    {
     "name": "stderr",
     "output_type": "stream",
     "text": [
      " 96%|████████████████████████████████████████████████████████████████████████████▌   | 586/612 [06:12<00:16,  1.56it/s]"
     ]
    },
    {
     "name": "stdout",
     "output_type": "stream",
     "text": [
      "E:\\python\\segmentation\\Computer Vision\\Computer Vision\\Data\\braintomurarchive\\images\\2790.png\n"
     ]
    },
    {
     "name": "stderr",
     "output_type": "stream",
     "text": [
      " 96%|████████████████████████████████████████████████████████████████████████████▋   | 587/612 [06:13<00:16,  1.56it/s]"
     ]
    },
    {
     "name": "stdout",
     "output_type": "stream",
     "text": [
      "E:\\python\\segmentation\\Computer Vision\\Computer Vision\\Data\\braintomurarchive\\images\\2847.png\n"
     ]
    },
    {
     "name": "stderr",
     "output_type": "stream",
     "text": [
      " 96%|████████████████████████████████████████████████████████████████████████████▊   | 588/612 [06:14<00:15,  1.57it/s]"
     ]
    },
    {
     "name": "stdout",
     "output_type": "stream",
     "text": [
      "E:\\python\\segmentation\\Computer Vision\\Computer Vision\\Data\\braintomurarchive\\images\\1084.png\n"
     ]
    },
    {
     "name": "stderr",
     "output_type": "stream",
     "text": [
      " 96%|████████████████████████████████████████████████████████████████████████████▉   | 589/612 [06:14<00:14,  1.58it/s]"
     ]
    },
    {
     "name": "stdout",
     "output_type": "stream",
     "text": [
      "E:\\python\\segmentation\\Computer Vision\\Computer Vision\\Data\\braintomurarchive\\images\\1723.png\n"
     ]
    },
    {
     "name": "stderr",
     "output_type": "stream",
     "text": [
      " 96%|█████████████████████████████████████████████████████████████████████████████   | 590/612 [06:15<00:14,  1.56it/s]"
     ]
    },
    {
     "name": "stdout",
     "output_type": "stream",
     "text": [
      "E:\\python\\segmentation\\Computer Vision\\Computer Vision\\Data\\braintomurarchive\\images\\2454.png\n"
     ]
    },
    {
     "name": "stderr",
     "output_type": "stream",
     "text": [
      " 97%|█████████████████████████████████████████████████████████████████████████████▎  | 591/612 [06:15<00:13,  1.59it/s]"
     ]
    },
    {
     "name": "stdout",
     "output_type": "stream",
     "text": [
      "E:\\python\\segmentation\\Computer Vision\\Computer Vision\\Data\\braintomurarchive\\images\\1611.png\n"
     ]
    },
    {
     "name": "stderr",
     "output_type": "stream",
     "text": [
      " 97%|█████████████████████████████████████████████████████████████████████████████▍  | 592/612 [06:16<00:12,  1.59it/s]"
     ]
    },
    {
     "name": "stdout",
     "output_type": "stream",
     "text": [
      "E:\\python\\segmentation\\Computer Vision\\Computer Vision\\Data\\braintomurarchive\\images\\1363.png\n"
     ]
    },
    {
     "name": "stderr",
     "output_type": "stream",
     "text": [
      " 97%|█████████████████████████████████████████████████████████████████████████████▌  | 593/612 [06:17<00:12,  1.57it/s]"
     ]
    },
    {
     "name": "stdout",
     "output_type": "stream",
     "text": [
      "E:\\python\\segmentation\\Computer Vision\\Computer Vision\\Data\\braintomurarchive\\images\\2717.png\n"
     ]
    },
    {
     "name": "stderr",
     "output_type": "stream",
     "text": [
      " 97%|█████████████████████████████████████████████████████████████████████████████▋  | 594/612 [06:17<00:11,  1.57it/s]"
     ]
    },
    {
     "name": "stdout",
     "output_type": "stream",
     "text": [
      "E:\\python\\segmentation\\Computer Vision\\Computer Vision\\Data\\braintomurarchive\\images\\33.png\n"
     ]
    },
    {
     "name": "stderr",
     "output_type": "stream",
     "text": [
      " 97%|█████████████████████████████████████████████████████████████████████████████▊  | 595/612 [06:18<00:10,  1.57it/s]"
     ]
    },
    {
     "name": "stdout",
     "output_type": "stream",
     "text": [
      "E:\\python\\segmentation\\Computer Vision\\Computer Vision\\Data\\braintomurarchive\\images\\2496.png\n"
     ]
    },
    {
     "name": "stderr",
     "output_type": "stream",
     "text": [
      " 97%|█████████████████████████████████████████████████████████████████████████████▉  | 596/612 [06:19<00:10,  1.55it/s]"
     ]
    },
    {
     "name": "stdout",
     "output_type": "stream",
     "text": [
      "E:\\python\\segmentation\\Computer Vision\\Computer Vision\\Data\\braintomurarchive\\images\\2169.png\n"
     ]
    },
    {
     "name": "stderr",
     "output_type": "stream",
     "text": [
      " 98%|██████████████████████████████████████████████████████████████████████████████  | 597/612 [06:19<00:09,  1.57it/s]"
     ]
    },
    {
     "name": "stdout",
     "output_type": "stream",
     "text": [
      "E:\\python\\segmentation\\Computer Vision\\Computer Vision\\Data\\braintomurarchive\\images\\2222.png\n"
     ]
    },
    {
     "name": "stderr",
     "output_type": "stream",
     "text": [
      " 98%|██████████████████████████████████████████████████████████████████████████████▏ | 598/612 [06:20<00:08,  1.56it/s]"
     ]
    },
    {
     "name": "stdout",
     "output_type": "stream",
     "text": [
      "E:\\python\\segmentation\\Computer Vision\\Computer Vision\\Data\\braintomurarchive\\images\\1146.png\n"
     ]
    },
    {
     "name": "stderr",
     "output_type": "stream",
     "text": [
      " 98%|██████████████████████████████████████████████████████████████████████████████▎ | 599/612 [06:21<00:08,  1.56it/s]"
     ]
    },
    {
     "name": "stdout",
     "output_type": "stream",
     "text": [
      "E:\\python\\segmentation\\Computer Vision\\Computer Vision\\Data\\braintomurarchive\\images\\1893.png\n"
     ]
    },
    {
     "name": "stderr",
     "output_type": "stream",
     "text": [
      " 98%|██████████████████████████████████████████████████████████████████████████████▍ | 600/612 [06:21<00:07,  1.57it/s]"
     ]
    },
    {
     "name": "stdout",
     "output_type": "stream",
     "text": [
      "E:\\python\\segmentation\\Computer Vision\\Computer Vision\\Data\\braintomurarchive\\images\\2499.png\n"
     ]
    },
    {
     "name": "stderr",
     "output_type": "stream",
     "text": [
      " 98%|██████████████████████████████████████████████████████████████████████████████▌ | 601/612 [06:22<00:06,  1.60it/s]"
     ]
    },
    {
     "name": "stdout",
     "output_type": "stream",
     "text": [
      "E:\\python\\segmentation\\Computer Vision\\Computer Vision\\Data\\braintomurarchive\\images\\1236.png\n"
     ]
    },
    {
     "name": "stderr",
     "output_type": "stream",
     "text": [
      " 98%|██████████████████████████████████████████████████████████████████████████████▋ | 602/612 [06:22<00:06,  1.59it/s]"
     ]
    },
    {
     "name": "stdout",
     "output_type": "stream",
     "text": [
      "E:\\python\\segmentation\\Computer Vision\\Computer Vision\\Data\\braintomurarchive\\images\\1250.png\n"
     ]
    },
    {
     "name": "stderr",
     "output_type": "stream",
     "text": [
      " 99%|██████████████████████████████████████████████████████████████████████████████▊ | 603/612 [06:23<00:05,  1.58it/s]"
     ]
    },
    {
     "name": "stdout",
     "output_type": "stream",
     "text": [
      "E:\\python\\segmentation\\Computer Vision\\Computer Vision\\Data\\braintomurarchive\\images\\2923.png\n"
     ]
    },
    {
     "name": "stderr",
     "output_type": "stream",
     "text": [
      " 99%|██████████████████████████████████████████████████████████████████████████████▉ | 604/612 [06:24<00:05,  1.57it/s]"
     ]
    },
    {
     "name": "stdout",
     "output_type": "stream",
     "text": [
      "E:\\python\\segmentation\\Computer Vision\\Computer Vision\\Data\\braintomurarchive\\images\\1591.png\n"
     ]
    },
    {
     "name": "stderr",
     "output_type": "stream",
     "text": [
      " 99%|███████████████████████████████████████████████████████████████████████████████ | 605/612 [06:24<00:04,  1.60it/s]"
     ]
    },
    {
     "name": "stdout",
     "output_type": "stream",
     "text": [
      "E:\\python\\segmentation\\Computer Vision\\Computer Vision\\Data\\braintomurarchive\\images\\1894.png\n"
     ]
    },
    {
     "name": "stderr",
     "output_type": "stream",
     "text": [
      " 99%|███████████████████████████████████████████████████████████████████████████████▏| 606/612 [06:25<00:03,  1.62it/s]"
     ]
    },
    {
     "name": "stdout",
     "output_type": "stream",
     "text": [
      "E:\\python\\segmentation\\Computer Vision\\Computer Vision\\Data\\braintomurarchive\\images\\107.png\n"
     ]
    },
    {
     "name": "stderr",
     "output_type": "stream",
     "text": [
      " 99%|███████████████████████████████████████████████████████████████████████████████▎| 607/612 [06:26<00:03,  1.60it/s]"
     ]
    },
    {
     "name": "stdout",
     "output_type": "stream",
     "text": [
      "E:\\python\\segmentation\\Computer Vision\\Computer Vision\\Data\\braintomurarchive\\images\\1675.png\n"
     ]
    },
    {
     "name": "stderr",
     "output_type": "stream",
     "text": [
      " 99%|███████████████████████████████████████████████████████████████████████████████▍| 608/612 [06:26<00:02,  1.58it/s]"
     ]
    },
    {
     "name": "stdout",
     "output_type": "stream",
     "text": [
      "E:\\python\\segmentation\\Computer Vision\\Computer Vision\\Data\\braintomurarchive\\images\\429.png\n"
     ]
    },
    {
     "name": "stderr",
     "output_type": "stream",
     "text": [
      "100%|███████████████████████████████████████████████████████████████████████████████▌| 609/612 [06:27<00:01,  1.58it/s]"
     ]
    },
    {
     "name": "stdout",
     "output_type": "stream",
     "text": [
      "E:\\python\\segmentation\\Computer Vision\\Computer Vision\\Data\\braintomurarchive\\images\\344.png\n"
     ]
    },
    {
     "name": "stderr",
     "output_type": "stream",
     "text": [
      "100%|███████████████████████████████████████████████████████████████████████████████▋| 610/612 [06:28<00:01,  1.59it/s]"
     ]
    },
    {
     "name": "stdout",
     "output_type": "stream",
     "text": [
      "E:\\python\\segmentation\\Computer Vision\\Computer Vision\\Data\\braintomurarchive\\images\\2667.png\n"
     ]
    },
    {
     "name": "stderr",
     "output_type": "stream",
     "text": [
      "100%|███████████████████████████████████████████████████████████████████████████████▊| 611/612 [06:28<00:00,  1.59it/s]"
     ]
    },
    {
     "name": "stdout",
     "output_type": "stream",
     "text": [
      "E:\\python\\segmentation\\Computer Vision\\Computer Vision\\Data\\braintomurarchive\\images\\367.png\n"
     ]
    },
    {
     "name": "stderr",
     "output_type": "stream",
     "text": [
      "100%|████████████████████████████████████████████████████████████████████████████████| 612/612 [06:29<00:00,  1.57it/s]\n"
     ]
    }
   ],
   "source": [
    "if __name__ == \"__main__\":\n",
    "    np.random.seed(42)\n",
    "    tf.random.set_seed(42)\n",
    "\n",
    "    create_dir(path + \"result\")\n",
    "    my_model = \"brain_tumor.h5\"\n",
    "    with CustomObjectScope({\"dice_coef\":dice_coef, \"dice_loss\":dice_loss}):\n",
    "        loaded_model = tf.keras.models.load_model(my_model)\n",
    "\n",
    "    loaded_model.summary()\n",
    "\n",
    "    (X_train, y_train_mask), (X_validation, y_validation_mask), (X_test, y_mask_test) = load_dataset(dataset)\n",
    "\n",
    "    score = []\n",
    "    for x, y in tqdm(zip(X_test, y_mask_test), total=len(y_mask_test)):\n",
    "        name = x.split(\"/\")[-1]\n",
    "        print(name)\n",
    "\n",
    "        image = cv2.imread(x, cv2.IMREAD_COLOR)\n",
    "        image = cv2.resize(image, (W, H))\n",
    "        x = image / 255.0\n",
    "        #x = x.astype(np.float32)\n",
    "        x = np.expand_dims(x, axis=0)\n",
    "    \n",
    "        mask = cv2.imread(y, cv2.IMREAD_COLOR)\n",
    "        mask = cv2.resize(mask, (W, H))\n",
    "                                \n",
    "        y_pred = loaded_model.predict(x, verbose=0)[0]\n",
    "        y_pred = np.squeeze(y_pred, axis=-1)\n",
    "        #print(y_pred.shape)\n",
    "        y_pred = y_pred >= 0.5\n",
    "        y_pred = y_pred.astype(np.int32)\n",
    "\n",
    "        save_image_path = os.path.join(\"result\", name)\n",
    "        #save_results(image, mask, y_pred, save_image_path)\n",
    "\n",
    "        mask = mask / 255.0\n",
    "        mask = (mask > 0.5).astype(np.int32).flatten()\n",
    "        y_pred = y_pred.flatten()\n",
    "\n",
    "        f1_value = f1_score(mask, y_pred, labels=[0, 1], average=\"binary\")\n",
    "        jac_value = jaccard_score(mask, y_pred, labels=[0, 1], average=\"binary\")\n",
    "        recall_value = recall_score(mask, y_pred, labels=[0, 1], average=\"binary\")\n",
    "        precision_value = precision_score(mask, y_pred, labels=[0, 1], average=\"binary\")\n",
    "\n",
    "        score.append([name, f1_value, jac_value, recall_value, precision_value])\n",
    "    \n",
    "    score = [s[1:] for s in score]\n",
    "    score = np.mean(score, axis=0)\n",
    "    print(f\"F1: {score[0]:0.5f}\")\n",
    "    print(f\"Jaccard: {score[1]:0.5f}\")\n",
    "    print(f\"Recall: {score[2]:0.5f}\")\n",
    "    print(f\"Precision: {score[3]:0.5f}\")\n",
    "\n",
    "    df = pf.DataFrame(score, columns=[\"Image\", \"F1\", \"Jaccard\", \"Recall\", \"Precision\"])\n",
    "    df.to_csv(\"files/score.csv\")\n",
    "    "
   ]
  },
  {
   "cell_type": "code",
   "execution_count": null,
   "id": "c8dcd9ba-2d4d-4339-b08a-9b159025535e",
   "metadata": {},
   "outputs": [],
   "source": []
  }
 ],
 "metadata": {
  "kernelspec": {
   "display_name": "Python 3 (ipykernel)",
   "language": "python",
   "name": "python3"
  },
  "language_info": {
   "codemirror_mode": {
    "name": "ipython",
    "version": 3
   },
   "file_extension": ".py",
   "mimetype": "text/x-python",
   "name": "python",
   "nbconvert_exporter": "python",
   "pygments_lexer": "ipython3",
   "version": "3.11.5"
  }
 },
 "nbformat": 4,
 "nbformat_minor": 5
}
