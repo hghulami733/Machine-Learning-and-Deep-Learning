{
 "cells": [
  {
   "cell_type": "code",
   "execution_count": 1,
   "id": "05077a3e-cf32-4000-ac5d-f746d2a668ac",
   "metadata": {},
   "outputs": [
    {
     "name": "stdout",
     "output_type": "stream",
     "text": [
      "WARNING:tensorflow:From C:\\Users\\hamid\\anaconda3\\Lib\\site-packages\\keras\\src\\losses.py:2976: The name tf.losses.sparse_softmax_cross_entropy is deprecated. Please use tf.compat.v1.losses.sparse_softmax_cross_entropy instead.\n",
      "\n"
     ]
    }
   ],
   "source": [
    "import cv2\n",
    "from cvzone.HandTrackingModule import HandDetector"
   ]
  },
  {
   "cell_type": "code",
   "execution_count": 2,
   "id": "91842f71-2056-494d-82f3-50ffd70c6d86",
   "metadata": {},
   "outputs": [
    {
     "data": {
      "text/plain": [
       "False"
      ]
     },
     "execution_count": 2,
     "metadata": {},
     "output_type": "execute_result"
    }
   ],
   "source": [
    "video = r\"E:\\python\\segmentation\\Computer Vision\\Computer Vision\\Data\\Hand.mp4\"\n",
    "cap  = cv2.VideoCapture(video)\n",
    "cap.set(3, 1280)\n",
    "cap.set(4, 720)"
   ]
  },
  {
   "cell_type": "code",
   "execution_count": 3,
   "id": "bef930b7-eda9-4dd6-88e0-76fdd1bdaa0d",
   "metadata": {},
   "outputs": [],
   "source": [
    "detector = HandDetector(detectionCon=0.8, maxHands=2)\n",
    "start_distance = None\n",
    "scale = 0\n",
    "cx, cy = 500, 500"
   ]
  },
  {
   "cell_type": "code",
   "execution_count": 7,
   "id": "23f5c9c8-78b6-4f78-98b6-d90c79c6a189",
   "metadata": {},
   "outputs": [
    {
     "ename": "KeyboardInterrupt",
     "evalue": "",
     "output_type": "error",
     "traceback": [
      "\u001b[1;31m---------------------------------------------------------------------------\u001b[0m",
      "\u001b[1;31mKeyboardInterrupt\u001b[0m                         Traceback (most recent call last)",
      "Cell \u001b[1;32mIn[7], line 5\u001b[0m\n\u001b[0;32m      3\u001b[0m \u001b[38;5;28;01mif\u001b[39;00m success \u001b[38;5;241m==\u001b[39m \u001b[38;5;28;01mNone\u001b[39;00m:\n\u001b[0;32m      4\u001b[0m     \u001b[38;5;28;01mbreak\u001b[39;00m\n\u001b[1;32m----> 5\u001b[0m hands, img \u001b[38;5;241m=\u001b[39m detector\u001b[38;5;241m.\u001b[39mfindHands(img)\n\u001b[0;32m      7\u001b[0m img_1 \u001b[38;5;241m=\u001b[39m cv2\u001b[38;5;241m.\u001b[39mimread(\u001b[38;5;124mr\u001b[39m\u001b[38;5;124m\"\u001b[39m\u001b[38;5;124mE:\u001b[39m\u001b[38;5;124m\\\u001b[39m\u001b[38;5;124mpython\u001b[39m\u001b[38;5;124m\\\u001b[39m\u001b[38;5;124msegmentation\u001b[39m\u001b[38;5;124m\\\u001b[39m\u001b[38;5;124mComputer Vision\u001b[39m\u001b[38;5;124m\\\u001b[39m\u001b[38;5;124mComputer Vision\u001b[39m\u001b[38;5;124m\\\u001b[39m\u001b[38;5;124mData\u001b[39m\u001b[38;5;124m\\\u001b[39m\u001b[38;5;124mFarnoosh.jpg\u001b[39m\u001b[38;5;124m\"\u001b[39m)\n\u001b[0;32m      8\u001b[0m \u001b[38;5;66;03m#print(img_1.shape)\u001b[39;00m\n",
      "File \u001b[1;32m~\\anaconda3\\Lib\\site-packages\\cvzone\\HandTrackingModule.py:55\u001b[0m, in \u001b[0;36mHandDetector.findHands\u001b[1;34m(self, img, draw, flipType)\u001b[0m\n\u001b[0;32m     48\u001b[0m \u001b[38;5;250m\u001b[39m\u001b[38;5;124;03m\"\"\"\u001b[39;00m\n\u001b[0;32m     49\u001b[0m \u001b[38;5;124;03mFinds hands in a BGR image.\u001b[39;00m\n\u001b[0;32m     50\u001b[0m \u001b[38;5;124;03m:param img: Image to find the hands in.\u001b[39;00m\n\u001b[0;32m     51\u001b[0m \u001b[38;5;124;03m:param draw: Flag to draw the output on the image.\u001b[39;00m\n\u001b[0;32m     52\u001b[0m \u001b[38;5;124;03m:return: Image with or without drawings\u001b[39;00m\n\u001b[0;32m     53\u001b[0m \u001b[38;5;124;03m\"\"\"\u001b[39;00m\n\u001b[0;32m     54\u001b[0m imgRGB \u001b[38;5;241m=\u001b[39m cv2\u001b[38;5;241m.\u001b[39mcvtColor(img, cv2\u001b[38;5;241m.\u001b[39mCOLOR_BGR2RGB)\n\u001b[1;32m---> 55\u001b[0m \u001b[38;5;28mself\u001b[39m\u001b[38;5;241m.\u001b[39mresults \u001b[38;5;241m=\u001b[39m \u001b[38;5;28mself\u001b[39m\u001b[38;5;241m.\u001b[39mhands\u001b[38;5;241m.\u001b[39mprocess(imgRGB)\n\u001b[0;32m     56\u001b[0m allHands \u001b[38;5;241m=\u001b[39m []\n\u001b[0;32m     57\u001b[0m h, w, c \u001b[38;5;241m=\u001b[39m img\u001b[38;5;241m.\u001b[39mshape\n",
      "File \u001b[1;32m~\\AppData\\Roaming\\Python\\Python311\\site-packages\\mediapipe\\python\\solutions\\hands.py:153\u001b[0m, in \u001b[0;36mHands.process\u001b[1;34m(self, image)\u001b[0m\n\u001b[0;32m    132\u001b[0m \u001b[38;5;28;01mdef\u001b[39;00m \u001b[38;5;21mprocess\u001b[39m(\u001b[38;5;28mself\u001b[39m, image: np\u001b[38;5;241m.\u001b[39mndarray) \u001b[38;5;241m-\u001b[39m\u001b[38;5;241m>\u001b[39m NamedTuple:\n\u001b[0;32m    133\u001b[0m \u001b[38;5;250m  \u001b[39m\u001b[38;5;124;03m\"\"\"Processes an RGB image and returns the hand landmarks and handedness of each detected hand.\u001b[39;00m\n\u001b[0;32m    134\u001b[0m \n\u001b[0;32m    135\u001b[0m \u001b[38;5;124;03m  Args:\u001b[39;00m\n\u001b[1;32m   (...)\u001b[0m\n\u001b[0;32m    150\u001b[0m \u001b[38;5;124;03m         right hand) of the detected hand.\u001b[39;00m\n\u001b[0;32m    151\u001b[0m \u001b[38;5;124;03m  \"\"\"\u001b[39;00m\n\u001b[1;32m--> 153\u001b[0m   \u001b[38;5;28;01mreturn\u001b[39;00m \u001b[38;5;28msuper\u001b[39m()\u001b[38;5;241m.\u001b[39mprocess(input_data\u001b[38;5;241m=\u001b[39m{\u001b[38;5;124m'\u001b[39m\u001b[38;5;124mimage\u001b[39m\u001b[38;5;124m'\u001b[39m: image})\n",
      "File \u001b[1;32m~\\AppData\\Roaming\\Python\\Python311\\site-packages\\mediapipe\\python\\solution_base.py:372\u001b[0m, in \u001b[0;36mSolutionBase.process\u001b[1;34m(self, input_data)\u001b[0m\n\u001b[0;32m    366\u001b[0m   \u001b[38;5;28;01melse\u001b[39;00m:\n\u001b[0;32m    367\u001b[0m     \u001b[38;5;28mself\u001b[39m\u001b[38;5;241m.\u001b[39m_graph\u001b[38;5;241m.\u001b[39madd_packet_to_input_stream(\n\u001b[0;32m    368\u001b[0m         stream\u001b[38;5;241m=\u001b[39mstream_name,\n\u001b[0;32m    369\u001b[0m         packet\u001b[38;5;241m=\u001b[39m\u001b[38;5;28mself\u001b[39m\u001b[38;5;241m.\u001b[39m_make_packet(input_stream_type,\n\u001b[0;32m    370\u001b[0m                                  data)\u001b[38;5;241m.\u001b[39mat(\u001b[38;5;28mself\u001b[39m\u001b[38;5;241m.\u001b[39m_simulated_timestamp))\n\u001b[1;32m--> 372\u001b[0m \u001b[38;5;28mself\u001b[39m\u001b[38;5;241m.\u001b[39m_graph\u001b[38;5;241m.\u001b[39mwait_until_idle()\n\u001b[0;32m    373\u001b[0m \u001b[38;5;66;03m# Create a NamedTuple object where the field names are mapping to the graph\u001b[39;00m\n\u001b[0;32m    374\u001b[0m \u001b[38;5;66;03m# output stream names.\u001b[39;00m\n\u001b[0;32m    375\u001b[0m solution_outputs \u001b[38;5;241m=\u001b[39m collections\u001b[38;5;241m.\u001b[39mnamedtuple(\n\u001b[0;32m    376\u001b[0m     \u001b[38;5;124m'\u001b[39m\u001b[38;5;124mSolutionOutputs\u001b[39m\u001b[38;5;124m'\u001b[39m, \u001b[38;5;28mself\u001b[39m\u001b[38;5;241m.\u001b[39m_output_stream_type_info\u001b[38;5;241m.\u001b[39mkeys())\n",
      "\u001b[1;31mKeyboardInterrupt\u001b[0m: "
     ]
    }
   ],
   "source": [
    "while True:\n",
    "    success, img = cap.read()\n",
    "    if success == None:\n",
    "        break\n",
    "    hands, img = detector.findHands(img)\n",
    "    \n",
    "    img_1 = cv2.imread(r\"E:\\python\\segmentation\\Computer Vision\\Computer Vision\\Data\\Farnoosh.jpg\")\n",
    "    #print(img_1.shape)\n",
    "\n",
    "    if len(hands) == 2:\n",
    "        #print(\"Zoom Gusture\")\n",
    "        detector.fingersUp(hands[0]), detector.fingersUp(hands[1])\n",
    "        if detector.fingersUp(hands[0]) == [1, 1, 0, 0, 0] and detector.fingersUp(hands[0]) == [1, 1, 0, 0, 0]:\n",
    "            landmark_list_1 = hands[0][\"lmList\"]   \n",
    "            landmark_list_2 = hands[1][\"lmList\"] \n",
    "            # Points 8 is the tip of the index finger\n",
    "            landmark_list_1[0], landmark_list_2[0]\n",
    "            if start_distance is None:\n",
    "                # length, info, img = detector.findDistance(landmark_list_1[8],\n",
    "                #                                          landmark_list_2[8],\n",
    "                #                                          img)\n",
    "                \n",
    "                # Or if we want the center of hands we can use this codes instead\n",
    "                length, info, img = detector.findDistance(hands[0][\"center\"],\n",
    "                                                         hands[1][\"center\"],\n",
    "                                                         img)\n",
    "            \n",
    "                #print(length)\n",
    "                start_distance = length\n",
    "                \n",
    "            #length, info, img = detector.findDistance(landmark_list_1[8],\n",
    "                                                         #landmark_list_2[8],\n",
    "                                                         #img)\n",
    "\n",
    "            # Or if we want the center of hands we can use this codes instead\n",
    "            length, info, img = detector.findDistance(hands[0][\"center\"],\n",
    "                                                         hands[1][\"center\"],\n",
    "                                                         img)\n",
    "            \n",
    "            scale = length - start_distance\n",
    "            scale = int(scale) // 2\n",
    "            cx, cy = info[4:]\n",
    "            print(scale)\n",
    "    else:\n",
    "        start_distance = None\n",
    "\n",
    "    try:\n",
    "\n",
    "        h1, w1, _ = img_1.sahpe\n",
    "        new_h, new_w = ((h1 + scale) // 2) * 2, ((w1 + scale) // 2) * 2\n",
    "        image_1 = cv2.resize(img_1, (new_w, new_h))\n",
    "    \n",
    "    \n",
    "        #img[0:150, 0:150] = img_1\n",
    "    \n",
    "        img[cy - new_h // 2:cy + new_h // 2, cx - new_w // 2:cx + new_w // 2] = image_1\n",
    "\n",
    "    except:\n",
    "        pass\n",
    "    \n",
    "    cv2.imshow(\"Hands\", img)\n",
    "    cv2.waitKey(1)"
   ]
  },
  {
   "cell_type": "code",
   "execution_count": null,
   "id": "9f08b3eb-9820-4e00-ba7a-25698b599b69",
   "metadata": {},
   "outputs": [],
   "source": []
  }
 ],
 "metadata": {
  "kernelspec": {
   "display_name": "Python 3 (ipykernel)",
   "language": "python",
   "name": "python3"
  },
  "language_info": {
   "codemirror_mode": {
    "name": "ipython",
    "version": 3
   },
   "file_extension": ".py",
   "mimetype": "text/x-python",
   "name": "python",
   "nbconvert_exporter": "python",
   "pygments_lexer": "ipython3",
   "version": "3.11.5"
  }
 },
 "nbformat": 4,
 "nbformat_minor": 5
}
