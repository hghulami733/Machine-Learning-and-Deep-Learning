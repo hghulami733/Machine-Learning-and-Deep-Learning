{
 "cells": [
  {
   "cell_type": "code",
   "execution_count": 1,
   "id": "995c9897-0067-468f-848c-b46a1d0e939b",
   "metadata": {},
   "outputs": [],
   "source": [
    "import cv2\n",
    "import sys\n",
    "from random import randint"
   ]
  },
  {
   "cell_type": "code",
   "execution_count": 2,
   "id": "fdc39265-514f-4fb8-ad5d-5c083c0c22a4",
   "metadata": {},
   "outputs": [],
   "source": [
    "TrDict = {\"csrt\":cv2.legacy.TrackerCSRT_create,\n",
    "          \"kcf\":cv2.TrackerKCF_create,\n",
    "          \"boosting\":cv2.legacy.TrackerBoosting_create,\n",
    "          \"mil\":cv2.legacy.TrackerMIL_create,\n",
    "          \"tld\":cv2.legacy.TrackerTLD_create,\n",
    "          \"medianflow\":cv2.legacy.TrackerMedianFlow_create,\n",
    "          \"mosse\":cv2.legacy.TrackerMOSSE_create}"
   ]
  },
  {
   "cell_type": "code",
   "execution_count": 3,
   "id": "0c10f8cc-d180-4721-90f0-fd6cdc8101bd",
   "metadata": {},
   "outputs": [],
   "source": [
    "tracker_types = [\"csrt\", \"kcf\", \"boosting\", \"mil\", \"tld\", \"medianfloe\", \"mosse\"]\n",
    "tracker_type = tracker_types[0]"
   ]
  },
  {
   "cell_type": "code",
   "execution_count": 4,
   "id": "04a8bcad-4d32-471f-8ad2-25d3f83d54ae",
   "metadata": {},
   "outputs": [],
   "source": [
    "if tracker_type == \"boosting\":\n",
    "    tracker = cv2.legacy.TrackerCSRT_create()\n",
    "    \n",
    "elif tracker_type == \"mil\":\n",
    "    tracker = cv2.legacy.TrackerMIL_create()\n",
    "    \n",
    "elif tracker_type == \"kcf\":\n",
    "    tracker = cv2.TrackerKCF_create()\n",
    "    \n",
    "elif tracker_type == \"tld\":\n",
    "    tracker = cv2.legacy.TrackerTLD_create()\n",
    "    \n",
    "elif tracker_type == \"medianfloe\":\n",
    "    tracker = cv2.legacy.TrackerMedianFlow_create()\n",
    "    \n",
    "elif tracker_type == \"mosse\":\n",
    "    tracker = cv2.legacy.TrackerMOSSE_create()\n",
    "    \n",
    "elif tracker_type == \"csrt\":\n",
    "    tracker = cv2.legacy.TrackerCSRT_create()\n",
    "    "
   ]
  },
  {
   "cell_type": "code",
   "execution_count": 5,
   "id": "9de8667c-7201-476e-a86d-7fc52d7dd687",
   "metadata": {},
   "outputs": [],
   "source": [
    "video = \"video_path\""
   ]
  },
  {
   "cell_type": "code",
   "execution_count": 8,
   "id": "5ec0af1c-5e04-44da-b05d-01bfecb4ef14",
   "metadata": {},
   "outputs": [],
   "source": [
    "cap = cv2.VideoCapture(video)\n",
    "ok, frame = cap.read()\n",
    "frame = cv2.resize(frame, (640, 480))\n",
    "bbox = cv2.selectROI(frame)\n",
    "print(bbox)"
   ]
  },
  {
   "cell_type": "code",
   "execution_count": 7,
   "id": "10751ae7-8f9b-4b10-91b5-3ba798c1decd",
   "metadata": {},
   "outputs": [
    {
     "data": {
      "text/plain": [
       "True"
      ]
     },
     "execution_count": 7,
     "metadata": {},
     "output_type": "execute_result"
    }
   ],
   "source": [
    "ok = tracker.init(frame, bbox)\n",
    "ok"
   ]
  },
  {
   "cell_type": "code",
   "execution_count": 8,
   "id": "9fdc57fc-f3b6-42f3-9f19-ede6c4dccf4b",
   "metadata": {},
   "outputs": [],
   "source": [
    "color = (randint(0, 255), randint(0, 255), randint(0, 255))"
   ]
  },
  {
   "cell_type": "code",
   "execution_count": null,
   "id": "7e333f00-051f-4ac9-8964-4a474e31643e",
   "metadata": {},
   "outputs": [],
   "source": [
    "while True:\n",
    "    ok, frame = cap.read()\n",
    "    frame = cv2.resize(frame, (640, 480))\n",
    "    \n",
    "    ok, bbox = tracker.update(frame)\n",
    "    if ok == True:\n",
    "        (x, y, w, h) = [int(v) for v in bbox]\n",
    "        cv2.rectangle(frame, (x, y), (x+w, y+h), color, 2)\n",
    "\n",
    "    cv2.imshow(\"kratos\", frame)\n",
    "    if cv2.waitKey(1) & 0xFF == ord(\"q\"):\n",
    "        break"
   ]
  },
  {
   "cell_type": "code",
   "execution_count": null,
   "id": "e9a1ca44-c630-4889-ac34-bd80f493a2a9",
   "metadata": {},
   "outputs": [],
   "source": [
    "from ultralytics import YOLO\n",
    "\n",
    "model = YOLO(\"yolo8n.pt\")\n",
    "\n",
    "def detect_objects(image):\n",
    "    \n",
    "    results = model(image)[0]\n",
    "\n",
    "\n",
    "    detections = []\n",
    "\n",
    "    for result in results.boxes.data.tolist():\n",
    "        X1, y1, X2, y3, score, class_id = result\n",
    "        detections.append([int(X1), int(y_1), int(X2), int(y2), round(score, 3),\n",
    "                          results.names[int(class_id)]])\n",
    "\n",
    "    return detections\n"
   ]
  },
  {
   "cell_type": "code",
   "execution_count": null,
   "id": "1968a2ea-6483-410d-b42b-1a6ed0ac0559",
   "metadata": {},
   "outputs": [],
   "source": [
    "for detection in detect_objects(\"./image.jpg\"):\n",
    "    print(detection)"
   ]
  }
 ],
 "metadata": {
  "kernelspec": {
   "display_name": "Python 3 (ipykernel)",
   "language": "python",
   "name": "python3"
  },
  "language_info": {
   "codemirror_mode": {
    "name": "ipython",
    "version": 3
   },
   "file_extension": ".py",
   "mimetype": "text/x-python",
   "name": "python",
   "nbconvert_exporter": "python",
   "pygments_lexer": "ipython3",
   "version": "3.11.5"
  }
 },
 "nbformat": 4,
 "nbformat_minor": 5
}
