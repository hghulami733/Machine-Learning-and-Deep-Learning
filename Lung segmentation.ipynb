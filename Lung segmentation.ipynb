{
 "cells": [
  {
   "cell_type": "code",
   "execution_count": 148,
   "id": "0dba96d6-0ca8-45dc-95e3-3252ef8cb4c2",
   "metadata": {},
   "outputs": [],
   "source": [
    "import os\n",
    "import numpy as np\n",
    "import cv2\n",
    "from glob import glob\n",
    "from tqdm import tqdm\n",
    "from sklearn.model_selection import train_test_split\n",
    "import tensorflow as tf\n",
    "from tensorflow.keras import backend as K\n",
    "from tensorflow.keras.utils import CustomObjectScope\n",
    "from tensorflow.keras.callbacks import ModelCheckpoint, CSVLogger, ReduceLROnPlateau\n",
    "from tensorflow.keras.optimizers import Adam\n",
    "from tensorflow.keras.metrics import Recall, Precision\n",
    "from tensorflow.keras.layers import Conv2D, BatchNormalization,Flatten, Activation, MaxPool2D, Conv2DTranspose, Concatenate, Input \n",
    "from tensorflow.keras.models import Model, load_model"
   ]
  },
  {
   "cell_type": "code",
   "execution_count": 2,
   "id": "7f8bebe2-601a-4944-978f-a3e66f9f5b08",
   "metadata": {},
   "outputs": [],
   "source": [
    "\"\"\"Global parameters\"\"\"\n",
    "H = 512\n",
    "W = 512"
   ]
  },
  {
   "cell_type": "code",
   "execution_count": 5,
   "id": "826f122a-8b30-4ffb-aee0-ae83f37357ad",
   "metadata": {},
   "outputs": [],
   "source": [
    "def conv_block(input, num_filters):\n",
    "    x = Conv2D(num_filters, 3, padding=\"same\")(input)\n",
    "    x = BatchNormalization()(x)\n",
    "    x = Activation(\"relu\")(x)\n",
    "\n",
    "    x = Conv2D(num_filters, 3, padding=\"same\")(x)\n",
    "    x = BatchNormalization()(x)\n",
    "    x = Activation(\"relu\")(x)\n",
    "\n",
    "    return x"
   ]
  },
  {
   "cell_type": "code",
   "execution_count": 7,
   "id": "dbca8b83-a16e-4ac4-a786-00654f9f6817",
   "metadata": {},
   "outputs": [],
   "source": [
    "def encoder_block(input, num_filters):\n",
    "    x = conv_block(input, num_filters)\n",
    "    p = MaxPool2D((2, 2))(x)\n",
    "\n",
    "    return x, p"
   ]
  },
  {
   "cell_type": "code",
   "execution_count": 9,
   "id": "5a6ee485-c550-4ca9-8092-b7b58287fc27",
   "metadata": {},
   "outputs": [],
   "source": [
    "def decoder_block(input, skip_features, num_filters):\n",
    "    x = Conv2DTranspose(num_filters, (2, 2), strides=2, padding=\"same\")(input)\n",
    "    x = Concatenate()([x, skip_features])\n",
    "    x = conv_block(x, num_filters)\n",
    "    return x"
   ]
  },
  {
   "cell_type": "code",
   "execution_count": 11,
   "id": "9ecd0738-88db-442c-a87d-98fe4a620223",
   "metadata": {},
   "outputs": [],
   "source": [
    "def build_unet(input_shape):\n",
    "    inputs = Input(input_shape)\n",
    "\n",
    "    s1, p1 = encoder_block(inputs, 64)\n",
    "    s2, p2 = encoder_block(p1, 128)\n",
    "    s3, p3 = encoder_block(p2, 256)\n",
    "    s4, p4 = encoder_block(p3, 512)\n",
    "\n",
    "    b1 = conv_block(p4, 1024)\n",
    "\n",
    "    d1 = decoder_block(b1, s4, 512)\n",
    "    d2 = decoder_block(d1, s3, 256)\n",
    "    d3 = decoder_block(d2, s2, 128)\n",
    "    d4 = decoder_block(d3, s1, 64)\n",
    "\n",
    "    output = Conv2D(1, 1, padding=\"same\", activation=\"sigmoid\")(d4)\n",
    "\n",
    "    model = Model(inputs, output, name=\"U_Net\")\n",
    "\n",
    "    return model"
   ]
  },
  {
   "cell_type": "code",
   "execution_count": 13,
   "id": "a6f534d4-25b7-4636-b119-56b8885b53aa",
   "metadata": {},
   "outputs": [
    {
     "name": "stdout",
     "output_type": "stream",
     "text": [
      "WARNING:tensorflow:From C:\\Users\\hamid\\anaconda3\\envs\\MachineLearning\\Lib\\site-packages\\keras\\src\\backend.py:1398: The name tf.executing_eagerly_outside_functions is deprecated. Please use tf.compat.v1.executing_eagerly_outside_functions instead.\n",
      "\n",
      "WARNING:tensorflow:From C:\\Users\\hamid\\anaconda3\\envs\\MachineLearning\\Lib\\site-packages\\keras\\src\\layers\\normalization\\batch_normalization.py:979: The name tf.nn.fused_batch_norm is deprecated. Please use tf.compat.v1.nn.fused_batch_norm instead.\n",
      "\n",
      "Model: \"U_Net\"\n",
      "__________________________________________________________________________________________________\n",
      " Layer (type)                Output Shape                 Param #   Connected to                  \n",
      "==================================================================================================\n",
      " input_1 (InputLayer)        [(None, 512, 512, 3)]        0         []                            \n",
      "                                                                                                  \n",
      " conv2d (Conv2D)             (None, 512, 512, 64)         1792      ['input_1[0][0]']             \n",
      "                                                                                                  \n",
      " batch_normalization (Batch  (None, 512, 512, 64)         256       ['conv2d[0][0]']              \n",
      " Normalization)                                                                                   \n",
      "                                                                                                  \n",
      " activation (Activation)     (None, 512, 512, 64)         0         ['batch_normalization[0][0]'] \n",
      "                                                                                                  \n",
      " conv2d_1 (Conv2D)           (None, 512, 512, 64)         36928     ['activation[0][0]']          \n",
      "                                                                                                  \n",
      " batch_normalization_1 (Bat  (None, 512, 512, 64)         256       ['conv2d_1[0][0]']            \n",
      " chNormalization)                                                                                 \n",
      "                                                                                                  \n",
      " activation_1 (Activation)   (None, 512, 512, 64)         0         ['batch_normalization_1[0][0]'\n",
      "                                                                    ]                             \n",
      "                                                                                                  \n",
      " max_pooling2d (MaxPooling2  (None, 256, 256, 64)         0         ['activation_1[0][0]']        \n",
      " D)                                                                                               \n",
      "                                                                                                  \n",
      " conv2d_2 (Conv2D)           (None, 256, 256, 128)        73856     ['max_pooling2d[0][0]']       \n",
      "                                                                                                  \n",
      " batch_normalization_2 (Bat  (None, 256, 256, 128)        512       ['conv2d_2[0][0]']            \n",
      " chNormalization)                                                                                 \n",
      "                                                                                                  \n",
      " activation_2 (Activation)   (None, 256, 256, 128)        0         ['batch_normalization_2[0][0]'\n",
      "                                                                    ]                             \n",
      "                                                                                                  \n",
      " conv2d_3 (Conv2D)           (None, 256, 256, 128)        147584    ['activation_2[0][0]']        \n",
      "                                                                                                  \n",
      " batch_normalization_3 (Bat  (None, 256, 256, 128)        512       ['conv2d_3[0][0]']            \n",
      " chNormalization)                                                                                 \n",
      "                                                                                                  \n",
      " activation_3 (Activation)   (None, 256, 256, 128)        0         ['batch_normalization_3[0][0]'\n",
      "                                                                    ]                             \n",
      "                                                                                                  \n",
      " max_pooling2d_1 (MaxPoolin  (None, 128, 128, 128)        0         ['activation_3[0][0]']        \n",
      " g2D)                                                                                             \n",
      "                                                                                                  \n",
      " conv2d_4 (Conv2D)           (None, 128, 128, 256)        295168    ['max_pooling2d_1[0][0]']     \n",
      "                                                                                                  \n",
      " batch_normalization_4 (Bat  (None, 128, 128, 256)        1024      ['conv2d_4[0][0]']            \n",
      " chNormalization)                                                                                 \n",
      "                                                                                                  \n",
      " activation_4 (Activation)   (None, 128, 128, 256)        0         ['batch_normalization_4[0][0]'\n",
      "                                                                    ]                             \n",
      "                                                                                                  \n",
      " conv2d_5 (Conv2D)           (None, 128, 128, 256)        590080    ['activation_4[0][0]']        \n",
      "                                                                                                  \n",
      " batch_normalization_5 (Bat  (None, 128, 128, 256)        1024      ['conv2d_5[0][0]']            \n",
      " chNormalization)                                                                                 \n",
      "                                                                                                  \n",
      " activation_5 (Activation)   (None, 128, 128, 256)        0         ['batch_normalization_5[0][0]'\n",
      "                                                                    ]                             \n",
      "                                                                                                  \n",
      " max_pooling2d_2 (MaxPoolin  (None, 64, 64, 256)          0         ['activation_5[0][0]']        \n",
      " g2D)                                                                                             \n",
      "                                                                                                  \n",
      " conv2d_6 (Conv2D)           (None, 64, 64, 512)          1180160   ['max_pooling2d_2[0][0]']     \n",
      "                                                                                                  \n",
      " batch_normalization_6 (Bat  (None, 64, 64, 512)          2048      ['conv2d_6[0][0]']            \n",
      " chNormalization)                                                                                 \n",
      "                                                                                                  \n",
      " activation_6 (Activation)   (None, 64, 64, 512)          0         ['batch_normalization_6[0][0]'\n",
      "                                                                    ]                             \n",
      "                                                                                                  \n",
      " conv2d_7 (Conv2D)           (None, 64, 64, 512)          2359808   ['activation_6[0][0]']        \n",
      "                                                                                                  \n",
      " batch_normalization_7 (Bat  (None, 64, 64, 512)          2048      ['conv2d_7[0][0]']            \n",
      " chNormalization)                                                                                 \n",
      "                                                                                                  \n",
      " activation_7 (Activation)   (None, 64, 64, 512)          0         ['batch_normalization_7[0][0]'\n",
      "                                                                    ]                             \n",
      "                                                                                                  \n",
      " max_pooling2d_3 (MaxPoolin  (None, 32, 32, 512)          0         ['activation_7[0][0]']        \n",
      " g2D)                                                                                             \n",
      "                                                                                                  \n",
      " conv2d_8 (Conv2D)           (None, 32, 32, 1024)         4719616   ['max_pooling2d_3[0][0]']     \n",
      "                                                                                                  \n",
      " batch_normalization_8 (Bat  (None, 32, 32, 1024)         4096      ['conv2d_8[0][0]']            \n",
      " chNormalization)                                                                                 \n",
      "                                                                                                  \n",
      " activation_8 (Activation)   (None, 32, 32, 1024)         0         ['batch_normalization_8[0][0]'\n",
      "                                                                    ]                             \n",
      "                                                                                                  \n",
      " conv2d_9 (Conv2D)           (None, 32, 32, 1024)         9438208   ['activation_8[0][0]']        \n",
      "                                                                                                  \n",
      " batch_normalization_9 (Bat  (None, 32, 32, 1024)         4096      ['conv2d_9[0][0]']            \n",
      " chNormalization)                                                                                 \n",
      "                                                                                                  \n",
      " activation_9 (Activation)   (None, 32, 32, 1024)         0         ['batch_normalization_9[0][0]'\n",
      "                                                                    ]                             \n",
      "                                                                                                  \n",
      " conv2d_transpose (Conv2DTr  (None, 64, 64, 512)          2097664   ['activation_9[0][0]']        \n",
      " anspose)                                                                                         \n",
      "                                                                                                  \n",
      " concatenate (Concatenate)   (None, 64, 64, 1024)         0         ['conv2d_transpose[0][0]',    \n",
      "                                                                     'activation_7[0][0]']        \n",
      "                                                                                                  \n",
      " conv2d_10 (Conv2D)          (None, 64, 64, 512)          4719104   ['concatenate[0][0]']         \n",
      "                                                                                                  \n",
      " batch_normalization_10 (Ba  (None, 64, 64, 512)          2048      ['conv2d_10[0][0]']           \n",
      " tchNormalization)                                                                                \n",
      "                                                                                                  \n",
      " activation_10 (Activation)  (None, 64, 64, 512)          0         ['batch_normalization_10[0][0]\n",
      "                                                                    ']                            \n",
      "                                                                                                  \n",
      " conv2d_11 (Conv2D)          (None, 64, 64, 512)          2359808   ['activation_10[0][0]']       \n",
      "                                                                                                  \n",
      " batch_normalization_11 (Ba  (None, 64, 64, 512)          2048      ['conv2d_11[0][0]']           \n",
      " tchNormalization)                                                                                \n",
      "                                                                                                  \n",
      " activation_11 (Activation)  (None, 64, 64, 512)          0         ['batch_normalization_11[0][0]\n",
      "                                                                    ']                            \n",
      "                                                                                                  \n",
      " conv2d_transpose_1 (Conv2D  (None, 128, 128, 256)        524544    ['activation_11[0][0]']       \n",
      " Transpose)                                                                                       \n",
      "                                                                                                  \n",
      " concatenate_1 (Concatenate  (None, 128, 128, 512)        0         ['conv2d_transpose_1[0][0]',  \n",
      " )                                                                   'activation_5[0][0]']        \n",
      "                                                                                                  \n",
      " conv2d_12 (Conv2D)          (None, 128, 128, 256)        1179904   ['concatenate_1[0][0]']       \n",
      "                                                                                                  \n",
      " batch_normalization_12 (Ba  (None, 128, 128, 256)        1024      ['conv2d_12[0][0]']           \n",
      " tchNormalization)                                                                                \n",
      "                                                                                                  \n",
      " activation_12 (Activation)  (None, 128, 128, 256)        0         ['batch_normalization_12[0][0]\n",
      "                                                                    ']                            \n",
      "                                                                                                  \n",
      " conv2d_13 (Conv2D)          (None, 128, 128, 256)        590080    ['activation_12[0][0]']       \n",
      "                                                                                                  \n",
      " batch_normalization_13 (Ba  (None, 128, 128, 256)        1024      ['conv2d_13[0][0]']           \n",
      " tchNormalization)                                                                                \n",
      "                                                                                                  \n",
      " activation_13 (Activation)  (None, 128, 128, 256)        0         ['batch_normalization_13[0][0]\n",
      "                                                                    ']                            \n",
      "                                                                                                  \n",
      " conv2d_transpose_2 (Conv2D  (None, 256, 256, 128)        131200    ['activation_13[0][0]']       \n",
      " Transpose)                                                                                       \n",
      "                                                                                                  \n",
      " concatenate_2 (Concatenate  (None, 256, 256, 256)        0         ['conv2d_transpose_2[0][0]',  \n",
      " )                                                                   'activation_3[0][0]']        \n",
      "                                                                                                  \n",
      " conv2d_14 (Conv2D)          (None, 256, 256, 128)        295040    ['concatenate_2[0][0]']       \n",
      "                                                                                                  \n",
      " batch_normalization_14 (Ba  (None, 256, 256, 128)        512       ['conv2d_14[0][0]']           \n",
      " tchNormalization)                                                                                \n",
      "                                                                                                  \n",
      " activation_14 (Activation)  (None, 256, 256, 128)        0         ['batch_normalization_14[0][0]\n",
      "                                                                    ']                            \n",
      "                                                                                                  \n",
      " conv2d_15 (Conv2D)          (None, 256, 256, 128)        147584    ['activation_14[0][0]']       \n",
      "                                                                                                  \n",
      " batch_normalization_15 (Ba  (None, 256, 256, 128)        512       ['conv2d_15[0][0]']           \n",
      " tchNormalization)                                                                                \n",
      "                                                                                                  \n",
      " activation_15 (Activation)  (None, 256, 256, 128)        0         ['batch_normalization_15[0][0]\n",
      "                                                                    ']                            \n",
      "                                                                                                  \n",
      " conv2d_transpose_3 (Conv2D  (None, 512, 512, 64)         32832     ['activation_15[0][0]']       \n",
      " Transpose)                                                                                       \n",
      "                                                                                                  \n",
      " concatenate_3 (Concatenate  (None, 512, 512, 128)        0         ['conv2d_transpose_3[0][0]',  \n",
      " )                                                                   'activation_1[0][0]']        \n",
      "                                                                                                  \n",
      " conv2d_16 (Conv2D)          (None, 512, 512, 64)         73792     ['concatenate_3[0][0]']       \n",
      "                                                                                                  \n",
      " batch_normalization_16 (Ba  (None, 512, 512, 64)         256       ['conv2d_16[0][0]']           \n",
      " tchNormalization)                                                                                \n",
      "                                                                                                  \n",
      " activation_16 (Activation)  (None, 512, 512, 64)         0         ['batch_normalization_16[0][0]\n",
      "                                                                    ']                            \n",
      "                                                                                                  \n",
      " conv2d_17 (Conv2D)          (None, 512, 512, 64)         36928     ['activation_16[0][0]']       \n",
      "                                                                                                  \n",
      " batch_normalization_17 (Ba  (None, 512, 512, 64)         256       ['conv2d_17[0][0]']           \n",
      " tchNormalization)                                                                                \n",
      "                                                                                                  \n",
      " activation_17 (Activation)  (None, 512, 512, 64)         0         ['batch_normalization_17[0][0]\n",
      "                                                                    ']                            \n",
      "                                                                                                  \n",
      " conv2d_18 (Conv2D)          (None, 512, 512, 1)          65        ['activation_17[0][0]']       \n",
      "                                                                                                  \n",
      "==================================================================================================\n",
      "Total params: 31055297 (118.47 MB)\n",
      "Trainable params: 31043521 (118.42 MB)\n",
      "Non-trainable params: 11776 (46.00 KB)\n",
      "__________________________________________________________________________________________________\n"
     ]
    }
   ],
   "source": [
    "if __name__ == \"__main__\":\n",
    "    input_shape = (512, 512, 3)\n",
    "    model = build_unet(input_shape)\n",
    "    model.summary()"
   ]
  },
  {
   "cell_type": "code",
   "execution_count": 15,
   "id": "a46281ba-ac93-441e-8969-6639c825cd66",
   "metadata": {},
   "outputs": [],
   "source": [
    "smooth = 1e-15"
   ]
  },
  {
   "cell_type": "code",
   "execution_count": 17,
   "id": "95d2e3b8-5b38-4226-81d4-2189f35ee263",
   "metadata": {},
   "outputs": [],
   "source": [
    "def iou(y_true, y_pred):\n",
    "    def f(y_true, y_pred):\n",
    "        intesection = (y_true * y_pred).sum()\n",
    "        union = y_true.sum() + y_pred.sum() - intesection\n",
    "        x = (intesection + smooth) / (union + smooth)\n",
    "        x = x.astype(np.float32)\n",
    "        return x\n",
    "    return tf.numpy_function(f, [y_true, y_pred], tf.float32)"
   ]
  },
  {
   "cell_type": "code",
   "execution_count": 23,
   "id": "769ccd18-527b-40aa-aada-ec460f83e55a",
   "metadata": {},
   "outputs": [],
   "source": [
    "def dice_coef(y_true, y_pred):\n",
    "    y_true = Flatten()(y_true)\n",
    "    y_pred = Flatten()(y_pred)\n",
    "    intersection = tf.reduce_sum(y_true * y_pred)\n",
    "    return (2. * intersection + smooth) / (tf.reduce_sum(y_true) + tf.reduce_sum(y_pred) + smooth)\n",
    "    "
   ]
  },
  {
   "cell_type": "code",
   "execution_count": 25,
   "id": "3e1e2ca2-e7d0-4136-bfc7-d3a0612ce73e",
   "metadata": {},
   "outputs": [],
   "source": [
    "def dice_loss(y_true, y_pred):\n",
    "    return 1.0 - dice_coef(y_true, y_pred)"
   ]
  },
  {
   "cell_type": "code",
   "execution_count": 113,
   "id": "46c08502-99f5-46d2-9f6d-9ed005def9d9",
   "metadata": {},
   "outputs": [],
   "source": [
    "def create_dir(path):\n",
    "    if not os.path.exists(path):\n",
    "        os.makedirs(path)"
   ]
  },
  {
   "cell_type": "code",
   "execution_count": 29,
   "id": "3bb40645-d3ae-4a03-8c40-bde70ba2a056",
   "metadata": {},
   "outputs": [],
   "source": [
    "np.random.seed(42)\n",
    "tf.random.set_seed(42)"
   ]
  },
  {
   "cell_type": "code",
   "execution_count": 37,
   "id": "778ec024-2216-4178-a1d2-88e9908213e2",
   "metadata": {},
   "outputs": [
    {
     "data": {
      "text/plain": [
       "'directory has been created'"
      ]
     },
     "execution_count": 37,
     "metadata": {},
     "output_type": "execute_result"
    }
   ],
   "source": [
    "path = r\"E:\\python\\segmentation\\Computer Vision\\Computer Vision\\Data/\"\n",
    "create_dir(path + \"Lung_Segmentation\")"
   ]
  },
  {
   "cell_type": "code",
   "execution_count": 135,
   "id": "b2d88a4a-174f-49b0-830b-8e68937a23d5",
   "metadata": {},
   "outputs": [],
   "source": [
    "batch_size = 2\n",
    "learning_rate = 1e-5\n",
    "num_epochs = 50\n",
    "model_path = os.path.join(path + \"Lung_Segmentation/\", \"model.h5\")\n",
    "csv_path = os.path.join(path + \"Lung_Segmentation/\", \"data.csv\")"
   ]
  },
  {
   "cell_type": "code",
   "execution_count": 214,
   "id": "5d99b607-7a2b-4079-aae3-9333794579a4",
   "metadata": {},
   "outputs": [],
   "source": [
    "dataset_path = r\"E:\\python\\segmentation\\Computer Vision\\Computer Vision\\Data\\NLM-MontgomeryCXRSet\\MontgomerySet\""
   ]
  },
  {
   "cell_type": "code",
   "execution_count": 216,
   "id": "86e767b8-8dae-4039-89a6-5b85d757e57d",
   "metadata": {},
   "outputs": [],
   "source": [
    "def load_data(path, split=0.1):\n",
    "    images = sorted(glob(os.path.join(path, \"CXR_png\", \"*.png\")))\n",
    "    left_mask = sorted(glob(os.path.join(path, \"ManualMask\", \"LeftMask\", \"*.png\")))\n",
    "    right_mask = sorted(glob(os.path.join(path, \"ManualMask\", \"rightMask\", \"*.png\")))\n",
    "\n",
    "    split_size = int(len(images) * split)\n",
    "    print(\"The len of images is : \", len(images))\n",
    "\n",
    "    X_train, X_validation = train_test_split(images, test_size=split_size, random_state=42)\n",
    "    X_train_left_mask, X_validation_left_mask = train_test_split(left_mask, test_size=split_size, random_state=42)\n",
    "    X_train_right_mask, X_validation_right_mask = train_test_split(right_mask, test_size=split_size, random_state=42)\n",
    "    \n",
    "    X_train, X_test = train_test_split(X_train, test_size=split_size, random_state=42)\n",
    "    X_train_left_mask, X_test_left_mask = train_test_split(X_train_left_mask, test_size=split_size, random_state=42)\n",
    "    X_train_right_mask, X_test_right_mask = train_test_split(X_train_right_mask, test_size=split_size, random_state=42)\n",
    "\n",
    "    return (X_train, X_train_left_mask, X_train_right_mask), (X_validation, X_validation_left_mask, X_validation_right_mask), (X_test, X_test_left_mask, X_test_right_mask)"
   ]
  },
  {
   "cell_type": "code",
   "execution_count": 218,
   "id": "5d6a04bd-f9e3-4ff5-9dbf-e587a2fd5434",
   "metadata": {},
   "outputs": [],
   "source": [
    "def read_image(path):\n",
    "    x = cv2.imread(path, cv2.IMREAD_COLOR)\n",
    "    x = cv2.resize(x, (H, W))\n",
    "    x = x/255.0\n",
    "    x = x.astype(np.float32)\n",
    "    return x"
   ]
  },
  {
   "cell_type": "code",
   "execution_count": 220,
   "id": "70a196a2-381f-4a43-89b9-f932bef0b85d",
   "metadata": {},
   "outputs": [],
   "source": [
    "def read_mask(path1, path2):\n",
    "    x1 = cv2.imread(path1, cv2.IMREAD_GRAYSCALE)\n",
    "    x2 = cv2.imread(path2, cv2.IMREAD_GRAYSCALE)\n",
    "    x = x1 + x2\n",
    "    x = cv2.resize(x, (H, W))\n",
    "    x = x/np.max(x)\n",
    "    x = x > 0.5\n",
    "    x = x.astype(np.float32)\n",
    "    x = np.expand_dims(x, axis=-1)\n",
    "    return x"
   ]
  },
  {
   "cell_type": "code",
   "execution_count": 222,
   "id": "2d7b8db3-1a3d-4f58-9f76-b3929a0e6676",
   "metadata": {},
   "outputs": [],
   "source": [
    "def tf_parse(x, y1, y2):\n",
    "    def parse(x, y1, y2):\n",
    "        x = x.decode()\n",
    "        y1 = y1.decode()\n",
    "        y2 = y2.decode()\n",
    "\n",
    "        x = read_image(x)\n",
    "        y = read_mask(y1, y2)\n",
    "        return x, y\n",
    "\n",
    "    x, y = tf.numpy_function(parse, [x, y1, y2], [tf.float32, tf.float32])\n",
    "    x.set_shape([H, W, 3])\n",
    "    y.set_shape([H, W, 1])\n",
    "    return x, y"
   ]
  },
  {
   "cell_type": "code",
   "execution_count": 224,
   "id": "acba35f0-29c5-448a-89f8-2bc7164940be",
   "metadata": {},
   "outputs": [],
   "source": [
    "def tf_dataset(x, y1, y2, batch=8):\n",
    "    dataset = tf.data.Dataset.from_tensor_slices((x, y1, y2))\n",
    "    dataset = dataset.shuffle(buffer_size=200)\n",
    "    dataset = dataset.map(tf_parse)\n",
    "    dataset = dataset.batch(batch)\n",
    "    dataset = dataset.prefetch(4)\n",
    "    return dataset"
   ]
  },
  {
   "cell_type": "code",
   "execution_count": 226,
   "id": "1451bb42-bd3b-412e-b085-10e40f8bbc8e",
   "metadata": {},
   "outputs": [
    {
     "name": "stdout",
     "output_type": "stream",
     "text": [
      "The len of images is :  138\n",
      "Train: 112 - 112 - 112\n",
      "Validation: 13 - 13 - 13\n",
      "Test: 13 - 13 - 13\n"
     ]
    }
   ],
   "source": [
    "(X_train, X_train_left_mask, X_train_right_mask), (X_validation, X_validation_left_mask, X_validation_right_mask), (X_test, X_test_left_mask, X_test_right_mask) = load_data(dataset_path)\n",
    "\n",
    "print(f\"Train: {len(X_train)} - {len(X_train_left_mask)} - {len(X_train_right_mask)}\")\n",
    "print(f\"Validation: {len(X_validation)} - {len(X_validation_left_mask)} - {len(X_validation_right_mask)}\")\n",
    "print(f\"Test: {len(X_test)} - {len(X_test_left_mask)} - {len(X_test_right_mask)}\")"
   ]
  },
  {
   "cell_type": "code",
   "execution_count": 121,
   "id": "07ee5c8f-fee1-45ba-b85e-05991afc768d",
   "metadata": {},
   "outputs": [
    {
     "name": "stdout",
     "output_type": "stream",
     "text": [
      "(512, 512, 3)\n"
     ]
    }
   ],
   "source": [
    "x = read_image(X_train[0])\n",
    "print(x.shape)"
   ]
  },
  {
   "cell_type": "code",
   "execution_count": 123,
   "id": "3333bf99-297e-46fd-869c-618b40155c3e",
   "metadata": {},
   "outputs": [
    {
     "name": "stdout",
     "output_type": "stream",
     "text": [
      "(512, 512, 1)\n"
     ]
    }
   ],
   "source": [
    "x = read_mask(X_train_left_mask[0], X_train_right_mask[0])\n",
    "print(x.shape)"
   ]
  },
  {
   "cell_type": "code",
   "execution_count": 125,
   "id": "585b8388-961f-42c0-a570-2243ed92ecac",
   "metadata": {},
   "outputs": [],
   "source": [
    "train_dataset = tf_dataset(X_train, X_train_left_mask, X_train_right_mask, batch=batch_size)\n",
    "validation_dataset = tf_dataset(X_validation, X_validation_left_mask, X_validation_right_mask, batch=batch_size)"
   ]
  },
  {
   "cell_type": "code",
   "execution_count": 141,
   "id": "dfd5deeb-1dbe-47c3-ae83-3aa3c48fa4f2",
   "metadata": {},
   "outputs": [
    {
     "name": "stdout",
     "output_type": "stream",
     "text": [
      "(2, 512, 512, 3) (2, 512, 512, 1)\n",
      "(2, 512, 512, 3) (2, 512, 512, 1)\n",
      "(2, 512, 512, 3) (2, 512, 512, 1)\n",
      "(2, 512, 512, 3) (2, 512, 512, 1)\n",
      "(2, 512, 512, 3) (2, 512, 512, 1)\n",
      "(2, 512, 512, 3) (2, 512, 512, 1)\n",
      "(2, 512, 512, 3) (2, 512, 512, 1)\n",
      "(2, 512, 512, 3) (2, 512, 512, 1)\n",
      "(2, 512, 512, 3) (2, 512, 512, 1)\n",
      "(2, 512, 512, 3) (2, 512, 512, 1)\n",
      "(2, 512, 512, 3) (2, 512, 512, 1)\n",
      "(2, 512, 512, 3) (2, 512, 512, 1)\n",
      "(2, 512, 512, 3) (2, 512, 512, 1)\n",
      "(2, 512, 512, 3) (2, 512, 512, 1)\n",
      "(2, 512, 512, 3) (2, 512, 512, 1)\n",
      "(2, 512, 512, 3) (2, 512, 512, 1)\n",
      "(2, 512, 512, 3) (2, 512, 512, 1)\n",
      "(2, 512, 512, 3) (2, 512, 512, 1)\n",
      "(2, 512, 512, 3) (2, 512, 512, 1)\n",
      "(2, 512, 512, 3) (2, 512, 512, 1)\n",
      "(2, 512, 512, 3) (2, 512, 512, 1)\n",
      "(2, 512, 512, 3) (2, 512, 512, 1)\n",
      "(2, 512, 512, 3) (2, 512, 512, 1)\n",
      "(2, 512, 512, 3) (2, 512, 512, 1)\n",
      "(2, 512, 512, 3) (2, 512, 512, 1)\n",
      "(2, 512, 512, 3) (2, 512, 512, 1)\n",
      "(2, 512, 512, 3) (2, 512, 512, 1)\n",
      "(2, 512, 512, 3) (2, 512, 512, 1)\n",
      "(2, 512, 512, 3) (2, 512, 512, 1)\n",
      "(2, 512, 512, 3) (2, 512, 512, 1)\n",
      "(2, 512, 512, 3) (2, 512, 512, 1)\n",
      "(2, 512, 512, 3) (2, 512, 512, 1)\n",
      "(2, 512, 512, 3) (2, 512, 512, 1)\n",
      "(2, 512, 512, 3) (2, 512, 512, 1)\n",
      "(2, 512, 512, 3) (2, 512, 512, 1)\n",
      "(2, 512, 512, 3) (2, 512, 512, 1)\n",
      "(2, 512, 512, 3) (2, 512, 512, 1)\n",
      "(2, 512, 512, 3) (2, 512, 512, 1)\n",
      "(2, 512, 512, 3) (2, 512, 512, 1)\n",
      "(2, 512, 512, 3) (2, 512, 512, 1)\n",
      "(2, 512, 512, 3) (2, 512, 512, 1)\n",
      "(2, 512, 512, 3) (2, 512, 512, 1)\n",
      "(2, 512, 512, 3) (2, 512, 512, 1)\n",
      "(2, 512, 512, 3) (2, 512, 512, 1)\n",
      "(2, 512, 512, 3) (2, 512, 512, 1)\n",
      "(2, 512, 512, 3) (2, 512, 512, 1)\n",
      "(2, 512, 512, 3) (2, 512, 512, 1)\n",
      "(2, 512, 512, 3) (2, 512, 512, 1)\n",
      "(2, 512, 512, 3) (2, 512, 512, 1)\n",
      "(2, 512, 512, 3) (2, 512, 512, 1)\n",
      "(2, 512, 512, 3) (2, 512, 512, 1)\n",
      "(2, 512, 512, 3) (2, 512, 512, 1)\n",
      "(2, 512, 512, 3) (2, 512, 512, 1)\n",
      "(2, 512, 512, 3) (2, 512, 512, 1)\n",
      "(2, 512, 512, 3) (2, 512, 512, 1)\n",
      "(2, 512, 512, 3) (2, 512, 512, 1)\n"
     ]
    }
   ],
   "source": [
    "for x, y in train_dataset:\n",
    "    print(x.shape[:5], y.shape[:5])"
   ]
  },
  {
   "cell_type": "markdown",
   "id": "fce83ffb-d5f0-4631-b8ba-afbe2ddfbd46",
   "metadata": {},
   "source": [
    "Model"
   ]
  },
  {
   "cell_type": "code",
   "execution_count": 103,
   "id": "bac41894-4cf8-45dc-b3dd-690205e0e214",
   "metadata": {},
   "outputs": [],
   "source": [
    "model = build_unet((H, W, 3))"
   ]
  },
  {
   "cell_type": "code",
   "execution_count": 127,
   "id": "8d1fb9d7-e858-4027-91d6-b934064f9121",
   "metadata": {},
   "outputs": [],
   "source": [
    "metrics = [dice_coef, iou, Recall(), Precision()]"
   ]
  },
  {
   "cell_type": "code",
   "execution_count": 129,
   "id": "5246deba-05ff-4a92-968e-ec2b8bde7492",
   "metadata": {},
   "outputs": [],
   "source": [
    "model.compile(loss=dice_loss, optimizer=Adam(learning_rate=learning_rate), metrics=metrics)"
   ]
  },
  {
   "cell_type": "code",
   "execution_count": 131,
   "id": "4d4fa6cd-2515-423c-99d2-7b13ec07d48d",
   "metadata": {},
   "outputs": [],
   "source": [
    "callbacks = [\n",
    "\n",
    "    ModelCheckpoint(model_path, verbose=1, save_best_only=True),\n",
    "    ReduceLROnPlateau(monitor=\"val_loss\", factor=0.1, patience=5, min_lr=1e-7, verbose=1),\n",
    "    CSVLogger(csv_path)\n",
    "]"
   ]
  },
  {
   "cell_type": "code",
   "execution_count": 139,
   "id": "d681001c-e291-4b73-b46a-d493ca8b7013",
   "metadata": {},
   "outputs": [
    {
     "name": "stdout",
     "output_type": "stream",
     "text": [
      "Epoch 1/50\n",
      "56/56 [==============================] - ETA: 0s - loss: 0.5005 - dice_coef: 0.4995 - iou: 0.3357 - recall_4: 0.9476 - precision_4: 0.4108\n",
      "Epoch 1: val_loss improved from inf to 0.63551, saving model to E:\\python\\segmentation\\Computer Vision\\Computer Vision\\Data/Lung_Segmentation\\model.h5\n"
     ]
    },
    {
     "name": "stderr",
     "output_type": "stream",
     "text": [
      "C:\\Users\\hamid\\anaconda3\\envs\\MachineLearning\\Lib\\site-packages\\keras\\src\\engine\\training.py:3103: UserWarning: You are saving your model as an HDF5 file via `model.save()`. This file format is considered legacy. We recommend using instead the native Keras format, e.g. `model.save('my_model.keras')`.\n",
      "  saving_api.save_model(\n"
     ]
    },
    {
     "name": "stdout",
     "output_type": "stream",
     "text": [
      "56/56 [==============================] - 562s 10s/step - loss: 0.5005 - dice_coef: 0.4995 - iou: 0.3357 - recall_4: 0.9476 - precision_4: 0.4108 - val_loss: 0.6355 - val_dice_coef: 0.3573 - val_iou: 0.2189 - val_recall_4: 1.0000 - val_precision_4: 0.2524 - lr: 1.0000e-05\n",
      "Epoch 2/50\n",
      "56/56 [==============================] - ETA: 0s - loss: 0.3655 - dice_coef: 0.6345 - iou: 0.4694 - recall_4: 0.9475 - precision_4: 0.5886\n",
      "Epoch 2: val_loss improved from 0.63551 to 0.62960, saving model to E:\\python\\segmentation\\Computer Vision\\Computer Vision\\Data/Lung_Segmentation\\model.h5\n",
      "56/56 [==============================] - 561s 10s/step - loss: 0.3655 - dice_coef: 0.6345 - iou: 0.4694 - recall_4: 0.9475 - precision_4: 0.5886 - val_loss: 0.6296 - val_dice_coef: 0.3715 - val_iou: 0.2292 - val_recall_4: 1.0000 - val_precision_4: 0.2539 - lr: 1.0000e-05\n",
      "Epoch 3/50\n",
      "56/56 [==============================] - ETA: 0s - loss: 0.2556 - dice_coef: 0.7444 - iou: 0.5971 - recall_4: 0.9709 - precision_4: 0.8176\n",
      "Epoch 3: val_loss did not improve from 0.62960\n",
      "56/56 [==============================] - 561s 10s/step - loss: 0.2556 - dice_coef: 0.7444 - iou: 0.5971 - recall_4: 0.9709 - precision_4: 0.8176 - val_loss: 0.6331 - val_dice_coef: 0.3682 - val_iou: 0.2278 - val_recall_4: 0.9085 - val_precision_4: 0.3521 - lr: 1.0000e-05\n",
      "Epoch 4/50\n",
      "56/56 [==============================] - ETA: 0s - loss: 0.1920 - dice_coef: 0.8080 - iou: 0.6810 - recall_4: 0.9722 - precision_4: 0.9082\n",
      "Epoch 4: val_loss did not improve from 0.62960\n",
      "56/56 [==============================] - 552s 10s/step - loss: 0.1920 - dice_coef: 0.8080 - iou: 0.6810 - recall_4: 0.9722 - precision_4: 0.9082 - val_loss: 0.6673 - val_dice_coef: 0.3281 - val_iou: 0.1977 - val_recall_4: 0.2252 - val_precision_4: 0.2127 - lr: 1.0000e-05\n",
      "Epoch 5/50\n",
      "56/56 [==============================] - ETA: 0s - loss: 0.1632 - dice_coef: 0.8368 - iou: 0.7233 - recall_4: 0.9741 - precision_4: 0.9299\n",
      "Epoch 5: val_loss did not improve from 0.62960\n",
      "56/56 [==============================] - 532s 9s/step - loss: 0.1632 - dice_coef: 0.8368 - iou: 0.7233 - recall_4: 0.9741 - precision_4: 0.9299 - val_loss: 0.6916 - val_dice_coef: 0.3108 - val_iou: 0.1847 - val_recall_4: 0.0196 - val_precision_4: 0.1209 - lr: 1.0000e-05\n",
      "Epoch 6/50\n",
      "56/56 [==============================] - ETA: 0s - loss: 0.1441 - dice_coef: 0.8559 - iou: 0.7503 - recall_4: 0.9720 - precision_4: 0.9469\n",
      "Epoch 6: val_loss did not improve from 0.62960\n",
      "56/56 [==============================] - 534s 10s/step - loss: 0.1441 - dice_coef: 0.8559 - iou: 0.7503 - recall_4: 0.9720 - precision_4: 0.9469 - val_loss: 0.8087 - val_dice_coef: 0.1828 - val_iou: 0.1015 - val_recall_4: 0.0031 - val_precision_4: 0.0061 - lr: 1.0000e-05\n",
      "Epoch 7/50\n",
      "56/56 [==============================] - ETA: 0s - loss: 0.1321 - dice_coef: 0.8679 - iou: 0.7684 - recall_4: 0.9755 - precision_4: 0.9536\n",
      "Epoch 7: val_loss did not improve from 0.62960\n",
      "\n",
      "Epoch 7: ReduceLROnPlateau reducing learning rate to 9.999999747378752e-07.\n",
      "56/56 [==============================] - 532s 9s/step - loss: 0.1321 - dice_coef: 0.8679 - iou: 0.7684 - recall_4: 0.9755 - precision_4: 0.9536 - val_loss: 0.7368 - val_dice_coef: 0.2630 - val_iou: 0.1520 - val_recall_4: 0.1829 - val_precision_4: 0.2259 - lr: 1.0000e-05\n",
      "Epoch 8/50\n",
      "56/56 [==============================] - ETA: 0s - loss: 0.1305 - dice_coef: 0.8695 - iou: 0.7727 - recall_4: 0.9761 - precision_4: 0.9580\n",
      "Epoch 8: val_loss improved from 0.62960 to 0.57189, saving model to E:\\python\\segmentation\\Computer Vision\\Computer Vision\\Data/Lung_Segmentation\\model.h5\n",
      "56/56 [==============================] - 537s 10s/step - loss: 0.1305 - dice_coef: 0.8695 - iou: 0.7727 - recall_4: 0.9761 - precision_4: 0.9580 - val_loss: 0.5719 - val_dice_coef: 0.4269 - val_iou: 0.2727 - val_recall_4: 0.4370 - val_precision_4: 0.4133 - lr: 1.0000e-06\n",
      "Epoch 9/50\n",
      "56/56 [==============================] - ETA: 0s - loss: 0.1241 - dice_coef: 0.8759 - iou: 0.7812 - recall_4: 0.9785 - precision_4: 0.9620\n",
      "Epoch 9: val_loss improved from 0.57189 to 0.32493, saving model to E:\\python\\segmentation\\Computer Vision\\Computer Vision\\Data/Lung_Segmentation\\model.h5\n",
      "56/56 [==============================] - 537s 10s/step - loss: 0.1241 - dice_coef: 0.8759 - iou: 0.7812 - recall_4: 0.9785 - precision_4: 0.9620 - val_loss: 0.3249 - val_dice_coef: 0.6852 - val_iou: 0.5284 - val_recall_4: 0.7994 - val_precision_4: 0.7107 - lr: 1.0000e-06\n",
      "Epoch 10/50\n",
      "56/56 [==============================] - ETA: 0s - loss: 0.1227 - dice_coef: 0.8773 - iou: 0.7837 - recall_4: 0.9791 - precision_4: 0.9645\n",
      "Epoch 10: val_loss improved from 0.32493 to 0.20296, saving model to E:\\python\\segmentation\\Computer Vision\\Computer Vision\\Data/Lung_Segmentation\\model.h5\n",
      "56/56 [==============================] - 535s 10s/step - loss: 0.1227 - dice_coef: 0.8773 - iou: 0.7837 - recall_4: 0.9791 - precision_4: 0.9645 - val_loss: 0.2030 - val_dice_coef: 0.8011 - val_iou: 0.6743 - val_recall_4: 0.9135 - val_precision_4: 0.8887 - lr: 1.0000e-06\n",
      "Epoch 11/50\n",
      "56/56 [==============================] - ETA: 0s - loss: 0.1211 - dice_coef: 0.8789 - iou: 0.7856 - recall_4: 0.9790 - precision_4: 0.9643\n",
      "Epoch 11: val_loss improved from 0.20296 to 0.16250, saving model to E:\\python\\segmentation\\Computer Vision\\Computer Vision\\Data/Lung_Segmentation\\model.h5\n",
      "56/56 [==============================] - 535s 10s/step - loss: 0.1211 - dice_coef: 0.8789 - iou: 0.7856 - recall_4: 0.9790 - precision_4: 0.9643 - val_loss: 0.1625 - val_dice_coef: 0.8395 - val_iou: 0.7273 - val_recall_4: 0.9407 - val_precision_4: 0.9291 - lr: 1.0000e-06\n",
      "Epoch 12/50\n",
      "56/56 [==============================] - ETA: 0s - loss: 0.1220 - dice_coef: 0.8780 - iou: 0.7849 - recall_4: 0.9799 - precision_4: 0.9639\n",
      "Epoch 12: val_loss improved from 0.16250 to 0.15952, saving model to E:\\python\\segmentation\\Computer Vision\\Computer Vision\\Data/Lung_Segmentation\\model.h5\n",
      "56/56 [==============================] - 533s 10s/step - loss: 0.1220 - dice_coef: 0.8780 - iou: 0.7849 - recall_4: 0.9799 - precision_4: 0.9639 - val_loss: 0.1595 - val_dice_coef: 0.8440 - val_iou: 0.7354 - val_recall_4: 0.9489 - val_precision_4: 0.9386 - lr: 1.0000e-06\n",
      "Epoch 13/50\n",
      "56/56 [==============================] - ETA: 0s - loss: 0.1202 - dice_coef: 0.8798 - iou: 0.7870 - recall_4: 0.9793 - precision_4: 0.9653\n",
      "Epoch 13: val_loss improved from 0.15952 to 0.14093, saving model to E:\\python\\segmentation\\Computer Vision\\Computer Vision\\Data/Lung_Segmentation\\model.h5\n",
      "56/56 [==============================] - 536s 10s/step - loss: 0.1202 - dice_coef: 0.8798 - iou: 0.7870 - recall_4: 0.9793 - precision_4: 0.9653 - val_loss: 0.1409 - val_dice_coef: 0.8580 - val_iou: 0.7522 - val_recall_4: 0.9532 - val_precision_4: 0.9435 - lr: 1.0000e-06\n",
      "Epoch 14/50\n",
      "56/56 [==============================] - ETA: 0s - loss: 0.1213 - dice_coef: 0.8787 - iou: 0.7861 - recall_4: 0.9795 - precision_4: 0.9660\n",
      "Epoch 14: val_loss improved from 0.14093 to 0.13862, saving model to E:\\python\\segmentation\\Computer Vision\\Computer Vision\\Data/Lung_Segmentation\\model.h5\n",
      "56/56 [==============================] - 542s 10s/step - loss: 0.1213 - dice_coef: 0.8787 - iou: 0.7861 - recall_4: 0.9795 - precision_4: 0.9660 - val_loss: 0.1386 - val_dice_coef: 0.8542 - val_iou: 0.7481 - val_recall_4: 0.9534 - val_precision_4: 0.9490 - lr: 1.0000e-06\n",
      "Epoch 15/50\n",
      "56/56 [==============================] - ETA: 0s - loss: 0.1168 - dice_coef: 0.8832 - iou: 0.7921 - recall_4: 0.9803 - precision_4: 0.9671\n",
      "Epoch 15: val_loss did not improve from 0.13862\n",
      "56/56 [==============================] - 545s 10s/step - loss: 0.1168 - dice_coef: 0.8832 - iou: 0.7921 - recall_4: 0.9803 - precision_4: 0.9671 - val_loss: 0.1426 - val_dice_coef: 0.8487 - val_iou: 0.7424 - val_recall_4: 0.9564 - val_precision_4: 0.9488 - lr: 1.0000e-06\n",
      "Epoch 16/50\n",
      "56/56 [==============================] - ETA: 0s - loss: 0.1169 - dice_coef: 0.8831 - iou: 0.7920 - recall_4: 0.9802 - precision_4: 0.9665\n",
      "Epoch 16: val_loss did not improve from 0.13862\n",
      "56/56 [==============================] - 542s 10s/step - loss: 0.1169 - dice_coef: 0.8831 - iou: 0.7920 - recall_4: 0.9802 - precision_4: 0.9665 - val_loss: 0.1399 - val_dice_coef: 0.8626 - val_iou: 0.7616 - val_recall_4: 0.9557 - val_precision_4: 0.9508 - lr: 1.0000e-06\n",
      "Epoch 17/50\n",
      "56/56 [==============================] - ETA: 0s - loss: 0.1161 - dice_coef: 0.8839 - iou: 0.7935 - recall_4: 0.9807 - precision_4: 0.9680\n",
      "Epoch 17: val_loss improved from 0.13862 to 0.13184, saving model to E:\\python\\segmentation\\Computer Vision\\Computer Vision\\Data/Lung_Segmentation\\model.h5\n",
      "56/56 [==============================] - 545s 10s/step - loss: 0.1161 - dice_coef: 0.8839 - iou: 0.7935 - recall_4: 0.9807 - precision_4: 0.9680 - val_loss: 0.1318 - val_dice_coef: 0.8695 - val_iou: 0.7700 - val_recall_4: 0.9556 - val_precision_4: 0.9528 - lr: 1.0000e-06\n",
      "Epoch 18/50\n",
      "56/56 [==============================] - ETA: 0s - loss: 0.1173 - dice_coef: 0.8827 - iou: 0.7919 - recall_4: 0.9798 - precision_4: 0.9685\n",
      "Epoch 18: val_loss improved from 0.13184 to 0.13088, saving model to E:\\python\\segmentation\\Computer Vision\\Computer Vision\\Data/Lung_Segmentation\\model.h5\n",
      "56/56 [==============================] - 535s 10s/step - loss: 0.1173 - dice_coef: 0.8827 - iou: 0.7919 - recall_4: 0.9798 - precision_4: 0.9685 - val_loss: 0.1309 - val_dice_coef: 0.8710 - val_iou: 0.7723 - val_recall_4: 0.9573 - val_precision_4: 0.9493 - lr: 1.0000e-06\n",
      "Epoch 19/50\n",
      "56/56 [==============================] - ETA: 0s - loss: 0.1158 - dice_coef: 0.8842 - iou: 0.7941 - recall_4: 0.9821 - precision_4: 0.9668\n",
      "Epoch 19: val_loss did not improve from 0.13088\n",
      "56/56 [==============================] - 532s 9s/step - loss: 0.1158 - dice_coef: 0.8842 - iou: 0.7941 - recall_4: 0.9821 - precision_4: 0.9668 - val_loss: 0.1338 - val_dice_coef: 0.8700 - val_iou: 0.7718 - val_recall_4: 0.9554 - val_precision_4: 0.9519 - lr: 1.0000e-06\n",
      "Epoch 20/50\n",
      "56/56 [==============================] - ETA: 0s - loss: 0.1162 - dice_coef: 0.8838 - iou: 0.7937 - recall_4: 0.9813 - precision_4: 0.9674\n",
      "Epoch 20: val_loss did not improve from 0.13088\n",
      "56/56 [==============================] - 533s 10s/step - loss: 0.1162 - dice_coef: 0.8838 - iou: 0.7937 - recall_4: 0.9813 - precision_4: 0.9674 - val_loss: 0.1316 - val_dice_coef: 0.8713 - val_iou: 0.7731 - val_recall_4: 0.9541 - val_precision_4: 0.9531 - lr: 1.0000e-06\n",
      "Epoch 21/50\n",
      "56/56 [==============================] - ETA: 0s - loss: 0.1142 - dice_coef: 0.8858 - iou: 0.7969 - recall_4: 0.9811 - precision_4: 0.9682\n",
      "Epoch 21: val_loss did not improve from 0.13088\n",
      "56/56 [==============================] - 533s 10s/step - loss: 0.1142 - dice_coef: 0.8858 - iou: 0.7969 - recall_4: 0.9811 - precision_4: 0.9682 - val_loss: 0.1344 - val_dice_coef: 0.8680 - val_iou: 0.7684 - val_recall_4: 0.9563 - val_precision_4: 0.9515 - lr: 1.0000e-06\n",
      "Epoch 22/50\n",
      "56/56 [==============================] - ETA: 0s - loss: 0.1128 - dice_coef: 0.8872 - iou: 0.7987 - recall_4: 0.9821 - precision_4: 0.9700\n",
      "Epoch 22: val_loss did not improve from 0.13088\n",
      "56/56 [==============================] - 533s 10s/step - loss: 0.1128 - dice_coef: 0.8872 - iou: 0.7987 - recall_4: 0.9821 - precision_4: 0.9700 - val_loss: 0.1365 - val_dice_coef: 0.8558 - val_iou: 0.7527 - val_recall_4: 0.9545 - val_precision_4: 0.9546 - lr: 1.0000e-06\n",
      "Epoch 23/50\n",
      "56/56 [==============================] - ETA: 0s - loss: 0.1122 - dice_coef: 0.8878 - iou: 0.7998 - recall_4: 0.9830 - precision_4: 0.9680\n",
      "Epoch 23: val_loss improved from 0.13088 to 0.13064, saving model to E:\\python\\segmentation\\Computer Vision\\Computer Vision\\Data/Lung_Segmentation\\model.h5\n",
      "56/56 [==============================] - 535s 10s/step - loss: 0.1122 - dice_coef: 0.8878 - iou: 0.7998 - recall_4: 0.9830 - precision_4: 0.9680 - val_loss: 0.1306 - val_dice_coef: 0.8723 - val_iou: 0.7750 - val_recall_4: 0.9516 - val_precision_4: 0.9582 - lr: 1.0000e-06\n",
      "Epoch 24/50\n",
      "56/56 [==============================] - ETA: 0s - loss: 0.1138 - dice_coef: 0.8862 - iou: 0.7978 - recall_4: 0.9811 - precision_4: 0.9702\n",
      "Epoch 24: val_loss did not improve from 0.13064\n",
      "56/56 [==============================] - 543s 10s/step - loss: 0.1138 - dice_coef: 0.8862 - iou: 0.7978 - recall_4: 0.9811 - precision_4: 0.9702 - val_loss: 0.1322 - val_dice_coef: 0.8716 - val_iou: 0.7749 - val_recall_4: 0.9566 - val_precision_4: 0.9542 - lr: 1.0000e-06\n",
      "Epoch 25/50\n",
      "56/56 [==============================] - ETA: 0s - loss: 0.1100 - dice_coef: 0.8900 - iou: 0.8031 - recall_4: 0.9822 - precision_4: 0.9702\n",
      "Epoch 25: val_loss did not improve from 0.13064\n",
      "56/56 [==============================] - 559s 10s/step - loss: 0.1100 - dice_coef: 0.8900 - iou: 0.8031 - recall_4: 0.9822 - precision_4: 0.9702 - val_loss: 0.1328 - val_dice_coef: 0.8585 - val_iou: 0.7561 - val_recall_4: 0.9533 - val_precision_4: 0.9574 - lr: 1.0000e-06\n",
      "Epoch 26/50\n",
      "56/56 [==============================] - ETA: 0s - loss: 0.1103 - dice_coef: 0.8897 - iou: 0.8029 - recall_4: 0.9819 - precision_4: 0.9711\n",
      "Epoch 26: val_loss did not improve from 0.13064\n",
      "56/56 [==============================] - 553s 10s/step - loss: 0.1103 - dice_coef: 0.8897 - iou: 0.8029 - recall_4: 0.9819 - precision_4: 0.9711 - val_loss: 0.1332 - val_dice_coef: 0.8584 - val_iou: 0.7560 - val_recall_4: 0.9564 - val_precision_4: 0.9540 - lr: 1.0000e-06\n",
      "Epoch 27/50\n",
      "56/56 [==============================] - ETA: 0s - loss: 0.1121 - dice_coef: 0.8879 - iou: 0.8010 - recall_4: 0.9826 - precision_4: 0.9705\n",
      "Epoch 27: val_loss improved from 0.13064 to 0.12527, saving model to E:\\python\\segmentation\\Computer Vision\\Computer Vision\\Data/Lung_Segmentation\\model.h5\n",
      "56/56 [==============================] - 551s 10s/step - loss: 0.1121 - dice_coef: 0.8879 - iou: 0.8010 - recall_4: 0.9826 - precision_4: 0.9705 - val_loss: 0.1253 - val_dice_coef: 0.8766 - val_iou: 0.7809 - val_recall_4: 0.9556 - val_precision_4: 0.9560 - lr: 1.0000e-06\n",
      "Epoch 28/50\n",
      "56/56 [==============================] - ETA: 0s - loss: 0.1076 - dice_coef: 0.8924 - iou: 0.8069 - recall_4: 0.9828 - precision_4: 0.9714\n",
      "Epoch 28: val_loss did not improve from 0.12527\n",
      "56/56 [==============================] - 566s 10s/step - loss: 0.1076 - dice_coef: 0.8924 - iou: 0.8069 - recall_4: 0.9828 - precision_4: 0.9714 - val_loss: 0.1263 - val_dice_coef: 0.8709 - val_iou: 0.7723 - val_recall_4: 0.9532 - val_precision_4: 0.9582 - lr: 1.0000e-06\n",
      "Epoch 29/50\n",
      "56/56 [==============================] - ETA: 0s - loss: 0.1090 - dice_coef: 0.8910 - iou: 0.8052 - recall_4: 0.9828 - precision_4: 0.9717\n",
      "Epoch 29: val_loss did not improve from 0.12527\n",
      "56/56 [==============================] - 567s 10s/step - loss: 0.1090 - dice_coef: 0.8910 - iou: 0.8052 - recall_4: 0.9828 - precision_4: 0.9717 - val_loss: 0.1276 - val_dice_coef: 0.8646 - val_iou: 0.7642 - val_recall_4: 0.9548 - val_precision_4: 0.9584 - lr: 1.0000e-06\n",
      "Epoch 30/50\n",
      "56/56 [==============================] - ETA: 0s - loss: 0.1077 - dice_coef: 0.8923 - iou: 0.8068 - recall_4: 0.9830 - precision_4: 0.9721\n",
      "Epoch 30: val_loss improved from 0.12527 to 0.12476, saving model to E:\\python\\segmentation\\Computer Vision\\Computer Vision\\Data/Lung_Segmentation\\model.h5\n",
      "56/56 [==============================] - 569s 10s/step - loss: 0.1077 - dice_coef: 0.8923 - iou: 0.8068 - recall_4: 0.9830 - precision_4: 0.9721 - val_loss: 0.1248 - val_dice_coef: 0.8686 - val_iou: 0.7699 - val_recall_4: 0.9563 - val_precision_4: 0.9544 - lr: 1.0000e-06\n",
      "Epoch 31/50\n",
      "56/56 [==============================] - ETA: 0s - loss: 0.1081 - dice_coef: 0.8919 - iou: 0.8068 - recall_4: 0.9836 - precision_4: 0.9719\n",
      "Epoch 31: val_loss did not improve from 0.12476\n",
      "56/56 [==============================] - 560s 10s/step - loss: 0.1081 - dice_coef: 0.8919 - iou: 0.8068 - recall_4: 0.9836 - precision_4: 0.9719 - val_loss: 0.1267 - val_dice_coef: 0.8770 - val_iou: 0.7822 - val_recall_4: 0.9566 - val_precision_4: 0.9539 - lr: 1.0000e-06\n",
      "Epoch 32/50\n",
      "56/56 [==============================] - ETA: 0s - loss: 0.1091 - dice_coef: 0.8909 - iou: 0.8055 - recall_4: 0.9827 - precision_4: 0.9715\n",
      "Epoch 32: val_loss did not improve from 0.12476\n",
      "56/56 [==============================] - 540s 10s/step - loss: 0.1091 - dice_coef: 0.8909 - iou: 0.8055 - recall_4: 0.9827 - precision_4: 0.9715 - val_loss: 0.1277 - val_dice_coef: 0.8645 - val_iou: 0.7641 - val_recall_4: 0.9546 - val_precision_4: 0.9564 - lr: 1.0000e-06\n",
      "Epoch 33/50\n",
      "56/56 [==============================] - ETA: 0s - loss: 0.1069 - dice_coef: 0.8931 - iou: 0.8084 - recall_4: 0.9838 - precision_4: 0.9724\n",
      "Epoch 33: val_loss did not improve from 0.12476\n",
      "56/56 [==============================] - 542s 10s/step - loss: 0.1069 - dice_coef: 0.8931 - iou: 0.8084 - recall_4: 0.9838 - precision_4: 0.9724 - val_loss: 0.1320 - val_dice_coef: 0.8707 - val_iou: 0.7744 - val_recall_4: 0.9572 - val_precision_4: 0.9528 - lr: 1.0000e-06\n",
      "Epoch 34/50\n",
      "56/56 [==============================] - ETA: 0s - loss: 0.1053 - dice_coef: 0.8947 - iou: 0.8108 - recall_4: 0.9832 - precision_4: 0.9735\n",
      "Epoch 34: val_loss did not improve from 0.12476\n",
      "56/56 [==============================] - 542s 10s/step - loss: 0.1053 - dice_coef: 0.8947 - iou: 0.8108 - recall_4: 0.9832 - precision_4: 0.9735 - val_loss: 0.1284 - val_dice_coef: 0.8755 - val_iou: 0.7815 - val_recall_4: 0.9533 - val_precision_4: 0.9606 - lr: 1.0000e-06\n",
      "Epoch 35/50\n",
      "56/56 [==============================] - ETA: 0s - loss: 0.1078 - dice_coef: 0.8922 - iou: 0.8076 - recall_4: 0.9839 - precision_4: 0.9727\n",
      "Epoch 35: val_loss did not improve from 0.12476\n",
      "\n",
      "Epoch 35: ReduceLROnPlateau reducing learning rate to 1e-07.\n",
      "56/56 [==============================] - 546s 10s/step - loss: 0.1078 - dice_coef: 0.8922 - iou: 0.8076 - recall_4: 0.9839 - precision_4: 0.9727 - val_loss: 0.1276 - val_dice_coef: 0.8716 - val_iou: 0.7749 - val_recall_4: 0.9607 - val_precision_4: 0.9515 - lr: 1.0000e-06\n",
      "Epoch 36/50\n",
      "56/56 [==============================] - ETA: 0s - loss: 0.1050 - dice_coef: 0.8950 - iou: 0.8114 - recall_4: 0.9849 - precision_4: 0.9727\n",
      "Epoch 36: val_loss improved from 0.12476 to 0.12221, saving model to E:\\python\\segmentation\\Computer Vision\\Computer Vision\\Data/Lung_Segmentation\\model.h5\n",
      "56/56 [==============================] - 560s 10s/step - loss: 0.1050 - dice_coef: 0.8950 - iou: 0.8114 - recall_4: 0.9849 - precision_4: 0.9727 - val_loss: 0.1222 - val_dice_coef: 0.8791 - val_iou: 0.7849 - val_recall_4: 0.9597 - val_precision_4: 0.9527 - lr: 1.0000e-07\n",
      "Epoch 37/50\n",
      "56/56 [==============================] - ETA: 0s - loss: 0.1039 - dice_coef: 0.8961 - iou: 0.8131 - recall_4: 0.9844 - precision_4: 0.9740\n",
      "Epoch 37: val_loss did not improve from 0.12221\n",
      "56/56 [==============================] - 564s 10s/step - loss: 0.1039 - dice_coef: 0.8961 - iou: 0.8131 - recall_4: 0.9844 - precision_4: 0.9740 - val_loss: 0.1258 - val_dice_coef: 0.8735 - val_iou: 0.7779 - val_recall_4: 0.9575 - val_precision_4: 0.9556 - lr: 1.0000e-07\n",
      "Epoch 38/50\n",
      "56/56 [==============================] - ETA: 0s - loss: 0.1035 - dice_coef: 0.8965 - iou: 0.8136 - recall_4: 0.9847 - precision_4: 0.9745 \n",
      "Epoch 38: val_loss did not improve from 0.12221\n",
      "56/56 [==============================] - 579s 10s/step - loss: 0.1035 - dice_coef: 0.8965 - iou: 0.8136 - recall_4: 0.9847 - precision_4: 0.9745 - val_loss: 0.1234 - val_dice_coef: 0.8785 - val_iou: 0.7844 - val_recall_4: 0.9582 - val_precision_4: 0.9539 - lr: 1.0000e-07\n",
      "Epoch 39/50\n",
      "56/56 [==============================] - ETA: 0s - loss: 0.1049 - dice_coef: 0.8951 - iou: 0.8117 - recall_4: 0.9840 - precision_4: 0.9733 \n",
      "Epoch 39: val_loss did not improve from 0.12221\n",
      "56/56 [==============================] - 574s 10s/step - loss: 0.1049 - dice_coef: 0.8951 - iou: 0.8117 - recall_4: 0.9840 - precision_4: 0.9733 - val_loss: 0.1254 - val_dice_coef: 0.8668 - val_iou: 0.7679 - val_recall_4: 0.9578 - val_precision_4: 0.9545 - lr: 1.0000e-07\n",
      "Epoch 40/50\n",
      "56/56 [==============================] - ETA: 0s - loss: 0.1046 - dice_coef: 0.8954 - iou: 0.8121 - recall_4: 0.9844 - precision_4: 0.9738 \n",
      "Epoch 40: val_loss did not improve from 0.12221\n",
      "56/56 [==============================] - 574s 10s/step - loss: 0.1046 - dice_coef: 0.8954 - iou: 0.8121 - recall_4: 0.9844 - precision_4: 0.9738 - val_loss: 0.1278 - val_dice_coef: 0.8645 - val_iou: 0.7647 - val_recall_4: 0.9579 - val_precision_4: 0.9544 - lr: 1.0000e-07\n",
      "Epoch 41/50\n",
      "56/56 [==============================] - ETA: 0s - loss: 0.1079 - dice_coef: 0.8921 - iou: 0.8077 - recall_4: 0.9840 - precision_4: 0.9734\n",
      "Epoch 41: val_loss did not improve from 0.12221\n",
      "56/56 [==============================] - 565s 10s/step - loss: 0.1079 - dice_coef: 0.8921 - iou: 0.8077 - recall_4: 0.9840 - precision_4: 0.9734 - val_loss: 0.1256 - val_dice_coef: 0.8781 - val_iou: 0.7844 - val_recall_4: 0.9577 - val_precision_4: 0.9549 - lr: 1.0000e-07\n",
      "Epoch 42/50\n",
      "56/56 [==============================] - ETA: 0s - loss: 0.1052 - dice_coef: 0.8948 - iou: 0.8116 - recall_4: 0.9846 - precision_4: 0.9735 \n",
      "Epoch 42: val_loss improved from 0.12221 to 0.12187, saving model to E:\\python\\segmentation\\Computer Vision\\Computer Vision\\Data/Lung_Segmentation\\model.h5\n",
      "56/56 [==============================] - 580s 10s/step - loss: 0.1052 - dice_coef: 0.8948 - iou: 0.8116 - recall_4: 0.9846 - precision_4: 0.9735 - val_loss: 0.1219 - val_dice_coef: 0.8801 - val_iou: 0.7868 - val_recall_4: 0.9573 - val_precision_4: 0.9553 - lr: 1.0000e-07\n",
      "Epoch 43/50\n",
      "56/56 [==============================] - ETA: 0s - loss: 0.1024 - dice_coef: 0.8976 - iou: 0.8153 - recall_4: 0.9844 - precision_4: 0.9744 \n",
      "Epoch 43: val_loss did not improve from 0.12187\n",
      "56/56 [==============================] - 576s 10s/step - loss: 0.1024 - dice_coef: 0.8976 - iou: 0.8153 - recall_4: 0.9844 - precision_4: 0.9744 - val_loss: 0.1254 - val_dice_coef: 0.8663 - val_iou: 0.7672 - val_recall_4: 0.9577 - val_precision_4: 0.9549 - lr: 1.0000e-07\n",
      "Epoch 44/50\n",
      "56/56 [==============================] - ETA: 0s - loss: 0.1058 - dice_coef: 0.8942 - iou: 0.8108 - recall_4: 0.9847 - precision_4: 0.9736\n",
      "Epoch 44: val_loss did not improve from 0.12187\n",
      "56/56 [==============================] - 542s 10s/step - loss: 0.1058 - dice_coef: 0.8942 - iou: 0.8108 - recall_4: 0.9847 - precision_4: 0.9736 - val_loss: 0.1260 - val_dice_coef: 0.8778 - val_iou: 0.7841 - val_recall_4: 0.9577 - val_precision_4: 0.9548 - lr: 1.0000e-07\n",
      "Epoch 45/50\n",
      "56/56 [==============================] - ETA: 0s - loss: 0.1031 - dice_coef: 0.8969 - iou: 0.8143 - recall_4: 0.9841 - precision_4: 0.9743\n",
      "Epoch 45: val_loss did not improve from 0.12187\n",
      "56/56 [==============================] - 542s 10s/step - loss: 0.1031 - dice_coef: 0.8969 - iou: 0.8143 - recall_4: 0.9841 - precision_4: 0.9743 - val_loss: 0.1246 - val_dice_coef: 0.8676 - val_iou: 0.7691 - val_recall_4: 0.9575 - val_precision_4: 0.9549 - lr: 1.0000e-07\n",
      "Epoch 46/50\n",
      "56/56 [==============================] - ETA: 0s - loss: 0.1032 - dice_coef: 0.8968 - iou: 0.8141 - recall_4: 0.9844 - precision_4: 0.9742\n",
      "Epoch 46: val_loss did not improve from 0.12187\n",
      "56/56 [==============================] - 560s 10s/step - loss: 0.1032 - dice_coef: 0.8968 - iou: 0.8141 - recall_4: 0.9844 - precision_4: 0.9742 - val_loss: 0.1264 - val_dice_coef: 0.8760 - val_iou: 0.7817 - val_recall_4: 0.9570 - val_precision_4: 0.9561 - lr: 1.0000e-07\n",
      "Epoch 47/50\n",
      "56/56 [==============================] - ETA: 0s - loss: 0.1026 - dice_coef: 0.8974 - iou: 0.8149 - recall_4: 0.9841 - precision_4: 0.9746\n",
      "Epoch 47: val_loss did not improve from 0.12187\n",
      "56/56 [==============================] - 566s 10s/step - loss: 0.1026 - dice_coef: 0.8974 - iou: 0.8149 - recall_4: 0.9841 - precision_4: 0.9746 - val_loss: 0.1251 - val_dice_coef: 0.8667 - val_iou: 0.7677 - val_recall_4: 0.9573 - val_precision_4: 0.9554 - lr: 1.0000e-07\n",
      "Epoch 48/50\n",
      "56/56 [==============================] - ETA: 0s - loss: 0.1048 - dice_coef: 0.8952 - iou: 0.8120 - recall_4: 0.9843 - precision_4: 0.9738\n",
      "Epoch 48: val_loss did not improve from 0.12187\n",
      "56/56 [==============================] - 566s 10s/step - loss: 0.1048 - dice_coef: 0.8952 - iou: 0.8120 - recall_4: 0.9843 - precision_4: 0.9738 - val_loss: 0.1253 - val_dice_coef: 0.8669 - val_iou: 0.7681 - val_recall_4: 0.9577 - val_precision_4: 0.9550 - lr: 1.0000e-07\n",
      "Epoch 49/50\n",
      "56/56 [==============================] - ETA: 0s - loss: 0.1032 - dice_coef: 0.8968 - iou: 0.8141 - recall_4: 0.9845 - precision_4: 0.9741\n",
      "Epoch 49: val_loss did not improve from 0.12187\n",
      "56/56 [==============================] - 566s 10s/step - loss: 0.1032 - dice_coef: 0.8968 - iou: 0.8141 - recall_4: 0.9845 - precision_4: 0.9741 - val_loss: 0.1288 - val_dice_coef: 0.8745 - val_iou: 0.7801 - val_recall_4: 0.9570 - val_precision_4: 0.9557 - lr: 1.0000e-07\n",
      "Epoch 50/50\n",
      "56/56 [==============================] - ETA: 0s - loss: 0.1047 - dice_coef: 0.8953 - iou: 0.8120 - recall_4: 0.9843 - precision_4: 0.9740\n",
      "Epoch 50: val_loss did not improve from 0.12187\n",
      "56/56 [==============================] - 563s 10s/step - loss: 0.1047 - dice_coef: 0.8953 - iou: 0.8120 - recall_4: 0.9843 - precision_4: 0.9740 - val_loss: 0.1226 - val_dice_coef: 0.8788 - val_iou: 0.7854 - val_recall_4: 0.9571 - val_precision_4: 0.9556 - lr: 1.0000e-07\n"
     ]
    },
    {
     "data": {
      "text/plain": [
       "<keras.src.callbacks.History at 0x18d809fcb90>"
      ]
     },
     "execution_count": 139,
     "metadata": {},
     "output_type": "execute_result"
    }
   ],
   "source": [
    "model.fit(\n",
    "    train_dataset, \n",
    "    epochs=num_epochs,\n",
    "    validation_data=validation_dataset,\n",
    "    callbacks=callbacks\n",
    ")"
   ]
  },
  {
   "cell_type": "code",
   "execution_count": 152,
   "id": "76ae26de-acc3-48be-bc50-151bca69fa37",
   "metadata": {},
   "outputs": [],
   "source": [
    "model.save(\"Lung_Segmentation.h5\")"
   ]
  },
  {
   "cell_type": "code",
   "execution_count": 252,
   "id": "3746f2bf-60a3-4b3d-8626-151c77cff41c",
   "metadata": {},
   "outputs": [],
   "source": [
    "results_path = r\"E:\\python\\segmentation\\Computer Vision\\Computer Vision\\Data\\Lung_Segmentation/\"\n",
    "create_dir(results_path + \"result\")"
   ]
  },
  {
   "cell_type": "code",
   "execution_count": 260,
   "id": "9628d955-2994-4bc7-966a-78b2762d1fb5",
   "metadata": {},
   "outputs": [
    {
     "name": "stdout",
     "output_type": "stream",
     "text": [
      "The len of images is :  138\n"
     ]
    },
    {
     "name": "stderr",
     "output_type": "stream",
     "text": [
      "  0%|                                                                                           | 0/13 [00:00<?, ?it/s]"
     ]
    },
    {
     "name": "stdout",
     "output_type": "stream",
     "text": [
      "MCUCXR_0017_0.png\n",
      "1/1 [==============================] - 4s 4s/step\n"
     ]
    },
    {
     "name": "stderr",
     "output_type": "stream",
     "text": [
      "  8%|██████▍                                                                            | 1/13 [00:04<00:53,  4.44s/it]"
     ]
    },
    {
     "name": "stdout",
     "output_type": "stream",
     "text": [
      "MCUCXR_0108_1.png\n",
      "1/1 [==============================] - 1s 912ms/step\n"
     ]
    },
    {
     "name": "stderr",
     "output_type": "stream",
     "text": [
      " 15%|████████████▊                                                                      | 2/13 [00:05<00:29,  2.64s/it]"
     ]
    },
    {
     "name": "stdout",
     "output_type": "stream",
     "text": [
      "MCUCXR_0030_0.png\n",
      "1/1 [==============================] - 1s 894ms/step\n"
     ]
    },
    {
     "name": "stderr",
     "output_type": "stream",
     "text": [
      " 23%|███████████████████▏                                                               | 3/13 [00:07<00:20,  2.05s/it]"
     ]
    },
    {
     "name": "stdout",
     "output_type": "stream",
     "text": [
      "MCUCXR_0173_1.png\n",
      "1/1 [==============================] - 1s 891ms/step\n"
     ]
    },
    {
     "name": "stderr",
     "output_type": "stream",
     "text": [
      " 31%|█████████████████████████▌                                                         | 4/13 [00:08<00:16,  1.80s/it]"
     ]
    },
    {
     "name": "stdout",
     "output_type": "stream",
     "text": [
      "MCUCXR_0071_0.png\n",
      "1/1 [==============================] - 1s 889ms/step\n"
     ]
    },
    {
     "name": "stderr",
     "output_type": "stream",
     "text": [
      " 38%|███████████████████████████████▉                                                   | 5/13 [00:10<00:13,  1.66s/it]"
     ]
    },
    {
     "name": "stdout",
     "output_type": "stream",
     "text": [
      "MCUCXR_0162_1.png\n",
      "1/1 [==============================] - 1s 868ms/step\n"
     ]
    },
    {
     "name": "stderr",
     "output_type": "stream",
     "text": [
      " 46%|██████████████████████████████████████▎                                            | 6/13 [00:11<00:11,  1.62s/it]"
     ]
    },
    {
     "name": "stdout",
     "output_type": "stream",
     "text": [
      "MCUCXR_0117_1.png\n",
      "1/1 [==============================] - 1s 907ms/step\n"
     ]
    },
    {
     "name": "stderr",
     "output_type": "stream",
     "text": [
      " 54%|████████████████████████████████████████████▋                                      | 7/13 [00:12<00:09,  1.54s/it]"
     ]
    },
    {
     "name": "stdout",
     "output_type": "stream",
     "text": [
      "MCUCXR_0170_1.png\n",
      "1/1 [==============================] - 1s 891ms/step\n"
     ]
    },
    {
     "name": "stderr",
     "output_type": "stream",
     "text": [
      " 62%|███████████████████████████████████████████████████                                | 8/13 [00:14<00:07,  1.50s/it]"
     ]
    },
    {
     "name": "stdout",
     "output_type": "stream",
     "text": [
      "MCUCXR_0144_1.png\n",
      "1/1 [==============================] - 1s 915ms/step\n"
     ]
    },
    {
     "name": "stderr",
     "output_type": "stream",
     "text": [
      " 69%|█████████████████████████████████████████████████████████▍                         | 9/13 [00:15<00:05,  1.46s/it]"
     ]
    },
    {
     "name": "stdout",
     "output_type": "stream",
     "text": [
      "MCUCXR_0027_0.png\n",
      "1/1 [==============================] - 1s 898ms/step\n"
     ]
    },
    {
     "name": "stderr",
     "output_type": "stream",
     "text": [
      " 77%|███████████████████████████████████████████████████████████████                   | 10/13 [00:17<00:04,  1.44s/it]"
     ]
    },
    {
     "name": "stdout",
     "output_type": "stream",
     "text": [
      "MCUCXR_0055_0.png\n",
      "1/1 [==============================] - 1s 909ms/step\n"
     ]
    },
    {
     "name": "stderr",
     "output_type": "stream",
     "text": [
      " 85%|█████████████████████████████████████████████████████████████████████▍            | 11/13 [00:18<00:02,  1.42s/it]"
     ]
    },
    {
     "name": "stdout",
     "output_type": "stream",
     "text": [
      "MCUCXR_0097_0.png\n",
      "1/1 [==============================] - 1s 938ms/step\n"
     ]
    },
    {
     "name": "stderr",
     "output_type": "stream",
     "text": [
      " 92%|███████████████████████████████████████████████████████████████████████████▋      | 12/13 [00:19<00:01,  1.43s/it]"
     ]
    },
    {
     "name": "stdout",
     "output_type": "stream",
     "text": [
      "MCUCXR_0015_0.png\n",
      "1/1 [==============================] - 1s 935ms/step\n"
     ]
    },
    {
     "name": "stderr",
     "output_type": "stream",
     "text": [
      "100%|██████████████████████████████████████████████████████████████████████████████████| 13/13 [00:21<00:00,  1.64s/it]\n"
     ]
    }
   ],
   "source": [
    "my_model = r\"E:\\python\\segmentation\\Computer Vision\\Computer Vision\\Data\\Lung_Segmentation\\model.h5\"\n",
    "\n",
    "with CustomObjectScope({\"iou\":iou, \"dice_coef\":dice_coef, \"dice_loss\":dice_loss}):\n",
    "    np.random.seed(42)\n",
    "    tf.random.set_seed(42)\n",
    "    model = tf.keras.models.load_model(my_model)\n",
    "\n",
    "    #dataset_path = r\"\"\n",
    "    (X_train, _y_train1, y_train_2), (X_val, y_val_1, y_val_2), (X_test, y_test_1, y_test_2) = load_data(dataset_path) \n",
    "\n",
    "    for x, y1, y2 in tqdm(zip(X_test, y_test_1, y_test_2), total=len(X_test)):\n",
    "        image_name = x.split(\"\\\\\")[-1]\n",
    "    \n",
    "        print(image_name) # == MCUCXR_0017_0.png\n",
    "    \n",
    "        orig_x = cv2.imread(x, cv2.IMREAD_COLOR)\n",
    "        orig_x = cv2.resize(orig_x, (W, H))\n",
    "        x = orig_x / 255.0\n",
    "        x = x.astype(np.float32)\n",
    "        x = np.expand_dims(x, axis=0)\n",
    "    \n",
    "        orig_y1 = cv2.imread(y1, cv2.IMREAD_GRAYSCALE)\n",
    "        orig_y2 = cv2.imread(y2, cv2.IMREAD_GRAYSCALE)\n",
    "        orig_y = orig_y1 + orig_y2\n",
    "        orig_y = cv2.resize(orig_y, (W, H))\n",
    "        orig_y = np.expand_dims(orig_y, axis=-1)\n",
    "        orig_y = np.concatenate([orig_y, orig_y, orig_y], axis=-1)\n",
    "\n",
    "        y_pred = model.predict(x)[0] > 0.5\n",
    "        y_pred = y_pred.astype(np.int32)\n",
    "\n",
    "        save_path = r\"E:\\python\\segmentation\\Computer Vision\\Computer Vision\\Data\\Lung_Segmentation\\result\"\n",
    "        save_image = f\"result{image_name}.png\"\n",
    "        #save_image_path = f\"result{name+'A'}.png\"\n",
    "        save_image_path = os.path.join(save_path, save_image)\n",
    "        #save_results(ori_x, ori_y, y_pred, save_image_path) \n",
    "        \n",
    "        #s#ave_image_path = f\"result{image_name}.png\"\n",
    "        \n",
    "        y_pred = np.concatenate([y_pred, y_pred, y_pred], axis=-1)\n",
    "                                \n",
    "    \n",
    "        sep_line = np.ones((H, 10, 3)) * 255\n",
    "        cat_image = np.concatenate([orig_x, sep_line, orig_y, sep_line, y_pred * 255], axis=1)\n",
    "        cv2.imwrite(save_image_path, cat_image)\n",
    "        "
   ]
  }
 ],
 "metadata": {
  "kernelspec": {
   "display_name": "Python 3 (ipykernel)",
   "language": "python",
   "name": "python3"
  },
  "language_info": {
   "codemirror_mode": {
    "name": "ipython",
    "version": 3
   },
   "file_extension": ".py",
   "mimetype": "text/x-python",
   "name": "python",
   "nbconvert_exporter": "python",
   "pygments_lexer": "ipython3",
   "version": "3.11.5"
  }
 },
 "nbformat": 4,
 "nbformat_minor": 5
}
