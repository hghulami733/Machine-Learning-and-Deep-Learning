{
 "cells": [
  {
   "cell_type": "code",
   "execution_count": 3,
   "id": "60759bf1",
   "metadata": {},
   "outputs": [],
   "source": [
    "import numpy as np\n",
    "import matplotlib.pyplot as plt\n",
    "import cv2\n",
    "import tensorflow as tf\n",
    "import albumentations as A\n",
    "from tensorflow.python.util.nest import map_structure, assert_same_structure\n",
    "import tensorflow_probability as tfp\n",
    "from tensorflow_datasets import load \n",
    "from tensorflow.keras.models import Model\n",
    "from tensorflow.keras.layers import Layer\n",
    "from tensorflow.keras.layers import Conv2D, MaxPool2D, Dense, Flatten, InputLayer, BatchNormalization, Input, Dropout, BatchNormalization, RandomFlip, RandomRotation, Resizing, Rescaling\n",
    "from tensorflow.keras.losses import BinaryCrossentropy\n",
    "from tensorflow.keras.callbacks import Callback, CSVLogger, EarlyStopping, LearningRateScheduler, ModelCheckpoint, ReduceLROnPlateau\n",
    "from tensorflow.keras.metrics import Accuracy, BinaryAccuracy, FalsePositives, FalseNegatives, TrueNegatives, TruePositives, Precision, Recall, AUC, binary_accuracy, BinaryAccuracy\n",
    "from tensorflow.keras.optimizers import Adam\n",
    "from tensorflow.keras.regularizers import L1, L2\n",
    "from tensorboard.plugins.hparams import api as hp\n",
    "import wandb\n",
    "#from wandb.keras import WandbCallback\n",
    "import io\n",
    "from PIL import Image\n",
    "import datetime\n",
    "import sklearn\n",
    "from sklearn.metrics import confusion_matrix, roc_curve\n",
    "import seaborn as sns"
   ]
  },
  {
   "cell_type": "code",
   "execution_count": 7,
   "id": "16b7a9dd",
   "metadata": {},
   "outputs": [],
   "source": [
    "dataset, dataset_info = load('malaria', with_info=True, as_supervised=True, shuffle_files=True, split=['train'])"
   ]
  },
  {
   "cell_type": "markdown",
   "id": "76d64762",
   "metadata": {},
   "source": [
    "# Wandb Install, Login, Initialization and Configuration"
   ]
  },
  {
   "cell_type": "code",
   "execution_count": 20,
   "id": "b8372293",
   "metadata": {
    "scrolled": true
   },
   "outputs": [
    {
     "name": "stdout",
     "output_type": "stream",
     "text": [
      "Requirement already satisfied: wandb in c:\\users\\hamid\\anaconda3\\envs\\machinelearning\\lib\\site-packages (0.15.10)\n",
      "Requirement already satisfied: Click!=8.0.0,>=7.1 in c:\\users\\hamid\\anaconda3\\envs\\machinelearning\\lib\\site-packages (from wandb) (8.1.7)\n",
      "Requirement already satisfied: GitPython!=3.1.29,>=1.0.0 in c:\\users\\hamid\\anaconda3\\envs\\machinelearning\\lib\\site-packages (from wandb) (3.1.37)\n",
      "Requirement already satisfied: requests<3,>=2.0.0 in c:\\users\\hamid\\anaconda3\\envs\\machinelearning\\lib\\site-packages (from wandb) (2.31.0)\n",
      "Requirement already satisfied: psutil>=5.0.0 in c:\\users\\hamid\\anaconda3\\envs\\machinelearning\\lib\\site-packages (from wandb) (5.9.0)\n",
      "Requirement already satisfied: sentry-sdk>=1.0.0 in c:\\users\\hamid\\anaconda3\\envs\\machinelearning\\lib\\site-packages (from wandb) (1.31.0)\n",
      "Requirement already satisfied: docker-pycreds>=0.4.0 in c:\\users\\hamid\\anaconda3\\envs\\machinelearning\\lib\\site-packages (from wandb) (0.4.0)\n",
      "Requirement already satisfied: PyYAML in c:\\users\\hamid\\anaconda3\\envs\\machinelearning\\lib\\site-packages (from wandb) (6.0.1)\n",
      "Requirement already satisfied: pathtools in c:\\users\\hamid\\anaconda3\\envs\\machinelearning\\lib\\site-packages (from wandb) (0.1.2)\n",
      "Requirement already satisfied: setproctitle in c:\\users\\hamid\\anaconda3\\envs\\machinelearning\\lib\\site-packages (from wandb) (1.3.2)\n",
      "Requirement already satisfied: setuptools in c:\\users\\hamid\\anaconda3\\envs\\machinelearning\\lib\\site-packages (from wandb) (68.0.0)\n",
      "Requirement already satisfied: appdirs>=1.4.3 in c:\\users\\hamid\\anaconda3\\envs\\machinelearning\\lib\\site-packages (from wandb) (1.4.4)\n",
      "Requirement already satisfied: protobuf!=4.21.0,<5,>=3.19.0 in c:\\users\\hamid\\anaconda3\\envs\\machinelearning\\lib\\site-packages (from wandb) (3.20.3)\n",
      "Requirement already satisfied: colorama in c:\\users\\hamid\\anaconda3\\envs\\machinelearning\\lib\\site-packages (from Click!=8.0.0,>=7.1->wandb) (0.4.6)\n",
      "Requirement already satisfied: six>=1.4.0 in c:\\users\\hamid\\anaconda3\\envs\\machinelearning\\lib\\site-packages (from docker-pycreds>=0.4.0->wandb) (1.16.0)\n",
      "Requirement already satisfied: gitdb<5,>=4.0.1 in c:\\users\\hamid\\anaconda3\\envs\\machinelearning\\lib\\site-packages (from GitPython!=3.1.29,>=1.0.0->wandb) (4.0.10)\n",
      "Requirement already satisfied: charset-normalizer<4,>=2 in c:\\users\\hamid\\anaconda3\\envs\\machinelearning\\lib\\site-packages (from requests<3,>=2.0.0->wandb) (2.0.4)\n",
      "Requirement already satisfied: idna<4,>=2.5 in c:\\users\\hamid\\anaconda3\\envs\\machinelearning\\lib\\site-packages (from requests<3,>=2.0.0->wandb) (3.4)\n",
      "Requirement already satisfied: urllib3<3,>=1.21.1 in c:\\users\\hamid\\anaconda3\\envs\\machinelearning\\lib\\site-packages (from requests<3,>=2.0.0->wandb) (1.26.18)\n",
      "Requirement already satisfied: certifi>=2017.4.17 in c:\\users\\hamid\\anaconda3\\envs\\machinelearning\\lib\\site-packages (from requests<3,>=2.0.0->wandb) (2023.11.17)\n",
      "Requirement already satisfied: smmap<6,>=3.0.1 in c:\\users\\hamid\\anaconda3\\envs\\machinelearning\\lib\\site-packages (from gitdb<5,>=4.0.1->GitPython!=3.1.29,>=1.0.0->wandb) (5.0.1)\n"
     ]
    },
    {
     "name": "stderr",
     "output_type": "stream",
     "text": [
      "wandb: W&B API key is configured. Use `wandb login --relogin` to force relogin\n"
     ]
    }
   ],
   "source": [
    "!pip install wandb\n",
    "!wandb login"
   ]
  },
  {
   "cell_type": "code",
   "execution_count": 9,
   "id": "e7d815ea",
   "metadata": {},
   "outputs": [],
   "source": [
    "#wandb.init(project=\"Malaria-Derection\",)\n",
    "#wandb.init(project=\"Malaria-Derection\", sync_tensorboard=True)"
   ]
  },
  {
   "cell_type": "code",
   "execution_count": 87,
   "id": "de96dec4",
   "metadata": {},
   "outputs": [],
   "source": [
    "#wandb.tensorboard.patch(root_logdir=\"./logs\")\n",
    "#wandb.init(project=\"Malaria-Detection\", sync_tensorboard=True, save_code=False,notes=\"\")"
   ]
  },
  {
   "cell_type": "code",
   "execution_count": 24,
   "id": "0ae92177",
   "metadata": {},
   "outputs": [],
   "source": [
    "#wandb.init(project=\"Malaria-Detection\", entity=\"neuralearn\")"
   ]
  },
  {
   "cell_type": "code",
   "execution_count": null,
   "id": "5b09818c",
   "metadata": {},
   "outputs": [],
   "source": [
    "wnadb.config = {\n",
    "    #'BATCH_SIZE':128,\n",
    "    'IM_SIZE':224,\n",
    "    'LEARNING_RATE':0.001,\n",
    "    \"N_EPOCHS\":100,\n",
    "    'DROPOUT_RATE':0.0,\n",
    "    'REGULARIZATION_RATE':0.0,\n",
    "    'N_FILTERS':6,\n",
    "    'KERNEL_SIZE':3,\n",
    "    'N_STRIDES':1,\n",
    "    'POOL_SIZE':2,\n",
    "    #'PATCH_SIZE':2,\n",
    "    'N_DENSE_1':128,\n",
    "    'N_DENSE_2':32,\n",
    "    #'NUM_CLASSES':3,\n",
    "}\n",
    "\n",
    "#CONFIGURATION = wandb.config"
   ]
  },
  {
   "cell_type": "code",
   "execution_count": 11,
   "id": "0add9057",
   "metadata": {},
   "outputs": [],
   "source": [
    "def split(dataset, TRAIN_RATIO, VAL_RATIO, TEST_RATIO):\n",
    "    DATASET_SIZE = len(dataset)\n",
    "    \n",
    "    train_dataset = dataset.take(int(DATASET_SIZE * TRAIN_RATIO))\n",
    "\n",
    "    \n",
    "    val_test_dataset = dataset.skip(int(DATASET_SIZE * TRAIN_RATIO))\n",
    "    val_dataset = val_test_dataset.take(int(VAL_RATIO * DATASET_SIZE))\n",
    "\n",
    "    \n",
    "    test_dataset = val_test_dataset.skip(int(VAL_RATIO * DATASET_SIZE))\n",
    "    \n",
    "    return train_dataset, val_dataset, test_dataset\n"
   ]
  },
  {
   "cell_type": "code",
   "execution_count": 13,
   "id": "90c72c4d",
   "metadata": {},
   "outputs": [
    {
     "data": {
      "text/plain": [
       "([(array([[[0, 0, 0],\n",
       "           [0, 0, 0],\n",
       "           [0, 0, 0],\n",
       "           ...,\n",
       "           [0, 0, 0],\n",
       "           [0, 0, 0],\n",
       "           [0, 0, 0]],\n",
       "   \n",
       "          [[0, 0, 0],\n",
       "           [0, 0, 0],\n",
       "           [0, 0, 0],\n",
       "           ...,\n",
       "           [0, 0, 0],\n",
       "           [0, 0, 0],\n",
       "           [0, 0, 0]],\n",
       "   \n",
       "          [[0, 0, 0],\n",
       "           [0, 0, 0],\n",
       "           [0, 0, 0],\n",
       "           ...,\n",
       "           [0, 0, 0],\n",
       "           [0, 0, 0],\n",
       "           [0, 0, 0]],\n",
       "   \n",
       "          ...,\n",
       "   \n",
       "          [[0, 0, 0],\n",
       "           [0, 0, 0],\n",
       "           [0, 0, 0],\n",
       "           ...,\n",
       "           [0, 0, 0],\n",
       "           [0, 0, 0],\n",
       "           [0, 0, 0]],\n",
       "   \n",
       "          [[0, 0, 0],\n",
       "           [0, 0, 0],\n",
       "           [0, 0, 0],\n",
       "           ...,\n",
       "           [0, 0, 0],\n",
       "           [0, 0, 0],\n",
       "           [0, 0, 0]],\n",
       "   \n",
       "          [[0, 0, 0],\n",
       "           [0, 0, 0],\n",
       "           [0, 0, 0],\n",
       "           ...,\n",
       "           [0, 0, 0],\n",
       "           [0, 0, 0],\n",
       "           [0, 0, 0]]], dtype=uint8),\n",
       "   0)],\n",
       " [],\n",
       " [(array([[[0, 0, 0],\n",
       "           [0, 0, 0],\n",
       "           [0, 0, 0],\n",
       "           ...,\n",
       "           [0, 0, 0],\n",
       "           [0, 0, 0],\n",
       "           [0, 0, 0]],\n",
       "   \n",
       "          [[0, 0, 0],\n",
       "           [0, 0, 0],\n",
       "           [0, 0, 0],\n",
       "           ...,\n",
       "           [0, 0, 0],\n",
       "           [0, 0, 0],\n",
       "           [0, 0, 0]],\n",
       "   \n",
       "          [[0, 0, 0],\n",
       "           [0, 0, 0],\n",
       "           [0, 0, 0],\n",
       "           ...,\n",
       "           [0, 0, 0],\n",
       "           [0, 0, 0],\n",
       "           [0, 0, 0]],\n",
       "   \n",
       "          ...,\n",
       "   \n",
       "          [[0, 0, 0],\n",
       "           [0, 0, 0],\n",
       "           [0, 0, 0],\n",
       "           ...,\n",
       "           [0, 0, 0],\n",
       "           [0, 0, 0],\n",
       "           [0, 0, 0]],\n",
       "   \n",
       "          [[0, 0, 0],\n",
       "           [0, 0, 0],\n",
       "           [0, 0, 0],\n",
       "           ...,\n",
       "           [0, 0, 0],\n",
       "           [0, 0, 0],\n",
       "           [0, 0, 0]],\n",
       "   \n",
       "          [[0, 0, 0],\n",
       "           [0, 0, 0],\n",
       "           [0, 0, 0],\n",
       "           ...,\n",
       "           [0, 0, 0],\n",
       "           [0, 0, 0],\n",
       "           [0, 0, 0]]], dtype=uint8),\n",
       "   1)])"
      ]
     },
     "execution_count": 13,
     "metadata": {},
     "output_type": "execute_result"
    }
   ],
   "source": [
    "TRAIN_RATIO = 0.6\n",
    "VAL_RATIO = 0\n",
    "TEST_RATIO = 0.4\n",
    "\n",
    "#dataset = tf.data.Dataset.range(10)\n",
    "train_dataset, val_dataset, test_dataset = split(dataset[0], TRAIN_RATIO, VAL_RATIO, TEST_RATIO)\n",
    "list(train_dataset.take(1).as_numpy_iterator()), list(val_dataset.take(1).as_numpy_iterator()), list(test_dataset.take(1).as_numpy_iterator())"
   ]
  },
  {
   "cell_type": "code",
   "execution_count": 5,
   "id": "28e1042a",
   "metadata": {},
   "outputs": [
    {
     "data": {
      "text/plain": [
       "tfds.core.DatasetInfo(\n",
       "    name='malaria',\n",
       "    full_name='malaria/1.0.0',\n",
       "    description=\"\"\"\n",
       "    The Malaria dataset contains a total of 27,558 cell images with equal instances\n",
       "    of parasitized and uninfected cells from the thin blood smear slide images of\n",
       "    segmented cells.\n",
       "    \"\"\",\n",
       "    homepage='https://lhncbc.nlm.nih.gov/publication/pub9932',\n",
       "    data_path='C:\\\\Users\\\\hamid\\\\tensorflow_datasets\\\\malaria\\\\1.0.0',\n",
       "    file_format=tfrecord,\n",
       "    download_size=337.08 MiB,\n",
       "    dataset_size=317.62 MiB,\n",
       "    features=FeaturesDict({\n",
       "        'image': Image(shape=(None, None, 3), dtype=uint8),\n",
       "        'label': ClassLabel(shape=(), dtype=int64, num_classes=2),\n",
       "    }),\n",
       "    supervised_keys=('image', 'label'),\n",
       "    disable_shuffling=False,\n",
       "    splits={\n",
       "        'train': <SplitInfo num_examples=27558, num_shards=4>,\n",
       "    },\n",
       "    citation=\"\"\"@article{rajaraman2018pre,\n",
       "      title={Pre-trained convolutional neural networks as feature extractors toward\n",
       "      improved malaria parasite detection in thin blood smear images},\n",
       "      author={Rajaraman, Sivaramakrishnan and Antani, Sameer K and Poostchi, Mahdieh\n",
       "      and Silamut, Kamolrat and Hossain, Md A and Maude, Richard J and Jaeger,\n",
       "      Stefan and Thoma, George R},\n",
       "      journal={PeerJ},\n",
       "      volume={6},\n",
       "      pages={e4568},\n",
       "      year={2018},\n",
       "      publisher={PeerJ Inc.}\n",
       "    }\"\"\",\n",
       ")"
      ]
     },
     "execution_count": 5,
     "metadata": {},
     "output_type": "execute_result"
    }
   ],
   "source": [
    "dataset_info"
   ]
  },
  {
   "cell_type": "code",
   "execution_count": 6,
   "id": "038b7b67",
   "metadata": {},
   "outputs": [
    {
     "name": "stdout",
     "output_type": "stream",
     "text": [
      "(<tf.Tensor: shape=(103, 103, 3), dtype=uint8, numpy=\n",
      "array([[[0, 0, 0],\n",
      "        [0, 0, 0],\n",
      "        [0, 0, 0],\n",
      "        ...,\n",
      "        [0, 0, 0],\n",
      "        [0, 0, 0],\n",
      "        [0, 0, 0]],\n",
      "\n",
      "       [[0, 0, 0],\n",
      "        [0, 0, 0],\n",
      "        [0, 0, 0],\n",
      "        ...,\n",
      "        [0, 0, 0],\n",
      "        [0, 0, 0],\n",
      "        [0, 0, 0]],\n",
      "\n",
      "       [[0, 0, 0],\n",
      "        [0, 0, 0],\n",
      "        [0, 0, 0],\n",
      "        ...,\n",
      "        [0, 0, 0],\n",
      "        [0, 0, 0],\n",
      "        [0, 0, 0]],\n",
      "\n",
      "       ...,\n",
      "\n",
      "       [[0, 0, 0],\n",
      "        [0, 0, 0],\n",
      "        [0, 0, 0],\n",
      "        ...,\n",
      "        [0, 0, 0],\n",
      "        [0, 0, 0],\n",
      "        [0, 0, 0]],\n",
      "\n",
      "       [[0, 0, 0],\n",
      "        [0, 0, 0],\n",
      "        [0, 0, 0],\n",
      "        ...,\n",
      "        [0, 0, 0],\n",
      "        [0, 0, 0],\n",
      "        [0, 0, 0]],\n",
      "\n",
      "       [[0, 0, 0],\n",
      "        [0, 0, 0],\n",
      "        [0, 0, 0],\n",
      "        ...,\n",
      "        [0, 0, 0],\n",
      "        [0, 0, 0],\n",
      "        [0, 0, 0]]], dtype=uint8)>, <tf.Tensor: shape=(), dtype=int64, numpy=0>)\n"
     ]
    }
   ],
   "source": [
    "for data in dataset[0].take(1):\n",
    "    print(data)"
   ]
  },
  {
   "cell_type": "code",
   "execution_count": 7,
   "id": "155be362",
   "metadata": {},
   "outputs": [
    {
     "data": {
      "image/png": "[encoded data removed]",
      "text/plain": [
       "<Figure size 432x288 with 16 Axes>"
      ]
     },
     "metadata": {
      "needs_background": "light"
     },
     "output_type": "display_data"
    }
   ],
   "source": [
    "for i, (image, label) in enumerate(train_dataset.take(16)):\n",
    "    ax = plt.subplot(4, 4, i+1)\n",
    "    plt.imshow(image)\n",
    "    plt.title(dataset_info.features[\"label\"].int2str(label))\n",
    "    plt.axis(\"off\")"
   ]
  },
  {
   "cell_type": "code",
   "execution_count": 8,
   "id": "6f16458c",
   "metadata": {},
   "outputs": [
    {
     "data": {
      "image/png": "[encoded data removed]",
      "text/plain": [
       "<Figure size 432x288 with 4 Axes>"
      ]
     },
     "metadata": {
      "needs_background": "light"
     },
     "output_type": "display_data"
    }
   ],
   "source": [
    "#This part can show why the model does not perform well when we adjust saturation\n",
    "for i, (image, label) in enumerate(train_dataset.take(2)):\n",
    "    ax = plt.subplot(1, 4, 2*i+1)\n",
    "    plt.imshow(image)\n",
    "    \n",
    "    ax = plt.subplot(1, 4, 2*i+2)\n",
    "    plt.imshow(tf.image.adjust_saturation(image, 0.3))\n",
    "    \n",
    "    plt.title(dataset_info.features[\"label\"].int2str(label))\n",
    "    plt.axis(\"off\")"
   ]
  },
  {
   "cell_type": "code",
   "execution_count": 9,
   "id": "906a95e5",
   "metadata": {},
   "outputs": [
    {
     "data": {
      "text/plain": [
       "'uninfected'"
      ]
     },
     "execution_count": 9,
     "metadata": {},
     "output_type": "execute_result"
    }
   ],
   "source": [
    "dataset_info.features['label'].int2str(1)"
   ]
  },
  {
   "cell_type": "markdown",
   "id": "a18b878b",
   "metadata": {},
   "source": [
    "# Data Augmentation\n"
   ]
  },
  {
   "cell_type": "code",
   "execution_count": 10,
   "id": "09e444ad",
   "metadata": {},
   "outputs": [],
   "source": [
    "def visualize(original, augmented):\n",
    "    plt.subplot(1, 2, 1)\n",
    "    plt.imshow(original)\n",
    "    \n",
    "    plt.subplot(1, 2, 2)\n",
    "    plt.imshow(augmented)"
   ]
  },
  {
   "cell_type": "code",
   "execution_count": 11,
   "id": "ccb5df5b",
   "metadata": {},
   "outputs": [],
   "source": [
    "original_image, label = next(iter(train_dataset))"
   ]
  },
  {
   "cell_type": "code",
   "execution_count": 12,
   "id": "4db5ac67",
   "metadata": {},
   "outputs": [],
   "source": [
    "#augmented_image = tf.image.flip_left_right(original_image)"
   ]
  },
  {
   "cell_type": "code",
   "execution_count": 13,
   "id": "31759fa5",
   "metadata": {},
   "outputs": [],
   "source": [
    "#augmented_image = tf.image.random_flip_up_down(original_image)"
   ]
  },
  {
   "cell_type": "code",
   "execution_count": 14,
   "id": "7d1bfecf",
   "metadata": {},
   "outputs": [],
   "source": [
    "#augmented_image = tf.image.rot90(original_image)"
   ]
  },
  {
   "cell_type": "code",
   "execution_count": 43,
   "id": "586cee0f",
   "metadata": {},
   "outputs": [],
   "source": [
    "#augmented_image = tf.image.adjust_brightness(original_image, delta=0.1)"
   ]
  },
  {
   "cell_type": "code",
   "execution_count": 16,
   "id": "f28db61a",
   "metadata": {},
   "outputs": [],
   "source": [
    "#augmented_image = tf.image.random_saturation(original_image, lower=2, upper=5)"
   ]
  },
  {
   "cell_type": "code",
   "execution_count": 17,
   "id": "d200911b",
   "metadata": {},
   "outputs": [],
   "source": [
    "#augmented_image = tf.image.central_crop(original_image, 0.999)"
   ]
  },
  {
   "cell_type": "code",
   "execution_count": 12,
   "id": "1dc8709b",
   "metadata": {},
   "outputs": [],
   "source": [
    "augmented_image = tf.image.adjust_saturation(original_image, 0.3)"
   ]
  },
  {
   "cell_type": "code",
   "execution_count": 13,
   "id": "c3d454ff",
   "metadata": {},
   "outputs": [
    {
     "data": {
      "image/png": "[encoded data removed]",
      "text/plain": [
       "<Figure size 432x288 with 2 Axes>"
      ]
     },
     "metadata": {
      "needs_background": "light"
     },
     "output_type": "display_data"
    }
   ],
   "source": [
    "visualize(original_image, augmented_image)"
   ]
  },
  {
   "cell_type": "code",
   "execution_count": 14,
   "id": "0774dba0",
   "metadata": {},
   "outputs": [],
   "source": [
    "IM_SIZE = 224\n",
    "@tf.function\n",
    "def resize_rescale(image, label):  \n",
    "    return tf.image.resize(image, (IM_SIZE, IM_SIZE))/255.0, label"
   ]
  },
  {
   "cell_type": "code",
   "execution_count": 15,
   "id": "7ecf30ce",
   "metadata": {},
   "outputs": [],
   "source": [
    "#tf.config.run_functions_eagerly(True, or False) this one can effect the tf.function"
   ]
  },
  {
   "cell_type": "code",
   "execution_count": 16,
   "id": "9f09e7c1",
   "metadata": {},
   "outputs": [],
   "source": [
    "resize_rescale_layer = tf.keras.Sequential([\n",
    "    Resizing(IM_SIZE, IM_SIZE),\n",
    "    Rescaling(1.0/255),\n",
    "])"
   ]
  },
  {
   "cell_type": "code",
   "execution_count": 17,
   "id": "15d46037",
   "metadata": {},
   "outputs": [],
   "source": [
    "### tf.image.augment\n",
    "@tf.function\n",
    "def augment(image, label):\n",
    "    \n",
    "    image, label = resize_rescale([image, label])\n",
    "    \n",
    "    image = tf.image.rot90(image)\n",
    "    \n",
    "    # Because saturation did not perform well so we comment it \n",
    "    #image = tf.image.adjust_saturation(image, saturation_factor=0.3)\n",
    "    image = tf.image.flip_left_right(image)\n",
    "    return image, label"
   ]
  },
  {
   "cell_type": "code",
   "execution_count": 21,
   "id": "a7a57d3c",
   "metadata": {},
   "outputs": [],
   "source": [
    "### tf.image.augment\n",
    "\n",
    "#def augment(image, label):\n",
    "    \n",
    "    #image, label = resize_rescale(image, label)\n",
    "    \n",
    "    #image = tf.image.rot90(image, k=tf.random.uniform(shape=[], minval=0, maxval=2, dtype=tf.float32))\n",
    "    \n",
    "    #Because saturation did not perform well so we comment it \n",
    "    #image = tf.image.adjust_saturation(image, saturation_factor=0.3)\n",
    "    \n",
    "    #image = tf.image.stateless_random_saturation(image, lower=0.3, upper=0.5)\n",
    "    \n",
    "    #image = tf.image.stateless_random_flip_left_right(image)\n",
    "    \n",
    "    #return image, label"
   ]
  },
  {
   "cell_type": "code",
   "execution_count": 18,
   "id": "342ffa57",
   "metadata": {},
   "outputs": [],
   "source": [
    "# we define a class which inherits from keras layers\n",
    "\n",
    "class RotNinety(Layer):\n",
    "    def __init__(self, ):\n",
    "        super().__init__()\n",
    "        \n",
    "    @tf.function    \n",
    "    def call(self, image):\n",
    "        return tf.image.rot90(image, k=tf.random.uniform(shape=[], minval=0, maxval=2, dtype=tf.float32))"
   ]
  },
  {
   "cell_type": "code",
   "execution_count": 26,
   "id": "2c2698e2",
   "metadata": {},
   "outputs": [],
   "source": [
    "### tf.keras.layers augment\n",
    "\n",
    "#augment_layers = tf.keras.Sequential([\n",
    "    #RotNinety(),\n",
    "    #RandomFlip(mode=\"horizontal\", ),\n",
    "    \n",
    "#])"
   ]
  },
  {
   "cell_type": "code",
   "execution_count": 19,
   "id": "271c48c6",
   "metadata": {},
   "outputs": [],
   "source": [
    "### tf.keras.layers augment\n",
    "\n",
    "augment_layers = tf.keras.Sequential([\n",
    "    RandomRotation(factor=(0.25, 0.2501), ),\n",
    "    RandomFlip(mode=\"horizontal\", ),\n",
    "    #RandomRotation(factor=0.1)\n",
    "    \n",
    "])"
   ]
  },
  {
   "cell_type": "code",
   "execution_count": 20,
   "id": "0b0c7aaf",
   "metadata": {},
   "outputs": [],
   "source": [
    "@tf.function\n",
    "def augment_layer(image, label):\n",
    "    image, label = resize_rescale(image, label)\n",
    "    return augment_layers(resize_rescale_layer(image), training=True) , label"
   ]
  },
  {
   "cell_type": "code",
   "execution_count": 21,
   "id": "95f5e357",
   "metadata": {},
   "outputs": [],
   "source": [
    "#def augment_layer(image, label):\n",
    "    #return augment_layer(image, training=True) , labels"
   ]
  },
  {
   "cell_type": "code",
   "execution_count": 30,
   "id": "9ac5e29f",
   "metadata": {},
   "outputs": [],
   "source": [
    "#train_dataset = train_dataset.map(augmented)"
   ]
  },
  {
   "cell_type": "code",
   "execution_count": 31,
   "id": "c9619c59",
   "metadata": {},
   "outputs": [],
   "source": [
    "#val_dataset = val_dataset.map(augmented)"
   ]
  },
  {
   "cell_type": "code",
   "execution_count": 32,
   "id": "e13e6767",
   "metadata": {},
   "outputs": [],
   "source": [
    "#test_dataset = test_dataset.map(resize_rescale)"
   ]
  },
  {
   "cell_type": "code",
   "execution_count": 33,
   "id": "6cd03c06",
   "metadata": {},
   "outputs": [],
   "source": [
    "# because of doing resizing and rescaling on model I do not do it on test dataset\n",
    "#test_dataset = test_dataset.map(resize_rescale_layer)"
   ]
  },
  {
   "cell_type": "code",
   "execution_count": 22,
   "id": "3bb3f339",
   "metadata": {},
   "outputs": [
    {
     "name": "stdout",
     "output_type": "stream",
     "text": [
      "tf.Tensor(\n",
      "[[[0 0 0]\n",
      "  [0 0 0]\n",
      "  [0 0 0]\n",
      "  ...\n",
      "  [0 0 0]\n",
      "  [0 0 0]\n",
      "  [0 0 0]]\n",
      "\n",
      " [[0 0 0]\n",
      "  [0 0 0]\n",
      "  [0 0 0]\n",
      "  ...\n",
      "  [0 0 0]\n",
      "  [0 0 0]\n",
      "  [0 0 0]]\n",
      "\n",
      " [[0 0 0]\n",
      "  [0 0 0]\n",
      "  [0 0 0]\n",
      "  ...\n",
      "  [0 0 0]\n",
      "  [0 0 0]\n",
      "  [0 0 0]]\n",
      "\n",
      " ...\n",
      "\n",
      " [[0 0 0]\n",
      "  [0 0 0]\n",
      "  [0 0 0]\n",
      "  ...\n",
      "  [0 0 0]\n",
      "  [0 0 0]\n",
      "  [0 0 0]]\n",
      "\n",
      " [[0 0 0]\n",
      "  [0 0 0]\n",
      "  [0 0 0]\n",
      "  ...\n",
      "  [0 0 0]\n",
      "  [0 0 0]\n",
      "  [0 0 0]]\n",
      "\n",
      " [[0 0 0]\n",
      "  [0 0 0]\n",
      "  [0 0 0]\n",
      "  ...\n",
      "  [0 0 0]\n",
      "  [0 0 0]\n",
      "  [0 0 0]]], shape=(151, 115, 3), dtype=uint8) tf.Tensor(1, shape=(), dtype=int64)\n"
     ]
    }
   ],
   "source": [
    "for image, label in train_dataset.take(1):\n",
    "    print(image, label)"
   ]
  },
  {
   "cell_type": "code",
   "execution_count": 35,
   "id": "45bed21c",
   "metadata": {},
   "outputs": [],
   "source": [
    "#train_dataset = (\n",
    "    #train_dataset\n",
    "    #.shuffle(buffer_size=8, reshuffle_each_iteration=True)\n",
    "    #.map(augment_layer) ####again because model does all this I comment it\n",
    "    #.batch(1) # Batch size of 32 cause an error so changing this to 1 will work better\n",
    "    #.prefetch(tf.data.AUTOTUNE)\n",
    "#)"
   ]
  },
  {
   "cell_type": "code",
   "execution_count": 36,
   "id": "990ef08b",
   "metadata": {},
   "outputs": [],
   "source": [
    "#val_dataset = (\n",
    "    #val_dataset\n",
    "    #.shuffle(buffer_size=8, reshuffle_each_iteration=True)\n",
    "    #.map(resize_rescale)\n",
    "    #.batch(32)\n",
    "    #.prefetch(tf.data.AUTOTUNE)\n",
    "#)"
   ]
  },
  {
   "cell_type": "code",
   "execution_count": 37,
   "id": "0a082e1c",
   "metadata": {},
   "outputs": [],
   "source": [
    "#val_dataset = (\n",
    "    #val_dataset\n",
    "    #.shuffle(buffer_size=8, reshuffle_each_iteration=True)\n",
    "    #.map(resize_rescale_layer) ####again because model does all this I comment it\n",
    "    #.batch(1) # Batch size of 32 cause an error so changing this to 1 will work better\n",
    "    #.prefetch(tf.data.AUTOTUNE)\n",
    "#)"
   ]
  },
  {
   "cell_type": "code",
   "execution_count": 38,
   "id": "5ff1621e",
   "metadata": {},
   "outputs": [],
   "source": [
    "#test_dataset = test_dataset.shuffle(buffer_size=8, reshuffle_each_iteration=True).batch(32).prefetch(tf.data.AUTOTUNE)"
   ]
  },
  {
   "cell_type": "code",
   "execution_count": 23,
   "id": "2c08ce21",
   "metadata": {},
   "outputs": [
    {
     "data": {
      "text/plain": [
       "<tfp.distributions.Beta 'Beta' batch_shape=[] event_shape=[] dtype=float32>"
      ]
     },
     "execution_count": 23,
     "metadata": {},
     "output_type": "execute_result"
    }
   ],
   "source": [
    "tfp.distributions.Beta(\n",
    "    concentration1=0.2, concentration0=0.2, validate_args=False, allow_nan_stats=True,\n",
    "    force_probs_to_zero_outside_support=False, name='Beta'\n",
    ")"
   ]
  },
  {
   "cell_type": "code",
   "execution_count": 24,
   "id": "a6db10db",
   "metadata": {},
   "outputs": [
    {
     "name": "stdout",
     "output_type": "stream",
     "text": [
      "WARNING:tensorflow:From C:\\Users\\hamid\\anaconda3\\lib\\site-packages\\tensorflow_probability\\python\\internal\\batched_rejection_sampler.py:102: calling while_loop_v2 (from tensorflow.python.ops.control_flow_ops) with back_prop=False is deprecated and will be removed in a future version.\n",
      "Instructions for updating:\n",
      "back_prop=False is deprecated. Consider using tf.stop_gradient instead.\n",
      "Instead of:\n",
      "results = tf.while_loop(c, b, vars, back_prop=False)\n",
      "Use:\n",
      "results = tf.nest.map_structure(tf.stop_gradient, tf.while_loop(c, b, vars))\n"
     ]
    },
    {
     "name": "stderr",
     "output_type": "stream",
     "text": [
      "WARNING:tensorflow:From C:\\Users\\hamid\\anaconda3\\lib\\site-packages\\tensorflow_probability\\python\\internal\\batched_rejection_sampler.py:102: calling while_loop_v2 (from tensorflow.python.ops.control_flow_ops) with back_prop=False is deprecated and will be removed in a future version.\n",
      "Instructions for updating:\n",
      "back_prop=False is deprecated. Consider using tf.stop_gradient instead.\n",
      "Instead of:\n",
      "results = tf.while_loop(c, b, vars, back_prop=False)\n",
      "Use:\n",
      "results = tf.nest.map_structure(tf.stop_gradient, tf.while_loop(c, b, vars))\n"
     ]
    },
    {
     "name": "stdout",
     "output_type": "stream",
     "text": [
      "tf.Tensor(0.1764374, shape=(), dtype=float32)\n"
     ]
    }
   ],
   "source": [
    "lamda = tfp.distributions.Beta(0.2, 0.2)\n",
    "print(lamda.sample(1)[0])"
   ]
  },
  {
   "cell_type": "markdown",
   "id": "364c97f3",
   "metadata": {},
   "source": [
    "# Mixup Data Augmentation"
   ]
  },
  {
   "cell_type": "code",
   "execution_count": 25,
   "id": "4844d256",
   "metadata": {},
   "outputs": [],
   "source": [
    "train_dataset_1 = train_dataset.shuffle(buffer_size=4096,).map(resize_rescale)\n",
    "train_dataset_2 = train_dataset.shuffle(buffer_size=4096,).map(resize_rescale)\n",
    "\n",
    "mixed_dataset = tf.data.Dataset.zip((train_dataset_1, train_dataset_2))"
   ]
  },
  {
   "cell_type": "code",
   "execution_count": 26,
   "id": "92666862",
   "metadata": {},
   "outputs": [],
   "source": [
    "def mixup(train_dataset_1, train_dataset_2):\n",
    "    \n",
    "    (image_1, label_1), (image_2, label_2) = train_dataset_1, train_dataset_2\n",
    " \n",
    "    lamda = tfp.distributions.Beta(0.2, 0.2)\n",
    "    lamda = lamda.sample(1)[0]\n",
    "\n",
    "    image = lamda * image_1 + (1 - lamda) * image_2\n",
    "\n",
    "    label = lamda * tf.cast(label_1, dtype=tf.float32) + (1 - lamda) * tf.cast(label_2, dtype=tf.float32)\n",
    "    \n",
    "    return image, label"
   ]
  },
  {
   "cell_type": "markdown",
   "id": "9622ab5a",
   "metadata": {},
   "source": [
    "# CutMix Data Augmentation"
   ]
  },
  {
   "cell_type": "code",
   "execution_count": 27,
   "id": "24a3507a",
   "metadata": {},
   "outputs": [],
   "source": [
    "def box(lamda):\n",
    "\n",
    "    r_x = tf.cast(tfp.distributions.Uniform(0, IM_SIZE).sample(1)[0], dtype=tf.int32)\n",
    "    r_y = tf.cast(tfp.distributions.Uniform(0, IM_SIZE).sample(1)[0], dtype=tf.int32)\n",
    "\n",
    "    r_w = tf.cast(IM_SIZE * tf.math.sqrt(1 - lamda), dtype=tf.int32)\n",
    "    r_h = tf.cast(IM_SIZE * tf.math.sqrt(1 - lamda), dtype=tf.int32)\n",
    "\n",
    "    r_x = tf.clip_by_value(r_x - r_w//2, 0, IM_SIZE)\n",
    "    r_y = tf.clip_by_value(r_y - r_h//2, 0, IM_SIZE)\n",
    "\n",
    "    x_b_r = tf.clip_by_value(r_x + r_w//2, 0, IM_SIZE)\n",
    "    y_b_r = tf.clip_by_value(r_y + r_h//2, 0, IM_SIZE)\n",
    "\n",
    "    r_w = x_b_r - r_x\n",
    "    if (r_w == 0):\n",
    "        r_w = 1\n",
    "    r_h = y_b_r - r_y\n",
    "    if (r_h == 0):\n",
    "        r_h = 1\n",
    "\n",
    "    return r_y, r_x, r_h, r_w   "
   ]
  },
  {
   "cell_type": "code",
   "execution_count": 28,
   "id": "a538933f",
   "metadata": {},
   "outputs": [],
   "source": [
    "def cutmix(train_dataset_1, train_dataset_2):\n",
    "    \n",
    "    (image_1, label_1), (image_2, label_2) = train_dataset_1, train_dataset_2\n",
    "    \n",
    "    lamda = tfp.distributions.Beta(0.2, 0.2)\n",
    "    lamda = lamda.sample(1)[0]\n",
    "    \n",
    "    r_y, r_x, r_h, r_w = box(lamda)\n",
    "    \n",
    "    crop_2 = tf.image.crop_to_bounding_box(image_2, r_y, r_x, r_h, r_w)\n",
    "\n",
    "    pad_2 = tf.image.pad_to_bounding_box(crop_2, r_y, r_x, IM_SIZE, IM_SIZE)\n",
    "\n",
    "    crop_1 = tf.image.crop_to_bounding_box(image_1, r_y, r_x, r_h, r_w)\n",
    "\n",
    "    pad_1 = tf.image.pad_to_bounding_box(crop_1, r_y, r_x, IM_SIZE, IM_SIZE)\n",
    "    image = image_1 - pad_1 + pad_2\n",
    "    \n",
    "    lamda = tf.cast(1 - (r_w * r_h) / (IM_SIZE * IM_SIZE), dtype=tf.float32)\n",
    "    label = lamda * tf.cast(label_1, dtype=tf.float32) + (1 - lamda) * tf.cast(label_2, dtype=tf.float32)\n",
    "    \n",
    "    return image, label"
   ]
  },
  {
   "cell_type": "code",
   "execution_count": 29,
   "id": "dd3b3af4",
   "metadata": {},
   "outputs": [],
   "source": [
    "BATCH_SIZE = 32\n",
    "train_dataset = (\n",
    "     mixed_dataset\n",
    "    .shuffle(buffer_size=4096, reshuffle_each_iteration=True)\n",
    "    #.map(mixedup) \n",
    "    .map(cutmix)\n",
    "    .batch(BATCH_SIZE) # Batch size of 32 cause an error so changing this to 1 will work better\n",
    "    .prefetch(tf.data.AUTOTUNE)\n",
    ")"
   ]
  },
  {
   "cell_type": "code",
   "execution_count": 30,
   "id": "1e098a5f",
   "metadata": {},
   "outputs": [
    {
     "data": {
      "text/plain": [
       "<_PrefetchDataset element_spec=(TensorSpec(shape=(None, 224, 224, 3), dtype=tf.float32, name=None), TensorSpec(shape=(None,), dtype=tf.float32, name=None))>"
      ]
     },
     "execution_count": 30,
     "metadata": {},
     "output_type": "execute_result"
    }
   ],
   "source": [
    "train_dataset"
   ]
  },
  {
   "cell_type": "code",
   "execution_count": 31,
   "id": "59d6fc88",
   "metadata": {},
   "outputs": [
    {
     "name": "stdout",
     "output_type": "stream",
     "text": [
      "tf.Tensor(\n",
      "[1.9907951e-05 2.4555564e-01 0.0000000e+00 7.5444436e-01 7.5884885e-01\n",
      " 7.6610327e-02 0.0000000e+00 1.0000000e+00 7.6753825e-01 0.0000000e+00\n",
      " 1.3400829e-01 1.0000000e+00 0.0000000e+00 4.9823523e-04 1.0000000e+00\n",
      " 2.4555564e-01 9.9280530e-01 0.0000000e+00 1.0000000e+00 0.0000000e+00\n",
      " 1.0000000e+00 7.5444436e-01 1.0000000e+00 7.5444436e-01 8.9086413e-01\n",
      " 1.0000000e+00 1.0000000e+00 7.5444436e-01 2.4555564e-01 7.6321352e-01\n",
      " 9.2584103e-01 0.0000000e+00], shape=(32,), dtype=float32)\n"
     ]
    },
    {
     "data": {
      "text/plain": [
       "<matplotlib.image.AxesImage at 0x254f94016d0>"
      ]
     },
     "execution_count": 31,
     "metadata": {},
     "output_type": "execute_result"
    },
    {
     "data": {
      "image/png": "[encoded data removed]",
      "text/plain": [
       "<Figure size 432x288 with 1 Axes>"
      ]
     },
     "metadata": {
      "needs_background": "light"
     },
     "output_type": "display_data"
    }
   ],
   "source": [
    "original_image, label = next(iter(train_dataset))\n",
    "print(label)\n",
    "plt.imshow(original_image[0])"
   ]
  },
  {
   "cell_type": "code",
   "execution_count": 32,
   "id": "5011445f",
   "metadata": {},
   "outputs": [],
   "source": [
    "val_dataset = (\n",
    "    val_dataset\n",
    "    .map(resize_rescale_layer) \n",
    "    .batch(BATCH_SIZE)\n",
    ")"
   ]
  },
  {
   "cell_type": "code",
   "execution_count": 33,
   "id": "cc2511a1",
   "metadata": {},
   "outputs": [
    {
     "data": {
      "text/plain": [
       "<_BatchDataset element_spec=TensorSpec(shape=(None, 224, 224, 3), dtype=tf.float32, name=None)>"
      ]
     },
     "execution_count": 33,
     "metadata": {},
     "output_type": "execute_result"
    }
   ],
   "source": [
    "val_dataset"
   ]
  },
  {
   "cell_type": "code",
   "execution_count": 34,
   "id": "ea8f369c",
   "metadata": {},
   "outputs": [],
   "source": [
    "#crop = tf.image.crop_to_bounding_box(image_2, 20, 85, 120, 98)\n",
    "\n",
    "#image_4 = tf.image.pad_to_bounding_box(crop, 20, 100, IM_SIZE, IM_SIZE)\n",
    "\n",
    "#crop_model = tf.image.crop_to_bounding_box(image_1, 20, 100, 100, 98)\n",
    "\n",
    "#image_5 = tf.image.pad_to_bounding_box(crop_model, 20, 100, IM_SIZE, IM_SIZE)\n",
    "#image = image_1 - image_5 + image_4\n"
   ]
  },
  {
   "cell_type": "markdown",
   "id": "9a993e24",
   "metadata": {},
   "source": [
    "# Albumentations"
   ]
  },
  {
   "cell_type": "code",
   "execution_count": 35,
   "id": "ca57e126",
   "metadata": {},
   "outputs": [],
   "source": [
    "transforms = A.Compose([\n",
    "    A.Resize(IM_SIZE, IM_SIZE),\n",
    "    \n",
    "    A.OneOf([A.HorizontalFlip(),\n",
    "    A.VerticalFlip()], p=.03),\n",
    "    \n",
    "    A.RandomRotate90(),\n",
    "    \n",
    "    A.RandomGridShuffle(grid=(3, 3), always_apply=False, p=0.5),\n",
    "    \n",
    "    A.RandomBrightnessContrast(brightness_limit=0.2,\n",
    "                            contrast_limit=0.2,\n",
    "                            brightness_by_max=True,\n",
    "                            always_apply=False,\n",
    "                            p=0.5),\n",
    "    \n",
    "    A.CoarseDropout(max_holes=8, max_height=8, max_width=8, fill_value=0, always_apply=False, p=0.5), \n",
    "    \n",
    "    A.Sharpen(alpha=(0.2, 0.5), lightness=(0.5, 1.0), always_apply=False, p=0.5)\n",
    "])"
   ]
  },
  {
   "cell_type": "code",
   "execution_count": 36,
   "id": "90fb6558",
   "metadata": {},
   "outputs": [],
   "source": [
    "def aug_albument(image):\n",
    "    data = {\"image\":image}\n",
    "    image = transforms(**data)\n",
    "    image = image[\"image\"]\n",
    "    image = tf.cast(image/255., tf.float32)\n",
    "    \n",
    "    return image"
   ]
  },
  {
   "cell_type": "code",
   "execution_count": 37,
   "id": "f859e737",
   "metadata": {},
   "outputs": [],
   "source": [
    "def process_data(imge, label):\n",
    "    aug_img = tf.numpy_function(func=aug_albument, inp=[image], Tout=tf.float32)\n",
    "    return aug_img, label"
   ]
  },
  {
   "cell_type": "code",
   "execution_count": 38,
   "id": "4cbc432e",
   "metadata": {},
   "outputs": [],
   "source": [
    "BATCH_SIZE = 32\n",
    "train_dataset_1 = (\n",
    "     mixed_dataset\n",
    "    .shuffle(buffer_size=4096, reshuffle_each_iteration=True)\n",
    "    #.map(mixedup) \n",
    "    .map(process_data)\n",
    "    .batch(BATCH_SIZE) # Batch size of 32 cause an error so changing this to 1 will work better\n",
    "    .prefetch(tf.data.AUTOTUNE)\n",
    ")"
   ]
  },
  {
   "cell_type": "code",
   "execution_count": 39,
   "id": "444346ec",
   "metadata": {},
   "outputs": [
    {
     "data": {
      "text/plain": [
       "<_PrefetchDataset element_spec=(TensorSpec(shape=(None, 224, 224, 3), dtype=tf.float32, name=None), TensorSpec(shape=(None,), dtype=tf.float32, name=None))>"
      ]
     },
     "execution_count": 39,
     "metadata": {},
     "output_type": "execute_result"
    }
   ],
   "source": [
    "train_dataset"
   ]
  },
  {
   "cell_type": "code",
   "execution_count": 40,
   "id": "378c65f6",
   "metadata": {},
   "outputs": [
    {
     "data": {
      "text/plain": [
       "<matplotlib.image.AxesImage at 0x254f94fc9d0>"
      ]
     },
     "execution_count": 40,
     "metadata": {},
     "output_type": "execute_result"
    },
    {
     "data": {
      "image/png": "[encoded data removed]",
      "text/plain": [
       "<Figure size 432x288 with 1 Axes>"
      ]
     },
     "metadata": {
      "needs_background": "light"
     },
     "output_type": "display_data"
    }
   ],
   "source": [
    "im, _ = next(iter(train_dataset))\n",
    "plt.imshow(im[0])"
   ]
  },
  {
   "cell_type": "code",
   "execution_count": 41,
   "id": "422770c4",
   "metadata": {},
   "outputs": [
    {
     "data": {
      "image/png": "[encoded data removed]",
      "text/plain": [
       "<Figure size 1080x1080 with 31 Axes>"
      ]
     },
     "metadata": {
      "needs_background": "light"
     },
     "output_type": "display_data"
    }
   ],
   "source": [
    "plt.figure(figsize=(15, 15))\n",
    "for i in range(1, 32):\n",
    "    plt.subplot(8, 4, i)\n",
    "    plt.imshow(im[i])"
   ]
  },
  {
   "cell_type": "markdown",
   "id": "4151c4d4",
   "metadata": {},
   "source": [
    "# Wandb Dataset Versioning"
   ]
  },
  {
   "cell_type": "code",
   "execution_count": 17,
   "id": "d5623b71",
   "metadata": {},
   "outputs": [],
   "source": [
    "dataset, dataset_info = load(\"malaria\", with_info=True, as_supervised=True, shuffle_files=True, split=['train'])"
   ]
  },
  {
   "cell_type": "code",
   "execution_count": 23,
   "id": "c9e63c52",
   "metadata": {},
   "outputs": [],
   "source": [
    "k = 0\n",
    "for data in dataset[0]:\n",
    "    with open(\"dataset/malaria_dataset_\" +str(k) +  \".npz\", mode=\"wb\") as file:\n",
    "        np.savez(file, data)\n",
    "        \n",
    "    k += 1\n",
    "    if (k % 1000 == 0):\n",
    "        print(k)"
   ]
  },
  {
   "cell_type": "code",
   "execution_count": 43,
   "id": "7d7515b5",
   "metadata": {},
   "outputs": [],
   "source": [
    "def load_original_data():\n",
    "    with wandb.init(project=\"Malaria-Detection\", entity=\"neuralearn\") as run:\n",
    "    #run = wandb.init(project=\"my_project\")\n",
    "        original_data = wandb.Artifact(\"new_dataset\", type=\"raw_data\",\n",
    "                                 description=\"The Malaria dataset contains a total of 27,558 cell images with equal instances of parasitized and uninfected cells from the thin blood smear slide images of segmented cells.\",\n",
    "                                metadata={\"source\":\"TFDS\",\n",
    "                                         \"homepage\":\"https://lhncbc.nlm.nih.gov/publication/pub9932\",\n",
    "                                         \"source_code\":\"tfds.image_classification.Malaria\",\n",
    "                                         \"version\":\"1.0.0\",\n",
    "                                         \"download_size\":\"337.08 MiB\"})\n",
    "        #dataset, dataset_info = tfds.load(\"malaria\", with_info=True, as_supervised=True, shuffle_files=True, split=['train'])\n",
    "\n",
    "        original_data.add_dir(\"dataset/\")\n",
    "        \n",
    "        #with original_data.new_file(\"original_data.npz\", mode=\"wb\") as file:\n",
    "            #np.savez(file, dataset)\n",
    "\n",
    "        run.log_artifact(original_data)"
   ]
  },
  {
   "cell_type": "code",
   "execution_count": 101,
   "id": "d1276074",
   "metadata": {},
   "outputs": [],
   "source": [
    "#run = wandb.init()\n",
    "#artifact = run.use_artifact(\"Malaria-Detection/new_dataset:v1\", type=\"raw_data\")\n",
    "#artifact_dir = artifact.download()"
   ]
  },
  {
   "cell_type": "code",
   "execution_count": 44,
   "id": "b1054a55",
   "metadata": {},
   "outputs": [],
   "source": [
    "IM_SIZE = 224\n",
    "def resize_rescale_1(image):  \n",
    "    return tf.image.resize(image, (IM_SIZE, IM_SIZE))/255.0, label"
   ]
  },
  {
   "cell_type": "code",
   "execution_count": 45,
   "id": "3a259d9d",
   "metadata": {},
   "outputs": [],
   "source": [
    "def preprocess_data():\n",
    "    with wandb.init(project=\"Malaria-Detection\", entity=\"neuralearn\") as run:\n",
    "    #run = wandb.init(project=\"my_project\")\n",
    "        artifact = run.use_artifact(\"Malaria-Detection/new_dataset:v1\", type=\"raw_data\")\n",
    "        artifact_dir = artifact.download()\n",
    "        \n",
    "        preprocessed_data = wandb.Artifact(\"preprocessed_dataset\", type=\"preprocessed_data\",\n",
    "                                 description=\"Preprocessed version of the Malaria dataset\",\n",
    "                                )\n",
    "        \n",
    "        dataset_x = []\n",
    "        dataset_y = []\n",
    "        artifact_directory = \"artifacts/new_dataset:v1/\"\n",
    "        for f in os.listdir(artifact_directory)[:1000]:\n",
    "            with open(artifact_directory + f, \"rb\") as file:\n",
    "                npz_array = np.load(file, allow_pickle=True)\n",
    "                x, y = npz_array.f.arr_0\n",
    "                \n",
    "                dataset_x.append(resize_rescale_1(x))\n",
    "                dataset_y.append(resize_rescale_1(y))\n",
    "                \n",
    "        #dataset = tf.data.Dataset.from_tensor_slices((dataset_x, dataset_y))\n",
    "\n",
    "        #preprocess_data.add_dir(\"dataset/\")\n",
    "        \n",
    "        with preprocessed_data.new_file(\"preprocessed_dataset\", mode=\"wb\") as file:\n",
    "            np.savez(file, [dataset_x, dataset_y])\n",
    "            #np.savez(file, dataset)\n",
    "\n",
    "        run.log_artifact(preprocessed_data)"
   ]
  },
  {
   "cell_type": "markdown",
   "id": "2146277a",
   "metadata": {},
   "source": [
    "# Data Splitting"
   ]
  },
  {
   "cell_type": "code",
   "execution_count": null,
   "id": "4037c0b6",
   "metadata": {},
   "outputs": [],
   "source": [
    "#run = wandb.init()"
   ]
  },
  {
   "cell_type": "code",
   "execution_count": 50,
   "id": "9778fd63",
   "metadata": {},
   "outputs": [],
   "source": [
    "def split_data():\n",
    "    with wandb.init(project=\"Malaria-Detection\", entity=\"neuralearn\") as run:\n",
    "    #run = wandb.init(project=\"my_project\")\n",
    "        artifact = run.use_artifact(\"Malaria-Detection/preprocessed_dataset:v1\", type=\"preprocessed_dataset\")\n",
    "        artifact_dir = artifact.download()\n",
    "        \n",
    "        train_data = wandb.Artifact(\"train_dataset\", \n",
    "                                    type=\"preprocessed_data\",\n",
    "                                 description=\"Training dataset\",\n",
    "                                )\n",
    "        \n",
    "        validation_data = wandb.Artifact(\"validation_dataset\", \n",
    "                                    type=\"preprocessed_data\",\n",
    "                                 description=\"Validation dataset\",\n",
    "                                )\n",
    "        \n",
    "        test_data = wandb.Artifact(\"test_dataset\", \n",
    "                                    type=\"preprocessed_data\",\n",
    "                                 description=\"Testing dataset\",\n",
    "                                )\n",
    "        \n",
    "        artifact_file = \"artifacts/preprocessed_dataset:v2/prep_dataset.npz\"\n",
    "        \n",
    "        with open(artifact_file + f, \"rb\") as file:\n",
    "            npz_array = np.load(file, allow_pickle=True)\n",
    "            arr = npz_array.f.arr_0\n",
    "            \n",
    "        train_split = 0.8\n",
    "        val_split = 0.1\n",
    "        test_split = 0.1\n",
    "        \n",
    "        data_len = len(arr[0])\n",
    "        \n",
    "        train_arr = [arr[0][0:int(train_split*data_len)], arr[1][0:(train_split*data_len)]]\n",
    "        val_arr = [arr[0][int(train_split*data_len):int((train_split+val_split)*data_len)], arr[1][int(train_split*data_len):int((train_split+val_split)*data_len)]]\n",
    "        test_arr = [arr[0][int((train_split+val_split)*data_len):], arr[1][int((train_split+val_split)*data_len):]]\n",
    "        \n",
    "        with train_data.new_file(\"train_dataset.npz\", mode=\"wb\") as file:\n",
    "            np.savez(file, train_arr)\n",
    "            #np.savez(file, dataset)\n",
    "            \n",
    "        with validation_data.new_file(\"val_dataset.npz\", mode=\"wb\") as file:\n",
    "            np.savez(file, val_arr)\n",
    "            \n",
    "        with test_data.new_file(\"test_dataset.npz\", mode=\"wb\") as file:\n",
    "            np.savez(file, test_arr)\n",
    "\n",
    "        run.log_artifact(train_data)\n",
    "        run.log_artifact(validation_data)\n",
    "        run.log_artifact(test_data)"
   ]
  },
  {
   "cell_type": "code",
   "execution_count": 51,
   "id": "d6304746",
   "metadata": {},
   "outputs": [],
   "source": [
    "def augment_split(image, label):\n",
    "       \n",
    "    image = tf.image.rot90(image)\n",
    "    \n",
    "    image = tf.image.flip_left_right(image)\n",
    "    \n",
    "    return image"
   ]
  },
  {
   "cell_type": "code",
   "execution_count": null,
   "id": "05bda634",
   "metadata": {},
   "outputs": [],
   "source": [
    "#run = wandb.init()\n",
    "#artifact = run.use_artifact(\"Malaria-Detection/train_dataset:v1\", type=\"preprocessed_data\")\n",
    "#artifact_dir = artifact.download()"
   ]
  },
  {
   "cell_type": "code",
   "execution_count": 58,
   "id": "da74019d",
   "metadata": {},
   "outputs": [],
   "source": [
    "def augment_data():\n",
    "    with wandb.init(project=\"Malaria-Detection\", entity=\"neuralearn\") as run:\n",
    "\n",
    "        artifact = run.use_artifact(\"Malaria-Detection/train_dataset:v1\", type=\"raw_data\")\n",
    "        artifact_dir = artifact.download()\n",
    "        \n",
    "        augmented_data = wandb.Artifact(\n",
    "            \"Augmented_dataset\",\n",
    "             type=\"preprocessed_data\",\n",
    "             description=\"An Augmented version of the Malaria train dataset\",\n",
    "        )\n",
    "    \n",
    "        artifact_file = \"artifacts/train_dataset:v/train_dataset.npz\"\n",
    "        \n",
    "        dataset_x = []\n",
    "        \n",
    "        with open(artifact_file + f, \"rb\") as file:\n",
    "            npz_array = np.load(file, allow_pickle=True)\n",
    "            arr = npz_array.f.arr_0\n",
    "               \n",
    "                \n",
    "            for im in arr[0]:\n",
    "                dataset_x.append(augment_split(im))\n",
    "            dataset_y = arr[1]   \n",
    "        \n",
    "        with augmented_data.new_file(\"augment_dataset.npz\", mode=\"wb\") as file:\n",
    "            np.savez(file, [dataset_x, dataset_y])\n",
    "            #np.savez(file, dataset)\n",
    "\n",
    "        run.log_artifact(augmented_data)"
   ]
  },
  {
   "cell_type": "markdown",
   "id": "30bb8459",
   "metadata": {},
   "source": [
    "# Wandb Model Versioning"
   ]
  },
  {
   "cell_type": "code",
   "execution_count": 57,
   "id": "37f7d694",
   "metadata": {},
   "outputs": [],
   "source": [
    "def log_model():\n",
    "    with wandb.init(project=\"Malaria-Detection\", entity=\"neuralearn\") as run:\n",
    "        \n",
    "        untrained_model = wandb.Artifact(\n",
    "            \"Untrained_model\",\n",
    "             type=\"model\",\n",
    "             description=\"The initial version of our lenet model\",\n",
    "             metadata = CONFIGURATION       \n",
    "        ) \n",
    "        \n",
    "        filename = \"lenet.h5\"\n",
    "        lenet_model.save(filename)\n",
    "        \n",
    "        untrained_model.add_file(filename)\n",
    "        wandb.save(filename)\n",
    "\n",
    "        run.log_artifact(untrained_model)"
   ]
  },
  {
   "cell_type": "code",
   "execution_count": 60,
   "id": "92a79ddb",
   "metadata": {},
   "outputs": [],
   "source": [
    "def train_log_model():\n",
    "    with wandb.init(project=\"Malaria-Detection\", entity=\"neuralearn\") as run:\n",
    "        \n",
    "        artifact = run.use_artifact(\"Malaria-Detection/augmented_dataset:v0\", type=\"processed_data\")\n",
    "        artifact_dir = artifact.download()\n",
    "        \n",
    "        sequential_model = wandb.Artifact(\n",
    "            \"Trained_sequential_model\",\n",
    "             type=\"model\",\n",
    "             description=\"The trained version of our lenet model\",\n",
    "             metadata = CONFIGURATION       \n",
    "        ) \n",
    "        \n",
    "        artifact_file = \"artifacts/Augmented_dataset:v/aug_dataset.npz\"\n",
    "        \n",
    "        dataset_x = []\n",
    "        \n",
    "        with open(artifact_file + f, \"rb\") as file:\n",
    "            npz_array = np.load(file, allow_pickle=True)\n",
    "            \n",
    "            arr = npz_array.f.arr_0\n",
    "               \n",
    "                \n",
    "            for im in arr[0]:\n",
    "                dataset_x.append(im)\n",
    "            dataset_y = arr[1]   \n",
    "            \n",
    "        d_x = tf.convert_to_tensor(dataset_x, dtype=tf.float32)\n",
    "        d_y = tf.convert_to_tensor(dataset_y, dtype=tf.float32)\n",
    "\n",
    "        d = tf.data.Dataset.from_tensor_slices((d_x, d_y))\n",
    "\n",
    "        train_d = (\n",
    "            d\n",
    "            .shuffle(buffer_size=1024, reshuffle_each_iteration=True)\n",
    "            .batch(BATCH_SIZE)\n",
    "            .prefetch(tf.data.AUTOTUNE)\n",
    "        )\n",
    "        \n",
    "        artifact = run.use_artifact(\"Malaria-Detection/Untrained_model:v0\", type=\"processed_data\")\n",
    "        artifact_dir = artifact.download()\n",
    "        \n",
    "        artifact_file = \"artifacts/Untrained_model:v0\"\n",
    "        \n",
    "        lenet_model = tf.keras.models.load_model(artifact_file)\n",
    "        \n",
    "        metrics = [BinaryAccuracy(name=\"accuracy\"), FalsePositives(name=\"fp\"), FalseNegatives(name=\"fn\"),\n",
    "           TrueNegatives(name=\"tn\"), TruePositives(name=\"tp\"), Precision(name=\"precision\"),\n",
    "           Recall(name=\"recall\"), AUC(name=\"auc\")]\n",
    "        \n",
    "        lenet_model.compile(loss = BinaryCrossentropy(),\n",
    "                   optimizer = Adam(learning_rate=CONFIGURATION[\"LEARNING_RATE\"]),\n",
    "                   metrics = metrics)\n",
    "        \n",
    "        lenet_model.fit(\n",
    "            train_d,\n",
    "            epochs = 3,\n",
    "            varbose = 1,\n",
    "            callbacks = [WandbCallback()],\n",
    "        )\n",
    "        \n",
    "        filename = \"lenet_trained.h5\"\n",
    "        lenet_model.save(filename)\n",
    "        \n",
    "        trained_sequential_model.add_file(filename)\n",
    "        wandb.save(filename)\n",
    "\n",
    "        run.log_artifact(trained_sequential_model)"
   ]
  },
  {
   "cell_type": "markdown",
   "id": "bd8218bd",
   "metadata": {
    "jp-MarkdownHeadingCollapsed": true
   },
   "source": [
    "# Model Creation and Training"
   ]
  },
  {
   "cell_type": "markdown",
   "id": "0be506fa",
   "metadata": {},
   "source": [
    "# Sequential API"
   ]
  },
  {
   "cell_type": "code",
   "execution_count": 44,
   "id": "cc35a71d",
   "metadata": {},
   "outputs": [],
   "source": [
    "# First Model\n",
    "\n",
    "model = tf.keras.Sequential([\n",
    "    InputLayer(input_shape=(IM_SIZE, IM_SIZE, 3)),\n",
    "    \n",
    "    Conv2D(filters=6, kernel_size=3, strides=1, padding=\"valid\",\n",
    "           activation=\"relu\"),\n",
    "    BatchNormalization(),\n",
    "    MaxPool2D(pool_size=2, strides=2),\n",
    "    Conv2D(filters=16, kernel_size=3, strides=1, padding=\"valid\",\n",
    "           activation=\"relu\"),\n",
    "    BatchNormalization(),\n",
    "    MaxPool2D(pool_size=2, strides=2),\n",
    "    Flatten(),\n",
    "    Dense(100, activation=\"relu\"),\n",
    "    BatchNormalization(),\n",
    "    Dense(10, activation=\"relu\"),\n",
    "    BatchNormalization(),\n",
    "    Dense(1, activation=\"sigmoid\")\n",
    "])\n",
    "\n",
    "#model.summary()"
   ]
  },
  {
   "cell_type": "markdown",
   "id": "203886d2",
   "metadata": {},
   "source": [
    "# Functional API"
   ]
  },
  {
   "cell_type": "code",
   "execution_count": 45,
   "id": "ebb5ba10",
   "metadata": {},
   "outputs": [],
   "source": [
    "#Second Model\n",
    "\n",
    "func_input = Input(shape=(IM_SIZE, IM_SIZE, 3), name=\"Input Image\")\n",
    "\n",
    "x = Conv2D(filters=6, kernel_size=3, strides=1, padding=\"valid\", activation=\"relu\")(func_input)\n",
    "x  = BatchNormalization()(x)\n",
    "x = MaxPool2D(pool_size=2, strides=2)(x)\n",
    "x = Conv2D(filters=16, kernel_size=3, strides=1, padding=\"valid\", activation=\"relu\")(x)\n",
    "x  = BatchNormalization()(x)\n",
    "x = MaxPool2D(pool_size=2, strides=2)(x)\n",
    "\n",
    "x = Flatten()(x)\n",
    "\n",
    "x = Dense(100, activation=\"relu\")(x)\n",
    "x = BatchNormalization()(x)\n",
    "\n",
    "x = Dense(10, activation=\"relu\")(x)\n",
    "x = BatchNormalization()(x)\n",
    "\n",
    "func_output = Dense(1, activation=\"sigmoid\")(x)\n",
    "\n",
    "lenet_model = Model(func_input, func_output, name=\"Lenet_Model\")\n",
    "#lenet_model.summary()"
   ]
  },
  {
   "cell_type": "code",
   "execution_count": 46,
   "id": "727d5509",
   "metadata": {},
   "outputs": [],
   "source": [
    "# Third Model\n",
    "func_input = Input(shape=(IM_SIZE, IM_SIZE, 3), name=\"Input Image\")\n",
    "\n",
    "x = Conv2D(filters=6, kernel_size=3, strides=1, padding=\"valid\", activation=\"relu\")(func_input)\n",
    "x  = BatchNormalization()(x)\n",
    "x = MaxPool2D(pool_size=2, strides=2)(x)\n",
    "x = Conv2D(filters=16, kernel_size=3, strides=1, padding=\"valid\", activation=\"relu\")(x)\n",
    "x  = BatchNormalization()(x)\n",
    "output = MaxPool2D(pool_size=2, strides=2)(x)\n",
    "\n",
    "\n",
    "feature_extractor = Model(func_input, output, name=\"Feature_Extractor\")\n",
    "#feature_extractor.summary()"
   ]
  },
  {
   "cell_type": "code",
   "execution_count": 47,
   "id": "013c7fe8",
   "metadata": {},
   "outputs": [],
   "source": [
    "#Third Model\n",
    "func_input = Input(shape=(IM_SIZE, IM_SIZE, 3), name=\"Input Image\")\n",
    "x = feature_extractor(func_input)\n",
    "\n",
    "x = Flatten()(x)\n",
    "\n",
    "x = Dense(100, activation=\"relu\")(x)\n",
    "x = BatchNormalization()(x)\n",
    "\n",
    "x = Dense(10, activation=\"relu\")(x)\n",
    "x = BatchNormalization()(x)\n",
    "\n",
    "func_output = Dense(1, activation=\"sigmoid\")(x)\n",
    "\n",
    "lenet_model = Model(func_input, func_output, name=\"Lenet_Model\")\n",
    "#lenet_model.summary()"
   ]
  },
  {
   "cell_type": "code",
   "execution_count": 48,
   "id": "0f9ecad7",
   "metadata": {},
   "outputs": [],
   "source": [
    "# Fourth Model\n",
    "\n",
    "feature_extractor_seq_model = tf.keras.Sequential([\n",
    "    InputLayer(input_shape=(IM_SIZE, IM_SIZE, 3)),\n",
    "    Conv2D(filters=6, kernel_size=3, strides=1, padding=\"valid\", activation=\"relu\"),\n",
    "    BatchNormalization(),\n",
    "    MaxPool2D(pool_size=2, strides=2),\n",
    "    Conv2D(filters=16, kernel_size=3, strides=1, padding=\"valid\", activation=\"relu\"),\n",
    "    BatchNormalization(),\n",
    "    MaxPool2D(pool_size=2, strides=2),\n",
    "\n",
    "])\n",
    "\n",
    "#feature_extractor_seq_model.summary()"
   ]
  },
  {
   "cell_type": "code",
   "execution_count": 77,
   "id": "44ad756d",
   "metadata": {},
   "outputs": [],
   "source": [
    "func_input = Input(shape=(IM_SIZE, IM_SIZE, 3), name=\"Input Image\")\n",
    "x = feature_extractor_seq_model(func_input)\n",
    "\n",
    "x = Flatten()(x)\n",
    "\n",
    "x = Dense(100, activation=\"relu\")(x)\n",
    "x = BatchNormalization()(x)\n",
    "\n",
    "x = Dense(10, activation=\"relu\")(x)\n",
    "x = BatchNormalization()(x)\n",
    "\n",
    "func_output = Dense(1, activation=\"sigmoid\")(x)\n",
    "\n",
    "lenet_model_seq = Model(func_input, func_output, name=\"Lenet_Model\")\n",
    "#lenet_model_seq.summary()"
   ]
  },
  {
   "cell_type": "markdown",
   "id": "0b2a6873",
   "metadata": {},
   "source": [
    "# Model Subclasses"
   ]
  },
  {
   "cell_type": "code",
   "execution_count": 49,
   "id": "4af48f94",
   "metadata": {},
   "outputs": [],
   "source": [
    "class FeatureExtractor(Layer):\n",
    "    def __init__(self, filters, kernel_size, strides, padding, activation, pool_size):\n",
    "        super(FeatureExtractor, self).__init__()\n",
    "        \n",
    "        self.conv_1 = Conv2D(filters = filters, kernel_size = kernel_size, strides = strides, padding = padding, activation = activation)\n",
    "        self.batch_1 = BatchNormalization()\n",
    "        self.max_1 = MaxPool2D(pool_size = pool_size, strides = 2*strides)\n",
    "        \n",
    "        self.conv_2 = Conv2D(filters = 2*filters, kernel_size = kernel_size, strides = strides, padding = padding, activation = activation)\n",
    "        self.batch_2 = BatchNormalization()\n",
    "        self.max_2 = MaxPool2D(pool_size = pool_size, strides = 2*strides)\n",
    "    \n",
    "    \n",
    "    def call(self, x, training):\n",
    "        \n",
    "        x = self.conv_1(x)\n",
    "        x = self.batch_1(x)\n",
    "        x = self.max_1(x)\n",
    "        \n",
    "        x = self.conv_2(x)\n",
    "        x = self.batch_2(x)\n",
    "        x = self.max_2(x)\n",
    "        \n",
    "        return x\n",
    "    \n",
    "feature_subclassed = FeatureExtractor(8, 3, 1, \"valid\", \"relu\", 2)"
   ]
  },
  {
   "cell_type": "code",
   "execution_count": 50,
   "id": "5cdb8903",
   "metadata": {},
   "outputs": [],
   "source": [
    "func_input = Input(shape=(IM_SIZE, IM_SIZE, 3), name=\"Input Image\")\n",
    "\n",
    "x = feature_subclassed(func_input)\n",
    "\n",
    "x = Flatten()(x)\n",
    "\n",
    "x = Dense(100, activation=\"relu\")(x)\n",
    "x = BatchNormalization()(x)\n",
    "\n",
    "x = Dense(10, activation=\"relu\")(x)\n",
    "x = BatchNormalization()(x)\n",
    "\n",
    "func_output = Dense(1, activation=\"sigmoid\")(x)\n",
    "\n",
    "lenet_model = Model(func_input, func_output, name=\"Lenet_Model\")\n",
    "#lenet_model.summary()"
   ]
  },
  {
   "cell_type": "code",
   "execution_count": 51,
   "id": "c44ee074",
   "metadata": {},
   "outputs": [
    {
     "data": {
      "text/plain": [
       "<tf.Tensor: shape=(1, 1), dtype=float32, numpy=array([[0.5]], dtype=float32)>"
      ]
     },
     "execution_count": 51,
     "metadata": {},
     "output_type": "execute_result"
    }
   ],
   "source": [
    "class LenetModel(Model):\n",
    "    def __init__(self, filters, kernel_size, strides, padding, activation, pool_size):\n",
    "        super(LenetModel, self).__init__()\n",
    "        \n",
    "        self.feature_extractor = FeatureExtractor(8, 3, 1, \"valid\", \"relu\", 2)\n",
    "\n",
    "        self.flatten = Flatten()\n",
    "        \n",
    "        self.dense_1  = Dense(100, activation=\"relu\")\n",
    "        self.batch_1  = BatchNormalization()\n",
    "        \n",
    "        self.dense_2  = Dense(10, activation=\"relu\")\n",
    "        self.batch_2  = BatchNormalization()\n",
    "        \n",
    "        self.dense_3  = Dense(1, activation=\"sigmoid\")\n",
    "    \n",
    "    def call(self, x, training):\n",
    "        \n",
    "        x = self.feature_extractor(x)\n",
    "        \n",
    "        x = self.flatten(x)\n",
    "        x = self.dense_1(x)\n",
    "        x = self.batch_1(x)\n",
    "        \n",
    "        x = self.dense_2(x)\n",
    "        x = self.batch_2(x)\n",
    "        \n",
    "        x = self.dense_3(x)\n",
    "        \n",
    "        return x\n",
    "    \n",
    "lenet_subclassed = LenetModel(8, 3, 1, \"valid\", \"relu\", 2)\n",
    "lenet_subclassed(tf.zeros([1, 224, 224, 3]))\n",
    "#lenet_subclassed.summary()"
   ]
  },
  {
   "cell_type": "code",
   "execution_count": 52,
   "id": "62161460",
   "metadata": {},
   "outputs": [],
   "source": [
    "class CustomDense(Layer):\n",
    "    def __init__(self, output_units, activation):\n",
    "        super(CustomDense, self).__init__()\n",
    "        self.output_units = output_units\n",
    "        self.activation = activation\n",
    "        \n",
    "    def build(self, input_features_shape):\n",
    "        self.w = self.add_weight(shape = (input_features_shape[-1], self.output_units), initializer=\"random_normal\", trainable=True)\n",
    "        self.b = self.add_weight(shape = (self.output_units, ), initializer=\"random_normal\", trainable=True)\n",
    "        \n",
    "    def call(self, input_features):\n",
    "        pre_output = tf.matmul(input_features, self.w) + self.b\n",
    "        if (self.activation == \"relu\"):\n",
    "            return tf.nn.relu(pre_output)\n",
    "        elif (self.activation == \"sigmoid\"):\n",
    "            return tf.math.sigmoid(pre_output)\n",
    "        else:\n",
    "            return pre_output"
   ]
  },
  {
   "cell_type": "code",
   "execution_count": 53,
   "id": "0b214d73",
   "metadata": {},
   "outputs": [],
   "source": [
    "dropout_rate = 0.3\n",
    "\n",
    "custom_dense_model = tf.keras.Sequential([\n",
    "    InputLayer(input_shape=(IM_SIZE, IM_SIZE, 3)),\n",
    "    Conv2D(filters=6, kernel_size=3, strides=1, padding=\"valid\", activation=\"relu\"),\n",
    "    BatchNormalization(),\n",
    "    MaxPool2D(pool_size=2, strides=2),\n",
    "    Dropout(rate=dropout_rate), \n",
    "    \n",
    "    Conv2D(filters=16, kernel_size=3, strides=1, padding=\"valid\", activation=\"relu\"),\n",
    "    BatchNormalization(),\n",
    "    MaxPool2D(pool_size=2, strides=2),\n",
    "    \n",
    "    Flatten(),\n",
    "    CustomDense(100, activation=\"relu\"),\n",
    "    BatchNormalization(),\n",
    "    Dropout(rate=dropout_rate),\n",
    "    \n",
    "    CustomDense(10, activation=\"relu\"),\n",
    "    BatchNormalization(),\n",
    "    CustomDense(1, activation=\"sigmoid\")\n",
    "])\n",
    "\n",
    "#custom_dense_model.summary()"
   ]
  },
  {
   "cell_type": "code",
   "execution_count": 54,
   "id": "67d40966",
   "metadata": {},
   "outputs": [],
   "source": [
    "dropout_rate = 0.3\n",
    "regularization_rate = 0.01\n",
    "\n",
    "custom_dense_model = tf.keras.Sequential([\n",
    "    InputLayer(input_shape=(IM_SIZE, IM_SIZE, 3)),\n",
    "    Conv2D(filters=6, kernel_size=3, strides=1, padding=\"valid\", activation=\"relu\", kernel_regularizer=L2(regularization_rate)),\n",
    "    BatchNormalization(),\n",
    "    MaxPool2D(pool_size=2, strides=2),\n",
    "    Dropout(rate=dropout_rate), \n",
    "    \n",
    "    Conv2D(filters=16, kernel_size=3, strides=1, padding=\"valid\", activation=\"relu\", kernel_regularizer=L2(regularization_rate)),\n",
    "    BatchNormalization(),\n",
    "    MaxPool2D(pool_size=2, strides=2),\n",
    "    \n",
    "    Flatten(),\n",
    "    Dense(100, activation=\"relu\", kernel_regularizer=L2(regularization_rate)),\n",
    "    BatchNormalization(),\n",
    "    Dropout(rate=dropout_rate),\n",
    "    \n",
    "    Dense(10, activation=\"relu\", kernel_regularizer=L2(regularization_rate)),\n",
    "    BatchNormalization(),\n",
    "    Dense(1, activation=\"sigmoid\")\n",
    "])\n",
    "\n",
    "#custom_dense_model.summary()"
   ]
  },
  {
   "cell_type": "code",
   "execution_count": 55,
   "id": "ab45edae",
   "metadata": {},
   "outputs": [],
   "source": [
    "dropout_rate = 0.2\n",
    "regularization_rate = 0.01\n",
    "\n",
    "#because of not doing resize rescaling on input data I do it on model\n",
    "resize_rescale_model = tf.keras.Sequential([\n",
    "    InputLayer(input_shape=(None, None, 3)),\n",
    "    \n",
    "    resize_rescale_layer,\n",
    "    augment_layers,\n",
    "    \n",
    "    Conv2D(filters=6, kernel_size=3, strides=1, padding=\"valid\", activation=\"relu\", kernel_regularizer=L2(regularization_rate)),\n",
    "    BatchNormalization(),\n",
    "    MaxPool2D(pool_size=2, strides=2),\n",
    "    Dropout(rate=dropout_rate), \n",
    "    \n",
    "    Conv2D(filters=16, kernel_size=3, strides=1, padding=\"valid\", activation=\"relu\", kernel_regularizer=L2(regularization_rate)),\n",
    "    BatchNormalization(),\n",
    "    MaxPool2D(pool_size=2, strides=2),\n",
    "    \n",
    "    Flatten(),\n",
    "    Dense(100, activation=\"relu\", kernel_regularizer=L2(regularization_rate)),\n",
    "    BatchNormalization(),\n",
    "    Dropout(rate=dropout_rate),\n",
    "    \n",
    "    Dense(10, activation=\"relu\", kernel_regularizer=L2(regularization_rate)),\n",
    "    BatchNormalization(),\n",
    "    Dense(1, activation=\"sigmoid\")\n",
    "])\n",
    "\n",
    "#resize_rescale_model.summary()"
   ]
  },
  {
   "cell_type": "code",
   "execution_count": 119,
   "id": "4b1c8c50",
   "metadata": {},
   "outputs": [],
   "source": [
    "#IM_SIZE = CONFIGURATION[\"IM_SIZE\"]\n",
    "#DROPOUT_RATE = CONFIGURATION[\"DROPOUT_RATE\"]\n",
    "#REGULARIZATION_RATE = CONFIGURATION[\"REGULARIZATION_RATE\"]\n",
    "#N_FILTERS = CONFIGURATION[\"N_FILTERS\"]\n",
    "#KERNEL_SIZE = CONFIGURATION[\"KERNEL_SIZE\"]\n",
    "#POOL_SIZE = CONFIGURATION[\"POOL_SIZE\"]\n",
    "#N_STRIDES = CONFIGURATION[\"N_STRIDES\"]"
   ]
  },
  {
   "cell_type": "code",
   "execution_count": 56,
   "id": "926667b3",
   "metadata": {},
   "outputs": [],
   "source": [
    "IM_SIZE = 224\n",
    "dropout_rate = 0.2\n",
    "regularization_rate = 0.01\n",
    "\n",
    "lenet_2_model = tf.keras.Sequential([\n",
    "    InputLayer(input_shape=(IM_SIZE, IM_SIZE, 3)),\n",
    "    \n",
    "    Conv2D(filters=6, kernel_size=3, strides=1, padding=\"valid\",\n",
    "           activation=\"relu\", kernel_regularizer=L2(regularization_rate)),\n",
    "    BatchNormalization(),\n",
    "    MaxPool2D(pool_size=2, strides=2),\n",
    "    Dropout(rate=dropout_rate),\n",
    "    \n",
    "    Conv2D(filters=16, kernel_size=3, strides=1, padding=\"valid\",\n",
    "           activation=\"relu\", kernel_regularizer=L2(regularization_rate)),\n",
    "    BatchNormalization(),\n",
    "    MaxPool2D(pool_size=2, strides=2),\n",
    "    \n",
    "    Flatten(),\n",
    "    \n",
    "    Dense(32, activation=\"relu\", kernel_regularizer=L2(regularization_rate)),\n",
    "    BatchNormalization(),\n",
    "    Dense(32, activation=\"relu\", kernel_regularizer=L2(regularization_rate)),\n",
    "    BatchNormalization(),\n",
    "    Dense(1, activation=\"sigmoid\")\n",
    "])\n",
    "\n",
    "#lenet_2_model.summary()"
   ]
  },
  {
   "cell_type": "markdown",
   "id": "ab419ba3",
   "metadata": {},
   "source": [
    "# Hyperparameter Tuning"
   ]
  },
  {
   "cell_type": "code",
   "execution_count": 29,
   "id": "41121cfa",
   "metadata": {},
   "outputs": [],
   "source": [
    "wandb.config = {\n",
    "    #'BATCH_SIZE':128,\n",
    "    'IM_SIZE':224,\n",
    "    'LEARNING_RATE':0.001,\n",
    "    \"N_EPOCHS\":100,\n",
    "    'DROPOUT_RATE':0.0,\n",
    "    'REGULARIZATION_RATE':0.0,\n",
    "    'N_FILTERS':6,\n",
    "    'KERNEL_SIZE':3,\n",
    "    'N_STRIDES':1,\n",
    "    'POOL_SIZE':2,\n",
    "    #'PATCH_SIZE':2,\n",
    "    'N_DENSE_1':128,\n",
    "    'N_DENSE_2':32,\n",
    "    #'NUM_CLASSES':3,\n",
    "}\n",
    "\n",
    "#CONFIGURATION = wandb.config"
   ]
  },
  {
   "cell_type": "code",
   "execution_count": 92,
   "id": "d76a8863",
   "metadata": {},
   "outputs": [],
   "source": [
    "sweep_config = {\n",
    "    \"name\":\"Malaria-Prediction-Sweep\",\n",
    "    \"method\":\"random\",\n",
    "    \"metrics\":{\n",
    "        \"name\": \"accuracy\",\n",
    "        \"goal\": \"maximize\"\n",
    "    }, \n",
    "    \n",
    "    \"parameters\":{\n",
    "        \"N_DENSE_1\":{\n",
    "            \"values\":[16, 32, 64, 128]\n",
    "        },\n",
    "        \n",
    "        \"N_DENSE_2\":{\n",
    "            \"values\":[16, 32, 64, 128]\n",
    "        },\n",
    "        \n",
    "        \"DROPOUT_RATE\":{\n",
    "            \"min\":0.1,\n",
    "            \"max\":0.4\n",
    "        },\n",
    "        \n",
    "        \"REGULARIZATION_RATE\":{\n",
    "            \"distribution\":\"uniform\",\n",
    "            \"min\":0.001,\n",
    "            \"max\":0.1\n",
    "        },\n",
    "        \n",
    "        \"N_EPOCHS\":{\n",
    "            \"values\":[16, 32, 64, 128]\n",
    "        },\n",
    "        \"LEARNING_RATE\":{\n",
    "            \"distribution\":\"uniform\",\n",
    "            \"min\":1e-4,\n",
    "            \"max\":1e-2\n",
    "        }\n",
    "    }\n",
    "}\n",
    "\n",
    "#sweep_id = wandb.sweep(sweep_config)"
   ]
  },
  {
   "cell_type": "code",
   "execution_count": 90,
   "id": "4defcbd8",
   "metadata": {},
   "outputs": [],
   "source": [
    "# Hyperparameter tuning\n",
    "IM_SIZE = 224\n",
    "#dropout_rate = 0.3\n",
    "#regularization_rate = 0.01\n",
    "\n",
    "def model_tune(hparams):\n",
    "    lenet_1_model = tf.keras.Sequential([\n",
    "        InputLayer(input_shape=(config.IM_SIZE, config.IM_SIZE, 3)),\n",
    "\n",
    "        Conv2D(filters=config.N_FILTERS, kernel_size=config.KERNEL_SIZE, strides=N_STRIDES, padding=\"valid\",\n",
    "               activation=\"relu\", kernel_regularizer=L2(config.HP_REGULARIZATION_RATE)),\n",
    "        BatchNormalization(),\n",
    "        MaxPool2D(pool_size=config.POOL_SIZE, strides=config.N_STRIDES),\n",
    "        Dropout(rate=config.DROPOUT_RATE),\n",
    "\n",
    "        Conv2D(filters=config.N_FILTERS, kernel_size=config.KERNEL_SIZE, strides=N_STRIDES, padding=\"valid\",\n",
    "               activation=\"relu\", kernel_regularizer=L2(config.HP_REGULARIZATION_RATE)),\n",
    "        BatchNormalization(),\n",
    "        MaxPool2D(pool_size=config.POOL_SIZE, strides=config.N_STRIDES),\n",
    "\n",
    "        Flatten(),\n",
    "\n",
    "        Dense(config.N_DENSE_1, activation=\"relu\", kernel_regularizer=L2(config.HP_REGULARIZATION_RATE)),\n",
    "        BatchNormalization(),\n",
    "        Dropout(rate=config.DROPOUT_RATE),\n",
    "\n",
    "        Dense(config.N_DENSE_2, activation=\"relu\", kernel_regularizer=L2(config.HP_REGULARIZATION_RATE)),\n",
    "        BatchNormalization(),\n",
    "\n",
    "        Dense(1, activation=\"sigmoid\")\n",
    "    ])\n",
    "\n",
    "\n",
    "    return lenet_2_model"
   ]
  },
  {
   "cell_type": "code",
   "execution_count": 94,
   "id": "2ef51619",
   "metadata": {},
   "outputs": [],
   "source": [
    "def train_sweep():\n",
    "    with wandb.init(project=\"Malaria-Derection\", entity=\"neuralearn\", config=config) as run:\n",
    "        config = wandb.config\n",
    "        model = model_tune(config)\n",
    "        \n",
    "        model.compile(\n",
    "            optimizer + Adam(\n",
    "                learinig_rate = config.LEARNING_RATE\n",
    "            ),\n",
    "            loss = \"binary_crossentropy\",\n",
    "            metrics = [\"accuracy\"]\n",
    "        )\n",
    "        \n",
    "        model.fit(val_dataset, epochs=config.N_EPOCHS, callbacks = [WandbCallback()])\n",
    "            \n",
    "count = 5 # number of runs to execute\n",
    "#wandb.agent(sweep_id, function=train, count=count)"
   ]
  },
  {
   "cell_type": "code",
   "execution_count": 57,
   "id": "4e592728",
   "metadata": {},
   "outputs": [],
   "source": [
    "HP_NUM_UNITS_1 = hp.HParam(\"num_units_1\", hp.Discrete([16, 32, 64, 128]))\n",
    "HP_NUM_UNITS_2 = hp.HParam(\"num_units_2\", hp.Discrete([16, 32, 64, 128]))\n",
    "HP_DROPOUT = hp.HParam(\"dropout\", hp.Discrete([0.1, 0.2, 0.3, 0.4]))\n",
    "HP_REGULARIZATION_RATE = hp.HParam(\"regularization_rate\", hp.Discrete([0.0001, 0.001, 0.01, 0.1]))\n",
    "HP_LEARNING_RATE = hp.HParam(\"learning_rate\", hp.Discrete([1e-5, 1e-4, 1e-3, 1e-2]))"
   ]
  },
  {
   "cell_type": "code",
   "execution_count": 58,
   "id": "f91f7bdd",
   "metadata": {},
   "outputs": [],
   "source": [
    "# Hyperparameter tuning\n",
    "IM_SIZE = 224\n",
    "#dropout_rate = 0.3\n",
    "#regularization_rate = 0.01\n",
    "\n",
    "def model_tune(hparams):\n",
    "    lenet_1_model = tf.keras.Sequential([\n",
    "        InputLayer(input_shape=(IM_SIZE, IM_SIZE, 3)),\n",
    "\n",
    "        Conv2D(filters=6, kernel_size=3, strides=1, padding=\"valid\",\n",
    "               activation=\"relu\", kernel_regularizer=L2(hparams[HP_REGULARIZATION_RATE])),\n",
    "        BatchNormalization(),\n",
    "        MaxPool2D(pool_size=2, strides=2),\n",
    "        Dropout(rate=hparams[HP_DROPOUT]),\n",
    "\n",
    "        Conv2D(filters=16, kernel_size=3, strides=1, padding=\"valid\",\n",
    "               activation=\"relu\", kernel_regularizer=L2(hparams[HP_REGULARIZATION_RATE])),\n",
    "        BatchNormalization(),\n",
    "        MaxPool2D(pool_size=2, strides=2),\n",
    "\n",
    "        Flatten(),\n",
    "\n",
    "        Dense(hparams[HP_NUM_UNITS_1], activation=\"relu\", kernel_regularizer=L2(hparams[HP_REGULARIZATION_RATE])),\n",
    "        BatchNormalization(),\n",
    "        Dropout(rate=hparams[HP_DROPOUT]),\n",
    "\n",
    "        Dense(hparams[HP_NUM_UNITS_2], activation=\"relu\", kernel_regularizer=L2(hparams[HP_REGULARIZATION_RATE])),\n",
    "        BatchNormalization(),\n",
    "\n",
    "        Dense(1, activation=\"sigmoid\")\n",
    "    ])\n",
    "\n",
    "    # Model Compilation\n",
    "\n",
    "    lenet_1_model.compile(\n",
    "        loss = \"binary_crossentropy\",\n",
    "        optimizer = Adam(learning_rate=hparams[HP_LEARNING_RATE]),\n",
    "        metrics = ['accuracy'],\n",
    "        run_eagerly=True\n",
    "        )\n",
    "\n",
    "    history = lenet_1_model.fit(train_dataset, epochs=1)\n",
    "\n",
    "    _, accuracy = lenet_1_model.evaluate(train_dataset)\n",
    "\n",
    "    return accuracy"
   ]
  },
  {
   "cell_type": "code",
   "execution_count": 59,
   "id": "f7f90055",
   "metadata": {},
   "outputs": [
    {
     "name": "stdout",
     "output_type": "stream",
     "text": [
      "  7/517 [..............................] - ETA: 4:32 - loss: 0.8832 - accuracy: 0.2277"
     ]
    },
    {
     "ename": "KeyboardInterrupt",
     "evalue": "",
     "output_type": "error",
     "traceback": [
      "\u001b[1;31m---------------------------------------------------------------------------\u001b[0m",
      "\u001b[1;31mKeyboardInterrupt\u001b[0m                         Traceback (most recent call last)",
      "Input \u001b[1;32mIn [59]\u001b[0m, in \u001b[0;36m<cell line: 2>\u001b[1;34m()\u001b[0m\n\u001b[0;32m     17\u001b[0m \u001b[38;5;28;01mwith\u001b[39;00m file_writer\u001b[38;5;241m.\u001b[39mas_default():\n\u001b[0;32m     18\u001b[0m     hp\u001b[38;5;241m.\u001b[39mHParam(hparams)\n\u001b[1;32m---> 19\u001b[0m     accuracy \u001b[38;5;241m=\u001b[39m \u001b[43mmodel_tune\u001b[49m\u001b[43m(\u001b[49m\u001b[43mhparams\u001b[49m\u001b[43m)\u001b[49m\n\u001b[0;32m     20\u001b[0m     tf\u001b[38;5;241m.\u001b[39msummary\u001b[38;5;241m.\u001b[39mscalar(\u001b[38;5;124m\"\u001b[39m\u001b[38;5;124maccuract \u001b[39m\u001b[38;5;124m\"\u001b[39m, accuracy, step\u001b[38;5;241m=\u001b[39m\u001b[38;5;241m0\u001b[39m)\n\u001b[0;32m     22\u001b[0m \u001b[38;5;28mprint\u001b[39m(\u001b[38;5;124mf\u001b[39m\u001b[38;5;124m\"\u001b[39m\u001b[38;5;124mFor the run \u001b[39m\u001b[38;5;132;01m{\u001b[39;00mrun_number\u001b[38;5;132;01m}\u001b[39;00m\u001b[38;5;124m, hparams num_units_1 : \u001b[39m\u001b[38;5;132;01m{\u001b[39;00mHP_NUM_UNITS_1\u001b[38;5;132;01m}\u001b[39;00m\u001b[38;5;124m, num_units_2: \u001b[39m\u001b[38;5;132;01m{\u001b[39;00mHP_NUM_UNITS_2\u001b[38;5;132;01m}\u001b[39;00m\u001b[38;5;124m, dropout: \u001b[39m\u001b[38;5;132;01m{\u001b[39;00mHP_DROPOUT\u001b[38;5;132;01m}\u001b[39;00m\u001b[38;5;124m, regularization rate: \u001b[39m\u001b[38;5;132;01m{\u001b[39;00mHP_REGULARIZATION_RATE\u001b[38;5;132;01m}\u001b[39;00m\u001b[38;5;124m, learning Rate: \u001b[39m\u001b[38;5;132;01m{\u001b[39;00mHP_LEARNING_RATE\u001b[38;5;132;01m}\u001b[39;00m\u001b[38;5;124m, our hparams is \u001b[39m\u001b[38;5;132;01m{\u001b[39;00mhparams\u001b[38;5;132;01m}\u001b[39;00m\u001b[38;5;124m\"\u001b[39m)\n",
      "Input \u001b[1;32mIn [58]\u001b[0m, in \u001b[0;36mmodel_tune\u001b[1;34m(hparams)\u001b[0m\n\u001b[0;32m     33\u001b[0m \u001b[38;5;66;03m# Model Compilation\u001b[39;00m\n\u001b[0;32m     35\u001b[0m lenet_1_model\u001b[38;5;241m.\u001b[39mcompile(\n\u001b[0;32m     36\u001b[0m     loss \u001b[38;5;241m=\u001b[39m \u001b[38;5;124m\"\u001b[39m\u001b[38;5;124mbinary_crossentropy\u001b[39m\u001b[38;5;124m\"\u001b[39m,\n\u001b[0;32m     37\u001b[0m     optimizer \u001b[38;5;241m=\u001b[39m Adam(learning_rate\u001b[38;5;241m=\u001b[39mhparams[HP_LEARNING_RATE]),\n\u001b[0;32m     38\u001b[0m     metrics \u001b[38;5;241m=\u001b[39m [\u001b[38;5;124m'\u001b[39m\u001b[38;5;124maccuracy\u001b[39m\u001b[38;5;124m'\u001b[39m],\n\u001b[0;32m     39\u001b[0m     run_eagerly\u001b[38;5;241m=\u001b[39m\u001b[38;5;28;01mTrue\u001b[39;00m\n\u001b[0;32m     40\u001b[0m     )\n\u001b[1;32m---> 42\u001b[0m history \u001b[38;5;241m=\u001b[39m \u001b[43mlenet_1_model\u001b[49m\u001b[38;5;241;43m.\u001b[39;49m\u001b[43mfit\u001b[49m\u001b[43m(\u001b[49m\u001b[43mtrain_dataset\u001b[49m\u001b[43m,\u001b[49m\u001b[43m \u001b[49m\u001b[43mepochs\u001b[49m\u001b[38;5;241;43m=\u001b[39;49m\u001b[38;5;241;43m1\u001b[39;49m\u001b[43m)\u001b[49m\n\u001b[0;32m     44\u001b[0m _, accuracy \u001b[38;5;241m=\u001b[39m lenet_1_model\u001b[38;5;241m.\u001b[39mevaluate(train_dataset)\n\u001b[0;32m     46\u001b[0m \u001b[38;5;28;01mreturn\u001b[39;00m accuracy\n",
      "File \u001b[1;32m~\\anaconda3\\lib\\site-packages\\wandb\\integration\\keras\\keras.py:174\u001b[0m, in \u001b[0;36mpatch_tf_keras.<locals>.new_v2\u001b[1;34m(*args, **kwargs)\u001b[0m\n\u001b[0;32m    172\u001b[0m     \u001b[38;5;28;01mfor\u001b[39;00m cbk \u001b[38;5;129;01min\u001b[39;00m cbks:\n\u001b[0;32m    173\u001b[0m         set_wandb_attrs(cbk, val_data)\n\u001b[1;32m--> 174\u001b[0m \u001b[38;5;28;01mreturn\u001b[39;00m old_v2(\u001b[38;5;241m*\u001b[39margs, \u001b[38;5;241m*\u001b[39m\u001b[38;5;241m*\u001b[39mkwargs)\n",
      "File \u001b[1;32m~\\anaconda3\\lib\\site-packages\\wandb\\integration\\keras\\keras.py:174\u001b[0m, in \u001b[0;36mpatch_tf_keras.<locals>.new_v2\u001b[1;34m(*args, **kwargs)\u001b[0m\n\u001b[0;32m    172\u001b[0m     \u001b[38;5;28;01mfor\u001b[39;00m cbk \u001b[38;5;129;01min\u001b[39;00m cbks:\n\u001b[0;32m    173\u001b[0m         set_wandb_attrs(cbk, val_data)\n\u001b[1;32m--> 174\u001b[0m \u001b[38;5;28;01mreturn\u001b[39;00m old_v2(\u001b[38;5;241m*\u001b[39margs, \u001b[38;5;241m*\u001b[39m\u001b[38;5;241m*\u001b[39mkwargs)\n",
      "File \u001b[1;32m~\\anaconda3\\lib\\site-packages\\wandb\\integration\\keras\\keras.py:174\u001b[0m, in \u001b[0;36mpatch_tf_keras.<locals>.new_v2\u001b[1;34m(*args, **kwargs)\u001b[0m\n\u001b[0;32m    172\u001b[0m     \u001b[38;5;28;01mfor\u001b[39;00m cbk \u001b[38;5;129;01min\u001b[39;00m cbks:\n\u001b[0;32m    173\u001b[0m         set_wandb_attrs(cbk, val_data)\n\u001b[1;32m--> 174\u001b[0m \u001b[38;5;28;01mreturn\u001b[39;00m old_v2(\u001b[38;5;241m*\u001b[39margs, \u001b[38;5;241m*\u001b[39m\u001b[38;5;241m*\u001b[39mkwargs)\n",
      "File \u001b[1;32m~\\anaconda3\\lib\\site-packages\\keras\\utils\\traceback_utils.py:65\u001b[0m, in \u001b[0;36mfilter_traceback.<locals>.error_handler\u001b[1;34m(*args, **kwargs)\u001b[0m\n\u001b[0;32m     63\u001b[0m filtered_tb \u001b[38;5;241m=\u001b[39m \u001b[38;5;28;01mNone\u001b[39;00m\n\u001b[0;32m     64\u001b[0m \u001b[38;5;28;01mtry\u001b[39;00m:\n\u001b[1;32m---> 65\u001b[0m     \u001b[38;5;28;01mreturn\u001b[39;00m fn(\u001b[38;5;241m*\u001b[39margs, \u001b[38;5;241m*\u001b[39m\u001b[38;5;241m*\u001b[39mkwargs)\n\u001b[0;32m     66\u001b[0m \u001b[38;5;28;01mexcept\u001b[39;00m \u001b[38;5;167;01mException\u001b[39;00m \u001b[38;5;28;01mas\u001b[39;00m e:\n\u001b[0;32m     67\u001b[0m     filtered_tb \u001b[38;5;241m=\u001b[39m _process_traceback_frames(e\u001b[38;5;241m.\u001b[39m__traceback__)\n",
      "File \u001b[1;32m~\\anaconda3\\lib\\site-packages\\keras\\engine\\training.py:1685\u001b[0m, in \u001b[0;36mModel.fit\u001b[1;34m(self, x, y, batch_size, epochs, verbose, callbacks, validation_split, validation_data, shuffle, class_weight, sample_weight, initial_epoch, steps_per_epoch, validation_steps, validation_batch_size, validation_freq, max_queue_size, workers, use_multiprocessing)\u001b[0m\n\u001b[0;32m   1677\u001b[0m \u001b[38;5;28;01mwith\u001b[39;00m tf\u001b[38;5;241m.\u001b[39mprofiler\u001b[38;5;241m.\u001b[39mexperimental\u001b[38;5;241m.\u001b[39mTrace(\n\u001b[0;32m   1678\u001b[0m     \u001b[38;5;124m\"\u001b[39m\u001b[38;5;124mtrain\u001b[39m\u001b[38;5;124m\"\u001b[39m,\n\u001b[0;32m   1679\u001b[0m     epoch_num\u001b[38;5;241m=\u001b[39mepoch,\n\u001b[1;32m   (...)\u001b[0m\n\u001b[0;32m   1682\u001b[0m     _r\u001b[38;5;241m=\u001b[39m\u001b[38;5;241m1\u001b[39m,\n\u001b[0;32m   1683\u001b[0m ):\n\u001b[0;32m   1684\u001b[0m     callbacks\u001b[38;5;241m.\u001b[39mon_train_batch_begin(step)\n\u001b[1;32m-> 1685\u001b[0m     tmp_logs \u001b[38;5;241m=\u001b[39m \u001b[38;5;28;43mself\u001b[39;49m\u001b[38;5;241;43m.\u001b[39;49m\u001b[43mtrain_function\u001b[49m\u001b[43m(\u001b[49m\u001b[43miterator\u001b[49m\u001b[43m)\u001b[49m\n\u001b[0;32m   1686\u001b[0m     \u001b[38;5;28;01mif\u001b[39;00m data_handler\u001b[38;5;241m.\u001b[39mshould_sync:\n\u001b[0;32m   1687\u001b[0m         context\u001b[38;5;241m.\u001b[39masync_wait()\n",
      "File \u001b[1;32m~\\anaconda3\\lib\\site-packages\\keras\\engine\\training.py:1284\u001b[0m, in \u001b[0;36mModel.make_train_function.<locals>.train_function\u001b[1;34m(iterator)\u001b[0m\n\u001b[0;32m   1282\u001b[0m \u001b[38;5;28;01mdef\u001b[39;00m \u001b[38;5;21mtrain_function\u001b[39m(iterator):\n\u001b[0;32m   1283\u001b[0m \u001b[38;5;250m    \u001b[39m\u001b[38;5;124;03m\"\"\"Runs a training execution with a single step.\"\"\"\u001b[39;00m\n\u001b[1;32m-> 1284\u001b[0m     \u001b[38;5;28;01mreturn\u001b[39;00m \u001b[43mstep_function\u001b[49m\u001b[43m(\u001b[49m\u001b[38;5;28;43mself\u001b[39;49m\u001b[43m,\u001b[49m\u001b[43m \u001b[49m\u001b[43miterator\u001b[49m\u001b[43m)\u001b[49m\n",
      "File \u001b[1;32m~\\anaconda3\\lib\\site-packages\\keras\\engine\\training.py:1268\u001b[0m, in \u001b[0;36mModel.make_train_function.<locals>.step_function\u001b[1;34m(model, iterator)\u001b[0m\n\u001b[0;32m   1264\u001b[0m     run_step \u001b[38;5;241m=\u001b[39m tf\u001b[38;5;241m.\u001b[39mfunction(\n\u001b[0;32m   1265\u001b[0m         run_step, jit_compile\u001b[38;5;241m=\u001b[39m\u001b[38;5;28;01mTrue\u001b[39;00m, reduce_retracing\u001b[38;5;241m=\u001b[39m\u001b[38;5;28;01mTrue\u001b[39;00m\n\u001b[0;32m   1266\u001b[0m     )\n\u001b[0;32m   1267\u001b[0m data \u001b[38;5;241m=\u001b[39m \u001b[38;5;28mnext\u001b[39m(iterator)\n\u001b[1;32m-> 1268\u001b[0m outputs \u001b[38;5;241m=\u001b[39m \u001b[43mmodel\u001b[49m\u001b[38;5;241;43m.\u001b[39;49m\u001b[43mdistribute_strategy\u001b[49m\u001b[38;5;241;43m.\u001b[39;49m\u001b[43mrun\u001b[49m\u001b[43m(\u001b[49m\u001b[43mrun_step\u001b[49m\u001b[43m,\u001b[49m\u001b[43m \u001b[49m\u001b[43margs\u001b[49m\u001b[38;5;241;43m=\u001b[39;49m\u001b[43m(\u001b[49m\u001b[43mdata\u001b[49m\u001b[43m,\u001b[49m\u001b[43m)\u001b[49m\u001b[43m)\u001b[49m\n\u001b[0;32m   1269\u001b[0m outputs \u001b[38;5;241m=\u001b[39m reduce_per_replica(\n\u001b[0;32m   1270\u001b[0m     outputs,\n\u001b[0;32m   1271\u001b[0m     \u001b[38;5;28mself\u001b[39m\u001b[38;5;241m.\u001b[39mdistribute_strategy,\n\u001b[0;32m   1272\u001b[0m     reduction\u001b[38;5;241m=\u001b[39m\u001b[38;5;28mself\u001b[39m\u001b[38;5;241m.\u001b[39mdistribute_reduction_method,\n\u001b[0;32m   1273\u001b[0m )\n\u001b[0;32m   1274\u001b[0m \u001b[38;5;28;01mreturn\u001b[39;00m outputs\n",
      "File \u001b[1;32m~\\anaconda3\\lib\\site-packages\\tensorflow\\python\\distribute\\distribute_lib.py:1316\u001b[0m, in \u001b[0;36mStrategyBase.run\u001b[1;34m(***failed resolving arguments***)\u001b[0m\n\u001b[0;32m   1311\u001b[0m \u001b[38;5;28;01mwith\u001b[39;00m \u001b[38;5;28mself\u001b[39m\u001b[38;5;241m.\u001b[39mscope():\n\u001b[0;32m   1312\u001b[0m   \u001b[38;5;66;03m# tf.distribute supports Eager functions, so AutoGraph should not be\u001b[39;00m\n\u001b[0;32m   1313\u001b[0m   \u001b[38;5;66;03m# applied when the caller is also in Eager mode.\u001b[39;00m\n\u001b[0;32m   1314\u001b[0m   fn \u001b[38;5;241m=\u001b[39m autograph\u001b[38;5;241m.\u001b[39mtf_convert(\n\u001b[0;32m   1315\u001b[0m       fn, autograph_ctx\u001b[38;5;241m.\u001b[39mcontrol_status_ctx(), convert_by_default\u001b[38;5;241m=\u001b[39m\u001b[38;5;28;01mFalse\u001b[39;00m)\n\u001b[1;32m-> 1316\u001b[0m   \u001b[38;5;28;01mreturn\u001b[39;00m \u001b[38;5;28;43mself\u001b[39;49m\u001b[38;5;241;43m.\u001b[39;49m\u001b[43m_extended\u001b[49m\u001b[38;5;241;43m.\u001b[39;49m\u001b[43mcall_for_each_replica\u001b[49m\u001b[43m(\u001b[49m\u001b[43mfn\u001b[49m\u001b[43m,\u001b[49m\u001b[43m \u001b[49m\u001b[43margs\u001b[49m\u001b[38;5;241;43m=\u001b[39;49m\u001b[43margs\u001b[49m\u001b[43m,\u001b[49m\u001b[43m \u001b[49m\u001b[43mkwargs\u001b[49m\u001b[38;5;241;43m=\u001b[39;49m\u001b[43mkwargs\u001b[49m\u001b[43m)\u001b[49m\n",
      "File \u001b[1;32m~\\anaconda3\\lib\\site-packages\\tensorflow\\python\\distribute\\distribute_lib.py:2895\u001b[0m, in \u001b[0;36mStrategyExtendedV1.call_for_each_replica\u001b[1;34m(self, fn, args, kwargs)\u001b[0m\n\u001b[0;32m   2893\u001b[0m   kwargs \u001b[38;5;241m=\u001b[39m {}\n\u001b[0;32m   2894\u001b[0m \u001b[38;5;28;01mwith\u001b[39;00m \u001b[38;5;28mself\u001b[39m\u001b[38;5;241m.\u001b[39m_container_strategy()\u001b[38;5;241m.\u001b[39mscope():\n\u001b[1;32m-> 2895\u001b[0m   \u001b[38;5;28;01mreturn\u001b[39;00m \u001b[38;5;28;43mself\u001b[39;49m\u001b[38;5;241;43m.\u001b[39;49m\u001b[43m_call_for_each_replica\u001b[49m\u001b[43m(\u001b[49m\u001b[43mfn\u001b[49m\u001b[43m,\u001b[49m\u001b[43m \u001b[49m\u001b[43margs\u001b[49m\u001b[43m,\u001b[49m\u001b[43m \u001b[49m\u001b[43mkwargs\u001b[49m\u001b[43m)\u001b[49m\n",
      "File \u001b[1;32m~\\anaconda3\\lib\\site-packages\\tensorflow\\python\\distribute\\distribute_lib.py:3696\u001b[0m, in \u001b[0;36m_DefaultDistributionExtended._call_for_each_replica\u001b[1;34m(self, fn, args, kwargs)\u001b[0m\n\u001b[0;32m   3694\u001b[0m \u001b[38;5;28;01mdef\u001b[39;00m \u001b[38;5;21m_call_for_each_replica\u001b[39m(\u001b[38;5;28mself\u001b[39m, fn, args, kwargs):\n\u001b[0;32m   3695\u001b[0m   \u001b[38;5;28;01mwith\u001b[39;00m ReplicaContext(\u001b[38;5;28mself\u001b[39m\u001b[38;5;241m.\u001b[39m_container_strategy(), replica_id_in_sync_group\u001b[38;5;241m=\u001b[39m\u001b[38;5;241m0\u001b[39m):\n\u001b[1;32m-> 3696\u001b[0m     \u001b[38;5;28;01mreturn\u001b[39;00m fn(\u001b[38;5;241m*\u001b[39margs, \u001b[38;5;241m*\u001b[39m\u001b[38;5;241m*\u001b[39mkwargs)\n",
      "File \u001b[1;32m~\\anaconda3\\lib\\site-packages\\tensorflow\\python\\autograph\\impl\\api.py:595\u001b[0m, in \u001b[0;36mcall_with_unspecified_conversion_status.<locals>.wrapper\u001b[1;34m(*args, **kwargs)\u001b[0m\n\u001b[0;32m    593\u001b[0m \u001b[38;5;28;01mdef\u001b[39;00m \u001b[38;5;21mwrapper\u001b[39m(\u001b[38;5;241m*\u001b[39margs, \u001b[38;5;241m*\u001b[39m\u001b[38;5;241m*\u001b[39mkwargs):\n\u001b[0;32m    594\u001b[0m   \u001b[38;5;28;01mwith\u001b[39;00m ag_ctx\u001b[38;5;241m.\u001b[39mControlStatusCtx(status\u001b[38;5;241m=\u001b[39mag_ctx\u001b[38;5;241m.\u001b[39mStatus\u001b[38;5;241m.\u001b[39mUNSPECIFIED):\n\u001b[1;32m--> 595\u001b[0m     \u001b[38;5;28;01mreturn\u001b[39;00m func(\u001b[38;5;241m*\u001b[39margs, \u001b[38;5;241m*\u001b[39m\u001b[38;5;241m*\u001b[39mkwargs)\n",
      "File \u001b[1;32m~\\anaconda3\\lib\\site-packages\\keras\\engine\\training.py:1249\u001b[0m, in \u001b[0;36mModel.make_train_function.<locals>.step_function.<locals>.run_step\u001b[1;34m(data)\u001b[0m\n\u001b[0;32m   1248\u001b[0m \u001b[38;5;28;01mdef\u001b[39;00m \u001b[38;5;21mrun_step\u001b[39m(data):\n\u001b[1;32m-> 1249\u001b[0m     outputs \u001b[38;5;241m=\u001b[39m \u001b[43mmodel\u001b[49m\u001b[38;5;241;43m.\u001b[39;49m\u001b[43mtrain_step\u001b[49m\u001b[43m(\u001b[49m\u001b[43mdata\u001b[49m\u001b[43m)\u001b[49m\n\u001b[0;32m   1250\u001b[0m     \u001b[38;5;66;03m# Ensure counter is updated only if `train_step` succeeds.\u001b[39;00m\n\u001b[0;32m   1251\u001b[0m     \u001b[38;5;28;01mwith\u001b[39;00m tf\u001b[38;5;241m.\u001b[39mcontrol_dependencies(_minimum_control_deps(outputs)):\n",
      "File \u001b[1;32m~\\anaconda3\\lib\\site-packages\\keras\\engine\\training.py:1054\u001b[0m, in \u001b[0;36mModel.train_step\u001b[1;34m(self, data)\u001b[0m\n\u001b[0;32m   1052\u001b[0m \u001b[38;5;28mself\u001b[39m\u001b[38;5;241m.\u001b[39m_validate_target_and_loss(y, loss)\n\u001b[0;32m   1053\u001b[0m \u001b[38;5;66;03m# Run backwards pass.\u001b[39;00m\n\u001b[1;32m-> 1054\u001b[0m \u001b[38;5;28;43mself\u001b[39;49m\u001b[38;5;241;43m.\u001b[39;49m\u001b[43moptimizer\u001b[49m\u001b[38;5;241;43m.\u001b[39;49m\u001b[43mminimize\u001b[49m\u001b[43m(\u001b[49m\u001b[43mloss\u001b[49m\u001b[43m,\u001b[49m\u001b[43m \u001b[49m\u001b[38;5;28;43mself\u001b[39;49m\u001b[38;5;241;43m.\u001b[39;49m\u001b[43mtrainable_variables\u001b[49m\u001b[43m,\u001b[49m\u001b[43m \u001b[49m\u001b[43mtape\u001b[49m\u001b[38;5;241;43m=\u001b[39;49m\u001b[43mtape\u001b[49m\u001b[43m)\u001b[49m\n\u001b[0;32m   1055\u001b[0m \u001b[38;5;28;01mreturn\u001b[39;00m \u001b[38;5;28mself\u001b[39m\u001b[38;5;241m.\u001b[39mcompute_metrics(x, y, y_pred, sample_weight)\n",
      "File \u001b[1;32m~\\anaconda3\\lib\\site-packages\\keras\\optimizers\\optimizer.py:542\u001b[0m, in \u001b[0;36m_BaseOptimizer.minimize\u001b[1;34m(self, loss, var_list, tape)\u001b[0m\n\u001b[0;32m    521\u001b[0m \u001b[38;5;28;01mdef\u001b[39;00m \u001b[38;5;21mminimize\u001b[39m(\u001b[38;5;28mself\u001b[39m, loss, var_list, tape\u001b[38;5;241m=\u001b[39m\u001b[38;5;28;01mNone\u001b[39;00m):\n\u001b[0;32m    522\u001b[0m \u001b[38;5;250m    \u001b[39m\u001b[38;5;124;03m\"\"\"Minimize `loss` by updating `var_list`.\u001b[39;00m\n\u001b[0;32m    523\u001b[0m \n\u001b[0;32m    524\u001b[0m \u001b[38;5;124;03m    This method simply computes gradient using `tf.GradientTape` and calls\u001b[39;00m\n\u001b[1;32m   (...)\u001b[0m\n\u001b[0;32m    540\u001b[0m \u001b[38;5;124;03m      None\u001b[39;00m\n\u001b[0;32m    541\u001b[0m \u001b[38;5;124;03m    \"\"\"\u001b[39;00m\n\u001b[1;32m--> 542\u001b[0m     grads_and_vars \u001b[38;5;241m=\u001b[39m \u001b[38;5;28;43mself\u001b[39;49m\u001b[38;5;241;43m.\u001b[39;49m\u001b[43mcompute_gradients\u001b[49m\u001b[43m(\u001b[49m\u001b[43mloss\u001b[49m\u001b[43m,\u001b[49m\u001b[43m \u001b[49m\u001b[43mvar_list\u001b[49m\u001b[43m,\u001b[49m\u001b[43m \u001b[49m\u001b[43mtape\u001b[49m\u001b[43m)\u001b[49m\n\u001b[0;32m    543\u001b[0m     \u001b[38;5;28mself\u001b[39m\u001b[38;5;241m.\u001b[39mapply_gradients(grads_and_vars)\n",
      "File \u001b[1;32m~\\anaconda3\\lib\\site-packages\\keras\\optimizers\\optimizer.py:275\u001b[0m, in \u001b[0;36m_BaseOptimizer.compute_gradients\u001b[1;34m(self, loss, var_list, tape)\u001b[0m\n\u001b[0;32m    272\u001b[0m         \u001b[38;5;28;01mif\u001b[39;00m \u001b[38;5;28mcallable\u001b[39m(var_list):\n\u001b[0;32m    273\u001b[0m             var_list \u001b[38;5;241m=\u001b[39m var_list()\n\u001b[1;32m--> 275\u001b[0m grads \u001b[38;5;241m=\u001b[39m \u001b[43mtape\u001b[49m\u001b[38;5;241;43m.\u001b[39;49m\u001b[43mgradient\u001b[49m\u001b[43m(\u001b[49m\u001b[43mloss\u001b[49m\u001b[43m,\u001b[49m\u001b[43m \u001b[49m\u001b[43mvar_list\u001b[49m\u001b[43m)\u001b[49m\n\u001b[0;32m    276\u001b[0m \u001b[38;5;28;01mreturn\u001b[39;00m \u001b[38;5;28mlist\u001b[39m(\u001b[38;5;28mzip\u001b[39m(grads, var_list))\n",
      "File \u001b[1;32m~\\anaconda3\\lib\\site-packages\\tensorflow\\python\\eager\\backprop.py:1063\u001b[0m, in \u001b[0;36mGradientTape.gradient\u001b[1;34m(self, target, sources, output_gradients, unconnected_gradients)\u001b[0m\n\u001b[0;32m   1057\u001b[0m   output_gradients \u001b[38;5;241m=\u001b[39m (\n\u001b[0;32m   1058\u001b[0m       composite_tensor_gradient\u001b[38;5;241m.\u001b[39mget_flat_tensors_for_gradients(\n\u001b[0;32m   1059\u001b[0m           output_gradients))\n\u001b[0;32m   1060\u001b[0m   output_gradients \u001b[38;5;241m=\u001b[39m [\u001b[38;5;28;01mNone\u001b[39;00m \u001b[38;5;28;01mif\u001b[39;00m x \u001b[38;5;129;01mis\u001b[39;00m \u001b[38;5;28;01mNone\u001b[39;00m \u001b[38;5;28;01melse\u001b[39;00m ops\u001b[38;5;241m.\u001b[39mconvert_to_tensor(x)\n\u001b[0;32m   1061\u001b[0m                       \u001b[38;5;28;01mfor\u001b[39;00m x \u001b[38;5;129;01min\u001b[39;00m output_gradients]\n\u001b[1;32m-> 1063\u001b[0m flat_grad \u001b[38;5;241m=\u001b[39m \u001b[43mimperative_grad\u001b[49m\u001b[38;5;241;43m.\u001b[39;49m\u001b[43mimperative_grad\u001b[49m\u001b[43m(\u001b[49m\n\u001b[0;32m   1064\u001b[0m \u001b[43m    \u001b[49m\u001b[38;5;28;43mself\u001b[39;49m\u001b[38;5;241;43m.\u001b[39;49m\u001b[43m_tape\u001b[49m\u001b[43m,\u001b[49m\n\u001b[0;32m   1065\u001b[0m \u001b[43m    \u001b[49m\u001b[43mflat_targets\u001b[49m\u001b[43m,\u001b[49m\n\u001b[0;32m   1066\u001b[0m \u001b[43m    \u001b[49m\u001b[43mflat_sources\u001b[49m\u001b[43m,\u001b[49m\n\u001b[0;32m   1067\u001b[0m \u001b[43m    \u001b[49m\u001b[43moutput_gradients\u001b[49m\u001b[38;5;241;43m=\u001b[39;49m\u001b[43moutput_gradients\u001b[49m\u001b[43m,\u001b[49m\n\u001b[0;32m   1068\u001b[0m \u001b[43m    \u001b[49m\u001b[43msources_raw\u001b[49m\u001b[38;5;241;43m=\u001b[39;49m\u001b[43mflat_sources_raw\u001b[49m\u001b[43m,\u001b[49m\n\u001b[0;32m   1069\u001b[0m \u001b[43m    \u001b[49m\u001b[43munconnected_gradients\u001b[49m\u001b[38;5;241;43m=\u001b[39;49m\u001b[43munconnected_gradients\u001b[49m\u001b[43m)\u001b[49m\n\u001b[0;32m   1071\u001b[0m \u001b[38;5;28;01mif\u001b[39;00m \u001b[38;5;129;01mnot\u001b[39;00m \u001b[38;5;28mself\u001b[39m\u001b[38;5;241m.\u001b[39m_persistent:\n\u001b[0;32m   1072\u001b[0m   \u001b[38;5;66;03m# Keep track of watched variables before setting tape to None\u001b[39;00m\n\u001b[0;32m   1073\u001b[0m   \u001b[38;5;28mself\u001b[39m\u001b[38;5;241m.\u001b[39m_watched_variables \u001b[38;5;241m=\u001b[39m \u001b[38;5;28mself\u001b[39m\u001b[38;5;241m.\u001b[39m_tape\u001b[38;5;241m.\u001b[39mwatched_variables()\n",
      "File \u001b[1;32m~\\anaconda3\\lib\\site-packages\\tensorflow\\python\\eager\\imperative_grad.py:67\u001b[0m, in \u001b[0;36mimperative_grad\u001b[1;34m(tape, target, sources, output_gradients, sources_raw, unconnected_gradients)\u001b[0m\n\u001b[0;32m     63\u001b[0m \u001b[38;5;28;01mexcept\u001b[39;00m \u001b[38;5;167;01mValueError\u001b[39;00m:\n\u001b[0;32m     64\u001b[0m   \u001b[38;5;28;01mraise\u001b[39;00m \u001b[38;5;167;01mValueError\u001b[39;00m(\n\u001b[0;32m     65\u001b[0m       \u001b[38;5;124m\"\u001b[39m\u001b[38;5;124mUnknown value for unconnected_gradients: \u001b[39m\u001b[38;5;132;01m%r\u001b[39;00m\u001b[38;5;124m\"\u001b[39m \u001b[38;5;241m%\u001b[39m unconnected_gradients)\n\u001b[1;32m---> 67\u001b[0m \u001b[38;5;28;01mreturn\u001b[39;00m \u001b[43mpywrap_tfe\u001b[49m\u001b[38;5;241;43m.\u001b[39;49m\u001b[43mTFE_Py_TapeGradient\u001b[49m\u001b[43m(\u001b[49m\n\u001b[0;32m     68\u001b[0m \u001b[43m    \u001b[49m\u001b[43mtape\u001b[49m\u001b[38;5;241;43m.\u001b[39;49m\u001b[43m_tape\u001b[49m\u001b[43m,\u001b[49m\u001b[43m  \u001b[49m\u001b[38;5;66;43;03m# pylint: disable=protected-access\u001b[39;49;00m\n\u001b[0;32m     69\u001b[0m \u001b[43m    \u001b[49m\u001b[43mtarget\u001b[49m\u001b[43m,\u001b[49m\n\u001b[0;32m     70\u001b[0m \u001b[43m    \u001b[49m\u001b[43msources\u001b[49m\u001b[43m,\u001b[49m\n\u001b[0;32m     71\u001b[0m \u001b[43m    \u001b[49m\u001b[43moutput_gradients\u001b[49m\u001b[43m,\u001b[49m\n\u001b[0;32m     72\u001b[0m \u001b[43m    \u001b[49m\u001b[43msources_raw\u001b[49m\u001b[43m,\u001b[49m\n\u001b[0;32m     73\u001b[0m \u001b[43m    \u001b[49m\u001b[43mcompat\u001b[49m\u001b[38;5;241;43m.\u001b[39;49m\u001b[43mas_str\u001b[49m\u001b[43m(\u001b[49m\u001b[43munconnected_gradients\u001b[49m\u001b[38;5;241;43m.\u001b[39;49m\u001b[43mvalue\u001b[49m\u001b[43m)\u001b[49m\u001b[43m)\u001b[49m\n",
      "File \u001b[1;32m~\\anaconda3\\lib\\site-packages\\tensorflow\\python\\eager\\backprop.py:146\u001b[0m, in \u001b[0;36m_gradient_function\u001b[1;34m(op_name, attr_tuple, num_inputs, inputs, outputs, out_grads, skip_input_indices, forward_pass_name_scope)\u001b[0m\n\u001b[0;32m    144\u001b[0m     gradient_name_scope \u001b[38;5;241m+\u001b[39m\u001b[38;5;241m=\u001b[39m forward_pass_name_scope \u001b[38;5;241m+\u001b[39m \u001b[38;5;124m\"\u001b[39m\u001b[38;5;124m/\u001b[39m\u001b[38;5;124m\"\u001b[39m\n\u001b[0;32m    145\u001b[0m   \u001b[38;5;28;01mwith\u001b[39;00m ops\u001b[38;5;241m.\u001b[39mname_scope(gradient_name_scope):\n\u001b[1;32m--> 146\u001b[0m     \u001b[38;5;28;01mreturn\u001b[39;00m \u001b[43mgrad_fn\u001b[49m\u001b[43m(\u001b[49m\u001b[43mmock_op\u001b[49m\u001b[43m,\u001b[49m\u001b[43m \u001b[49m\u001b[38;5;241;43m*\u001b[39;49m\u001b[43mout_grads\u001b[49m\u001b[43m)\u001b[49m\n\u001b[0;32m    147\u001b[0m \u001b[38;5;28;01melse\u001b[39;00m:\n\u001b[0;32m    148\u001b[0m   \u001b[38;5;28;01mreturn\u001b[39;00m grad_fn(mock_op, \u001b[38;5;241m*\u001b[39mout_grads)\n",
      "File \u001b[1;32m~\\anaconda3\\lib\\site-packages\\tensorflow\\python\\ops\\nn_grad.py:926\u001b[0m, in \u001b[0;36m_FusedBatchNormV3Grad\u001b[1;34m(op, *grad)\u001b[0m\n\u001b[0;32m    924\u001b[0m \u001b[38;5;129m@ops\u001b[39m\u001b[38;5;241m.\u001b[39mRegisterGradient(\u001b[38;5;124m\"\u001b[39m\u001b[38;5;124mFusedBatchNormV3\u001b[39m\u001b[38;5;124m\"\u001b[39m)\n\u001b[0;32m    925\u001b[0m \u001b[38;5;28;01mdef\u001b[39;00m \u001b[38;5;21m_FusedBatchNormV3Grad\u001b[39m(op, \u001b[38;5;241m*\u001b[39mgrad):\n\u001b[1;32m--> 926\u001b[0m   \u001b[38;5;28;01mreturn\u001b[39;00m \u001b[43m_BaseFusedBatchNormGrad\u001b[49m\u001b[43m(\u001b[49m\u001b[43mop\u001b[49m\u001b[43m,\u001b[49m\u001b[43m \u001b[49m\u001b[38;5;241;43m2\u001b[39;49m\u001b[43m,\u001b[49m\u001b[43m \u001b[49m\u001b[38;5;241;43m*\u001b[39;49m\u001b[43mgrad\u001b[49m\u001b[43m)\u001b[49m\n",
      "File \u001b[1;32m~\\anaconda3\\lib\\site-packages\\tensorflow\\python\\ops\\nn_grad.py:882\u001b[0m, in \u001b[0;36m_BaseFusedBatchNormGrad\u001b[1;34m(op, version, *grad)\u001b[0m\n\u001b[0;32m    880\u001b[0m   \u001b[38;5;28;01mif\u001b[39;00m version \u001b[38;5;241m==\u001b[39m \u001b[38;5;241m2\u001b[39m:\n\u001b[0;32m    881\u001b[0m     args[\u001b[38;5;124m\"\u001b[39m\u001b[38;5;124mreserve_space_3\u001b[39m\u001b[38;5;124m\"\u001b[39m] \u001b[38;5;241m=\u001b[39m op\u001b[38;5;241m.\u001b[39moutputs[\u001b[38;5;241m5\u001b[39m]\n\u001b[1;32m--> 882\u001b[0m   dx, dscale, doffset, _, _ \u001b[38;5;241m=\u001b[39m grad_fun(\u001b[38;5;241m*\u001b[39m\u001b[38;5;241m*\u001b[39margs)\n\u001b[0;32m    883\u001b[0m \u001b[38;5;28;01melse\u001b[39;00m:\n\u001b[0;32m    884\u001b[0m   pop_mean \u001b[38;5;241m=\u001b[39m op\u001b[38;5;241m.\u001b[39minputs[\u001b[38;5;241m3\u001b[39m]\n",
      "File \u001b[1;32m~\\anaconda3\\lib\\site-packages\\tensorflow\\python\\ops\\gen_nn_ops.py:5097\u001b[0m, in \u001b[0;36mfused_batch_norm_grad_v3\u001b[1;34m(y_backprop, x, scale, reserve_space_1, reserve_space_2, reserve_space_3, epsilon, data_format, is_training, name)\u001b[0m\n\u001b[0;32m   5095\u001b[0m \u001b[38;5;28;01mif\u001b[39;00m tld\u001b[38;5;241m.\u001b[39mis_eager:\n\u001b[0;32m   5096\u001b[0m   \u001b[38;5;28;01mtry\u001b[39;00m:\n\u001b[1;32m-> 5097\u001b[0m     _result \u001b[38;5;241m=\u001b[39m \u001b[43mpywrap_tfe\u001b[49m\u001b[38;5;241;43m.\u001b[39;49m\u001b[43mTFE_Py_FastPathExecute\u001b[49m\u001b[43m(\u001b[49m\n\u001b[0;32m   5098\u001b[0m \u001b[43m      \u001b[49m\u001b[43m_ctx\u001b[49m\u001b[43m,\u001b[49m\u001b[43m \u001b[49m\u001b[38;5;124;43m\"\u001b[39;49m\u001b[38;5;124;43mFusedBatchNormGradV3\u001b[39;49m\u001b[38;5;124;43m\"\u001b[39;49m\u001b[43m,\u001b[49m\u001b[43m \u001b[49m\u001b[43mname\u001b[49m\u001b[43m,\u001b[49m\u001b[43m \u001b[49m\u001b[43my_backprop\u001b[49m\u001b[43m,\u001b[49m\u001b[43m \u001b[49m\u001b[43mx\u001b[49m\u001b[43m,\u001b[49m\u001b[43m \u001b[49m\u001b[43mscale\u001b[49m\u001b[43m,\u001b[49m\n\u001b[0;32m   5099\u001b[0m \u001b[43m      \u001b[49m\u001b[43mreserve_space_1\u001b[49m\u001b[43m,\u001b[49m\u001b[43m \u001b[49m\u001b[43mreserve_space_2\u001b[49m\u001b[43m,\u001b[49m\u001b[43m \u001b[49m\u001b[43mreserve_space_3\u001b[49m\u001b[43m,\u001b[49m\u001b[43m \u001b[49m\u001b[38;5;124;43m\"\u001b[39;49m\u001b[38;5;124;43mepsilon\u001b[39;49m\u001b[38;5;124;43m\"\u001b[39;49m\u001b[43m,\u001b[49m\u001b[43m \u001b[49m\u001b[43mepsilon\u001b[49m\u001b[43m,\u001b[49m\n\u001b[0;32m   5100\u001b[0m \u001b[43m      \u001b[49m\u001b[38;5;124;43m\"\u001b[39;49m\u001b[38;5;124;43mdata_format\u001b[39;49m\u001b[38;5;124;43m\"\u001b[39;49m\u001b[43m,\u001b[49m\u001b[43m \u001b[49m\u001b[43mdata_format\u001b[49m\u001b[43m,\u001b[49m\u001b[43m \u001b[49m\u001b[38;5;124;43m\"\u001b[39;49m\u001b[38;5;124;43mis_training\u001b[39;49m\u001b[38;5;124;43m\"\u001b[39;49m\u001b[43m,\u001b[49m\u001b[43m \u001b[49m\u001b[43mis_training\u001b[49m\u001b[43m)\u001b[49m\n\u001b[0;32m   5101\u001b[0m     _result \u001b[38;5;241m=\u001b[39m _FusedBatchNormGradV3Output\u001b[38;5;241m.\u001b[39m_make(_result)\n\u001b[0;32m   5102\u001b[0m     \u001b[38;5;28;01mreturn\u001b[39;00m _result\n",
      "\u001b[1;31mKeyboardInterrupt\u001b[0m: "
     ]
    }
   ],
   "source": [
    "run_number = 0\n",
    "for num_units_1 in HP_NUM_UNITS_1.domain.values:\n",
    "    for num_units_2 in HP_NUM_UNITS_2.domain.values:\n",
    "        for dropout_rate in HP_DROPOUT.domain.values:\n",
    "            for regularization_rate in HP_REGULARIZATION_RATE.domain.values:\n",
    "                for learning_rate in HP_LEARNING_RATE.domain.values:\n",
    "                    hparams = {\n",
    "                        HP_NUM_UNITS_1: num_units_1,\n",
    "                        HP_NUM_UNITS_2: num_units_2,\n",
    "                        HP_DROPOUT: dropout_rate,\n",
    "                        HP_REGULARIZATION_RATE: regularization_rate,\n",
    "                        HP_LEARNING_RATE: learning_rate,\n",
    "                    }\n",
    "                    \n",
    "                    file_writer = tf.summary.create_file_writer(\"logs/\" + str(run_number))\n",
    "                    \n",
    "                    with file_writer.as_default():\n",
    "                        hp.HParam(hparams)\n",
    "                        accuracy = model_tune(hparams)\n",
    "                        tf.summary.scalar(\"accuract \", accuracy, step=0)\n",
    "                        \n",
    "                    print(f\"For the run {run_number}, hparams num_units_1 : {HP_NUM_UNITS_1}, num_units_2: {HP_NUM_UNITS_2}, dropout: {HP_DROPOUT}, regularization rate: {HP_REGULARIZATION_RATE}, learning Rate: {HP_LEARNING_RATE}, our hparams is {hparams}\")\n",
    "                    \n",
    "                    run_number += 1"
   ]
  },
  {
   "cell_type": "markdown",
   "id": "e6c21604",
   "metadata": {},
   "source": [
    "# Callbacks"
   ]
  },
  {
   "cell_type": "code",
   "execution_count": null,
   "id": "ea206a3a",
   "metadata": {},
   "outputs": [],
   "source": [
    "class LossCallbacks(Callback):\n",
    "    def on_epoch_end(self, epoch, logs):\n",
    "        print(f\"\\n For Epoch Number {epoch+1} the model has loss of {logs['loss']}\")\n",
    "        \n",
    "    def on_batch_end(self, batch, logs):\n",
    "        print(f\"\\n For Batch Number {batch+1} the model has loss of {logs}\")"
   ]
  },
  {
   "cell_type": "code",
   "execution_count": null,
   "id": "f0923edc",
   "metadata": {},
   "outputs": [],
   "source": [
    "test_dataset = test_dataset.batch(1)"
   ]
  },
  {
   "cell_type": "markdown",
   "id": "7ebea968",
   "metadata": {},
   "source": [
    "# Custom Callback For Tensorboard"
   ]
  },
  {
   "cell_type": "code",
   "execution_count": 82,
   "id": "35d5aff8",
   "metadata": {},
   "outputs": [],
   "source": [
    "class LogImagesCallbackTensorboard(Callback):\n",
    "    def on_epoch_end(self, epoch, logs):\n",
    "        labels = []\n",
    "        inp = []\n",
    "\n",
    "        for x, y in test_dataset.as_numpy_iterator():\n",
    "            labels.append(y)\n",
    "            inp.append(x)\n",
    "        labels = np.array([i[0] for i in labels])\n",
    "        predicted = custom_dense_model.predict(np.array(inp)[:,0,...])\n",
    "        print(\"labels \", labels, labels.dtype)\n",
    "        print(\"predicted \", predicted, predicted.dtype)\n",
    "        \n",
    "        Threshold = 0.43534606\n",
    "\n",
    "        cm = confusion_matrix(labels, predicted > Threshold)\n",
    "\n",
    "        print(cm)\n",
    "\n",
    "        plt.figure(figsize=(8, 8))\n",
    "\n",
    "        sns.heatmap(cm, annot=True)\n",
    "        plt.title(f\"Confusion metrix - {Threshold}\")\n",
    "        plt.ylabel(\"Actual\")\n",
    "        plt.xlabel(\"predicted\")\n",
    "        plt.axis(\"off\")\n",
    "        \n",
    "        buffer = io.BytesIO()\n",
    "        plt.savefig(buffer, format=\"png\")\n",
    "        \n",
    "        image = tf.image.decode_png(buffer.getvalue(), channels=3)\n",
    "        image = tf.expand_dims(image, axis=0)\n",
    "        \n",
    "        CURRENT_TIME = datetime.datetime.now().strftime('%d%m%y - %h%m%s')\n",
    "        IMAGE_DIR = \"./logs/\" + CURRENT_TIME + \"./images\"\n",
    "        \n",
    "        image_writer = tf.summary.create_file_writer(IMAGE_DIR)\n",
    "        \n",
    "        with image_writer.as_default():\n",
    "            tf.summary.image(\"Training data : \", image, step=epoch)"
   ]
  },
  {
   "cell_type": "code",
   "execution_count": null,
   "id": "eb868e89",
   "metadata": {},
   "outputs": [],
   "source": []
  },
  {
   "cell_type": "code",
   "execution_count": 83,
   "id": "9ef3ed99",
   "metadata": {},
   "outputs": [],
   "source": [
    "class LogImagesCallbackWandb(Callback):\n",
    "    def on_epoch_end(self, epoch, logs):\n",
    "        labels = []\n",
    "        inp = []\n",
    "\n",
    "        for x, y in test_dataset.as_numpy_iterator():\n",
    "            labels.append(y)\n",
    "            inp.append(x)\n",
    "        labels = np.array([i[0] for i in labels])\n",
    "        predicted = custom_dense_model.predict(np.array(inp)[:,0,...])\n",
    "        print(\"labels \", labels, labels.dtype)\n",
    "        print(\"predicted \", predicted, predicted.dtype)\n",
    "        \n",
    "        Threshold = 0.43534606\n",
    "\n",
    "        cm = confusion_matrix(labels, predicted > Threshold)\n",
    "\n",
    "        print(cm)\n",
    "\n",
    "        plt.figure(figsize=(8, 8))\n",
    "\n",
    "        sns.heatmap(cm, annot=True)\n",
    "        plt.title(f\"Confusion metrix - {Threshold}\")\n",
    "        plt.ylabel(\"Actual\")\n",
    "        plt.xlabel(\"predicted\")\n",
    "        plt.axis(\"off\")\n",
    "        \n",
    "        buffer = io.BytesIO()\n",
    "        plt.savefig(buffer, format=\"png\")\n",
    "        \n",
    "        image_array = tf.image.decode_png(buffer.getvalue(), channels=3)\n",
    "        \n",
    "        images = wandb.Image(image_array, caption=f\"Confusion Matrix for epoch {epoch}\", )\n",
    "        \n",
    "        wandb.log({\"examples\":images})\n",
    "        "
   ]
  },
  {
   "cell_type": "markdown",
   "id": "b538be0e",
   "metadata": {},
   "source": [
    "# Custom Callback For Wandb"
   ]
  },
  {
   "cell_type": "code",
   "execution_count": 61,
   "id": "65dba9e6",
   "metadata": {},
   "outputs": [],
   "source": [
    "class LogImagesCallbackWandbPlot(Callback):\n",
    "    def on_epoch_end(self, epoch, logs):\n",
    "        labels = []\n",
    "        inp = []\n",
    "\n",
    "        for x, y in test_dataset.as_numpy_iterator():\n",
    "            labels.append(y)\n",
    "            inp.append(x)\n",
    "        labels = np.array([i[0] for i in labels])\n",
    "        predicted = custom_dense_model.predict(np.array(inp)[:,0,...])\n",
    "        print(\"labels \", labels, labels.dtype)\n",
    "        print(\"predicted \", predicted, predicted.dtype)\n",
    "        \n",
    "        pred = []\n",
    "        for i in range(len(predicted)):\n",
    "            if (predicted[i][0] < 0.5):\n",
    "                pred.append([1,0])\n",
    "\n",
    "            else:\n",
    "                pred.append([0,1])\n",
    "                \n",
    "        pred = np.array(pred)\n",
    "            \n",
    "        wandb.log({\"Confusion Metrix\" : wandb.plot.confusion_matrix(probs=pred,\n",
    "                                                            y_true=lagels,\n",
    "                                                            class_names=[\"Parasitized\", \"Uninfected\"])})\n",
    "        \n",
    "        \n",
    "        # ROC CURVE PLOT\n",
    "        wandb.log({\"ROC Curve \": roc_curve(\n",
    "            y_true=labels,\n",
    "            y_pred=pred,\n",
    "            labels=[\"Parasitized\", \"Uninfected\"],\n",
    "        )})\n",
    "        \n",
    "        wandb.log({\"loss\": logs[\"loss\"]})"
   ]
  },
  {
   "cell_type": "code",
   "execution_count": null,
   "id": "93bdb6af",
   "metadata": {},
   "outputs": [],
   "source": [
    "images = wandb.Image(, caption=, )"
   ]
  },
  {
   "cell_type": "code",
   "execution_count": 62,
   "id": "4fe4cc99",
   "metadata": {},
   "outputs": [],
   "source": [
    "#labels = []\n",
    "#inp = []\n",
    "\n",
    "#for x, y in test_dataset.as_numpy_iterator():\n",
    "    #labels.append(y)\n",
    "    #inp.append(x)\n",
    "#labels = np.array([i[0] for i in labels])\n",
    "#predicted = lenet_1_model.predict(np.array(inp)[:,0,...])\n",
    "#print(\"labels \", labels, labels.dtype)\n",
    "#print(\"predicted \", predicted, predicted.dtype)"
   ]
  },
  {
   "cell_type": "code",
   "execution_count": 63,
   "id": "0bee78b7",
   "metadata": {},
   "outputs": [],
   "source": [
    "#pred = []\n",
    "#for i in range(len(predicted)):\n",
    "    #if (predicted[i][0] < 0.5):\n",
    "       # pred.append([1,0])\n",
    "        \n",
    "    #else:\n",
    "        #pred.append([0,1])\n",
    "        \n",
    "#print(pred)"
   ]
  },
  {
   "cell_type": "code",
   "execution_count": null,
   "id": "f0880c96",
   "metadata": {},
   "outputs": [],
   "source": [
    "print(np.array(pred).shape)"
   ]
  },
  {
   "cell_type": "markdown",
   "id": "90fa9fe6",
   "metadata": {},
   "source": [
    "# CSVLogger"
   ]
  },
  {
   "cell_type": "code",
   "execution_count": 64,
   "id": "8dcbbe4d",
   "metadata": {},
   "outputs": [],
   "source": [
    "csv_callback = CSVLogger(\n",
    "    \"loge.csv\", separator=\",\", append=False\n",
    ")"
   ]
  },
  {
   "cell_type": "markdown",
   "id": "2907f38d",
   "metadata": {},
   "source": [
    "# Early Stoping"
   ]
  },
  {
   "cell_type": "code",
   "execution_count": 65,
   "id": "deb3593c",
   "metadata": {},
   "outputs": [],
   "source": [
    "es_callback = EarlyStopping(\n",
    "    monitor=\"val_loss\", min_delta=0, patience=3, verbose=1,\n",
    "    mode=\"auto\", baseline=None, restore_best_weights=False\n",
    ")"
   ]
  },
  {
   "cell_type": "markdown",
   "id": "37ecc5f4",
   "metadata": {},
   "source": [
    "# Tensorboard"
   ]
  },
  {
   "cell_type": "code",
   "execution_count": 116,
   "id": "250365ea",
   "metadata": {},
   "outputs": [],
   "source": [
    "#!pip install -U tensorboard_plugin_profile "
   ]
  },
  {
   "cell_type": "code",
   "execution_count": 117,
   "id": "6e678fa2",
   "metadata": {},
   "outputs": [],
   "source": [
    "#CURRENT_TIME = datetime.datetime.now().strftime(\"%d%m%y - %h%m%s\")\n",
    "#METRIC_DIR = r\"E:\\python\\segmentation\\DRIVE\\Data\\logs\"#+ CURRENT_TIME + \"./metrics\"\n",
    "#train_writer = tf.summary.create_file_writer(METRIC_DIR)"
   ]
  },
  {
   "cell_type": "code",
   "execution_count": 95,
   "id": "fb9b505c",
   "metadata": {},
   "outputs": [
    {
     "name": "stdout",
     "output_type": "stream",
     "text": [
      "./logs/\n"
     ]
    }
   ],
   "source": [
    "LOG_DIR = \"./logs/\"# + CURRENT_TIME\n",
    "print(LOG_DIR)\n",
    "tensorboard_callback = tf.keras.callbacks.TensorBoard(log_dir=LOG_DIR, histogram_freq=1, profile_batch=\"100,132\")"
   ]
  },
  {
   "cell_type": "markdown",
   "id": "81c8915c",
   "metadata": {},
   "source": [
    "# LearningRate Scheduler"
   ]
  },
  {
   "cell_type": "code",
   "execution_count": 66,
   "id": "12051cbf",
   "metadata": {},
   "outputs": [],
   "source": [
    "def scheduler(epoch, lr):\n",
    "    if epoch < 1:\n",
    "        learning_rate = lr\n",
    "    \n",
    "    else:\n",
    "        learning_rate = lr * tf.math.exp(-0.1)\n",
    "        learning_rate = learning_rate.numpy()\n",
    "    \n",
    "    with train_writer.as_default():\n",
    "        tf.summary.scalar(\"Learning Rate\", data=learning_rate, step=epoch)\n",
    "        \n",
    "    return learning_rate\n",
    "    \n",
    "scheduler_callback = LearningRateScheduler(scheduler, verbose=1)"
   ]
  },
  {
   "cell_type": "markdown",
   "id": "1f6aa6a0",
   "metadata": {},
   "source": [
    "# Model CheckPointing"
   ]
  },
  {
   "cell_type": "code",
   "execution_count": 67,
   "id": "110af1b1",
   "metadata": {},
   "outputs": [],
   "source": [
    "filepath = r\"E:\\python\\segmentation\\DRIVE\\Data\\Checkpoints\"\n",
    "checkpoint_callback = ModelCheckpoint(\n",
    "    filepath=filepath, monitor=\"accuracy\", verbose=0, save_best_only=True,\n",
    "    save_weights_only=False, mode=\"auto\", save_freq=\"epoch\",\n",
    ")"
   ]
  },
  {
   "cell_type": "markdown",
   "id": "8a175618",
   "metadata": {},
   "source": [
    "# ReduceLearningRateOnPlateau"
   ]
  },
  {
   "cell_type": "code",
   "execution_count": 68,
   "id": "90287b48",
   "metadata": {},
   "outputs": [],
   "source": [
    "plateau_callback = ReduceLROnPlateau(\n",
    "    monitor=\"accuracy\", factor=0.1, patience=2, verbose=1\n",
    ")"
   ]
  },
  {
   "cell_type": "markdown",
   "id": "062253ef",
   "metadata": {},
   "source": [
    "# Model Training"
   ]
  },
  {
   "cell_type": "code",
   "execution_count": 69,
   "id": "f02cedfc",
   "metadata": {},
   "outputs": [
    {
     "data": {
      "text/plain": [
       "<tf.Tensor: shape=(), dtype=float32, numpy=4.9340706>"
      ]
     },
     "execution_count": 69,
     "metadata": {},
     "output_type": "execute_result"
    }
   ],
   "source": [
    "y_true = [0, 1, 0, 0]\n",
    "y_pred = [0.6, 0.51, 0.94, 1]\n",
    "bce = BinaryCrossentropy()\n",
    "bce(y_true, y_pred)"
   ]
  },
  {
   "cell_type": "code",
   "execution_count": 100,
   "id": "1480cefc",
   "metadata": {},
   "outputs": [],
   "source": [
    "#model.compile(loss = BinaryCrossentropy(),\n",
    "             #optimizer=Adam(learning_rate=0.01),\n",
    "             #metrics=['accuracy'])"
   ]
  },
  {
   "cell_type": "code",
   "execution_count": 70,
   "id": "51ea6999",
   "metadata": {},
   "outputs": [],
   "source": [
    "lenet_model.compile(loss = BinaryCrossentropy(),\n",
    "                   optimizer = Adam(learning_rate=0.01),\n",
    "                   metrics = [\"accuracy\"])"
   ]
  },
  {
   "cell_type": "code",
   "execution_count": 71,
   "id": "83573bcb",
   "metadata": {},
   "outputs": [],
   "source": [
    "lenet_subclassed.compile(loss = BinaryCrossentropy(),\n",
    "                   optimizer = Adam(learning_rate=0.01),\n",
    "                   metrics = [\"accuracy\"])"
   ]
  },
  {
   "cell_type": "code",
   "execution_count": 72,
   "id": "81dd8ebf",
   "metadata": {},
   "outputs": [],
   "source": [
    "custom_dense_model.compile(loss = BinaryCrossentropy(),\n",
    "                   optimizer = Adam(learning_rate=0.01),\n",
    "                   metrics = [\"accuracy\"])"
   ]
  },
  {
   "cell_type": "code",
   "execution_count": 73,
   "id": "11be4791",
   "metadata": {},
   "outputs": [],
   "source": [
    "resize_rescale_model.compile(loss = BinaryCrossentropy(),\n",
    "    optimizer = Adam(learning_rate=0.01),\n",
    "    metrics = [\"accuracy\"],\n",
    "    # For understandin the meaning of an error which I have no idea of I use run_eagerly function\n",
    "    #run_eagerly = True, # to train faster, now there is no error we can comment this of\n",
    ")"
   ]
  },
  {
   "cell_type": "markdown",
   "id": "5a251c05",
   "metadata": {},
   "source": [
    "# Custom Metric Class"
   ]
  },
  {
   "cell_type": "code",
   "execution_count": 74,
   "id": "4d8d2849",
   "metadata": {},
   "outputs": [],
   "source": [
    "class CustomAccuracy(tf.keras.metrics.Metric):\n",
    "    def __init__(self, name=\"Custom Accuracy\", FACTOR=1):\n",
    "        super(CustomAccuracy, self).__init__()\n",
    "        self.FACTOR = FACTOR\n",
    "        self.accuracy = self.add_weight(name=name, initializer=\"zeros\")\n",
    "    \n",
    "    def update_state(self, y_ture, y_pred, sample_weight=None):\n",
    "        \n",
    "        output = binary_accuracy(tf.cast(y_true, dtype=tf.float32), y_pred) * self.FACTOR\n",
    "        self.accuracy.assign(tf.math.count_nonzero(output, dtype=tf.float32) / tf.cast(len(output), dtype=tf.float32)) \n",
    "    \n",
    "    def result(self):\n",
    "        \n",
    "        return self.accuracy\n",
    "    \n",
    "    def reset_state(self):\n",
    "        \n",
    "        self.accuracy.assign(0.)"
   ]
  },
  {
   "cell_type": "code",
   "execution_count": null,
   "id": "10cd788b",
   "metadata": {},
   "outputs": [],
   "source": []
  },
  {
   "cell_type": "markdown",
   "id": "5eae717a",
   "metadata": {},
   "source": [
    "# Custom Metric Method (without parameters)"
   ]
  },
  {
   "cell_type": "code",
   "execution_count": 75,
   "id": "60e5228f",
   "metadata": {},
   "outputs": [],
   "source": [
    "def custom_accuracy(y_true, y_pred):\n",
    "    return binary_accuracy(y_true, y_pred)"
   ]
  },
  {
   "cell_type": "markdown",
   "id": "55d7ec30",
   "metadata": {},
   "source": [
    "# Custom Metric Method (without parameters)"
   ]
  },
  {
   "cell_type": "code",
   "execution_count": 76,
   "id": "6188f11e",
   "metadata": {},
   "outputs": [],
   "source": [
    "FACTOR = 1\n",
    "def custom_accuracy(FACTOR):\n",
    "    def metric(y_true, y_pred):\n",
    "        return binary_accuracy(y_true, y_pred) * FACTOR\n",
    "    return metric"
   ]
  },
  {
   "cell_type": "markdown",
   "id": "a46f07e5",
   "metadata": {},
   "source": [
    "# Custom Loss Class"
   ]
  },
  {
   "cell_type": "code",
   "execution_count": 77,
   "id": "3f9704f3",
   "metadata": {},
   "outputs": [],
   "source": [
    "class CustomBCE(tf.keras.losses.Loss):\n",
    "    def __init__(self, FACTOR):\n",
    "        super(CustomBCE, self).__init__()\n",
    "        self.FACTOR = FACTOR\n",
    "    \n",
    "    def call(self, y_true, y_pred):\n",
    "        bce = BinaryCrossentropy()\n",
    "        return bce(y_true, y_pred) * self.FACTOR"
   ]
  },
  {
   "cell_type": "markdown",
   "id": "7900b843",
   "metadata": {},
   "source": [
    "# Custom Loss Function (with parameters)"
   ]
  },
  {
   "cell_type": "code",
   "execution_count": 78,
   "id": "7ee297f3",
   "metadata": {},
   "outputs": [],
   "source": [
    "def custom_binarycrossentropy(FACTOR):\n",
    "    def loss(y_true, y_pred):\n",
    "        bce = BinaryCrossentropy()\n",
    "        return bce(y_true, y_pred) * FACTOR\n",
    "    return loss"
   ]
  },
  {
   "cell_type": "markdown",
   "id": "0a4a74e7",
   "metadata": {},
   "source": [
    "# Custom Loss Method (without parameters)"
   ]
  },
  {
   "cell_type": "code",
   "execution_count": 79,
   "id": "877ab80d",
   "metadata": {},
   "outputs": [],
   "source": [
    "def custom_bce(y_true, y_pred):\n",
    "    bce = BinaryCrossentropy()\n",
    "    return bce(y_true, y_pred)"
   ]
  },
  {
   "cell_type": "code",
   "execution_count": 80,
   "id": "0ddc7462",
   "metadata": {},
   "outputs": [],
   "source": [
    "lenet_2_model.compile(loss = CustomBCE(FACTOR),\n",
    "    optimizer = Adam(learning_rate=0.0001),\n",
    "    metrics = CustomAccuracy(),\n",
    "    )"
   ]
  },
  {
   "cell_type": "code",
   "execution_count": 98,
   "id": "8db27748",
   "metadata": {},
   "outputs": [],
   "source": [
    "#history = model.fit(train_dataset, validation_data=val_dataset, epochs=2, verbose=1)"
   ]
  },
  {
   "cell_type": "code",
   "execution_count": 99,
   "id": "f92959b3",
   "metadata": {},
   "outputs": [],
   "source": [
    "#history_1 = lenet_model.fit(train_dataset, validation_data=val_dataset, epochs=2, verbose=1)"
   ]
  },
  {
   "cell_type": "code",
   "execution_count": 100,
   "id": "0544b563",
   "metadata": {},
   "outputs": [],
   "source": [
    "#history_2 = lenet_subclassed.fit(train_dataset, validation_data=val_dataset, epochs=2, verbose=1)"
   ]
  },
  {
   "cell_type": "code",
   "execution_count": null,
   "id": "98d7bdbf",
   "metadata": {},
   "outputs": [],
   "source": [
    "#history3 = custom_dense_model.fit(train_dataset, validation_data=val_dataset, epochs=3, verbose=1, callbacks=[LossCallbacks(), csv_call])"
   ]
  },
  {
   "cell_type": "code",
   "execution_count": null,
   "id": "8c6eddd2",
   "metadata": {},
   "outputs": [],
   "source": [
    "#history3 = custom_dense_model.fit(train_dataset, validation_data=val_dataset, epochs=3, verbose=1, callbacks=[es_callback])"
   ]
  },
  {
   "cell_type": "code",
   "execution_count": null,
   "id": "32f071b2",
   "metadata": {},
   "outputs": [],
   "source": [
    "#history3 = custom_dense_model.fit(train_dataset, validation_data=val_dataset, epochs=3, verbose=1, callbacks=[scheduler_callback])"
   ]
  },
  {
   "cell_type": "code",
   "execution_count": null,
   "id": "f7e97f07",
   "metadata": {},
   "outputs": [],
   "source": [
    "#history3 = custom_dense_model.fit(train_dataset, validation_data=val_dataset, epochs=3, verbose=1, callbacks=[checkpoint_callback])"
   ]
  },
  {
   "cell_type": "code",
   "execution_count": null,
   "id": "db8d60e2",
   "metadata": {},
   "outputs": [],
   "source": [
    "#history3 = custom_dense_model.fit(train_dataset, validation_data=val_dataset, epochs=3, verbose=1,) # callbacks=[plateau_callback])"
   ]
  },
  {
   "cell_type": "code",
   "execution_count": null,
   "id": "f438a971",
   "metadata": {},
   "outputs": [],
   "source": [
    "#history_4 = resize_rescale_model.fit(train_dataset, validation_data=val_dataset, epochs=3, verbose=1,) # callbacks=[plateau_callback])"
   ]
  },
  {
   "cell_type": "code",
   "execution_count": null,
   "id": "05295fa6",
   "metadata": {},
   "outputs": [],
   "source": [
    "#The mixup data augmentation does not seem work well for this dataset\n",
    "#history_5 = lenet_2_model.fit(train_dataset, validation_data=val_dataset, epochs=3, verbose=1,) # callbacks=[plateau_callback])"
   ]
  },
  {
   "cell_type": "code",
   "execution_count": 81,
   "id": "6bc57c6a",
   "metadata": {},
   "outputs": [],
   "source": [
    "metrics = [BinaryAccuracy(name=\"accuracy\"), FalsePositives(name=\"fp\"), FalseNegatives(name=\"fn\"),\n",
    "           TrueNegatives(name=\"tn\"), TruePositives(name=\"tp\"), Precision(name=\"precision\"),\n",
    "           Recall(name=\"recall\"), AUC(name=\"auc\")]\n",
    "\n",
    "FACTOR = 1\n",
    "LABELS = [\"Parasitizes\", \"Uninfected\"]"
   ]
  },
  {
   "cell_type": "code",
   "execution_count": 113,
   "id": "d41131d4",
   "metadata": {},
   "outputs": [],
   "source": [
    "#Training with Tensorboard\n",
    "\n",
    "#history = lenet_2_model.fit(train_dataset, validation_data=val_dataset, epochs=CONFIGURATION[\"N_EPOCHS\"], verbose=1, callbacks=[tensorboard_callback, scheduler_callback])"
   ]
  },
  {
   "cell_type": "markdown",
   "id": "a6ff9821",
   "metadata": {},
   "source": [
    "# Fiting The Model With Wandb Callback"
   ]
  },
  {
   "cell_type": "code",
   "execution_count": 120,
   "id": "5a30c7ca",
   "metadata": {},
   "outputs": [],
   "source": [
    "#history = lenet_2_model.fit(train_dataset, validation_data=val_dataset, epochs=CONFIGURATION[\"N_EPOCHS\"], verbose=1,\n",
    "                            #callbacks=[WandbCallback(validation_data=val_dataset,\n",
    "                            #labels=LABELS,\n",
    "                            #data_type = image,)])"
   ]
  },
  {
   "cell_type": "code",
   "execution_count": null,
   "id": "83824617",
   "metadata": {},
   "outputs": [],
   "source": [
    "#wandb.finish() LogImagesCallbackWandb"
   ]
  },
  {
   "cell_type": "code",
   "execution_count": null,
   "id": "3a196c64",
   "metadata": {},
   "outputs": [],
   "source": [
    "#history = lenet_2_model.fit(train_dataset, validation_data=val_dataset, epochs=CONFIGURATION[\"N_EPOCHS\"], verbose=1,\n",
    "                            #callbacks=[LogImagesCallbackWandb()])"
   ]
  },
  {
   "cell_type": "markdown",
   "id": "eee630fb",
   "metadata": {},
   "source": [
    "# Biulding Custom Fit Function "
   ]
  },
  {
   "cell_type": "code",
   "execution_count": null,
   "id": "ed36f443",
   "metadata": {},
   "outputs": [],
   "source": [
    "OPTIMIZER = Adam(learning_rate=0.01)\n",
    "METRIC = BinaryAccuracy()\n",
    "METRIC_VAL = BinaryAccuracy()\n",
    "EPOCHS = 3"
   ]
  },
  {
   "cell_type": "markdown",
   "id": "09c43920",
   "metadata": {},
   "source": [
    "# Custom Training Loop"
   ]
  },
  {
   "cell_type": "code",
   "execution_count": null,
   "id": "f1d0a039",
   "metadata": {},
   "outputs": [],
   "source": [
    "#CURRENT_TIME = datetime.datetime.now().strftime(\"%d%m%y - %h%m%s\")\n",
    "CUSTOM_TRAIN_DIR = r\"E:\\python\\segmentation\\DRIVE\\Data\\logs\"#+ CURRENT_TIME + \"/custom/train\"\n",
    "#CUSTOM_VAL_DIR = r\"E:\\python\\segmentation\\DRIVE\\Data\\logs\"+ CURRENT_TIME + \"/custom/val\"\n",
    "custom_train_writer = tf.summary.create_file_writer(CUSTOM_TRAIN_DIR)\n",
    "#custom_val_writer = tf.summary.create_file_writer(CUSTOM_VAL_DIR)"
   ]
  },
  {
   "cell_type": "code",
   "execution_count": 84,
   "id": "2c8df295",
   "metadata": {},
   "outputs": [],
   "source": [
    "@tf.function\n",
    "def training_block(x_batch, y_batch):\n",
    "    \n",
    "    with tf.GradientTape() as recorder:\n",
    "        y_pred = lenet_2_model(x_batch, training=True)\n",
    "        loss = custom_bce(y_batch, y_pred)\n",
    "    \n",
    "    wandb.log({\"loss\": loss.numpy()})\n",
    "    \n",
    "    partial_derivative = recorder.gradient(loss, lenet_2_model.trainable_weights)\n",
    "    OPTIMIZER.apply_gradients(zip(partial_derivative, lenet_2_model.trainable_weights))\n",
    "        \n",
    "    METRIC.update_state(y_batch, y_pred)\n",
    "    return loss"
   ]
  },
  {
   "cell_type": "code",
   "execution_count": null,
   "id": "ed59ffde",
   "metadata": {},
   "outputs": [],
   "source": [
    "@tf.function\n",
    "def val_block(x_batch_val, y_batch_val):\n",
    "    \n",
    "\n",
    "    y_pred_val = lenet_2_model(x_batch_val, training=False)\n",
    "    loss_val = custom_bce(y_batch_val, y_pred_val)\n",
    "        \n",
    "    METRIC_VAL.update_state(y_batch_val, y_pred_val)\n",
    "    return loss_val  "
   ]
  },
  {
   "cell_type": "code",
   "execution_count": null,
   "id": "b11788b2",
   "metadata": {},
   "outputs": [],
   "source": [
    "#for epoch in range(EPOCHS):\n",
    "    #print(f\"Traning starts for epoch number {epoch+1}\")\n",
    "    #for step, (x_batch, y_batch) in enumerate(train_dataset):\n",
    "        #loss = training_block(x_batch, y_batch)\n",
    "    \n",
    "    #print(\"Training Loss : \", loss)\n",
    "    #print(\"The Accuracy is : \", METRIC.result())\n",
    "    #METRIC.reset_states()\n",
    "    \n",
    "    #for (x_batch_val, y_batch_val) in val_dataset:\n",
    "        #loss_val = val_block(x_batch_val, y_batch_val)\n",
    "    \n",
    "    #print(\"The Validation Loss : \", loss_val)\n",
    "    #print(\"The Validation Accuracy is : \", METRIC_VAL.result())\n",
    "    \n",
    "    #METRIC_VAL.reset_states()"
   ]
  },
  {
   "cell_type": "code",
   "execution_count": null,
   "id": "f5ac27ad",
   "metadata": {},
   "outputs": [],
   "source": [
    "def trian_model(model, loss_function, METRIC, VAL_METRIC, OPTIMIZER, train_dataset, val_dataset, EPOCHS):\n",
    "    for epoch in range(EPOCHS):\n",
    "        print(f\"Traning starts for epoch number {epoch+1}\")\n",
    "        for step, (x_batch, y_batch) in enumerate(train_dataset):\n",
    "            loss = training_block(x_batch, y_batch)\n",
    "\n",
    "        print(\"Training Loss : \", loss)\n",
    "        print(\"The Accuracy is : \", METRIC.result())\n",
    "        \n",
    "        # Training Process\n",
    "        with custom_train_writer.as_default():\n",
    "            tf.summary.scalar(\"Training loss \", data=loss, step=epoch)\n",
    "            \n",
    "        with custom_train_writer.as_default():\n",
    "            tf.summary.scalar(\"Training Accuracy loss \", data=METRIC.result(), step=epoch)\n",
    "            \n",
    "        METRIC.reset_states()\n",
    "\n",
    "        for (x_batch_val, y_batch_val) in val_dataset:\n",
    "            loss_val = val_block(x_batch_val, y_batch_val)\n",
    "\n",
    "        print(\"The Validation Loss : \", loss_val)\n",
    "        print(\"The Validation Accuracy is : \", METRIC_VAL.result())\n",
    "        \n",
    "        # Validation Process\n",
    "        with custom_val_writer.as_default():\n",
    "            tf.summary.scalar(\"Validation loss \", data=loss_val, step=epoch)\n",
    "            \n",
    "        with custom_val_writer.as_default():\n",
    "            tf.summary.scalar(\"Validation Accuracy loss \", data=METRIC_VAL.result(), step=epoch)\n",
    "\n",
    "        METRIC_VAL.reset_states()\n",
    "        \n",
    "    print(\"Training Complete .!\")"
   ]
  },
  {
   "cell_type": "code",
   "execution_count": null,
   "id": "28761d81",
   "metadata": {},
   "outputs": [],
   "source": [
    "#trian_model(lenet_2_model, custom_bce, METRIC, METRIC_VAL, OPTIMIZER, train_dataset, val_dataset, EPOCHS)"
   ]
  },
  {
   "cell_type": "code",
   "execution_count": null,
   "id": "cf303cc7",
   "metadata": {},
   "outputs": [],
   "source": [
    "##########This is in eager mode\n",
    "#for epoch in range(EPOCHS):\n",
    "    #print(f\"Training starts for epoch number {epoch}\")\n",
    "    \n",
    "    #Training Step\n",
    "    #for step, (x_batch, y_batch) in enumerate(train_dataset):        \n",
    "        #with tf.GradientTape() as recorder:\n",
    "            #y_pred = lenet_2_model(x_batch, training=True)\n",
    "            #loss = custom_bce(y_batch, y_pred)\n",
    "    \n",
    "        #partial_derivative = recorder.gradient(loss, lenet_2_model.trainable_weights)\n",
    "        #OPTIMIZER.apply_gradients(zip(partial_derivative, lenet_2_model.trainable_weights))\n",
    "        \n",
    "        #METRIC.update_state(y_batch, y_pred)\n",
    "        \n",
    "        \n",
    "    #print(\"Training loss \", loss)\n",
    "        \n",
    "    #print(\"The accuracy is : \", METRIC.result())\n",
    "    #METRIC.reset_states()\n",
    "     \n",
    "    #Validation Step\n",
    "    #for (x_batch_val, y_batch_val) in val_dataset:\n",
    "        #y_pred_val = lenet_2_model(x_batch_val, training=False)\n",
    "        #loss_val = custom_bce(y_batch_val, y_pred_val)\n",
    "        \n",
    "        #METRIC_VAL.update_state(y_batch_val, y_pred_val)\n",
    "        \n",
    "    #print(\"The Validation loss : \", loss_val)\n",
    "        \n",
    "    #print(\"The Validation accuracy is : \", METRIC_VAL.result())\n",
    "    #METRIC_VAL.reset_states()\n",
    "        \n"
   ]
  },
  {
   "cell_type": "code",
   "execution_count": null,
   "id": "e109060d",
   "metadata": {},
   "outputs": [],
   "source": [
    "print(history.params)"
   ]
  },
  {
   "cell_type": "markdown",
   "id": "a20e2400",
   "metadata": {},
   "source": [
    "# Vsualizations"
   ]
  },
  {
   "cell_type": "code",
   "execution_count": null,
   "id": "d4e00906",
   "metadata": {},
   "outputs": [],
   "source": [
    "%load_ext tensorboard"
   ]
  },
  {
   "cell_type": "code",
   "execution_count": null,
   "id": "9a14506f",
   "metadata": {},
   "outputs": [],
   "source": [
    "#%tensorboard --logdir=r'E:\\python\\segmentation\\DRIVE\\Data\\logs'"
   ]
  },
  {
   "cell_type": "code",
   "execution_count": null,
   "id": "97e73339",
   "metadata": {},
   "outputs": [],
   "source": [
    "plt.plot(history.history['loss'])\n",
    "#plt.plot(history.history['val_loss'])\n",
    "plt.title(\"Model loss\")\n",
    "plt.ylabel(\"loss\")\n",
    "plt.xlabel(\"epochs\")\n",
    "plt.legend(['train_loss'])\n",
    "plt.show()"
   ]
  },
  {
   "cell_type": "code",
   "execution_count": null,
   "id": "d5fba341",
   "metadata": {},
   "outputs": [],
   "source": [
    "plt.plot(history3.history['accuracy'])\n",
    "#plt.plot(history.history['val_accuracy'])\n",
    "plt.title(\"Model loss\")\n",
    "plt.ylabel(\"accuracy\")\n",
    "plt.xlabel(\"epochs\")\n",
    "plt.legend(['train_accuracy'])\n",
    "plt.show()"
   ]
  },
  {
   "cell_type": "markdown",
   "id": "2f7bb4fc",
   "metadata": {},
   "source": [
    "# Model Evaluation and Testing"
   ]
  },
  {
   "cell_type": "code",
   "execution_count": null,
   "id": "d9ad42e9",
   "metadata": {},
   "outputs": [],
   "source": [
    "test_dataset = test_dataset.batch(1)"
   ]
  },
  {
   "cell_type": "code",
   "execution_count": null,
   "id": "f390424e",
   "metadata": {},
   "outputs": [],
   "source": [
    "test_dataset"
   ]
  },
  {
   "cell_type": "code",
   "execution_count": null,
   "id": "436392b1",
   "metadata": {},
   "outputs": [],
   "source": [
    "custom_dense_model.evaluate(test_dataset)"
   ]
  },
  {
   "cell_type": "markdown",
   "id": "bc00233d",
   "metadata": {},
   "source": [
    "# Visualizing Confusion Matrix"
   ]
  },
  {
   "cell_type": "code",
   "execution_count": null,
   "id": "eb76547b",
   "metadata": {},
   "outputs": [],
   "source": [
    "labels = []\n",
    "inp = []\n",
    "\n",
    "for x, y in test_dataset.as_numpy_iterator():\n",
    "    labels.append(y)\n",
    "    inp.append(x)"
   ]
  },
  {
   "cell_type": "code",
   "execution_count": null,
   "id": "6663ac62",
   "metadata": {},
   "outputs": [],
   "source": [
    "labels = np.array([i[0] for i in labels])\n",
    "print(labels)"
   ]
  },
  {
   "cell_type": "code",
   "execution_count": null,
   "id": "d9c0e215",
   "metadata": {},
   "outputs": [],
   "source": [
    "print(np.array(inp).shape)\n",
    "print(np.array(inp)[:,0,...].shape)"
   ]
  },
  {
   "cell_type": "code",
   "execution_count": null,
   "id": "3db0779b",
   "metadata": {},
   "outputs": [],
   "source": [
    "predicted = custom_dense_model.predict(np.array(inp)[:,0,...])"
   ]
  },
  {
   "cell_type": "code",
   "execution_count": null,
   "id": "6a3d0dd8",
   "metadata": {},
   "outputs": [],
   "source": [
    "print(predicted[:,0])"
   ]
  },
  {
   "cell_type": "code",
   "execution_count": null,
   "id": "27989ed1",
   "metadata": {},
   "outputs": [],
   "source": [
    "Threshold = 0.5\n",
    "\n",
    "cm = confusion_matrix(labels, predicted > Threshold)\n",
    "\n",
    "print(cm)\n",
    "\n",
    "#plt.figure(figsize=(8, 8))\n",
    "\n",
    "#sns.heatmap(cm, annot=True)\n",
    "#plt.title(\"Confusion metrix - {}\".format(Threshold))\n",
    "#plt.ylabel(\"Actual\")\n",
    "#plt.xlabel(\"predicted\")"
   ]
  },
  {
   "cell_type": "code",
   "execution_count": null,
   "id": "640f9baa",
   "metadata": {},
   "outputs": [],
   "source": [
    "Threshold = 0.43534606\n",
    "\n",
    "cm = confusion_matrix(labels, predicted > Threshold)\n",
    "\n",
    "print(cm)\n",
    "\n",
    "plt.figure(figsize=(8, 8))\n",
    "\n",
    "sns.heatmap(cm, annot=True)\n",
    "plt.title(\"Confusion metrix - {}\".format(Threshold))\n",
    "plt.ylabel(\"Actual\")\n",
    "plt.xlabel(\"predicted\")"
   ]
  },
  {
   "cell_type": "markdown",
   "id": "92a2f845",
   "metadata": {},
   "source": [
    "# ROC Plot"
   ]
  },
  {
   "cell_type": "code",
   "execution_count": null,
   "id": "8b926c9e",
   "metadata": {},
   "outputs": [],
   "source": [
    "fp, tp, threshold = roc_curve(labels, predicted)\n",
    "plt.figure(figsize=(8, 8))\n",
    "plt.plot(fp, tp)\n",
    "plt.xlabel(\"false positive rate\")\n",
    "plt.ylabel(\"true positive rate\")\n",
    "\n",
    "plt.grid()\n",
    "\n",
    "skip = 100\n",
    "for i in range(0, len(threshold), skip):\n",
    "    plt.text(fp[i], tp[i], threshold[i])\n",
    "plt.show()"
   ]
  },
  {
   "cell_type": "code",
   "execution_count": null,
   "id": "0c68ba99",
   "metadata": {},
   "outputs": [],
   "source": [
    "custom_dense_model.predict(test_dataset.take(1))[0][0]"
   ]
  },
  {
   "cell_type": "code",
   "execution_count": null,
   "id": "9e15a3a5",
   "metadata": {},
   "outputs": [],
   "source": [
    "def parasite_or_not(x):\n",
    "    if (x<0.5):\n",
    "        return str(\"P\")\n",
    "    else:\n",
    "        return str(\"U\")"
   ]
  },
  {
   "cell_type": "code",
   "execution_count": null,
   "id": "008796f7",
   "metadata": {},
   "outputs": [],
   "source": [
    "parasite_or_not(custom_dense_model.predict(test_dataset.take(1))[0][0])"
   ]
  },
  {
   "cell_type": "code",
   "execution_count": null,
   "id": "4f68e416",
   "metadata": {},
   "outputs": [],
   "source": [
    "for i, (image, label) in enumerate(test_dataset.take(9)):\n",
    "    ax = plt.subplot(3, 3, i+1)\n",
    "    plt.imshow(image[0])\n",
    "    plt.title(str(parasite_or_not(label.numpy()[0])) + \":\" + str(parasite_or_not(custom_dense_model.predict(image)[0][0])))\n",
    "    plt.axis(\"off\")"
   ]
  }
 ],
 "metadata": {
  "kernelspec": {
   "display_name": "Python 3 (ipykernel)",
   "language": "python",
   "name": "python3"
  },
  "language_info": {
   "codemirror_mode": {
    "name": "ipython",
    "version": 3
   },
   "file_extension": ".py",
   "mimetype": "text/x-python",
   "name": "python",
   "nbconvert_exporter": "python",
   "pygments_lexer": "ipython3",
   "version": "3.11.5"
  }
 },
 "nbformat": 4,
 "nbformat_minor": 5
}
