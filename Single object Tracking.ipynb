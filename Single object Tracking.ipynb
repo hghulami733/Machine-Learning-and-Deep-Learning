{
 "cells": [
  {
   "cell_type": "code",
   "execution_count": 1,
   "id": "b56a1a7b-88aa-4783-b4ef-b9724b219702",
   "metadata": {},
   "outputs": [],
   "source": [
    "import cv2\n",
    "import sys\n",
    "from random import randint"
   ]
  },
  {
   "cell_type": "code",
   "execution_count": 2,
   "id": "8f7465b5-39e1-4d2c-a7f8-b1f268f9f98c",
   "metadata": {},
   "outputs": [],
   "source": [
    "tracker_types = [\n",
    "    \"BOOSTING\", \"MIL\", \"KCF\", \"TLD\",  \"MEDIANFLOW\", \"MOSSE\", \"CSRT\"\n",
    "]"
   ]
  },
  {
   "cell_type": "code",
   "execution_count": 10,
   "id": "7fc78b2a-c1bf-48a2-a97b-45e063db766c",
   "metadata": {},
   "outputs": [
    {
     "name": "stdout",
     "output_type": "stream",
     "text": [
      "CSRT\n"
     ]
    }
   ],
   "source": [
    "tracker_type = tracker_types[6]\n",
    "print(tracker_type)\n",
    "\n",
    "if tracker_type == \"BOOSTING\":\n",
    "    tracker = cv2.legacy.TrackerBoosting_create()\n",
    "\n",
    "elif tracker_type == \"MIL\":\n",
    "    tracker = cv2.legacy.TrackerMIL_create()\n",
    "\n",
    "elif tracker_type == \"KCF\":\n",
    "    tracker = cv2.legacy.TrackerKCF_create()\n",
    "\n",
    "elif tracker_type == \"TLD\":\n",
    "    tracker = cv2.legacy.TrackerTLD_create()\n",
    "\n",
    "elif tracker_type == \"MEDIANFLOW\":\n",
    "    tracker = cv2.legacy.TrackerMedianFlow_create()\n",
    "\n",
    "elif tracker_type == \"MOSSE\":\n",
    "    tracker = cv2.legacy.TrackerMOSSE_create()\n",
    "\n",
    "else:\n",
    "    tracker = cv2.legacy.TrackerCSRT_create()"
   ]
  },
  {
   "cell_type": "code",
   "execution_count": 4,
   "id": "3ad371f7-23c4-4547-a24f-1401361396c5",
   "metadata": {},
   "outputs": [],
   "source": [
    "video = r\"D:\\TC.mp4\""
   ]
  },
  {
   "cell_type": "code",
   "execution_count": 11,
   "id": "9fb46be8-1862-4db3-a6cc-991d6f29659b",
   "metadata": {},
   "outputs": [],
   "source": [
    "cap = cv2.VideoCapture(video)\n",
    "\n",
    "success, frame = cap.read()\n",
    "frame = cv2.resize(frame, (1280, 720))\n",
    "if not success:\n",
    "    print(\"This Video Does Not EXIST\")\n",
    "    sys.exit()\n",
    "\n",
    "bbox = cv2.selectROI(frame)\n"
   ]
  },
  {
   "cell_type": "code",
   "execution_count": 6,
   "id": "956e2b11-0dae-468e-890a-a57fc3ea8f5b",
   "metadata": {},
   "outputs": [
    {
     "name": "stdout",
     "output_type": "stream",
     "text": [
      "(236, 238, 305, 482)\n"
     ]
    }
   ],
   "source": [
    "print(bbox)"
   ]
  },
  {
   "cell_type": "code",
   "execution_count": 12,
   "id": "b6d4b9cd-f8e0-461d-821b-048a10b47498",
   "metadata": {},
   "outputs": [
    {
     "name": "stdout",
     "output_type": "stream",
     "text": [
      "True\n"
     ]
    }
   ],
   "source": [
    "success = tracker.init(frame, bbox)\n",
    "print(success)\n",
    "# cv2.imshow(\"Kratos\", success)\n",
    "# cv2.waitKey(1)"
   ]
  },
  {
   "cell_type": "code",
   "execution_count": 9,
   "id": "131051a1-9c2e-44c2-8244-e6efa1893f3f",
   "metadata": {},
   "outputs": [
    {
     "data": {
      "text/plain": [
       "(110, 216, 168)"
      ]
     },
     "execution_count": 9,
     "metadata": {},
     "output_type": "execute_result"
    }
   ],
   "source": [
    "colors = (randint(0, 255), randint(0, 255), randint(0, 255))\n",
    "colors"
   ]
  },
  {
   "cell_type": "code",
   "execution_count": null,
   "id": "3c9b141f-107a-49bf-9490-61340112ea38",
   "metadata": {},
   "outputs": [],
   "source": [
    "# cap = cv2.VideoCapture(video)\n",
    "\n",
    "# success, frame = cap.read()\n",
    "# frame = cv2.resize(frame, (1280, 720))\n",
    "# if not success:\n",
    "#     print(\"This Video Does Not EXIST\")\n",
    "#     sys.exit()\n",
    "\n",
    "# bbox = cv2.selectROI(frame)\n",
    "\n",
    "# success = tracker.init(frame, bbox)\n",
    "\n",
    "while True:\n",
    "    success, frame = cap.read()\n",
    "    #print(success)\n",
    "    #frame = cv2.resize(frame, (1280, 720))\n",
    "\n",
    "    if not success:\n",
    "        break\n",
    "\n",
    "    # bbox = cv2.selectROI(frame)\n",
    "    # success = tracker.init(frame, bbox)\n",
    "\n",
    "    success, bbox = tracker.update(frame)\n",
    "    #print(frame)\n",
    "\n",
    "    if success == True:\n",
    "        (x, y, w, h) = [int(v) for v in bbox]\n",
    "        #print(x, y, w, h)\n",
    "        cv2.rectangle(frame, (x, y), (x + w, y + h), (0, 255, 255), 3, 1)\n",
    "\n",
    "    else:\n",
    "        cv2.putText(frame, \"Tracking Failure !\", (100, 80), cv2.FONT_HERSHEY_SCRIPT_SIMPLEX,\n",
    "                   0.75, (0, 255, 255), 2)\n",
    "        \n",
    "\n",
    "    cv2.imshow(\"Kratos\", frame)\n",
    "    if cv2.waitKey(1) & 0xFF == 25:\n",
    "        break"
   ]
  }
 ],
 "metadata": {
  "kernelspec": {
   "display_name": "Python 3 (ipykernel)",
   "language": "python",
   "name": "python3"
  },
  "language_info": {
   "codemirror_mode": {
    "name": "ipython",
    "version": 3
   },
   "file_extension": ".py",
   "mimetype": "text/x-python",
   "name": "python",
   "nbconvert_exporter": "python",
   "pygments_lexer": "ipython3",
   "version": "3.11.5"
  }
 },
 "nbformat": 4,
 "nbformat_minor": 5
}
