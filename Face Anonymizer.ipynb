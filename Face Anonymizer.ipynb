{
 "cells": [
  {
   "cell_type": "code",
   "execution_count": 113,
   "id": "4f1a21b5-49d4-4258-80ee-c4a5ee489f9e",
   "metadata": {},
   "outputs": [],
   "source": [
    "import cv2\n",
    "import mediapipe as mp\n",
    "import argparse"
   ]
  },
  {
   "cell_type": "code",
   "execution_count": 83,
   "id": "38817fd2-8f72-4d3e-b7f8-f6ce06b6280e",
   "metadata": {},
   "outputs": [],
   "source": [
    "path = r\"D:\\GOD OF WAR 1\\Telegram\\IMG_20230829_100825_026.jpg\""
   ]
  },
  {
   "cell_type": "code",
   "execution_count": 103,
   "id": "c79378e4-bb7a-4850-9ec7-847e09d372e7",
   "metadata": {},
   "outputs": [],
   "source": [
    "def process_image(image, face_detecion):\n",
    "    H, W, _ = image.shape\n",
    "    image_rgb = cv2.cvtColor(image, cv2.COLOR_BGR2RGB)\n",
    "    \n",
    "    output = face_detection.process(image_rgb)\n",
    "\n",
    "    #print(output.detections)\n",
    "\n",
    "    if output.detections is not None:\n",
    "    \n",
    "        for detection in output.detections:\n",
    "            \n",
    "            location_data = detection.location_data\n",
    "            \n",
    "            bbox = location_data.relative_bounding_box\n",
    "    \n",
    "            X1, Y1, w, h = bbox.xmin, bbox.ymin, bbox.width, bbox.height\n",
    "            print(X1, y1, w, h)\n",
    "\n",
    "            X1 = int(X1 * W)\n",
    "            Y1 = int(y1 * H)\n",
    "            W = int(w * W)\n",
    "            H = int(h * H)\n",
    "            print(X1, y1, w, h)\n",
    "\n",
    "            #image = cv2.rectangle(image, (X1, y1), (X1 + w, y1 + h), (0, 255, 0), 10)\n",
    "\n",
    "            img[Y1:Y1+h, X1:X1+w, :] = cv2.blur(image[Y1:Y1+h, X1:X1+w, :] , (30, 30))\n",
    "\n",
    "    return img"
   ]
  },
  {
   "cell_type": "code",
   "execution_count": 117,
   "id": "b79f5db4-c4b6-4bf2-9f97-1f35c7d39e05",
   "metadata": {},
   "outputs": [
    {
     "name": "stderr",
     "output_type": "stream",
     "text": [
      "usage: ipykernel_launcher.py [-h] [--mode MODE] [--filePath FILEPATH]\n",
      "ipykernel_launcher.py: error: unrecognized arguments: -f C:\\Users\\hamid\\AppData\\Roaming\\jupyter\\runtime\\kernel-58500c91-8273-4f2c-9201-7a1772e40a02.json\n"
     ]
    },
    {
     "ename": "SystemExit",
     "evalue": "2",
     "output_type": "error",
     "traceback": [
      "An exception has occurred, use %tb to see the full traceback.\n",
      "\u001b[1;31mSystemExit\u001b[0m\u001b[1;31m:\u001b[0m 2\n"
     ]
    },
    {
     "name": "stderr",
     "output_type": "stream",
     "text": [
      "C:\\Users\\hamid\\anaconda3\\envs\\MachineLearning\\Lib\\site-packages\\IPython\\core\\interactiveshell.py:3534: UserWarning: To exit: use 'exit', 'quit', or Ctrl-D.\n",
      "  warn(\"To exit: use 'exit', 'quit', or Ctrl-D.\", stacklevel=1)\n"
     ]
    }
   ],
   "source": [
    "args = argparse.ArgumentParser()\n",
    "args.add_argument(\"--mode\", default=\"webcam\") # default == image, video or webcam\n",
    "args.add_argument(\"--filePath\", default=None) # default == path of image or video or None for webcam\n",
    "\n",
    "args = args.parse_args()"
   ]
  },
  {
   "cell_type": "code",
   "execution_count": null,
   "id": "b7a3724d-4ab6-492e-9ab9-0a3df7818826",
   "metadata": {},
   "outputs": [],
   "source": []
  },
  {
   "cell_type": "code",
   "execution_count": 105,
   "id": "825df7a6-e62f-404f-b32f-822afae98330",
   "metadata": {},
   "outputs": [
    {
     "data": {
      "text/plain": [
       "(1280, 770, 3)"
      ]
     },
     "execution_count": 105,
     "metadata": {},
     "output_type": "execute_result"
    }
   ],
   "source": [
    "image = cv2.imread(path)\n",
    "image.shape"
   ]
  },
  {
   "cell_type": "code",
   "execution_count": 107,
   "id": "5a622a48-e587-4d25-bb41-a66e112dba41",
   "metadata": {},
   "outputs": [
    {
     "data": {
      "text/plain": [
       "(1280, 770)"
      ]
     },
     "execution_count": 107,
     "metadata": {},
     "output_type": "execute_result"
    }
   ],
   "source": [
    "H, W, _ = image.shape\n",
    "H, W"
   ]
  },
  {
   "cell_type": "code",
   "execution_count": 109,
   "id": "ff8a39b9-5298-43ac-b9ab-8b6b0d658742",
   "metadata": {},
   "outputs": [
    {
     "name": "stdout",
     "output_type": "stream",
     "text": [
      "0.1448248326778412 0 0.4669511616230011 0.28089284896850586\n",
      "111 0 0.4669511616230011 0.28089284896850586\n"
     ]
    },
    {
     "ename": "TypeError",
     "evalue": "slice indices must be integers or None or have an __index__ method",
     "output_type": "error",
     "traceback": [
      "\u001b[1;31m---------------------------------------------------------------------------\u001b[0m",
      "\u001b[1;31mTypeError\u001b[0m                                 Traceback (most recent call last)",
      "Cell \u001b[1;32mIn[109], line 29\u001b[0m\n\u001b[0;32m     25\u001b[0m         \u001b[38;5;28mprint\u001b[39m(X1, y1, w, h)\n\u001b[0;32m     27\u001b[0m         \u001b[38;5;66;03m#image = cv2.rectangle(image, (X1, y1), (X1 + w, y1 + h), (0, 255, 0), 10)\u001b[39;00m\n\u001b[1;32m---> 29\u001b[0m         img[Y1:Y1\u001b[38;5;241m+\u001b[39mh, X1:X1\u001b[38;5;241m+\u001b[39mw, :] \u001b[38;5;241m=\u001b[39m cv2\u001b[38;5;241m.\u001b[39mblur(image[Y1:Y1\u001b[38;5;241m+\u001b[39mh, X1:X1\u001b[38;5;241m+\u001b[39mw, :] , (\u001b[38;5;241m30\u001b[39m, \u001b[38;5;241m30\u001b[39m))\n\u001b[0;32m     31\u001b[0m cv2\u001b[38;5;241m.\u001b[39mimshow(\u001b[38;5;124m\"\u001b[39m\u001b[38;5;124mimg\u001b[39m\u001b[38;5;124m\"\u001b[39m, img)\n\u001b[0;32m     32\u001b[0m cv2\u001b[38;5;241m.\u001b[39mwaitKey(\u001b[38;5;241m0\u001b[39m)\n",
      "\u001b[1;31mTypeError\u001b[0m: slice indices must be integers or None or have an __index__ method"
     ]
    }
   ],
   "source": [
    "mp_face_detection = mp.solutions.face_detection\n",
    "\n",
    "with mp_face_detection.FaceDetection(min_detection_confidence=0.5, model_selection=0) as face_detection:\n",
    "    image_rgb = cv2.cvtColor(image, cv2.COLOR_BGR2RGB)\n",
    "    \n",
    "    output = face_detection.process(image_rgb)\n",
    "\n",
    "    #print(output.detections)\n",
    "\n",
    "    if output.detections is not None:\n",
    "    \n",
    "        for detection in output.detections:\n",
    "            \n",
    "            location_data = detection.location_data\n",
    "            \n",
    "            bbox = location_data.relative_bounding_box\n",
    "    \n",
    "            X1, Y1, w, h = bbox.xmin, bbox.ymin, bbox.width, bbox.height\n",
    "            print(X1, y1, w, h)\n",
    "\n",
    "            X1 = int(X1 * W)\n",
    "            Y1 = int(y1 * H)\n",
    "            W = int(w * W)\n",
    "            H = int(h * H)\n",
    "            print(X1, y1, w, h)\n",
    "\n",
    "            #image = cv2.rectangle(image, (X1, y1), (X1 + w, y1 + h), (0, 255, 0), 10)\n",
    "\n",
    "            img[Y1:Y1+h, X1:X1+w, :] = cv2.blur(image[Y1:Y1+h, X1:X1+w, :] , (30, 30))\n",
    "\n",
    "    cv2.imshow(\"img\", img)\n",
    "    cv2.waitKey(0)"
   ]
  },
  {
   "cell_type": "code",
   "execution_count": 119,
   "id": "8149a828-61d6-416c-869d-83260ede8151",
   "metadata": {},
   "outputs": [
    {
     "ename": "AttributeError",
     "evalue": "'ArgumentParser' object has no attribute 'mode'",
     "output_type": "error",
     "traceback": [
      "\u001b[1;31m---------------------------------------------------------------------------\u001b[0m",
      "\u001b[1;31mAttributeError\u001b[0m                            Traceback (most recent call last)",
      "Cell \u001b[1;32mIn[119], line 3\u001b[0m\n\u001b[0;32m      1\u001b[0m \u001b[38;5;28;01mwith\u001b[39;00m mp_face_detection\u001b[38;5;241m.\u001b[39mFaceDetection(min_detection_confidence\u001b[38;5;241m=\u001b[39m\u001b[38;5;241m0.5\u001b[39m, model_selection\u001b[38;5;241m=\u001b[39m\u001b[38;5;241m0\u001b[39m) \u001b[38;5;28;01mas\u001b[39;00m face_detection:\n\u001b[1;32m----> 3\u001b[0m     \u001b[38;5;28;01mif\u001b[39;00m args\u001b[38;5;241m.\u001b[39mmode \u001b[38;5;129;01min\u001b[39;00m [\u001b[38;5;124m\"\u001b[39m\u001b[38;5;124mimage\u001b[39m\u001b[38;5;124m\"\u001b[39m]:\n\u001b[0;32m      4\u001b[0m         img \u001b[38;5;241m=\u001b[39m cv2\u001b[38;5;241m.\u001b[39mimread(args\u001b[38;5;241m.\u001b[39mfliePath)\n\u001b[0;32m      6\u001b[0m         H, W, _ \u001b[38;5;241m=\u001b[39m img\u001b[38;5;241m.\u001b[39mshape\n",
      "\u001b[1;31mAttributeError\u001b[0m: 'ArgumentParser' object has no attribute 'mode'"
     ]
    }
   ],
   "source": [
    "with mp_face_detection.FaceDetection(min_detection_confidence=0.5, model_selection=0) as face_detection:\n",
    "\n",
    "    if args.mode in [\"image\"]:\n",
    "        img = cv2.imread(args.fliePath)\n",
    "\n",
    "        H, W, _ = img.shape\n",
    "    \n",
    "        img = process_image(image, face_detection) \n",
    "\n",
    "        cv2.imwrith(\"image.png\", img)\n",
    "\n",
    "    elif args.mode in [\"video\"]:\n",
    "        \n",
    "        cap = cv2.VideoCapture(args.filePath)\n",
    "        ret, frame = cap.read()\n",
    "\n",
    "        output_video = cv2.VideoWriter((output_dir, \"output.mp4\"),\n",
    "                                       cv2.VideoWriter(*\"MP4V\"),\n",
    "                                       25, \n",
    "                                       (fram.shape[1], frame.shape[0]))\n",
    "        \n",
    "        while ret:\n",
    "            frame = process_image(frame, face_detection) \n",
    "\n",
    "            output_video.write(frame)\n",
    "            \n",
    "            ret, frame = cap.read()\n",
    "\n",
    "        cap.release()\n",
    "        output_video.release()\n",
    "\n",
    "    elif args.mode in [\"webcal\"]:\n",
    "        cap = cv2.VideoCapture(0)\n",
    "\n",
    "        ret, frame = cap.read()\n",
    "\n",
    "        while ret:\n",
    "            fream = process_image(frame, face_detection) \n",
    "\n",
    "            cv2.imshow(\"frame\", frame)\n",
    "            cv2.waitKey(25)\n",
    "            ret, frame = cap.read()\n",
    "\n",
    "        cap.release()\n"
   ]
  },
  {
   "cell_type": "code",
   "execution_count": null,
   "id": "d6b48ca2-02cf-4a9d-8c5c-a16263cf2f70",
   "metadata": {},
   "outputs": [],
   "source": []
  }
 ],
 "metadata": {
  "kernelspec": {
   "display_name": "Python 3 (ipykernel)",
   "language": "python",
   "name": "python3"
  },
  "language_info": {
   "codemirror_mode": {
    "name": "ipython",
    "version": 3
   },
   "file_extension": ".py",
   "mimetype": "text/x-python",
   "name": "python",
   "nbconvert_exporter": "python",
   "pygments_lexer": "ipython3",
   "version": "3.11.5"
  }
 },
 "nbformat": 4,
 "nbformat_minor": 5
}
